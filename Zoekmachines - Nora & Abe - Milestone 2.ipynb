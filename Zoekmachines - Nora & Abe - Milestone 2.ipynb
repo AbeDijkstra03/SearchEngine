{
 "cells": [
  {
   "cell_type": "markdown",
   "metadata": {
    "id": "gKWu7EkCnmF2"
   },
   "source": [
    "Before you turn this assignment in, make sure everything runs as expected by going to the menubar and running:\n",
    "\n",
    "Kernel\n",
    " Restart & Run All"
   ]
  },
  {
   "cell_type": "code",
   "execution_count": 1,
   "metadata": {
    "id": "zGUnkgSwxvv6"
   },
   "outputs": [
    {
     "name": "stdout",
     "output_type": "stream",
     "text": [
      "WARNING:tensorflow:From c:\\Users\\abedi\\AppData\\Local\\Programs\\Python\\Python312\\Lib\\site-packages\\tf_keras\\src\\losses.py:2976: The name tf.losses.sparse_softmax_cross_entropy is deprecated. Please use tf.compat.v1.losses.sparse_softmax_cross_entropy instead.\n",
      "\n"
     ]
    }
   ],
   "source": [
    "from elasticsearch import Elasticsearch, helpers\n",
    "import os\n",
    "import json\n",
    "import re\n",
    "from nltk.corpus import stopwords\n",
    "from nltk.stem import WordNetLemmatizer\n",
    "import math\n",
    "import numpy as np\n",
    "import pandas as pd\n",
    "import pytrec_eval\n",
    "import matplotlib.pyplot as plt\n",
    "from elasticsearch.helpers import bulk\n",
    "from zipfile import ZipFile\n",
    "from typing import Dict, List, Optional\n",
    "from collections import defaultdict\n",
    "from nltk.corpus import stopwords\n",
    "from nltk.tokenize import RegexpTokenizer\n",
    "from krovetzstemmer import Stemmer\n",
    "from nltk.stem import WordNetLemmatizer\n",
    "from concurrent.futures import ThreadPoolExecutor\n",
    "from multiprocessing import Pool\n",
    "from gensim import corpora\n",
    "from gensim.models import LsiModel\n",
    "from gensim.models import TfidfModel\n",
    "import gensim.downloader as api\n",
    "from functools import lru_cache\n",
    "from sklearn.metrics.pairwise import cosine_similarity\n",
    "import xgboost as xgb\n",
    "from sklearn.preprocessing import StandardScaler\n",
    "from sklearn.model_selection import ParameterGrid\n",
    "from sklearn.metrics import ndcg_score\n",
    "from transformers import AutoTokenizer, AutoModelForSequenceClassification\n",
    "import torch\n",
    "from sentence_transformers import InputExample\n",
    "from torch.utils.data import DataLoader\n",
    "from sentence_transformers.datasets import SentenceLabelDataset"
   ]
  },
  {
   "cell_type": "code",
   "execution_count": 2,
   "metadata": {
    "id": "cyirKPQdxzQ-"
   },
   "outputs": [],
   "source": [
    "studentnumber1 = \"14646161\" # Nora\n",
    "studentnumber2 = \"14622556\" # Abe"
   ]
  },
  {
   "cell_type": "code",
   "execution_count": 3,
   "metadata": {},
   "outputs": [],
   "source": [
    "def load_queries_dict(query_file):\n",
    "    \"\"\"\n",
    "    Load queries from a TSV file.\n",
    "    \n",
    "    Args:\n",
    "        query_file: Path to the TSV file containing queries.\n",
    "\n",
    "    Returns:\n",
    "        A dictionary with query_id and text.\n",
    "    \"\"\"\n",
    "    # Load queries from TSV\n",
    "    queries_df = pd.read_csv(query_file, sep='\\t', names=[\"query_id\", \"query_string\"])\n",
    "    queries_dict = dict(zip(queries_df[\"query_id\"], queries_df[\"query_string\"]))\n",
    "    \n",
    "    return queries_dict\n",
    "\n",
    "def load_qrels_dict(qrels_file):\n",
    "    \"\"\"\n",
    "    Load relevance judgments (qrels) from a file in a dictionary.\n",
    "    \n",
    "    Args:\n",
    "        qrels_file: Path to the file containing qrels.\n",
    "\n",
    "    Returns:\n",
    "        A dictionary with query_id as keys and another dictionary of doc_id and relevance as values.\n",
    "    \"\"\"\n",
    "    qrels_df = pd.read_csv(qrels_file, sep=' ', names=[\"query_id\", \"Q0\", \"doc_id\", \"relevance\"])\n",
    "    qrels_df = qrels_df.drop(columns=[\"Q0\"])\n",
    "    \n",
    "    qrels_dict = defaultdict(lambda: defaultdict(int))\n",
    "    for _, row in qrels_df.iterrows():\n",
    "        qrels_dict[row['query_id']][row['doc_id']] = row['relevance']\n",
    "    \n",
    "    return qrels_dict\n",
    "\n",
    "def load_collection_dict(collection_file):\n",
    "    \"\"\"\n",
    "    Load the collection of documents.\n",
    "    \n",
    "    Args:\n",
    "        collection_file: Path to the file containing the collection of documents.\n",
    "\n",
    "    Returns:\n",
    "        A dictionary with doc_id as keys and text as values.\n",
    "    \"\"\"\n",
    "    with open(collection_file, 'r') as f:\n",
    "        lines = f.readlines()\n",
    "\n",
    "    collection_dict = {json.loads(line)['id']: json.loads(line)['contents'] for line in lines}\n",
    "    \n",
    "    return collection_dict\n",
    "\n",
    "def print_first_key_and_value(dictionary) -> None:\n",
    "    try:\n",
    "        first_key = next(iter(dictionary))\n",
    "        first_value = dictionary[first_key]\n",
    "        print(f\"{first_key}: {first_value}\")\n",
    "    except Exception as e:\n",
    "        print(e)"
   ]
  },
  {
   "cell_type": "code",
   "execution_count": 4,
   "metadata": {},
   "outputs": [],
   "source": [
    "lemmatizer = WordNetLemmatizer()\n",
    "stemmer = Stemmer()\n",
    "stop_words = set(stopwords.words('english'))\n",
    "tokenizer = RegexpTokenizer(r'\\b[a-zA-Z]+\\b')  # Only keeps alphabetic tokens\n",
    "\n",
    "def preprocess_texts(texts):\n",
    "    with Pool() as pool:\n",
    "        results = pool.map(preprocess_text, texts)\n",
    "    return results\n",
    "\n",
    "@lru_cache(maxsize=None)\n",
    "def process_token(token):\n",
    "    return stemmer.stem(lemmatizer.lemmatize(token))\n",
    "\n",
    "def preprocess_text(text) -> str:\n",
    "    tokens = tokenizer.tokenize(text.lower())\n",
    "    processed_tokens = [\n",
    "        process_token(word)\n",
    "        for word in tokens\n",
    "        if word not in stop_words\n",
    "    ]\n",
    "    return ' '.join(processed_tokens)\n",
    "\n",
    "def preprocess_dict(dictionary):\n",
    "    return {key: preprocess_text(value) for key, value in dictionary.items()}\n",
    "\n",
    "def preprocess_dict_concurrent(dictionary):\n",
    "    with ThreadPoolExecutor() as executor:\n",
    "        processed_items = list(executor.map(lambda item: (item[0], preprocess_text(item[1])), dictionary.items()))\n",
    "    return dict(processed_items)\n"
   ]
  },
  {
   "cell_type": "code",
   "execution_count": 5,
   "metadata": {
    "id": "hiRYy62l_R7T"
   },
   "outputs": [
    {
     "name": "stdout",
     "output_type": "stream",
     "text": [
      "qid_1: hillsborough community college president\n"
     ]
    }
   ],
   "source": [
    "# Load train, test, validation queries\n",
    "# Load the queries in a dict with the following format: [query_id] = query_text\n",
    "train_queries_dict = preprocess_dict(load_queries_dict('data/training_queries.tsv'))\n",
    "test_queries_dict = preprocess_dict(load_queries_dict('data/test_queries.tsv'))\n",
    "validation_queries_dict = preprocess_dict(load_queries_dict('data/validation_queries.tsv'))\n",
    "\n",
    "print_first_key_and_value(train_queries_dict)"
   ]
  },
  {
   "cell_type": "code",
   "execution_count": 6,
   "metadata": {
    "id": "EkDngMsYNUUz"
   },
   "outputs": [
    {
     "name": "stdout",
     "output_type": "stream",
     "text": [
      "qid_1: defaultdict(<class 'int'>, {'pid_665937': 1})\n",
      "qid_5001: defaultdict(<class 'int'>, {'pid_863768': 3, 'pid_844238': 0, 'pid_339533': 0, 'pid_508620': 0, 'pid_806656': 3, 'pid_865484': 4, 'pid_586369': 0, 'pid_795188': 0, 'pid_803529': 4, 'pid_527942': 2, 'pid_462528': 0, 'pid_465360': 0, 'pid_993589': 0, 'pid_995506': 4, 'pid_807814': 0, 'pid_990839': 1, 'pid_192087': 0, 'pid_645799': 0, 'pid_440239': 0, 'pid_348239': 0, 'pid_616122': 0, 'pid_576529': 0, 'pid_872768': 2, 'pid_232764': 0, 'pid_661954': 2, 'pid_738871': 3, 'pid_786841': 3, 'pid_381839': 0, 'pid_798620': 3, 'pid_324061': 0, 'pid_856900': 0, 'pid_477088': 3, 'pid_989364': 2, 'pid_897041': 3, 'pid_643987': 0, 'pid_964548': 0, 'pid_778078': 0, 'pid_190059': 0, 'pid_267075': 1, 'pid_865476': 2, 'pid_164761': 0, 'pid_607374': 0, 'pid_36482': 0, 'pid_41431': 1, 'pid_180073': 3, 'pid_689715': 2, 'pid_411844': 1, 'pid_156270': 1, 'pid_109766': 0, 'pid_266441': 4, 'pid_542451': 1, 'pid_250556': 0, 'pid_125480': 1, 'pid_411812': 0, 'pid_730069': 0, 'pid_39476': 0, 'pid_154667': 0, 'pid_947433': 0, 'pid_63062': 1, 'pid_798386': 0, 'pid_757913': 0, 'pid_895876': 2, 'pid_655540': 0, 'pid_898361': 0, 'pid_255305': 1, 'pid_486720': 2, 'pid_848365': 0, 'pid_33162': 0, 'pid_474147': 1, 'pid_512534': 0, 'pid_403245': 1, 'pid_114873': 2, 'pid_579779': 4, 'pid_52420': 4, 'pid_432231': 3, 'pid_264535': 0, 'pid_28359': 0, 'pid_866267': 3, 'pid_69445': 0, 'pid_57109': 0, 'pid_209022': 1, 'pid_320178': 0, 'pid_10165': 3, 'pid_391561': 0, 'pid_427325': 1, 'pid_735537': 2, 'pid_656201': 0, 'pid_242669': 0, 'pid_394009': 0, 'pid_166933': 0, 'pid_374271': 1, 'pid_782128': 0, 'pid_508091': 0, 'pid_502015': 0, 'pid_847001': 0, 'pid_327449': 0, 'pid_2368': 1, 'pid_145181': 2, 'pid_477832': 0, 'pid_516722': 3, 'pid_78539': 0, 'pid_491790': 0, 'pid_998467': 0, 'pid_797079': 0, 'pid_537870': 0, 'pid_681173': 1, 'pid_611019': 3, 'pid_801365': 1, 'pid_783762': 0, 'pid_841979': 0, 'pid_78689': 0, 'pid_621506': 0, 'pid_928548': 0, 'pid_596023': 0, 'pid_543448': 0, 'pid_484040': 0, 'pid_232830': 0, 'pid_616646': 0, 'pid_9675': 0, 'pid_727493': 0, 'pid_388556': 0, 'pid_21312': 0, 'pid_573615': 0, 'pid_909610': 0, 'pid_609568': 0, 'pid_620604': 0, 'pid_393945': 0, 'pid_626524': 0, 'pid_256271': 0, 'pid_897377': 0, 'pid_384851': 0, 'pid_693445': 1, 'pid_71869': 0, 'pid_84310': 0, 'pid_814348': 0, 'pid_677791': 0, 'pid_242386': 0, 'pid_839118': 0, 'pid_703467': 1, 'pid_257959': 0, 'pid_943647': 0, 'pid_121381': 0, 'pid_29583': 0, 'pid_910918': 0, 'pid_734494': 0, 'pid_225445': 0, 'pid_972203': 0, 'pid_282236': 0, 'pid_834185': 0, 'pid_710441': 0, 'pid_835334': 0, 'pid_599371': 0, 'pid_121656': 2, 'pid_458602': 0, 'pid_361762': 2, 'pid_11445': 2, 'pid_473965': 0, 'pid_752195': 0, 'pid_483372': 0})\n",
      "0\n",
      "1\n"
     ]
    }
   ],
   "source": [
    "# Load validation and traning query relevance here using the following format:\n",
    "# [query_id][passage_id] = score\n",
    "train_qrel_dict = load_qrels_dict('data/training_qrels.txt')\n",
    "validation_qrel_dict = load_qrels_dict('data/validation_qrels.txt')\n",
    "\n",
    "print_first_key_and_value(train_qrel_dict)\n",
    "print_first_key_and_value(validation_qrel_dict)\n",
    "print(train_qrel_dict['qid_1']['pid_4']) # Should be 0\n",
    "print(validation_qrel_dict['qid_5001']['pid_693445']) # Should be 1"
   ]
  },
  {
   "cell_type": "code",
   "execution_count": 7,
   "metadata": {
    "id": "Rh-GVgwA_vhu"
   },
   "outputs": [
    {
     "name": "stdout",
     "output_type": "stream",
     "text": [
      "pid_1: mobile app book ticket use mobile\n"
     ]
    }
   ],
   "source": [
    "# Load collection\n",
    "# Load the collection in a dict with the following format: [passage_id] = passage_text\n",
    "collection_dict = preprocess_dict(load_collection_dict('data/collection.jsonl'))\n",
    "\n",
    "print_first_key_and_value(collection_dict)"
   ]
  },
  {
   "cell_type": "code",
   "execution_count": 8,
   "metadata": {
    "id": "tSGiypQ30R7Y"
   },
   "outputs": [],
   "source": [
    "def write_ranking_results(ranking_results, output_file, ranking_name):\n",
    "    \"\"\"\n",
    "    Write the ranking results to a file in the required format.\n",
    "\n",
    "    Args:\n",
    "        ranking_results: A dictionary of dictionaries, each containing:\n",
    "                         - query_id: {doc_id: score}\n",
    "        output_file: Path to the output file.\n",
    "        ranking_name: Name of the ranking method (e.g., \"TF_IDF_ranking\").\n",
    "    \"\"\"\n",
    "    with open(output_file, \"w\", encoding=\"utf-8\") as f:\n",
    "        for query_id, docs in ranking_results.items():\n",
    "            # Sort documents by score\n",
    "            sorted_docs = sorted(docs.items(), key=lambda x: x[1], reverse=True)\n",
    "\n",
    "            for rank, (doc_id, score) in enumerate(sorted_docs[:100], start=1):\n",
    "                \n",
    "                # Write the results to file in the required format\n",
    "                f.write('\\t'.join([\n",
    "                    str(query_id),  # Query ID\n",
    "                    str(doc_id),    # Document ID\n",
    "                    str(rank),      # Rank\n",
    "                    str(score),     # Score\n",
    "                    ranking_name    # Ranking method\n",
    "                ]) + '\\n')\n",
    "                \n",
    "    print(f\"Produced file {output_file}\")\n",
    "\n",
    "\n",
    "def codalab_format(validation_output_file, test_output_file, studentnumber1, studentnumber2):\n",
    "    \"\"\"\n",
    "    Create a Codalab submission zip file with correctly named validation and test ranking results.\n",
    "\n",
    "    Args:\n",
    "        validation_output_file: Path to the validation ranking results file.\n",
    "        test_output_file: Path to the test ranking results file.\n",
    "        studentnumber1: Student number.\n",
    "        studentnumber2: Student name.\n",
    "    \"\"\"\n",
    "    # Create the zip file name based on student information\n",
    "    output_dir = \"output\"\n",
    "    filename = f\"{studentnumber1}_{studentnumber2}_codalab_submission.zip\"\n",
    "\n",
    "    # Ensure that the output directory exists\n",
    "    os.makedirs(output_dir, exist_ok=True)\n",
    "\n",
    "    # Full path for the zip file\n",
    "    zip_file_path = os.path.join(output_dir, filename)\n",
    "\n",
    "    # Create the zip file for submission\n",
    "    with ZipFile(zip_file_path, 'w') as zipObj:\n",
    "        # Rename the files according to Codalab's requirements\n",
    "        zipObj.write(validation_output_file, \"submission_validation.text\")\n",
    "        zipObj.write(test_output_file, \"submission_test.text\")\n",
    "\n",
    "    print(f\"Produced submission file {zip_file_path}\")\n",
    "    return zip_file_path"
   ]
  },
  {
   "cell_type": "markdown",
   "metadata": {
    "id": "5RfddJJQJrhP"
   },
   "source": [
    "# Milestone 2: Learning-to-rank (Re-ranking)\n",
    "\n",
    "The focus of this milestone is on re-ranking. You will use the output of first-stage retrieval models from the previous milestone and re-rank the top passages returned by them to enhance the retrieval performance. In this milestone, you will learn how to train learning-to-rank models and will get familiar with hyper-parameter tuning and feature selection concepts. In addition, you will learn how to use the existing pre-trained models for re-ranking.\n",
    "\n",
    "Note:\n",
    "1. You **must** use the **pytrec_eval** library to evaluate the models.\n",
    "2. You **must** use the defined functions and data structures. You can always add more inputs and outputs to the functions.\n",
    "3. Please **make sure** to follow the comments and explanations provided in the Notebook carefully. We check the comments and corresponding cells for grading. If you don't, it will make it difficult for us to evaluate your work.\n",
    "4. If your code is messy or hard to follow, it will also make it hard for us to assess your work, which could lead to some point loss. Clear, well-organized code is required for a fair and efficient grading process.\n",
    "5. You can pick any pre-processing libraries you wish. Just be consistent all along different stages to prevent mismatch errors."
   ]
  },
  {
   "cell_type": "markdown",
   "metadata": {
    "id": "4CwVEmapI3Nb"
   },
   "source": [
    "# Training XGBoost model (67)"
   ]
  },
  {
   "cell_type": "markdown",
   "metadata": {
    "id": "ZTvqbwuY_Utp"
   },
   "source": [
    "**Step 1:** Use ElasticSearch to get the “BM25” and “TF-IDF”  scores for train/test/validation sets. For the BM25 model use the best parameter set from the previous Milestone.  For this you will need to define 2 separate indexes using BM25 and TF-IDF as the ranking functions.(10)\n",
    "\n",
    "**Note:** TF-IDF is not included anymore in ElasticSearch (i.e., the `classic` ranker does not exist), you will need to add the formula manually.\n",
    "\n",
    "```json\n",
    "\"similarity\": {\n",
    "            \"scripted_tfidf\": {\n",
    "                \"type\": \"scripted\",\n",
    "                \"weight_script\": {\n",
    "                    \"source\": \"double idf = Math.log((field.docCount + 1.0) / (term.docFreq + 1.0)) + 1.0; return query.boost * idf;\"\n",
    "                },\n",
    "                \"script\": {\n",
    "                    \"source\": \"double tf = Math.sqrt(doc.freq); double norm = 1.0 / Math.sqrt(doc.length); return weight * tf * norm;\"\n",
    "                }\n",
    "            }\n",
    "        }\n",
    "    },\n",
    "    \"mappings\": {\n",
    "        \"properties\": {\n",
    "            \"content\": {\n",
    "                \"type\": \"text\",\n",
    "                \"similarity\": \"scripted_tfidf\"\n",
    "            }\n",
    "        }\n",
    "    }\n",
    "}\n"
   ]
  },
  {
   "cell_type": "code",
   "execution_count": 9,
   "metadata": {},
   "outputs": [],
   "source": [
    "# Running in a Docker container\n",
    "es = Elasticsearch(\n",
    "    hosts=[\"http://localhost:9200\"],\n",
    "    max_retries=3,\n",
    "    retry_on_timeout=True\n",
    ")\n",
    "\n",
    "assert es.ping(), 'Docker inactive'"
   ]
  },
  {
   "cell_type": "code",
   "execution_count": 10,
   "metadata": {},
   "outputs": [],
   "source": [
    "def create_index(index_name, index_settings, batch_size=5000):\n",
    "    if not es.indices.exists(index=index_name):\n",
    "        es.indices.create(index=index_name, body=index_settings)\n",
    "\n",
    "    df_documents_amount = len(collection_dict)\n",
    "    index_documents_amount = es.count(index=index_name)['count']\n",
    "    print(f'Before indexing: {df_documents_amount=:_}, {index_documents_amount=:_}')\n",
    "\n",
    "    if df_documents_amount != index_documents_amount:\n",
    "\n",
    "        es.indices.delete(index=index_name)\n",
    "        es.indices.create(index=index_name, body=index_settings)\n",
    "        \n",
    "        actions = [\n",
    "            {\n",
    "                \"_index\": index_name,\n",
    "                \"_id\": doc_id,\n",
    "                \"_source\": {\n",
    "                    \"doc_id\": doc_id,\n",
    "                    \"text\": text\n",
    "                }\n",
    "            }\n",
    "            for doc_id, text in collection_dict.items()\n",
    "        ]\n",
    "        \n",
    "        helpers.bulk(es, actions, chunk_size=batch_size)\n",
    "\n",
    "        es.indices.refresh(index=index_name)\n",
    "\n",
    "    index_documents_amount = es.count(index=index_name)['count']\n",
    "    print(f'After indexing: {index_documents_amount=:_}')"
   ]
  },
  {
   "cell_type": "code",
   "execution_count": 11,
   "metadata": {
    "id": "gdvsF8LV_MXE"
   },
   "outputs": [
    {
     "name": "stdout",
     "output_type": "stream",
     "text": [
      "Before indexing: df_documents_amount=1_000_000, index_documents_amount=0\n",
      "After indexing: index_documents_amount=1_000_000\n"
     ]
    }
   ],
   "source": [
    "# Use ES to get BM25 scores here\n",
    "index_name = 'bm25_index'\n",
    "\n",
    "index_settings = {\n",
    "    \"settings\": {\n",
    "        \"index\": {\n",
    "            \"number_of_shards\": 1,\n",
    "            \"number_of_replicas\": 0,\n",
    "            \"similarity\": {\n",
    "                \"default\": {\n",
    "                    \"type\": \"BM25\",\n",
    "                    \"k1\": 0.285, # Found by hyperparameter tuning in Milestone 1\n",
    "                    \"b\": 0.095\n",
    "                }\n",
    "            }\n",
    "        },\n",
    "        \"analysis\": {\n",
    "            \"analyzer\": {\n",
    "                \"fulltext_analyzer\": {\n",
    "                    \"type\": \"custom\",\n",
    "                    \"tokenizer\": \"standard\",\n",
    "                    \"filter\": []\n",
    "                }\n",
    "            }\n",
    "        }\n",
    "    },\n",
    "    \"mappings\": {\n",
    "        \"properties\": {\n",
    "            \"content\": {\n",
    "                \"type\": \"text\",\n",
    "                \"analyzer\": \"fulltext_analyzer\",\n",
    "                \"similarity\": \"default\"\n",
    "            }\n",
    "        }\n",
    "    }\n",
    "}\n",
    "\n",
    "create_index(index_name, index_settings, batch_size=5000)"
   ]
  },
  {
   "cell_type": "code",
   "execution_count": 12,
   "metadata": {
    "id": "dbOXQuYC_gfP"
   },
   "outputs": [
    {
     "name": "stdout",
     "output_type": "stream",
     "text": [
      "Before indexing: df_documents_amount=1_000_000, index_documents_amount=0\n",
      "After indexing: index_documents_amount=1_000_000\n"
     ]
    }
   ],
   "source": [
    "# Use ES to get TF-IDF scores here\n",
    "index_name = 'tfidf_index'\n",
    "\n",
    "index_settings = {\n",
    "    \"settings\": {\n",
    "        \"index\": {\n",
    "            \"number_of_shards\": 1,\n",
    "            \"number_of_replicas\": 0,\n",
    "            \"similarity\": {\n",
    "                \"scripted_tfidf\": {\n",
    "                    \"type\": \"scripted\",\n",
    "                    \"weight_script\": {\n",
    "                        \"source\": \"double idf = Math.log((field.docCount + 1.0) / (term.docFreq + 1.0)) + 1.0; return query.boost * idf;\"\n",
    "                    },\n",
    "                    \"script\": {\n",
    "                        \"source\": \"double tf = Math.sqrt(doc.freq); double norm = 1.0 / Math.sqrt(doc.length); return weight * tf * norm;\"\n",
    "                    }\n",
    "                }\n",
    "            }\n",
    "        },\n",
    "        \"analysis\": {\n",
    "            \"analyzer\": {\n",
    "                \"fulltext_analyzer\": {\n",
    "                    \"type\": \"custom\",\n",
    "                    \"tokenizer\": \"standard\",\n",
    "                    \"filter\": []\n",
    "                }\n",
    "            }\n",
    "        }\n",
    "    },\n",
    "    \"mappings\": {\n",
    "        \"properties\": {\n",
    "            \"content\": {\n",
    "                \"type\": \"text\",\n",
    "                \"analyzer\": \"fulltext_analyzer\",\n",
    "                \"similarity\": \"scripted_tfidf\"\n",
    "            }\n",
    "        }\n",
    "    }\n",
    "}\n",
    "\n",
    "create_index(index_name, index_settings, batch_size=5000)"
   ]
  },
  {
   "cell_type": "code",
   "execution_count": 13,
   "metadata": {},
   "outputs": [
    {
     "name": "stdout",
     "output_type": "stream",
     "text": [
      "{'bm25_index': {'mappings': {'properties': {'content': {'type': 'text', 'analyzer': 'fulltext_analyzer', 'similarity': 'default'}, 'doc_id': {'type': 'text', 'fields': {'keyword': {'type': 'keyword', 'ignore_above': 256}}}, 'text': {'type': 'text', 'fields': {'keyword': {'type': 'keyword', 'ignore_above': 256}}}}}}}\n"
     ]
    }
   ],
   "source": [
    "mapping = es.indices.get_mapping(index='bm25_index')\n",
    "print(mapping)"
   ]
  },
  {
   "cell_type": "code",
   "execution_count": 14,
   "metadata": {},
   "outputs": [
    {
     "name": "stdout",
     "output_type": "stream",
     "text": [
      "{'tfidf_index': {'mappings': {'properties': {'content': {'type': 'text', 'analyzer': 'fulltext_analyzer', 'similarity': 'scripted_tfidf'}, 'doc_id': {'type': 'text', 'fields': {'keyword': {'type': 'keyword', 'ignore_above': 256}}}, 'text': {'type': 'text', 'fields': {'keyword': {'type': 'keyword', 'ignore_above': 256}}}}}}}\n"
     ]
    }
   ],
   "source": [
    "mapping = es.indices.get_mapping(index='tfidf_index')\n",
    "print(mapping)"
   ]
  },
  {
   "cell_type": "code",
   "execution_count": 15,
   "metadata": {},
   "outputs": [
    {
     "name": "stdout",
     "output_type": "stream",
     "text": [
      "health status index       uuid                   pri rep docs.count docs.deleted store.size pri.store.size\n",
      "green  open   tfidf_index dKT6wpSaTr2w04aVHI6x0Q   1   0    1000000            0    557.3mb        557.3mb\n",
      "green  open   bm25_index  57_XcfGjRdKyG5VVLmSKAw   1   0    1000000            0    428.4mb        428.4mb\n",
      "\n"
     ]
    }
   ],
   "source": [
    "indices = es.cat.indices(v=True)\n",
    "print(indices)"
   ]
  },
  {
   "cell_type": "code",
   "execution_count": 16,
   "metadata": {},
   "outputs": [
    {
     "name": "stdout",
     "output_type": "stream",
     "text": [
      "{'took': 49, 'timed_out': False, '_shards': {'total': 1, 'successful': 1, 'skipped': 0, 'failed': 0}, 'hits': {'total': {'value': 519, 'relation': 'eq'}, 'max_score': 14.429539, 'hits': [{'_index': 'tfidf_index', '_id': 'pid_436177', '_score': 14.429539, '_source': {'doc_id': 'pid_436177', 'text': 'create pie pie click chart data insert tab click pie button chart group pie pie chart type menu'}}]}}\n"
     ]
    }
   ],
   "source": [
    "search_results = es.search(\n",
    "            index='tfidf_index',\n",
    "            query={'match': {'text': 'pie'}},\n",
    "            size=1\n",
    "        )\n",
    "\n",
    "print(search_results)"
   ]
  },
  {
   "cell_type": "code",
   "execution_count": 17,
   "metadata": {},
   "outputs": [
    {
     "name": "stdout",
     "output_type": "stream",
     "text": [
      "{'took': 17, 'timed_out': False, '_shards': {'total': 1, 'successful': 1, 'skipped': 0, 'failed': 0}, 'hits': {'total': {'value': 519, 'relation': 'eq'}, 'max_score': 9.4578495, 'hits': [{'_index': 'bm25_index', '_id': 'pid_459343', '_score': 9.4578495, '_ignored': ['text.keyword'], '_source': {'doc_id': 'pid_459343', 'text': 'history pie pie around since ancient egypt first pie made early roman may learned greece roman must spread word pie around europe oxford english dictionary note word pie popular word century first pie recipe publish roman rye crust goat cheese honey pie early pie predominate meat pie pye pie originally appear england early twelfth century crust pie refer coffyn'}}]}}\n"
     ]
    }
   ],
   "source": [
    "search_results = es.search(\n",
    "    index='bm25_index',\n",
    "    query={'match': {'text': 'pie'}},\n",
    "    size=1\n",
    ")\n",
    "\n",
    "print(search_results)"
   ]
  },
  {
   "cell_type": "markdown",
   "metadata": {},
   "source": [
    "Testing the functions:"
   ]
  },
  {
   "cell_type": "code",
   "execution_count": 18,
   "metadata": {},
   "outputs": [],
   "source": [
    "def ranking_via_index(index_name, queries_dict, top_n=100) -> dict:\n",
    "    \"\"\"\n",
    "    Perform ranking for the given queries using the specified Elasticsearch index via multi-search.\n",
    "\n",
    "    Args:\n",
    "        index_name: Name of the index.\n",
    "        queries_dict: A dictionary with the 'query_id' as keys and the 'query_string' as values.\n",
    "        top_n: Number of top documents to return for each query.\n",
    "\n",
    "    Returns:\n",
    "        A dictionary in the format {query_id: {doc_id: score}}\n",
    "    \"\"\"\n",
    "    ranking_results = {}\n",
    "\n",
    "    msearch_queries = []\n",
    "    for query_id, query_string in queries_dict.items():\n",
    "        msearch_queries.append({\"index\": index_name})\n",
    "        msearch_queries.append({\"query\": {\"match\": {\"text\": query_string}}, \"size\": top_n})\n",
    "\n",
    "    response = es.msearch(body=msearch_queries)\n",
    "\n",
    "    for idx, query_id in enumerate(queries_dict.keys()):\n",
    "        query_results = response['responses'][idx]\n",
    "\n",
    "        top_docs = {\n",
    "            hit[\"_id\"]: hit[\"_score\"]\n",
    "            for hit in query_results[\"hits\"][\"hits\"]\n",
    "        } if \"hits\" in query_results[\"hits\"] and query_results[\"hits\"][\"hits\"] else {}\n",
    "\n",
    "        # If fewer than top_n results, fill the remaining with match_all results\n",
    "        if len(top_docs) < top_n:\n",
    "            match_all_results = es.search(\n",
    "                index=index_name,\n",
    "                query={\"match_all\": {}},\n",
    "                size=top_n\n",
    "            )\n",
    "\n",
    "            for hit in match_all_results[\"hits\"][\"hits\"]:\n",
    "                doc_id = hit[\"_id\"]\n",
    "                if doc_id not in top_docs:  # Avoid duplicates\n",
    "                    top_docs[doc_id] = hit[\"_score\"]\n",
    "\n",
    "        ranking_results[query_id] = dict(list(top_docs.items())[:top_n])\n",
    "\n",
    "    return ranking_results"
   ]
  },
  {
   "cell_type": "code",
   "execution_count": 19,
   "metadata": {},
   "outputs": [],
   "source": [
    "# Copied from the starting kit\n",
    "def mrr(scores, labels, k):\n",
    "    # only consider the position of the first passage that hit the ground truth \n",
    "    assert len(scores) == len(labels), 'scores and labels must be the same length'\n",
    "    \n",
    "    reciprocal_rank = 0\n",
    "    \n",
    "    for q_id, p_ids in scores.items():\n",
    "        \n",
    "        for index, p_id in enumerate(p_ids):\n",
    "            if index == k:\n",
    "                break\n",
    "            \n",
    "            if p_id in labels[q_id]:\n",
    "                # MRR is a binary IR metric. So for binary relevance judgments, 1 is relevant, while for graded relevance judgments, 2,3,4 are relevant while 0,1 are irrelevant.\n",
    "                # Our validation and test sets use graded relevance judgments, so there we regard 3,4 as relevant\n",
    "                if labels[q_id][p_id]>=2:\n",
    "                    reciprocal_rank += 1.0 / (index+1)\n",
    "                    break\n",
    "\n",
    "    return reciprocal_rank / len(scores)\n",
    "\n",
    "\n",
    "def evaluate(qrel, run, metrics=[\"recall_10\", \"recall_20\", \"ndcg_cut_10\", \"P_5\", \"P_20\", \"mrr_100\"], silent=False):\n",
    "    \"\"\"\n",
    "    Evaluate the ranking output using qrels and pytrec_eval.\n",
    "\n",
    "    Args:\n",
    "        qrel (dict): Ground truth relevance judgments. {query_id: {doc_id: relevance}}\n",
    "        run (dict): Model's predictions. {query_id: {doc_id: score}}\n",
    "        metrics (list): List of metrics to compute.\n",
    "\n",
    "    Returns:\n",
    "        dict: A dictionary with the computed metric values.\n",
    "    \"\"\"\n",
    "\n",
    "    assert isinstance(qrel, dict), \"The `qrel` parameter must be a dictionary with format {query_id: {doc_id: relevance}}.\"\n",
    "    assert isinstance(run, dict), \"The `run` parameter must be a dictionary with format {query_id: {doc_id: score}}.\"\n",
    "    assert len(qrel) == len(run), \"The `qrel` and `run` parameters must have the same number of queries.\"\n",
    "    assert qrel and run, \"qrel or run dictionary is empty. Cannot perform evaluation.\"\n",
    "    \n",
    "    filtered_metrics = [metric for metric in metrics if metric != 'mrr_100']\n",
    "    \n",
    "    evaluator = pytrec_eval.RelevanceEvaluator(qrel, filtered_metrics)\n",
    "\n",
    "    results: Dict[str, Dict[str, float]] = evaluator.evaluate(run)\n",
    "\n",
    "    assert results is not None, \"No results returned from evaluation. Please check the input `qrel` and `run` formats.\"\n",
    "    \n",
    "    # Vectorized results to make it faster\n",
    "    results_df = pd.DataFrame.from_dict(results, orient='index').reindex(columns=filtered_metrics).fillna(0.0)\n",
    "    aggregated_results = results_df.mean().to_dict()\n",
    "    \n",
    "    if 'mrr_100' in metrics:\n",
    "        mrr_score = mrr(run, qrel, 100)\n",
    "        aggregated_results['mrr_100'] = mrr_score\n",
    "            \n",
    "    formatted_result = \" ; \".join([f\"{metric}: {aggregated_results[metric]:.4f}\" for metric in aggregated_results])\n",
    "    \n",
    "    if not silent:\n",
    "        print(formatted_result)\n",
    "\n",
    "    return aggregated_results"
   ]
  },
  {
   "cell_type": "code",
   "execution_count": 20,
   "metadata": {},
   "outputs": [
    {
     "name": "stdout",
     "output_type": "stream",
     "text": [
      "recall_10: 0.1201 ; recall_20: 0.2079 ; ndcg_cut_10: 0.2951 ; P_5: 0.4240 ; P_20: 0.3587 ; mrr_100: 0.4417\n"
     ]
    }
   ],
   "source": [
    "tfidf_valid = ranking_via_index('tfidf_index', validation_queries_dict, 100)\n",
    "tfidf_eval = evaluate(validation_qrel_dict, tfidf_valid)"
   ]
  },
  {
   "cell_type": "code",
   "execution_count": 21,
   "metadata": {},
   "outputs": [
    {
     "name": "stdout",
     "output_type": "stream",
     "text": [
      "recall_10: 0.1469 ; recall_20: 0.2422 ; ndcg_cut_10: 0.3555 ; P_5: 0.4720 ; P_20: 0.4047 ; mrr_100: 0.5366\n"
     ]
    }
   ],
   "source": [
    "bm25_valid = ranking_via_index('bm25_index', validation_queries_dict, 100)\n",
    "bm25_eval = evaluate(validation_qrel_dict, bm25_valid)"
   ]
  },
  {
   "cell_type": "markdown",
   "metadata": {
    "id": "oQIXi21E_PIe"
   },
   "source": [
    "**Step 2:** Create the following features for each query in the training set and the top 20 passages retrieved by the BM25 model. For test and validation queries, create these features for the top 100 passages. Store the results on a text file as you need them in the next steps. (14)\n",
    "\n",
    "1.   LSA vectors similarity. Train an LSA model on your data and represent the queries and top documents using LSA. For this, you can use the `gensim` library. Compute the cosine similarity of LSA vectors of (q, d). (3)\n",
    "2.   Word2Vec embedding similarity score. Load pre-trained word2vec embeddings from the `gensim` library. Compute the Average Word Embeddings (AWE) of each query and its top ranked documents. (3)\n",
    "3.   TF-IDF similarity score. (2)\n",
    "4.   BM25 similarity score. (2)\n",
    "5.   Query term count. (2)\n",
    "6.   Document term count. (2)\n",
    "\n",
    "\n"
   ]
  },
  {
   "cell_type": "code",
   "execution_count": 22,
   "metadata": {},
   "outputs": [],
   "source": [
    "def write_rankings_to_file(rankings: defaultdict | dict, output_file: str) -> None:\n",
    "    output_dir = 'results'\n",
    "    os.makedirs(output_dir, exist_ok=True)\n",
    "    file_path = os.path.join(output_dir, output_file)\n",
    "    \n",
    "    with open(file_path, 'w') as file:\n",
    "        for query_id, doc_dict in rankings.items():\n",
    "            file.write(f'Query {query_id}:\\n')\n",
    "            for doc_id, score in doc_dict.items():\n",
    "                file.write(f'    Doc ID: {doc_id}, Score: {score}\\n')\n",
    "            file.write('\\n')\n",
    "\n",
    "    print(f'Results written to {file_path}')"
   ]
  },
  {
   "cell_type": "code",
   "execution_count": 23,
   "metadata": {},
   "outputs": [],
   "source": [
    "def read_file_to_dict(file_name: str) -> dict:\n",
    "    result_dict = {}\n",
    "    with open(file_name, 'r') as file:\n",
    "        current_query = None\n",
    "        for line in file:\n",
    "            line = line.strip()\n",
    "            if line.startswith(\"Query\"):\n",
    "                current_query = line.split()[1][:-1]\n",
    "                result_dict[current_query] = {}\n",
    "            elif line.startswith(\"Doc ID\"):\n",
    "                parts = line.split(\", \")\n",
    "                doc_id = parts[0].split(\": \")[1]\n",
    "                score = float(parts[1].split(\": \")[1])\n",
    "                result_dict[current_query][doc_id] = score\n",
    "                \n",
    "    return result_dict"
   ]
  },
  {
   "cell_type": "code",
   "execution_count": 24,
   "metadata": {},
   "outputs": [],
   "source": [
    "def bm25(queries_dict, top_n, output_file) -> Dict[str, Dict[str, float]]:\n",
    "    \"\"\"\n",
    "    Get BM25 rankings for the given queries and save results to a file.\n",
    "\n",
    "    Args:\n",
    "        queries_dict: A dictionary with query IDs and query strings.\n",
    "        top_n: Number of top documents to return for each query.\n",
    "        output_file: The name of the output file where results are stored.\n",
    "\n",
    "    Returns:\n",
    "        The BM25 rankings.\n",
    "    \"\"\"\n",
    "    bm25_rankings = ranking_via_index('bm25_index', queries_dict, top_n)\n",
    "    write_rankings_to_file(bm25_rankings, output_file)\n",
    "    return bm25_rankings"
   ]
  },
  {
   "cell_type": "code",
   "execution_count": 25,
   "metadata": {},
   "outputs": [],
   "source": [
    "try:\n",
    "    bm25_rankings_val = read_file_to_dict('results/bm25_val.txt')\n",
    "    bm25_rankings_test = read_file_to_dict('results/bm25_test.txt')\n",
    "    bm25_rankings_train = read_file_to_dict('results/bm25_train.txt')\n",
    "except:\n",
    "    bm25_rankings_val = bm25(validation_queries_dict, 100, 'bm25_val.txt')\n",
    "    bm25_rankings_test = bm25(test_queries_dict, 100, 'bm25_test.txt')\n",
    "    bm25_rankings_train = bm25(train_queries_dict, 20, 'bm25_train.txt')"
   ]
  },
  {
   "cell_type": "code",
   "execution_count": 26,
   "metadata": {},
   "outputs": [
    {
     "name": "stdout",
     "output_type": "stream",
     "text": [
      "{'qid_5001': {'pid_803529': 26.87736, 'pid_897041': 25.629845, 'pid_486720': 25.57388, 'pid_156270': 25.408318, 'pid_121656': 25.393167, 'pid_403245': 24.978554, 'pid_41431': 24.751856, 'pid_78539': 24.7295, 'pid_866267': 24.632645, 'pid_782128': 24.614971, 'pid_57109': 24.519287, 'pid_114873': 24.490858, 'pid_242669': 24.425192, 'pid_693445': 24.147312, 'pid_865476': 24.069635, 'pid_411844': 24.02193, 'pid_872768': 23.953535, 'pid_63062': 23.844261, 'pid_681173': 23.719515, 'pid_527942': 23.707502, 'pid_303596': 23.633621, 'pid_462528': 23.510489, 'pid_374271': 23.487566, 'pid_432231': 23.463741, 'pid_542451': 23.425474, 'pid_786841': 23.410002, 'pid_474147': 23.34832, 'pid_125480': 23.3176, 'pid_2368': 23.195526, 'pid_990839': 23.134968, 'pid_801365': 22.836855, 'pid_320178': 22.576632, 'pid_689385': 22.546328, 'pid_508620': 21.858503, 'pid_643987': 21.83903, 'pid_39476': 21.362095, 'pid_190059': 21.3479, 'pid_576529': 21.212173, 'pid_166933': 21.169329, 'pid_537870': 21.059473, 'pid_33741': 20.753216, 'pid_596531': 20.050545, 'pid_205085': 19.793766, 'pid_440239': 19.715023, 'pid_730069': 19.63695, 'pid_361131': 19.471634, 'pid_596023': 19.429892, 'pid_930608': 19.41815, 'pid_324061': 18.914669, 'pid_716787': 18.8543, 'pid_145181': 18.793396, 'pid_884755': 18.74814, 'pid_798386': 18.743868, 'pid_607374': 18.717281, 'pid_466605': 18.661919, 'pid_599371': 18.646107, 'pid_611019': 18.622532, 'pid_200206': 18.599033, 'pid_857908': 18.545776, 'pid_282236': 18.49822, 'pid_477088': 18.454126, 'pid_738871': 18.447271, 'pid_972203': 18.37524, 'pid_201148': 18.356665, 'pid_339533': 18.333899, 'pid_806656': 18.26285, 'pid_827482': 18.256832, 'pid_608766': 18.254166, 'pid_465010': 18.122349, 'pid_727493': 17.920345, 'pid_847270': 17.901012, 'pid_13933': 17.893505, 'pid_7453': 17.839952, 'pid_663191': 17.769604, 'pid_391561': 17.655102, 'pid_621506': 17.64988, 'pid_833152': 17.64506, 'pid_134149': 17.596157, 'pid_725870': 17.57203, 'pid_242386': 17.525726, 'pid_850793': 17.505457, 'pid_483372': 17.502407, 'pid_885531': 17.50027, 'pid_11445': 17.409746, 'pid_421171': 17.380709, 'pid_236422': 17.375729, 'pid_473488': 17.292818, 'pid_385072': 17.264868, 'pid_297535': 17.1143, 'pid_589787': 17.109083, 'pid_620604': 17.081884, 'pid_928548': 17.066568, 'pid_375014': 17.027206, 'pid_962414': 17.022223, 'pid_271141': 16.998528, 'pid_13002': 16.922615, 'pid_264535': 16.893793, 'pid_733964': 16.87892, 'pid_795188': 16.874187, 'pid_275991': 16.77465}, 'qid_5002': {'pid_367262': 20.995201, 'pid_444775': 20.669071, 'pid_388428': 20.583662, 'pid_597114': 19.805458, 'pid_263375': 19.543095, 'pid_240427': 17.296417, 'pid_439667': 17.241032, 'pid_697389': 17.17996, 'pid_612199': 16.959227, 'pid_317572': 16.88689, 'pid_17647': 16.814095, 'pid_879998': 16.763496, 'pid_624007': 16.639542, 'pid_344436': 16.574776, 'pid_15500': 16.525328, 'pid_799577': 16.51905, 'pid_721271': 16.516064, 'pid_623472': 16.478157, 'pid_498702': 16.34782, 'pid_784901': 16.280754, 'pid_563069': 16.279226, 'pid_726755': 15.962046, 'pid_386920': 15.799444, 'pid_796863': 15.79014, 'pid_261787': 15.733439, 'pid_521743': 15.707851, 'pid_814653': 15.590594, 'pid_32129': 15.551786, 'pid_190285': 15.5428295, 'pid_878942': 15.407488, 'pid_240081': 15.320684, 'pid_780064': 15.065637, 'pid_945169': 15.034513, 'pid_442458': 14.949194, 'pid_330167': 14.630087, 'pid_672822': 14.610372, 'pid_494799': 14.537461, 'pid_480533': 14.518435, 'pid_792720': 14.512585, 'pid_798922': 14.444908, 'pid_695541': 14.425688, 'pid_823945': 14.045214, 'pid_914141': 13.502493, 'pid_523287': 13.419476, 'pid_801237': 13.101757, 'pid_736578': 12.935225, 'pid_372923': 12.8853, 'pid_904594': 12.8504505, 'pid_826079': 12.830683, 'pid_643244': 12.82444, 'pid_141029': 12.767479, 'pid_268485': 12.764001, 'pid_636354': 12.755985, 'pid_220942': 12.747325, 'pid_226987': 12.746239, 'pid_838608': 12.719274, 'pid_318699': 12.713681, 'pid_421874': 12.704552, 'pid_505478': 12.69275, 'pid_25772': 12.6637745, 'pid_719968': 12.644907, 'pid_173242': 12.636724, 'pid_890480': 12.622933, 'pid_490945': 12.6184435, 'pid_172295': 12.609587, 'pid_698786': 12.605677, 'pid_82333': 12.602755, 'pid_102802': 12.600517, 'pid_391219': 12.567644, 'pid_705819': 12.545299, 'pid_18873': 12.524897, 'pid_593079': 12.517656, 'pid_170629': 12.515334, 'pid_796054': 12.505316, 'pid_808012': 12.505316, 'pid_984129': 12.505316, 'pid_695087': 12.485643, 'pid_706835': 12.485643, 'pid_523575': 12.475357, 'pid_173469': 12.462409, 'pid_814177': 12.450621, 'pid_893324': 12.450621, 'pid_228775': 12.422537, 'pid_561525': 12.419739, 'pid_888588': 12.411352, 'pid_491094': 12.408087, 'pid_814196': 12.401083, 'pid_870102': 12.397402, 'pid_174983': 12.3918295, 'pid_539442': 12.378845, 'pid_453049': 12.372369, 'pid_916992': 12.372176, 'pid_505554': 12.355738, 'pid_832119': 12.355482, 'pid_304560': 12.344675, 'pid_427809': 12.344675, 'pid_976558': 12.338017, 'pid_812471': 12.323905, 'pid_660334': 12.297462, 'pid_723152': 12.286387}, 'qid_5003': {'pid_137144': 16.807976, 'pid_586829': 16.517797, 'pid_868638': 14.958345, 'pid_93940': 14.086766, 'pid_393243': 12.384639, 'pid_582825': 12.370109, 'pid_740607': 12.210097, 'pid_865404': 12.064137, 'pid_973589': 11.943495, 'pid_243646': 11.806166, 'pid_542474': 11.782434, 'pid_810314': 11.721214, 'pid_954445': 11.704774, 'pid_522853': 11.700989, 'pid_623611': 11.654722, 'pid_876522': 11.617971, 'pid_519583': 11.614799, 'pid_150950': 11.583639, 'pid_303202': 11.562008, 'pid_915200': 11.545572, 'pid_79224': 11.534097, 'pid_644265': 11.448935, 'pid_772169': 11.419103, 'pid_16593': 11.412104, 'pid_965562': 11.4002, 'pid_42973': 11.355988, 'pid_523048': 11.336599, 'pid_581568': 11.324997, 'pid_311190': 11.301626, 'pid_904426': 11.204281, 'pid_451639': 11.15741, 'pid_227617': 11.151578, 'pid_754356': 11.137026, 'pid_844433': 11.13412, 'pid_505006': 11.123871, 'pid_874758': 11.122512, 'pid_991548': 11.112749, 'pid_452333': 11.079525, 'pid_809175': 11.057495, 'pid_188154': 11.053369, 'pid_387596': 11.024628, 'pid_747522': 11.007748, 'pid_158246': 10.996402, 'pid_836532': 10.97378, 'pid_681321': 10.959518, 'pid_861906': 10.959518, 'pid_358618': 10.8487835, 'pid_706189': 10.827033, 'pid_82893': 10.789156, 'pid_293315': 10.748348, 'pid_425636': 10.717711, 'pid_684522': 10.685507, 'pid_188073': 10.677485, 'pid_779398': 10.677485, 'pid_635163': 10.67348, 'pid_475931': 10.665477, 'pid_4203': 10.66148, 'pid_669686': 10.66148, 'pid_410574': 10.657486, 'pid_805605': 10.657486, 'pid_171854': 10.653495, 'pid_366309': 10.645521, 'pid_199715': 10.633584, 'pid_524188': 10.632768, 'pid_941918': 10.632768, 'pid_939814': 10.625792, 'pid_21998': 10.621674, 'pid_47928': 10.621674, 'pid_357260': 10.590042, 'pid_238559': 10.582164, 'pid_674031': 10.582164, 'pid_283963': 10.574297, 'pid_368260': 10.558599, 'pid_609872': 10.558599, 'pid_746562': 10.558599, 'pid_883532': 10.55459, 'pid_455685': 10.552561, 'pid_582647': 10.533468, 'pid_726484': 10.519434, 'pid_735199': 10.519434, 'pid_107767': 10.505437, 'pid_824369': 10.477554, 'pid_645282': 10.470606, 'pid_115826': 10.434671, 'pid_98662': 10.401634, 'pid_183144': 10.387949, 'pid_668522': 10.387949, 'pid_672389': 10.373792, 'pid_247253': 10.360685, 'pid_278098': 10.360685, 'pid_489422': 10.360685, 'pid_896085': 10.333565, 'pid_907234': 10.333565, 'pid_66171': 10.320058, 'pid_535495': 10.320058, 'pid_37573': 10.313619, 'pid_103864': 10.306587, 'pid_917553': 10.306587, 'pid_976922': 10.279749, 'pid_229207': 10.253049}, 'qid_5004': {'pid_494614': 21.330647, 'pid_969624': 21.320404, 'pid_867204': 21.316313, 'pid_17888': 21.191244, 'pid_471696': 21.157597, 'pid_804137': 21.124842, 'pid_360489': 20.713764, 'pid_238004': 20.708378, 'pid_736838': 20.541704, 'pid_940042': 20.384398, 'pid_374865': 20.36956, 'pid_902494': 20.339973, 'pid_401909': 19.946918, 'pid_839497': 19.469654, 'pid_960605': 19.321905, 'pid_688074': 18.874653, 'pid_687414': 18.835354, 'pid_404534': 18.737421, 'pid_420171': 18.676048, 'pid_873869': 18.56088, 'pid_91859': 18.440434, 'pid_562745': 18.32556, 'pid_586652': 18.317368, 'pid_670401': 18.24929, 'pid_532111': 18.207935, 'pid_967236': 18.11211, 'pid_36524': 18.08831, 'pid_901356': 18.064573, 'pid_803014': 17.98578, 'pid_722812': 17.95825, 'pid_355039': 17.876902, 'pid_59611': 17.874895, 'pid_301393': 17.830591, 'pid_468983': 17.821898, 'pid_829380': 17.782095, 'pid_42357': 17.770761, 'pid_864236': 17.756384, 'pid_935674': 17.7359, 'pid_733690': 17.722656, 'pid_365604': 17.71549, 'pid_471457': 17.691017, 'pid_671937': 17.654526, 'pid_425847': 17.64886, 'pid_476581': 17.641306, 'pid_626566': 17.592485, 'pid_394418': 17.503323, 'pid_18970': 17.448235, 'pid_50403': 17.448235, 'pid_524984': 17.448235, 'pid_266466': 17.432455, 'pid_712318': 17.424349, 'pid_164655': 17.404509, 'pid_895389': 17.404509, 'pid_999273': 17.391773, 'pid_446665': 17.388908, 'pid_773117': 17.36237, 'pid_937231': 17.359772, 'pid_603575': 17.327919, 'pid_928040': 17.30254, 'pid_110164': 17.293476, 'pid_472905': 17.293476, 'pid_204732': 17.29256, 'pid_899187': 17.289885, 'pid_154963': 17.270945, 'pid_83540': 17.253834, 'pid_588936': 17.253834, 'pid_608879': 17.24577, 'pid_711400': 17.24577, 'pid_939748': 17.211441, 'pid_695769': 17.208176, 'pid_127311': 17.189873, 'pid_572544': 17.170784, 'pid_346926': 17.16439, 'pid_132189': 17.158365, 'pid_771009': 17.108906, 'pid_42738': 17.074368, 'pid_721209': 17.049377, 'pid_639422': 17.03537, 'pid_219902': 16.966244, 'pid_498565': 16.951859, 'pid_286574': 16.833578, 'pid_629306': 16.833578, 'pid_749572': 16.811829, 'pid_868567': 16.789469, 'pid_465649': 16.768559, 'pid_847222': 16.750854, 'pid_799157': 16.723417, 'pid_753044': 16.704468, 'pid_432719': 16.701836, 'pid_261292': 16.685093, 'pid_716273': 16.668022, 'pid_699821': 16.63649, 'pid_656470': 16.625317, 'pid_127168': 16.607168, 'pid_558915': 16.607168, 'pid_876264': 16.607168, 'pid_954800': 16.584671, 'pid_774957': 16.577477, 'pid_191026': 16.547897, 'pid_898273': 16.540716}, 'qid_5005': {'pid_866656': 35.131042, 'pid_606075': 28.880789, 'pid_530905': 28.815655, 'pid_205185': 28.228014, 'pid_498858': 27.286263, 'pid_340873': 27.255394, 'pid_229851': 26.815928, 'pid_576739': 26.296701, 'pid_307813': 26.158125, 'pid_354329': 25.986942, 'pid_874157': 25.78446, 'pid_192477': 25.005129, 'pid_712391': 24.706202, 'pid_402900': 23.575447, 'pid_194832': 22.602596, 'pid_598626': 21.871561, 'pid_423250': 21.755402, 'pid_728558': 21.660732, 'pid_633846': 21.49345, 'pid_69670': 21.445, 'pid_669237': 20.890478, 'pid_302771': 20.850191, 'pid_379537': 20.08117, 'pid_770205': 19.382015, 'pid_89842': 19.309334, 'pid_323331': 18.663074, 'pid_679404': 18.546637, 'pid_910698': 18.397667, 'pid_915886': 18.095217, 'pid_538395': 17.960577, 'pid_971373': 17.816998, 'pid_210425': 17.734299, 'pid_468106': 17.61748, 'pid_921257': 17.57118, 'pid_387423': 17.525126, 'pid_392235': 17.494999, 'pid_99056': 17.479311, 'pid_485834': 17.411037, 'pid_159003': 17.32083, 'pid_250663': 17.299263, 'pid_767059': 16.672958, 'pid_13544': 16.513037, 'pid_482239': 16.434887, 'pid_420338': 16.394566, 'pid_710195': 16.07601, 'pid_216746': 16.021746, 'pid_806433': 15.943488, 'pid_567654': 15.739647, 'pid_523641': 15.72191, 'pid_657776': 15.698402, 'pid_226081': 15.616557, 'pid_110370': 15.616331, 'pid_650383': 15.604687, 'pid_67509': 15.496183, 'pid_36257': 15.471624, 'pid_597972': 15.431558, 'pid_815351': 15.398032, 'pid_250865': 15.377214, 'pid_405060': 15.314141, 'pid_140219': 15.296896, 'pid_867750': 15.290546, 'pid_903881': 15.265215, 'pid_117850': 15.249307, 'pid_428746': 15.214854, 'pid_124660': 15.140746, 'pid_364860': 15.017391, 'pid_209297': 14.993144, 'pid_205466': 14.97574, 'pid_39169': 14.9610405, 'pid_608665': 14.851772, 'pid_30957': 14.808565, 'pid_274376': 14.737106, 'pid_902851': 14.634851, 'pid_159136': 14.568653, 'pid_194955': 14.568653, 'pid_581619': 14.505594, 'pid_615872': 14.473503, 'pid_816123': 14.466048, 'pid_656719': 14.458639, 'pid_740711': 14.458639, 'pid_723965': 14.404301, 'pid_314353': 14.389189, 'pid_777377': 14.284725, 'pid_256489': 14.140179, 'pid_744120': 14.1042595, 'pid_31315': 14.092572, 'pid_42658': 14.064161, 'pid_720142': 14.007683, 'pid_125530': 13.998313, 'pid_677939': 13.988957, 'pid_818895': 13.988957, 'pid_173258': 13.979612, 'pid_763779': 13.960962, 'pid_168385': 13.942362, 'pid_372807': 13.942362, 'pid_885483': 13.914553, 'pid_412654': 13.905307, 'pid_798201': 13.905307, 'pid_837760': 13.905307, 'pid_902620': 13.905307}, 'qid_5006': {'pid_851830': 23.551731, 'pid_733597': 23.343437, 'pid_118668': 23.21454, 'pid_133343': 23.081253, 'pid_716517': 22.945469, 'pid_750922': 22.942703, 'pid_412209': 22.619568, 'pid_141463': 22.58222, 'pid_434655': 22.484447, 'pid_498903': 22.469418, 'pid_135185': 22.391521, 'pid_345849': 22.391521, 'pid_635813': 22.176981, 'pid_760980': 22.100185, 'pid_446596': 22.058432, 'pid_54588': 22.016865, 'pid_980568': 21.865454, 'pid_534379': 21.54538, 'pid_270055': 21.190285, 'pid_70239': 21.116138, 'pid_658767': 20.989618, 'pid_428689': 20.919983, 'pid_611989': 20.919983, 'pid_157273': 19.735052, 'pid_363009': 18.38974, 'pid_106458': 18.105927, 'pid_817167': 17.347004, 'pid_94801': 16.360645, 'pid_839949': 15.859355, 'pid_726174': 15.809853, 'pid_446319': 15.74886, 'pid_494490': 15.631451, 'pid_707729': 15.553757, 'pid_403810': 15.032385, 'pid_361506': 15.007452, 'pid_798332': 14.964851, 'pid_51718': 14.929556, 'pid_356251': 14.927559, 'pid_199028': 14.920254, 'pid_716571': 14.899733, 'pid_61572': 14.87419, 'pid_811388': 14.867988, 'pid_21566': 14.84017, 'pid_826367': 14.829071, 'pid_554075': 14.81338, 'pid_42605': 14.713541, 'pid_123732': 14.693794, 'pid_785141': 14.654984, 'pid_448830': 14.643652, 'pid_18061': 14.637995, 'pid_320845': 14.634991, 'pid_192360': 14.548195, 'pid_726023': 14.481726, 'pid_116142': 14.344137, 'pid_310379': 14.303629, 'pid_48764': 14.29018, 'pid_691910': 14.29018, 'pid_478514': 14.263367, 'pid_714410': 14.263367, 'pid_649152': 14.223348, 'pid_351363': 14.170368, 'pid_84111': 14.144037, 'pid_878084': 14.091694, 'pid_586701': 13.962646, 'pid_376259': 13.343188, 'pid_163947': 13.262867, 'pid_935420': 13.254003, 'pid_191430': 13.245148, 'pid_340434': 13.236307, 'pid_922449': 13.236307, 'pid_710281': 13.192278, 'pid_955386': 13.183507, 'pid_423717': 13.173192, 'pid_873455': 13.157263, 'pid_172032': 13.1311245, 'pid_74231': 13.10509, 'pid_623839': 13.061927, 'pid_426863': 13.0304575, 'pid_767045': 13.0276, 'pid_422097': 12.976448, 'pid_846950': 12.976448, 'pid_929016': 12.976448, 'pid_97321': 12.959487, 'pid_986193': 12.86144, 'pid_729123': 12.841986, 'pid_815013': 12.841986, 'pid_926882': 12.841986, 'pid_837656': 12.8088045, 'pid_376326': 12.778671, 'pid_131240': 12.775794, 'pid_813621': 12.775794, 'pid_186046': 12.742954, 'pid_514528': 12.677776, 'pid_976379': 12.677776, 'pid_742611': 12.361641, 'pid_396910': 12.304911, 'pid_601566': 12.286614, 'pid_623159': 12.270492, 'pid_626886': 12.06089, 'pid_447765': 12.04913}, 'qid_5007': {'pid_744911': 29.227268, 'pid_475588': 26.747158, 'pid_69068': 26.634008, 'pid_283034': 26.518843, 'pid_686167': 25.678165, 'pid_437531': 25.527348, 'pid_226743': 24.802671, 'pid_388937': 24.170198, 'pid_253141': 24.048855, 'pid_241353': 24.038492, 'pid_478048': 23.98948, 'pid_557795': 23.871483, 'pid_978936': 23.829666, 'pid_921932': 23.736635, 'pid_513050': 23.71799, 'pid_688081': 23.713285, 'pid_904440': 23.549847, 'pid_939004': 23.540129, 'pid_489450': 23.330303, 'pid_499116': 23.307714, 'pid_362096': 23.272146, 'pid_563090': 23.246445, 'pid_421462': 23.189795, 'pid_178882': 23.003618, 'pid_609758': 22.994728, 'pid_894624': 22.971382, 'pid_604791': 22.934734, 'pid_89958': 22.926472, 'pid_611696': 22.915207, 'pid_862566': 22.84225, 'pid_10196': 22.839119, 'pid_603812': 22.709282, 'pid_913605': 22.695892, 'pid_682111': 22.671873, 'pid_153264': 22.621012, 'pid_339777': 22.593906, 'pid_822510': 22.538563, 'pid_989694': 22.465881, 'pid_550788': 22.412638, 'pid_293671': 22.346903, 'pid_559335': 22.274477, 'pid_906178': 22.271305, 'pid_570398': 22.268427, 'pid_496937': 22.123089, 'pid_946363': 22.065468, 'pid_132902': 22.031652, 'pid_767059': 21.872316, 'pid_569220': 21.872059, 'pid_863904': 21.662819, 'pid_586222': 21.610825, 'pid_610758': 21.549366, 'pid_614028': 21.513857, 'pid_117339': 21.499218, 'pid_229272': 21.465569, 'pid_176779': 21.447046, 'pid_349030': 21.412983, 'pid_727123': 21.409336, 'pid_256617': 21.35604, 'pid_191466': 21.341848, 'pid_838053': 21.30339, 'pid_277349': 21.24958, 'pid_674121': 21.245396, 'pid_650644': 21.131252, 'pid_465874': 21.004074, 'pid_675713': 20.965744, 'pid_587034': 20.783577, 'pid_842785': 20.596636, 'pid_790273': 20.536802, 'pid_697353': 20.378496, 'pid_749075': 20.197792, 'pid_354363': 19.862082, 'pid_900374': 19.843195, 'pid_115306': 19.636658, 'pid_230717': 19.453096, 'pid_128090': 19.215643, 'pid_653356': 19.081612, 'pid_251303': 19.027681, 'pid_971819': 18.995615, 'pid_700246': 18.974535, 'pid_331499': 18.965164, 'pid_830363': 18.95427, 'pid_388073': 18.909533, 'pid_294124': 18.884548, 'pid_733911': 18.867584, 'pid_89842': 18.862217, 'pid_29038': 18.838327, 'pid_376202': 18.787766, 'pid_445828': 18.766493, 'pid_964385': 18.664726, 'pid_274376': 18.66458, 'pid_832152': 18.648924, 'pid_606313': 18.636715, 'pid_206905': 18.615702, 'pid_530447': 18.601055, 'pid_936922': 18.591778, 'pid_456356': 18.491468, 'pid_263990': 18.486298, 'pid_609331': 18.47222, 'pid_650383': 18.389372, 'pid_918306': 18.358345}, 'qid_5008': {'pid_465338': 38.11188, 'pid_594692': 37.622627, 'pid_592068': 27.555822, 'pid_171246': 27.39823, 'pid_302337': 26.753283, 'pid_622290': 26.473667, 'pid_858336': 26.278645, 'pid_691855': 25.994518, 'pid_957191': 24.803474, 'pid_809411': 24.221485, 'pid_570559': 23.470377, 'pid_456856': 23.427303, 'pid_191764': 22.43222, 'pid_885612': 22.309544, 'pid_547614': 21.990238, 'pid_228888': 21.459087, 'pid_218960': 21.085028, 'pid_711409': 20.968796, 'pid_756418': 20.818855, 'pid_132124': 20.756504, 'pid_816429': 20.416006, 'pid_359532': 20.244183, 'pid_140661': 20.221722, 'pid_75228': 20.097527, 'pid_582148': 20.026964, 'pid_957565': 19.8272, 'pid_594182': 19.741213, 'pid_498585': 19.711178, 'pid_509699': 19.625046, 'pid_515838': 19.503105, 'pid_182203': 19.438946, 'pid_505897': 19.294582, 'pid_701233': 19.146255, 'pid_811225': 18.978619, 'pid_728450': 18.95803, 'pid_68102': 18.851662, 'pid_550599': 18.827505, 'pid_449112': 18.761703, 'pid_157578': 18.720524, 'pid_198556': 18.58703, 'pid_54282': 18.564209, 'pid_57050': 18.505537, 'pid_620308': 18.48842, 'pid_679765': 18.360594, 'pid_772328': 18.284908, 'pid_908259': 18.209673, 'pid_688399': 18.031097, 'pid_813861': 18.031097, 'pid_630349': 17.91625, 'pid_602424': 17.873455, 'pid_708080': 17.866007, 'pid_783126': 17.784758, 'pid_488021': 17.546839, 'pid_502756': 17.212034, 'pid_753276': 17.119678, 'pid_139432': 17.106823, 'pid_413980': 17.036274, 'pid_104663': 16.928213, 'pid_406471': 16.883669, 'pid_296698': 16.770807, 'pid_440338': 16.555498, 'pid_754958': 16.448948, 'pid_446665': 16.130936, 'pid_589728': 15.997221, 'pid_519935': 15.90065, 'pid_822387': 15.848742, 'pid_54148': 15.761595, 'pid_789500': 15.7516775, 'pid_449843': 15.607176, 'pid_461066': 15.496101, 'pid_153742': 15.448654, 'pid_676010': 15.446947, 'pid_685541': 15.445538, 'pid_74210': 15.41931, 'pid_304281': 15.385767, 'pid_302266': 15.307213, 'pid_89426': 15.301983, 'pid_342342': 15.28114, 'pid_763286': 15.271999, 'pid_676297': 15.215662, 'pid_33328': 15.155148, 'pid_104409': 14.978886, 'pid_669356': 14.973347, 'pid_729111': 14.922138, 'pid_775250': 14.878262, 'pid_364734': 14.859446, 'pid_425839': 14.78264, 'pid_79051': 14.774655, 'pid_830860': 14.7545595, 'pid_675085': 14.749341, 'pid_608287': 14.712656, 'pid_572270': 14.692976, 'pid_657786': 14.653454, 'pid_737771': 14.64518, 'pid_37660': 14.636526, 'pid_57777': 14.62018, 'pid_75005': 14.595367, 'pid_401737': 14.570452, 'pid_108300': 14.565712, 'pid_137765': 14.562053}, 'qid_5009': {'pid_200790': 24.307816, 'pid_168619': 23.969751, 'pid_601913': 23.867376, 'pid_898195': 23.511383, 'pid_814137': 23.249922, 'pid_879258': 23.216455, 'pid_699751': 22.934954, 'pid_914616': 22.460747, 'pid_444296': 22.420147, 'pid_515040': 22.238308, 'pid_734794': 22.149866, 'pid_978356': 21.701405, 'pid_666344': 20.995256, 'pid_313446': 20.974724, 'pid_41060': 20.769375, 'pid_816918': 20.759628, 'pid_450280': 20.658064, 'pid_508849': 20.629358, 'pid_439556': 20.615013, 'pid_402868': 20.452326, 'pid_605130': 20.42509, 'pid_162005': 20.405005, 'pid_276264': 20.351954, 'pid_113506': 20.340858, 'pid_711820': 20.324827, 'pid_738185': 20.23587, 'pid_231063': 20.223362, 'pid_261903': 20.196665, 'pid_674338': 20.195051, 'pid_342808': 20.18524, 'pid_386221': 20.168245, 'pid_487757': 20.104948, 'pid_466678': 20.087656, 'pid_871133': 20.044153, 'pid_736040': 20.043873, 'pid_140601': 19.995998, 'pid_621753': 19.921833, 'pid_52074': 19.899105, 'pid_590417': 19.866669, 'pid_273408': 19.857672, 'pid_448230': 19.840702, 'pid_983801': 19.80776, 'pid_704550': 19.785034, 'pid_88385': 19.68116, 'pid_817156': 19.614235, 'pid_336052': 19.571411, 'pid_183459': 19.473822, 'pid_770206': 19.471596, 'pid_11581': 19.459335, 'pid_625455': 19.450096, 'pid_770063': 19.446499, 'pid_994164': 19.443686, 'pid_183824': 19.419113, 'pid_181576': 19.383736, 'pid_570098': 19.379261, 'pid_844364': 19.31489, 'pid_638600': 19.277592, 'pid_430785': 19.230719, 'pid_514571': 19.213926, 'pid_190069': 19.139597, 'pid_94965': 19.137869, 'pid_528164': 19.111078, 'pid_47580': 19.10271, 'pid_380524': 19.03562, 'pid_105514': 19.034431, 'pid_81917': 18.954874, 'pid_248741': 18.899715, 'pid_955010': 18.861208, 'pid_332350': 18.823145, 'pid_410179': 18.794804, 'pid_358074': 18.769615, 'pid_881173': 18.70118, 'pid_199737': 18.62649, 'pid_701295': 18.614048, 'pid_741925': 18.463604, 'pid_484045': 18.433395, 'pid_477782': 18.377325, 'pid_910592': 18.194283, 'pid_227080': 18.158361, 'pid_316183': 18.045317, 'pid_601363': 18.019953, 'pid_866206': 17.976156, 'pid_920619': 17.961502, 'pid_811599': 17.894817, 'pid_751120': 17.843616, 'pid_208567': 17.803013, 'pid_770224': 17.762703, 'pid_976830': 17.72708, 'pid_352832': 17.724054, 'pid_215140': 17.683525, 'pid_367697': 17.681538, 'pid_581491': 17.668417, 'pid_789222': 17.586605, 'pid_937520': 17.559364, 'pid_465180': 17.517601, 'pid_590438': 17.471842, 'pid_312716': 17.455145, 'pid_160910': 17.430372, 'pid_864505': 17.385607, 'pid_77374': 17.348042}, 'qid_5010': {'pid_398370': 30.765057, 'pid_447912': 29.848925, 'pid_493731': 28.879114, 'pid_577558': 28.728386, 'pid_842005': 28.47266, 'pid_657458': 28.296413, 'pid_703975': 28.26609, 'pid_440985': 27.723795, 'pid_917': 27.57735, 'pid_719498': 27.515453, 'pid_503499': 27.409878, 'pid_685191': 27.37973, 'pid_771301': 27.341576, 'pid_562970': 27.243103, 'pid_929043': 27.114105, 'pid_768948': 26.799255, 'pid_184952': 26.78185, 'pid_964146': 26.729527, 'pid_48727': 26.610584, 'pid_56117': 26.60118, 'pid_428981': 26.36954, 'pid_380946': 26.280067, 'pid_428677': 26.238781, 'pid_395565': 26.182463, 'pid_590951': 26.149218, 'pid_986980': 25.900188, 'pid_529172': 25.756285, 'pid_803758': 25.627415, 'pid_338292': 25.60904, 'pid_49371': 25.60041, 'pid_56647': 25.574114, 'pid_569190': 25.272976, 'pid_959092': 25.08069, 'pid_42146': 24.817686, 'pid_959961': 24.784729, 'pid_54649': 24.57173, 'pid_120994': 24.39975, 'pid_468565': 24.325813, 'pid_439310': 24.319126, 'pid_714937': 24.272259, 'pid_789428': 24.108997, 'pid_337601': 24.034678, 'pid_349263': 24.017174, 'pid_959100': 23.928288, 'pid_117716': 23.819933, 'pid_48516': 23.806057, 'pid_274336': 23.664814, 'pid_888706': 23.656797, 'pid_465246': 23.633759, 'pid_410442': 23.588215, 'pid_265341': 23.531855, 'pid_104532': 23.51372, 'pid_14346': 23.506218, 'pid_170805': 23.483742, 'pid_215546': 23.483742, 'pid_824965': 23.480644, 'pid_317402': 23.402145, 'pid_592185': 23.390251, 'pid_59834': 23.339401, 'pid_667607': 23.321056, 'pid_643024': 23.267616, 'pid_146219': 23.262413, 'pid_829980': 23.235676, 'pid_134323': 23.231821, 'pid_200521': 23.228485, 'pid_51730': 23.21894, 'pid_96688': 23.206831, 'pid_408428': 23.190247, 'pid_154688': 23.19006, 'pid_43102': 23.180801, 'pid_749297': 23.180801, 'pid_134260': 23.171549, 'pid_813305': 23.162304, 'pid_381971': 23.15652, 'pid_160609': 23.153069, 'pid_277409': 23.153069, 'pid_244519': 23.150593, 'pid_8358': 23.138453, 'pid_752096': 23.13662, 'pid_35902': 23.122047, 'pid_197004': 23.119772, 'pid_520743': 23.119003, 'pid_37091': 23.106457, 'pid_266429': 23.102783, 'pid_231376': 23.1024, 'pid_450252': 23.09149, 'pid_342907': 23.088825, 'pid_243854': 23.06971, 'pid_133970': 23.062035, 'pid_856385': 23.056108, 'pid_657127': 23.044033, 'pid_602337': 23.030325, 'pid_194504': 23.025946, 'pid_385825': 23.025867, 'pid_715326': 23.025742, 'pid_178706': 23.003683, 'pid_646392': 22.99908, 'pid_132779': 22.98692, 'pid_141666': 22.977304, 'pid_517018': 22.963282}, 'qid_5011': {'pid_370989': 19.519266, 'pid_505642': 19.358124, 'pid_818372': 18.047054, 'pid_96779': 17.899153, 'pid_806898': 17.702042, 'pid_946562': 16.993565, 'pid_867652': 16.311214, 'pid_86251': 16.13292, 'pid_15014': 16.056551, 'pid_217534': 15.95001, 'pid_262230': 15.921658, 'pid_862562': 15.655531, 'pid_558724': 15.649784, 'pid_983432': 15.443424, 'pid_652408': 15.150778, 'pid_278088': 15.13501, 'pid_977380': 15.133157, 'pid_614332': 15.0627165, 'pid_616216': 15.015261, 'pid_691625': 14.943038, 'pid_659403': 14.852383, 'pid_631968': 14.746169, 'pid_348605': 14.684653, 'pid_925994': 14.57112, 'pid_818431': 14.26149, 'pid_202205': 14.254826, 'pid_952507': 13.987114, 'pid_457823': 13.971197, 'pid_880255': 13.855716, 'pid_588706': 13.846916, 'pid_123204': 13.797836, 'pid_2262': 13.757481, 'pid_335034': 13.592548, 'pid_535689': 13.592548, 'pid_149869': 13.585701, 'pid_573931': 13.569493, 'pid_393486': 13.563538, 'pid_30844': 13.517928, 'pid_377883': 13.515024, 'pid_899248': 13.460105, 'pid_569618': 13.433891, 'pid_301729': 13.282261, 'pid_70026': 13.266464, 'pid_354218': 13.250301, 'pid_46648': 13.176732, 'pid_656329': 13.117409, 'pid_54106': 13.112898, 'pid_674398': 13.112898, 'pid_222619': 13.093599, 'pid_368336': 13.088612, 'pid_355727': 13.007597, 'pid_795520': 12.976012, 'pid_300282': 12.942496, 'pid_333822': 12.899288, 'pid_135702': 12.87785, 'pid_881806': 12.87668, 'pid_170326': 12.86923, 'pid_574931': 12.862383, 'pid_549268': 12.835871, 'pid_557979': 12.80069, 'pid_903631': 12.792173, 'pid_735239': 12.766693, 'pid_114447': 12.758877, 'pid_839973': 12.758222, 'pid_822750': 12.729461, 'pid_318269': 12.717731, 'pid_554632': 12.695389, 'pid_737297': 12.694196, 'pid_463048': 12.682884, 'pid_684235': 12.670403, 'pid_195207': 12.632492, 'pid_168815': 12.603651, 'pid_117000': 12.580035, 'pid_963896': 12.543991, 'pid_379091': 12.488401, 'pid_231898': 12.455954, 'pid_642327': 12.451434, 'pid_414316': 12.434559, 'pid_7773': 12.404841, 'pid_984207': 12.383323, 'pid_720886': 12.370134, 'pid_430622': 12.367975, 'pid_932662': 12.367855, 'pid_729559': 12.366622, 'pid_112163': 12.358655, 'pid_218156': 12.340294, 'pid_902434': 12.340294, 'pid_527010': 12.331134, 'pid_236358': 12.300387, 'pid_480274': 12.296001, 'pid_642691': 12.290841, 'pid_693115': 12.276458, 'pid_370124': 12.222265, 'pid_578812': 12.210947, 'pid_659659': 12.210478, 'pid_682360': 12.207916, 'pid_462653': 12.184259, 'pid_60868': 12.169488, 'pid_216152': 12.159665, 'pid_930082': 12.143004}, 'qid_5012': {'pid_938671': 24.509148, 'pid_564689': 23.775854, 'pid_496854': 23.309639, 'pid_183123': 22.914557, 'pid_345813': 22.398478, 'pid_870141': 22.060493, 'pid_223036': 21.743622, 'pid_551170': 21.606077, 'pid_967687': 21.481686, 'pid_466963': 21.254292, 'pid_68771': 21.189613, 'pid_486440': 21.18763, 'pid_651700': 21.17551, 'pid_320059': 21.066156, 'pid_291610': 20.898418, 'pid_353979': 20.885986, 'pid_68450': 20.834007, 'pid_615581': 20.823166, 'pid_586701': 20.75402, 'pid_345055': 20.703487, 'pid_223337': 20.681282, 'pid_317767': 20.613722, 'pid_514528': 20.576841, 'pid_218620': 20.50795, 'pid_696062': 20.367529, 'pid_534173': 20.289171, 'pid_60854': 20.270538, 'pid_26087': 20.20158, 'pid_361895': 20.13918, 'pid_976379': 20.130505, 'pid_505045': 20.117266, 'pid_337030': 20.094658, 'pid_31309': 20.089123, 'pid_469098': 20.070692, 'pid_808656': 20.062433, 'pid_873137': 20.062433, 'pid_854727': 20.041065, 'pid_214564': 20.006247, 'pid_46977': 19.983763, 'pid_611989': 19.983763, 'pid_906670': 19.97642, 'pid_831959': 19.961254, 'pid_635038': 19.955658, 'pid_967169': 19.90175, 'pid_730026': 19.89304, 'pid_727783': 19.865149, 'pid_922998': 19.849556, 'pid_209417': 19.828377, 'pid_836564': 19.804855, 'pid_972599': 19.792864, 'pid_170125': 19.74111, 'pid_165944': 19.624216, 'pid_430229': 19.591736, 'pid_793082': 19.565964, 'pid_13977': 19.525112, 'pid_229910': 19.50652, 'pid_332153': 19.440022, 'pid_470163': 19.401516, 'pid_969303': 19.373707, 'pid_344239': 19.362335, 'pid_947150': 19.357487, 'pid_461800': 19.34556, 'pid_89178': 19.324837, 'pid_35647': 19.23433, 'pid_400046': 19.223852, 'pid_771119': 19.179283, 'pid_778165': 19.09831, 'pid_466970': 19.085274, 'pid_893850': 19.0823, 'pid_667483': 19.06646, 'pid_14764': 19.01386, 'pid_618495': 18.991856, 'pid_314489': 18.947254, 'pid_479967': 18.861996, 'pid_480697': 18.858423, 'pid_751187': 18.837605, 'pid_106732': 18.53951, 'pid_391259': 18.496399, 'pid_843050': 18.490807, 'pid_395157': 18.474318, 'pid_151479': 18.452528, 'pid_175913': 18.452528, 'pid_757969': 18.44753, 'pid_574766': 18.441029, 'pid_533148': 18.438786, 'pid_6366': 18.397982, 'pid_160903': 18.38677, 'pid_105199': 18.322212, 'pid_134644': 18.31252, 'pid_762402': 18.306164, 'pid_326679': 18.279202, 'pid_396466': 18.279202, 'pid_604417': 18.279202, 'pid_935238': 18.257774, 'pid_591890': 18.255453, 'pid_451633': 18.247599, 'pid_277496': 18.2467, 'pid_822903': 18.2364, 'pid_690669': 18.204437, 'pid_526762': 18.185875}, 'qid_5013': {'pid_128375': 22.622189, 'pid_736204': 21.369263, 'pid_938725': 19.946554, 'pid_622806': 19.731825, 'pid_249938': 19.247726, 'pid_340110': 19.131279, 'pid_941188': 18.980398, 'pid_565592': 18.9159, 'pid_920255': 18.825834, 'pid_954286': 18.661514, 'pid_512360': 18.656004, 'pid_92735': 18.613997, 'pid_36803': 18.441158, 'pid_977675': 18.38881, 'pid_552815': 18.34315, 'pid_969297': 18.337456, 'pid_251057': 18.326086, 'pid_436050': 18.320406, 'pid_728086': 18.00885, 'pid_944884': 18.002075, 'pid_603650': 17.948063, 'pid_252159': 17.941334, 'pid_57753': 17.934612, 'pid_511510': 17.927893, 'pid_71484': 17.921179, 'pid_33302': 17.90107, 'pid_7423': 17.894375, 'pid_184305': 17.887686, 'pid_427137': 17.881004, 'pid_501286': 17.881004, 'pid_531967': 17.881004, 'pid_54281': 17.867651, 'pid_741527': 17.841007, 'pid_864446': 17.814442, 'pid_527646': 17.775822, 'pid_353570': 17.741228, 'pid_186594': 17.734324, 'pid_850953': 17.69991, 'pid_795610': 17.624825, 'pid_94684': 17.604734, 'pid_439689': 17.54424, 'pid_911790': 17.516167, 'pid_378474': 17.437494, 'pid_770559': 17.434147, 'pid_204067': 17.389801, 'pid_707326': 17.323795, 'pid_445955': 17.207935, 'pid_695956': 17.124197, 'pid_54340': 17.081501, 'pid_127268': 17.081501, 'pid_818778': 17.081501, 'pid_813778': 17.072989, 'pid_332559': 17.064486, 'pid_774445': 17.055992, 'pid_617209': 17.047508, 'pid_165621': 17.030567, 'pid_644919': 17.030567, 'pid_461053': 17.02211, 'pid_945694': 17.02211, 'pid_765367': 16.988373, 'pid_21875': 16.93804, 'pid_686380': 16.879723, 'pid_102416': 16.86314, 'pid_256387': 16.861622, 'pid_611851': 16.813604, 'pid_369469': 16.790846, 'pid_335293': 16.782043, 'pid_818656': 16.720707, 'pid_346570': 16.133915, 'pid_962253': 16.101345, 'pid_154557': 16.090519, 'pid_919019': 16.079706, 'pid_367936': 16.015133, 'pid_163853': 16.004421, 'pid_127625': 15.993724, 'pid_711159': 15.98304, 'pid_100119': 15.972372, 'pid_1161': 15.961718, 'pid_291248': 15.951077, 'pid_570759': 15.951077, 'pid_952935': 15.951077, 'pid_396958': 15.940451, 'pid_439123': 15.940451, 'pid_370900': 15.929838, 'pid_26027': 15.919241, 'pid_297446': 15.919241, 'pid_540262': 15.919241, 'pid_990084': 15.919241, 'pid_39371': 15.908657, 'pid_604479': 15.908657, 'pid_250739': 15.898087, 'pid_259485': 15.898087, 'pid_378945': 15.898087, 'pid_419730': 15.898087, 'pid_593033': 15.898087, 'pid_736195': 15.898087, 'pid_923158': 15.898087, 'pid_22273': 15.887531, 'pid_100003': 15.887531, 'pid_266841': 15.887531}, 'qid_5014': {'pid_818372': 18.047054, 'pid_96779': 17.899153, 'pid_946562': 16.993565, 'pid_952507': 13.987114, 'pid_2262': 13.757481, 'pid_335034': 13.592548, 'pid_535689': 13.592548, 'pid_149869': 13.585701, 'pid_393486': 13.563538, 'pid_301729': 13.282261, 'pid_354218': 13.250301, 'pid_46648': 13.176732, 'pid_656329': 13.117409, 'pid_54106': 13.112898, 'pid_674398': 13.112898, 'pid_222619': 13.093599, 'pid_368336': 13.088612, 'pid_355727': 13.007597, 'pid_795520': 12.976012, 'pid_135702': 12.87785, 'pid_881806': 12.87668, 'pid_170326': 12.86923, 'pid_574931': 12.862383, 'pid_549268': 12.835871, 'pid_557979': 12.80069, 'pid_903631': 12.792173, 'pid_735239': 12.766693, 'pid_114447': 12.758877, 'pid_839973': 12.758222, 'pid_554632': 12.695389, 'pid_737297': 12.694196, 'pid_463048': 12.682884, 'pid_684235': 12.670403, 'pid_195207': 12.632492, 'pid_168815': 12.603651, 'pid_117000': 12.580035, 'pid_963896': 12.543991, 'pid_379091': 12.488401, 'pid_231898': 12.455954, 'pid_414316': 12.434559, 'pid_430622': 12.367975, 'pid_932662': 12.367855, 'pid_729559': 12.366622, 'pid_112163': 12.358655, 'pid_218156': 12.340294, 'pid_902434': 12.340294, 'pid_527010': 12.331134, 'pid_642691': 12.290841, 'pid_693115': 12.276458, 'pid_370124': 12.222265, 'pid_578812': 12.210947, 'pid_806898': 12.197117, 'pid_462653': 12.184259, 'pid_60868': 12.169488, 'pid_216152': 12.159665, 'pid_930082': 12.143004, 'pid_259855': 12.130311, 'pid_218670': 12.1253395, 'pid_17680': 12.110578, 'pid_489882': 12.04681, 'pid_707292': 11.940981, 'pid_578348': 11.928836, 'pid_912612': 11.910954, 'pid_106237': 11.894867, 'pid_300840': 11.88913, 'pid_341495': 11.884232, 'pid_825943': 11.883398, 'pid_749841': 11.866241, 'pid_354080': 11.864447, 'pid_452499': 11.826415, 'pid_663380': 11.781254, 'pid_828941': 11.764022, 'pid_235672': 11.761097, 'pid_721574': 11.75934, 'pid_601161': 11.714205, 'pid_247993': 11.6920395, 'pid_400812': 11.649504, 'pid_917265': 11.647978, 'pid_141179': 11.639887, 'pid_900574': 11.62307, 'pid_107723': 11.606379, 'pid_229250': 11.572098, 'pid_983432': 11.560921, 'pid_728101': 11.474159, 'pid_811327': 11.41331, 'pid_199677': 11.328469, 'pid_616216': 11.266959, 'pid_572268': 11.235064, 'pid_370989': 11.226271, 'pid_977380': 11.179882, 'pid_24489': 11.158506, 'pid_505642': 11.145834, 'pid_328269': 11.107676, 'pid_996470': 11.103804, 'pid_227348': 11.096388, 'pid_653508': 11.08898, 'pid_803403': 11.08898, 'pid_410586': 11.081583, 'pid_28644': 11.0778675, 'pid_642051': 11.074196}, 'qid_5015': {'pid_532145': 28.433231, 'pid_586740': 28.433231, 'pid_2856': 27.814953, 'pid_801947': 27.24878, 'pid_698941': 27.104944, 'pid_621485': 26.45615, 'pid_191302': 26.197437, 'pid_135956': 24.019787, 'pid_164013': 23.947498, 'pid_865283': 23.61797, 'pid_94722': 23.561556, 'pid_542779': 23.154034, 'pid_745626': 23.104988, 'pid_611132': 22.959518, 'pid_837225': 22.92812, 'pid_565934': 22.815025, 'pid_331101': 22.800604, 'pid_780616': 22.736477, 'pid_454802': 22.61832, 'pid_822602': 22.534906, 'pid_906258': 22.533035, 'pid_988184': 22.304668, 'pid_370310': 22.262255, 'pid_295046': 22.067585, 'pid_934906': 22.050138, 'pid_671343': 21.95737, 'pid_985134': 21.917044, 'pid_373896': 21.710386, 'pid_958651': 21.700771, 'pid_52803': 21.688875, 'pid_168428': 21.586018, 'pid_604270': 21.506926, 'pid_353444': 21.220287, 'pid_263263': 21.035131, 'pid_983402': 20.924011, 'pid_238233': 20.848787, 'pid_261867': 20.745296, 'pid_182188': 20.719007, 'pid_6588': 20.698193, 'pid_839685': 20.3657, 'pid_61831': 20.180841, 'pid_916042': 20.046001, 'pid_322782': 19.927227, 'pid_266009': 19.90921, 'pid_383869': 19.882515, 'pid_157146': 19.735037, 'pid_668438': 19.716747, 'pid_971061': 19.699501, 'pid_331112': 19.69149, 'pid_525613': 19.611004, 'pid_296873': 19.464787, 'pid_795127': 19.373844, 'pid_430271': 19.332548, 'pid_248504': 19.322252, 'pid_357618': 19.322252, 'pid_332681': 19.3017, 'pid_561390': 19.256119, 'pid_954548': 19.013454, 'pid_992591': 18.849844, 'pid_364468': 18.429632, 'pid_153527': 18.368204, 'pid_211358': 18.33542, 'pid_323586': 18.257727, 'pid_418534': 18.210392, 'pid_750695': 18.19036, 'pid_424224': 18.150414, 'pid_309717': 18.126534, 'pid_385532': 18.094067, 'pid_687471': 18.04494, 'pid_68110': 18.031635, 'pid_633612': 18.008066, 'pid_512672': 17.911343, 'pid_238804': 17.798683, 'pid_6192': 17.718208, 'pid_277299': 17.635918, 'pid_828199': 17.521473, 'pid_560770': 17.361824, 'pid_956880': 17.309628, 'pid_946967': 17.290482, 'pid_839436': 17.164331, 'pid_712622': 17.13759, 'pid_991225': 17.040073, 'pid_908661': 17.030537, 'pid_538873': 17.012478, 'pid_619969': 16.971304, 'pid_406977': 16.954514, 'pid_475777': 16.90178, 'pid_641396': 16.864353, 'pid_946561': 16.864353, 'pid_273627': 16.844593, 'pid_89247': 16.819704, 'pid_872457': 16.819704, 'pid_887848': 16.804884, 'pid_937465': 16.790094, 'pid_490129': 16.745914, 'pid_250868': 16.741175, 'pid_219864': 16.649439, 'pid_205876': 16.644447, 'pid_818724': 16.627373, 'pid_829705': 16.593336}, 'qid_5016': {'pid_785192': 23.945477, 'pid_606268': 21.480124, 'pid_918023': 20.63435, 'pid_773660': 20.315048, 'pid_726989': 20.013985, 'pid_140659': 19.8809, 'pid_112582': 19.673748, 'pid_174863': 19.672571, 'pid_139030': 19.607777, 'pid_872970': 19.52591, 'pid_672283': 19.178251, 'pid_190923': 18.952396, 'pid_536222': 18.570286, 'pid_626453': 18.514654, 'pid_856554': 18.260798, 'pid_652570': 18.240372, 'pid_456178': 18.09325, 'pid_740184': 18.088367, 'pid_234701': 18.087742, 'pid_426656': 17.986034, 'pid_841369': 17.798792, 'pid_391626': 17.69799, 'pid_438141': 17.611675, 'pid_584057': 17.55319, 'pid_530963': 17.438768, 'pid_718927': 17.431063, 'pid_964318': 17.413836, 'pid_522082': 17.409384, 'pid_4209': 17.32075, 'pid_537407': 17.305515, 'pid_5858': 17.300797, 'pid_162081': 17.296078, 'pid_929225': 17.237082, 'pid_866496': 17.192236, 'pid_672032': 17.126112, 'pid_503961': 17.039755, 'pid_557500': 17.021294, 'pid_863761': 16.99091, 'pid_989113': 16.885439, 'pid_635206': 16.868887, 'pid_131661': 16.86862, 'pid_257809': 16.866325, 'pid_852572': 16.860035, 'pid_421356': 16.852884, 'pid_389291': 16.740215, 'pid_380374': 16.709, 'pid_124122': 16.651089, 'pid_379241': 16.642893, 'pid_352229': 16.633972, 'pid_911699': 16.530499, 'pid_459036': 16.52861, 'pid_794975': 16.519264, 'pid_331532': 16.518803, 'pid_623044': 16.518759, 'pid_401417': 16.51062, 'pid_442494': 16.499914, 'pid_760757': 16.461302, 'pid_916138': 16.431835, 'pid_513737': 16.376125, 'pid_803684': 16.354393, 'pid_596619': 16.289541, 'pid_823926': 16.257309, 'pid_769770': 16.252731, 'pid_356745': 16.117601, 'pid_3753': 16.115562, 'pid_244430': 16.110369, 'pid_219175': 16.058609, 'pid_646322': 16.038, 'pid_500454': 16.025776, 'pid_769573': 15.8849745, 'pid_554447': 15.867095, 'pid_625977': 15.780893, 'pid_27944': 15.758392, 'pid_68006': 15.758392, 'pid_946360': 15.743058, 'pid_511159': 15.680994, 'pid_479542': 15.6760435, 'pid_514119': 15.6267185, 'pid_278802': 15.561739, 'pid_167340': 15.525356, 'pid_274658': 15.465642, 'pid_828192': 15.460332, 'pid_133497': 15.315097, 'pid_760091': 15.283995, 'pid_246386': 15.240625, 'pid_423045': 15.160789, 'pid_585798': 15.109827, 'pid_627525': 15.06518, 'pid_826470': 15.037134, 'pid_559907': 15.0092125, 'pid_425672': 15.0072155, 'pid_829149': 14.967558, 'pid_663282': 14.927013, 'pid_234471': 14.885061, 'pid_812549': 14.8761215, 'pid_69229': 14.8578005, 'pid_864225': 14.836847, 'pid_929185': 14.758962, 'pid_20433': 14.74349, 'pid_9964': 14.728054}, 'qid_5017': {'pid_654922': 21.60203, 'pid_422022': 21.405325, 'pid_918023': 21.240894, 'pid_414035': 20.838211, 'pid_872970': 20.570385, 'pid_252186': 20.345943, 'pid_58873': 20.29547, 'pid_190923': 20.2817, 'pid_752337': 20.272003, 'pid_643850': 20.197344, 'pid_828410': 20.180984, 'pid_553007': 19.71835, 'pid_550031': 19.464445, 'pid_286916': 19.351364, 'pid_258271': 19.289944, 'pid_57778': 19.181507, 'pid_794975': 18.524986, 'pid_302551': 18.395283, 'pid_829877': 18.383043, 'pid_78202': 18.322096, 'pid_460297': 18.10599, 'pid_758531': 18.082293, 'pid_320772': 16.18194, 'pid_76817': 15.745861, 'pid_834436': 15.697098, 'pid_557500': 15.555244, 'pid_7632': 15.540907, 'pid_723897': 15.514509, 'pid_664852': 15.475987, 'pid_119848': 15.3755665, 'pid_311917': 15.361088, 'pid_359165': 15.3342905, 'pid_338479': 15.308933, 'pid_236497': 15.306929, 'pid_278982': 15.288969, 'pid_295693': 15.271221, 'pid_772271': 15.271054, 'pid_718002': 15.255339, 'pid_609535': 15.240519, 'pid_882508': 15.235361, 'pid_852572': 15.232406, 'pid_514790': 15.181534, 'pid_856314': 15.042234, 'pid_122143': 15.030695, 'pid_273045': 14.980687, 'pid_311409': 14.96945, 'pid_792409': 14.96945, 'pid_533794': 14.958231, 'pid_67086': 14.947027, 'pid_618515': 14.9079485, 'pid_518849': 14.902382, 'pid_52858': 14.835912, 'pid_590621': 14.835912, 'pid_648508': 14.824892, 'pid_18481': 14.6831, 'pid_247168': 14.601774, 'pid_828254': 14.593895, 'pid_47745': 14.496901, 'pid_235664': 14.472813, 'pid_154724': 14.460047, 'pid_141537': 14.436926, 'pid_706132': 14.429576, 'pid_116404': 14.40424, 'pid_585132': 14.401903, 'pid_284501': 14.342044, 'pid_11006': 14.340345, 'pid_422145': 14.340345, 'pid_113911': 14.32675, 'pid_965440': 14.318575, 'pid_239146': 14.29965, 'pid_588276': 14.279404, 'pid_660387': 14.271329, 'pid_322860': 14.25457, 'pid_581450': 14.229134, 'pid_745890': 14.205746, 'pid_832008': 14.1924515, 'pid_72779': 14.17329, 'pid_664716': 14.159403, 'pid_381939': 14.156859, 'pid_62100': 14.117921, 'pid_416137': 14.117921, 'pid_492530': 14.117921, 'pid_364061': 14.113287, 'pid_718927': 14.113287, 'pid_274861': 14.098535, 'pid_329053': 14.062935, 'pid_556273': 14.053521, 'pid_922477': 14.038585, 'pid_951693': 14.035156, 'pid_86539': 14.031129, 'pid_610909': 14.031129, 'pid_622873': 14.016244, 'pid_132973': 14.008815, 'pid_615844': 14.008815, 'pid_373162': 14.008572, 'pid_124559': 13.99398, 'pid_325523': 13.964413, 'pid_87726': 13.958038, 'pid_331742': 13.958038, 'pid_145778': 13.95458}, 'qid_5018': {'pid_517747': 19.739075, 'pid_70549': 19.556679, 'pid_64313': 19.31408, 'pid_173344': 19.280851, 'pid_602442': 19.244663, 'pid_344590': 19.19699, 'pid_878245': 19.017365, 'pid_870838': 18.999426, 'pid_260186': 18.796396, 'pid_232525': 18.70638, 'pid_886883': 18.70638, 'pid_474285': 18.44897, 'pid_536073': 18.40074, 'pid_230454': 16.959803, 'pid_336590': 16.670746, 'pid_487290': 16.570303, 'pid_975562': 16.564095, 'pid_918300': 16.542229, 'pid_155660': 16.536432, 'pid_414592': 16.324402, 'pid_815262': 16.222364, 'pid_482012': 16.104052, 'pid_451695': 16.04324, 'pid_327860': 15.892433, 'pid_221010': 15.845448, 'pid_984490': 15.797021, 'pid_891694': 15.757276, 'pid_241170': 15.74543, 'pid_339958': 15.678257, 'pid_818267': 15.648125, 'pid_729434': 15.551952, 'pid_743151': 15.549782, 'pid_761819': 15.548197, 'pid_67391': 15.370424, 'pid_891598': 15.239874, 'pid_92284': 15.185148, 'pid_887705': 15.147251, 'pid_908264': 15.090075, 'pid_66152': 15.077599, 'pid_158615': 15.057493, 'pid_661614': 15.047489, 'pid_690369': 15.02752, 'pid_550715': 15.005543, 'pid_455873': 14.977829, 'pid_67501': 14.972475, 'pid_252751': 14.96793, 'pid_30488': 14.949919, 'pid_989409': 14.88683, 'pid_246253': 14.879885, 'pid_521365': 14.827173, 'pid_782372': 14.80163, 'pid_722786': 14.749197, 'pid_402678': 14.718847, 'pid_695713': 14.656483, 'pid_52821': 14.531265, 'pid_709903': 14.447307, 'pid_612894': 14.308756, 'pid_138810': 14.158891, 'pid_348697': 14.114309, 'pid_158610': 14.045853, 'pid_153464': 14.027188, 'pid_488239': 14.027188, 'pid_586215': 14.027188, 'pid_911492': 14.017876, 'pid_575423': 13.999285, 'pid_933761': 13.992653, 'pid_307060': 13.971493, 'pid_978439': 13.898352, 'pid_316714': 13.8726425, 'pid_858689': 13.631414, 'pid_748272': 13.621439, 'pid_578329': 13.602423, 'pid_757798': 13.567457, 'pid_601277': 13.532671, 'pid_78231': 13.227442, 'pid_672580': 13.180394, 'pid_827364': 13.096159, 'pid_646230': 13.011851, 'pid_923264': 12.841261, 'pid_518570': 12.499382, 'pid_401991': 12.456977, 'pid_571219': 12.246229, 'pid_23697': 12.100494, 'pid_26217': 12.097034, 'pid_386873': 12.082409, 'pid_855135': 12.070298, 'pid_136974': 12.052251, 'pid_719652': 11.985192, 'pid_445552': 11.981607, 'pid_967106': 11.9772835, 'pid_92025': 11.96204, 'pid_113252': 11.939964, 'pid_386541': 11.923123, 'pid_221817': 11.887924, 'pid_541205': 11.874966, 'pid_429973': 11.873892, 'pid_66171': 11.872578, 'pid_752327': 11.870798, 'pid_11112': 11.85219, 'pid_583896': 11.85219}, 'qid_5019': {'pid_898818': 23.533377, 'pid_986005': 23.345718, 'pid_888207': 23.054943, 'pid_702814': 22.475601, 'pid_464499': 22.12547, 'pid_966994': 21.92701, 'pid_617003': 21.925795, 'pid_495897': 21.88856, 'pid_976941': 21.81571, 'pid_893261': 21.74414, 'pid_895025': 21.730665, 'pid_238000': 21.621252, 'pid_138470': 21.58509, 'pid_656537': 21.569185, 'pid_109500': 21.46268, 'pid_554175': 21.393301, 'pid_652421': 21.3382, 'pid_398815': 21.331356, 'pid_749808': 21.308279, 'pid_973510': 21.201395, 'pid_971620': 20.966284, 'pid_242117': 20.95523, 'pid_696496': 20.654022, 'pid_70316': 20.618065, 'pid_510736': 20.423815, 'pid_437275': 20.373184, 'pid_25999': 20.316816, 'pid_3849': 19.92103, 'pid_131012': 19.879686, 'pid_429262': 19.785017, 'pid_944897': 19.122446, 'pid_239931': 18.529623, 'pid_270242': 18.421494, 'pid_227144': 18.3263, 'pid_222865': 18.316645, 'pid_698042': 18.300133, 'pid_583314': 18.2499, 'pid_871366': 18.166023, 'pid_723026': 18.153448, 'pid_301683': 18.124817, 'pid_199233': 18.040453, 'pid_157508': 18.005177, 'pid_263306': 17.914726, 'pid_864483': 17.857841, 'pid_75303': 17.760761, 'pid_246850': 17.74135, 'pid_967837': 17.720076, 'pid_443504': 17.674309, 'pid_861933': 17.647102, 'pid_345167': 17.633812, 'pid_965362': 17.597538, 'pid_658280': 17.534504, 'pid_927165': 17.522812, 'pid_870329': 17.521591, 'pid_662280': 17.482779, 'pid_485912': 17.481852, 'pid_32606': 17.479328, 'pid_430536': 17.448868, 'pid_174461': 17.428082, 'pid_313617': 17.407284, 'pid_221137': 17.381697, 'pid_376323': 17.378733, 'pid_616203': 17.368034, 'pid_470124': 17.361032, 'pid_504856': 17.338032, 'pid_412370': 17.303482, 'pid_796644': 17.283653, 'pid_907181': 17.277306, 'pid_720694': 17.270483, 'pid_421520': 17.265621, 'pid_960380': 17.23814, 'pid_441744': 17.22467, 'pid_370555': 17.215652, 'pid_501105': 17.203869, 'pid_768006': 17.185474, 'pid_619825': 17.183937, 'pid_133426': 17.157078, 'pid_52358': 17.14618, 'pid_389712': 17.071548, 'pid_429864': 17.04889, 'pid_645913': 17.035664, 'pid_635668': 17.03432, 'pid_270732': 17.008118, 'pid_888432': 16.980782, 'pid_294755': 16.9694, 'pid_744405': 16.892944, 'pid_82945': 16.879822, 'pid_146181': 16.869331, 'pid_624931': 16.848663, 'pid_858871': 16.8426, 'pid_470997': 16.842356, 'pid_155759': 16.81506, 'pid_322197': 16.748312, 'pid_171119': 16.721127, 'pid_94114': 16.701887, 'pid_742049': 16.684809, 'pid_168903': 16.539928, 'pid_585313': 16.479177, 'pid_557433': 16.467052, 'pid_848936': 16.451418}, 'qid_5020': {'pid_362099': 22.211567, 'pid_288846': 21.678503, 'pid_443285': 21.554287, 'pid_436063': 21.381527, 'pid_167016': 21.364311, 'pid_188071': 21.199608, 'pid_514845': 21.126368, 'pid_862470': 21.069778, 'pid_880883': 20.927135, 'pid_395161': 20.925974, 'pid_752417': 20.893997, 'pid_901746': 20.86486, 'pid_989947': 20.830372, 'pid_588658': 20.822449, 'pid_528633': 20.798723, 'pid_13246': 20.78294, 'pid_37623': 20.720076, 'pid_279535': 20.558273, 'pid_699735': 20.549534, 'pid_9920': 20.488577, 'pid_228834': 20.32224, 'pid_861798': 20.201641, 'pid_105328': 20.158161, 'pid_314087': 20.111841, 'pid_769269': 19.831505, 'pid_447766': 19.821482, 'pid_31882': 19.694046, 'pid_307542': 19.627747, 'pid_798820': 19.540583, 'pid_388575': 19.529743, 'pid_973116': 19.508106, 'pid_810544': 19.48652, 'pid_31157': 19.475746, 'pid_783890': 19.4435, 'pid_772215': 19.432777, 'pid_290777': 19.061861, 'pid_315758': 19.016094, 'pid_348228': 18.721298, 'pid_221552': 18.696337, 'pid_356750': 18.696337, 'pid_439616': 18.696337, 'pid_750553': 18.634226, 'pid_844610': 18.597158, 'pid_900663': 18.597158, 'pid_500201': 18.572527, 'pid_681677': 18.16352, 'pid_463597': 18.085209, 'pid_865848': 18.03463, 'pid_94684': 17.75407, 'pid_989983': 17.731987, 'pid_89897': 17.626154, 'pid_328415': 17.516409, 'pid_730361': 17.40838, 'pid_352335': 17.306831, 'pid_336357': 17.222853, 'pid_877387': 17.222853, 'pid_195777': 16.965092, 'pid_96319': 16.958736, 'pid_878163': 16.914381, 'pid_625376': 16.908064, 'pid_759084': 16.770138, 'pid_415542': 16.69677, 'pid_854113': 16.695728, 'pid_239057': 16.679941, 'pid_251057': 16.65895, 'pid_677075': 16.655197, 'pid_812623': 16.655197, 'pid_806705': 16.650745, 'pid_127334': 16.640867, 'pid_552999': 16.63263, 'pid_644546': 16.63263, 'pid_594664': 16.63057, 'pid_22827': 16.62125, 'pid_436050': 16.618843, 'pid_452883': 16.618843, 'pid_353613': 16.602726, 'pid_266111': 16.598972, 'pid_758184': 16.585564, 'pid_368941': 16.537035, 'pid_105080': 16.52996, 'pid_922479': 16.528675, 'pid_340765': 16.495598, 'pid_837948': 16.493069, 'pid_386593': 16.479393, 'pid_603236': 16.469915, 'pid_62572': 16.466255, 'pid_45050': 16.45541, 'pid_874479': 16.440937, 'pid_897408': 16.440807, 'pid_122645': 16.433712, 'pid_435936': 16.413597, 'pid_977503': 16.413597, 'pid_296289': 16.404896, 'pid_349904': 16.390537, 'pid_672394': 16.388065, 'pid_661026': 16.373009, 'pid_195262': 16.372324, 'pid_64468': 16.369057, 'pid_882996': 16.354776, 'pid_403110': 16.347649}, 'qid_5021': {'pid_585153': 24.745401, 'pid_772494': 24.173328, 'pid_940072': 22.72499, 'pid_846947': 22.418709, 'pid_847457': 22.394585, 'pid_996575': 21.517963, 'pid_832232': 18.28999, 'pid_947262': 18.185003, 'pid_222888': 18.166653, 'pid_438608': 18.023966, 'pid_812227': 18.007282, 'pid_105998': 17.960913, 'pid_350041': 17.49899, 'pid_263957': 17.452427, 'pid_771772': 17.178768, 'pid_269080': 17.146566, 'pid_730345': 17.120892, 'pid_789383': 17.066772, 'pid_860280': 17.04755, 'pid_377455': 17.03798, 'pid_273156': 17.020348, 'pid_52634': 16.928967, 'pid_211484': 16.821949, 'pid_954544': 16.725685, 'pid_115872': 16.54935, 'pid_738683': 16.451778, 'pid_942620': 16.368692, 'pid_54898': 16.317066, 'pid_758568': 16.308868, 'pid_34730': 16.300678, 'pid_766843': 16.296062, 'pid_385155': 16.269703, 'pid_710292': 16.251085, 'pid_797837': 16.215326, 'pid_916144': 16.203085, 'pid_506102': 16.152779, 'pid_16131': 16.122044, 'pid_527306': 16.122044, 'pid_260162': 16.096802, 'pid_817201': 16.092108, 'pid_659258': 16.063278, 'pid_937697': 15.995908, 'pid_624673': 15.955362, 'pid_138313': 15.903594, 'pid_908667': 15.721419, 'pid_400995': 15.633978, 'pid_695641': 15.408823, 'pid_966297': 15.394703, 'pid_810896': 15.367405, 'pid_802093': 15.346778, 'pid_353745': 15.295454, 'pid_26294': 15.2546425, 'pid_391109': 15.2546425, 'pid_784091': 15.224175, 'pid_652820': 15.2140465, 'pid_26068': 15.19383, 'pid_730781': 15.19383, 'pid_133598': 15.183742, 'pid_278764': 15.173667, 'pid_177217': 15.163605, 'pid_545781': 15.163605, 'pid_870426': 15.133501, 'pid_409678': 15.124134, 'pid_987031': 15.103516, 'pid_200807': 15.090454, 'pid_533716': 15.0439005, 'pid_201758': 15.024133, 'pid_289683': 15.024133, 'pid_120104': 14.965141, 'pid_450273': 14.830023, 'pid_528030': 14.806584, 'pid_418272': 14.771806, 'pid_391110': 14.77161, 'pid_580684': 14.725317, 'pid_840811': 14.688429, 'pid_129244': 14.656591, 'pid_576451': 14.571938, 'pid_818269': 14.567765, 'pid_967135': 14.476038, 'pid_307716': 14.417488, 'pid_742791': 14.417488, 'pid_332812': 14.395662, 'pid_660875': 14.2300005, 'pid_621803': 14.025061, 'pid_176543': 13.634052, 'pid_736804': 13.534209, 'pid_63707': 13.525206, 'pid_595463': 13.525206, 'pid_705061': 13.498264, 'pid_369705': 13.462509, 'pid_740513': 13.4536, 'pid_488025': 13.444703, 'pid_822789': 13.444703, 'pid_864517': 13.338846, 'pid_276216': 13.28654, 'pid_766747': 13.28654, 'pid_531344': 13.234642, 'pid_980935': 13.234642, 'pid_859330': 13.200269, 'pid_967928': 13.200269}, 'qid_5022': {'pid_915330': 17.058382, 'pid_488486': 14.539806, 'pid_273883': 14.457584, 'pid_132506': 14.247431, 'pid_65970': 13.949123, 'pid_312654': 13.92128, 'pid_693003': 13.8787365, 'pid_629133': 13.848891, 'pid_405543': 13.7944, 'pid_134849': 13.77629, 'pid_26265': 13.58597, 'pid_97304': 13.427603, 'pid_83309': 13.386005, 'pid_5117': 13.197004, 'pid_716277': 13.019159, 'pid_707337': 12.96175, 'pid_828435': 12.932166, 'pid_557928': 12.88607, 'pid_721006': 12.862287, 'pid_454642': 12.826059, 'pid_542279': 12.816063, 'pid_799849': 12.770123, 'pid_666796': 12.755863, 'pid_680876': 12.739109, 'pid_761171': 12.666733, 'pid_433209': 12.6208515, 'pid_855292': 12.592356, 'pid_589468': 12.542681, 'pid_544573': 12.517132, 'pid_134573': 12.511417, 'pid_608730': 12.369936, 'pid_762094': 12.3172, 'pid_583979': 12.304972, 'pid_743820': 12.296856, 'pid_838811': 12.294398, 'pid_918428': 12.2887125, 'pid_309839': 12.280655, 'pid_851242': 12.254715, 'pid_881068': 12.249069, 'pid_831484': 12.192913, 'pid_322164': 12.159486, 'pid_262035': 12.148388, 'pid_434174': 12.126256, 'pid_227397': 11.980761, 'pid_957479': 11.919481, 'pid_495613': 11.804414, 'pid_254110': 11.604768, 'pid_977511': 11.493426, 'pid_935860': 11.370756, 'pid_56707': 11.2804575, 'pid_510379': 11.228442, 'pid_816775': 11.140382, 'pid_768228': 11.096868, 'pid_144359': 11.010851, 'pid_241743': 11.010851, 'pid_685772': 10.133108, 'pid_369827': 10.004118, 'pid_515147': 9.947209, 'pid_381389': 9.941807, 'pid_912897': 9.901424, 'pid_786420': 9.860216, 'pid_377812': 9.821783, 'pid_128094': 9.75578, 'pid_373158': 9.653904, 'pid_770562': 9.581977, 'pid_940017': 9.553506, 'pid_780911': 9.546414, 'pid_660755': 9.415577, 'pid_423741': 9.384656, 'pid_155656': 9.336075, 'pid_133411': 9.275381, 'pid_685696': 9.275381, 'pid_814563': 9.267394, 'pid_51371': 9.247872, 'pid_261980': 9.232911, 'pid_45714': 9.22694, 'pid_781995': 9.215021, 'pid_959383': 9.209073, 'pid_187874': 9.206814, 'pid_445659': 9.197201, 'pid_593097': 9.184798, 'pid_345917': 9.180258, 'pid_67310': 9.177687, 'pid_640421': 9.171193, 'pid_954258': 9.167261, 'pid_379246': 9.162569, 'pid_792391': 9.155219, 'pid_551896': 9.1460495, 'pid_536127': 9.1442175, 'pid_645921': 9.140556, 'pid_44515': 9.138293, 'pid_548281': 9.133243, 'pid_789981': 9.133243, 'pid_638059': 9.12594, 'pid_826079': 9.118374, 'pid_299457': 9.115008, 'pid_681109': 9.114942, 'pid_24669': 9.107735, 'pid_137555': 9.104103, 'pid_258786': 9.103816}, 'qid_5023': {'pid_226562': 24.955359, 'pid_319105': 24.880478, 'pid_295940': 24.774792, 'pid_144849': 24.601883, 'pid_326859': 22.395348, 'pid_168062': 22.247526, 'pid_545619': 22.178507, 'pid_226179': 22.052826, 'pid_599524': 22.032495, 'pid_602199': 21.869081, 'pid_432126': 21.85131, 'pid_118318': 21.840141, 'pid_829468': 21.823425, 'pid_933997': 21.709019, 'pid_616623': 21.703846, 'pid_188705': 21.697649, 'pid_546622': 21.686295, 'pid_103835': 21.684673, 'pid_547709': 21.636456, 'pid_335636': 21.551044, 'pid_211269': 21.534857, 'pid_294462': 21.484016, 'pid_774523': 21.443756, 'pid_299961': 21.424337, 'pid_176256': 21.347027, 'pid_454120': 21.321384, 'pid_723018': 21.288095, 'pid_396654': 21.116161, 'pid_964038': 21.108345, 'pid_483480': 21.077505, 'pid_900047': 21.055927, 'pid_112564': 21.034542, 'pid_322364': 21.034542, 'pid_818914': 20.961674, 'pid_237749': 20.930065, 'pid_987764': 20.90776, 'pid_900869': 20.900341, 'pid_748379': 20.898806, 'pid_550252': 20.885523, 'pid_671631': 20.885523, 'pid_512349': 20.851902, 'pid_562693': 20.851902, 'pid_235423': 20.829714, 'pid_825604': 20.829714, 'pid_640041': 20.812975, 'pid_978818': 20.803122, 'pid_41736': 20.789906, 'pid_865243': 20.735556, 'pid_957655': 20.70475, 'pid_763299': 20.68938, 'pid_855078': 20.68938, 'pid_838081': 20.645128, 'pid_868150': 20.645128, 'pid_850996': 20.606995, 'pid_247752': 20.604725, 'pid_290190': 20.571995, 'pid_650228': 20.539392, 'pid_392168': 20.536938, 'pid_380734': 20.491768, 'pid_340900': 20.46533, 'pid_517876': 20.434307, 'pid_544979': 20.434307, 'pid_119953': 20.419128, 'pid_856941': 20.418255, 'pid_419179': 20.338467, 'pid_890303': 20.243721, 'pid_604232': 20.187008, 'pid_676745': 20.181152, 'pid_944079': 20.181152, 'pid_126033': 20.11933, 'pid_272588': 20.100082, 'pid_481900': 20.080877, 'pid_516648': 20.057423, 'pid_721303': 20.057423, 'pid_786131': 20.042583, 'pid_923579': 20.03936, 'pid_891157': 20.033035, 'pid_313287': 20.023495, 'pid_787766': 20.013966, 'pid_881526': 20.004448, 'pid_935656': 19.985437, 'pid_406901': 19.977585, 'pid_80712': 19.862827, 'pid_542825': 19.844109, 'pid_345741': 19.825428, 'pid_620184': 19.724823, 'pid_447014': 19.697037, 'pid_613338': 19.677341, 'pid_706548': 19.677341, 'pid_490712': 19.638994, 'pid_277485': 19.6279, 'pid_550711': 19.5415, 'pid_110758': 19.530731, 'pid_952841': 19.509232, 'pid_520071': 19.445034, 'pid_845398': 19.445034, 'pid_209789': 19.427582, 'pid_60923': 19.41832, 'pid_205824': 19.413103, 'pid_146377': 19.38822}, 'qid_5024': {'pid_365318': 29.633818, 'pid_159042': 26.45755, 'pid_596066': 26.342728, 'pid_777170': 25.51805, 'pid_733206': 24.734148, 'pid_38304': 23.504295, 'pid_701906': 23.362457, 'pid_510382': 23.2935, 'pid_7887': 22.885695, 'pid_920589': 22.392113, 'pid_547309': 22.131756, 'pid_398508': 21.46618, 'pid_635727': 20.673676, 'pid_11474': 20.65365, 'pid_386408': 20.336672, 'pid_319542': 20.179577, 'pid_260294': 20.02356, 'pid_585364': 19.824543, 'pid_508096': 19.654205, 'pid_340963': 19.563711, 'pid_647958': 19.439617, 'pid_698809': 19.420628, 'pid_890056': 19.369982, 'pid_790875': 19.339722, 'pid_757110': 19.322994, 'pid_204575': 19.21962, 'pid_625182': 19.09908, 'pid_814474': 19.069736, 'pid_477762': 18.998861, 'pid_757944': 18.718756, 'pid_335337': 18.690495, 'pid_154515': 18.683441, 'pid_855524': 18.676395, 'pid_538652': 18.655287, 'pid_416559': 18.648262, 'pid_684095': 18.648262, 'pid_310183': 18.641241, 'pid_280770': 18.634228, 'pid_283830': 18.634228, 'pid_201626': 18.620213, 'pid_212373': 18.60622, 'pid_516642': 18.58527, 'pid_465327': 18.57133, 'pid_523055': 18.55741, 'pid_40188': 18.522701, 'pid_949565': 18.522701, 'pid_340222': 18.508854, 'pid_515034': 18.50194, 'pid_817488': 18.50194, 'pid_605255': 18.474327, 'pid_389755': 18.447254, 'pid_536000': 18.4468, 'pid_112840': 18.351093, 'pid_536013': 18.351093, 'pid_62783': 18.323929, 'pid_690235': 18.323929, 'pid_826654': 18.323929, 'pid_939298': 18.323929, 'pid_479518': 18.269844, 'pid_752773': 18.269844, 'pid_5687': 18.206707, 'pid_813767': 18.199102, 'pid_840833': 18.189312, 'pid_49599': 18.183916, 'pid_91509': 18.05616, 'pid_77602': 18.003105, 'pid_251394': 17.986801, 'pid_398941': 17.986801, 'pid_167162': 17.97866, 'pid_915792': 17.97866, 'pid_50374': 17.860767, 'pid_443264': 17.797073, 'pid_209725': 17.746048, 'pid_219459': 17.695234, 'pid_364102': 17.650906, 'pid_586368': 17.641861, 'pid_331067': 17.62133, 'pid_953294': 17.590385, 'pid_587869': 17.583265, 'pid_248318': 17.579632, 'pid_981320': 17.525185, 'pid_541492': 17.522995, 'pid_483226': 17.489618, 'pid_379671': 17.471409, 'pid_965648': 17.453512, 'pid_603977': 17.435656, 'pid_479906': 17.417837, 'pid_868538': 17.417837, 'pid_943602': 17.417837, 'pid_964961': 17.355782, 'pid_570020': 17.150839, 'pid_395626': 17.083084, 'pid_425936': 17.078056, 'pid_336371': 17.044014, 'pid_708076': 17.010115, 'pid_938931': 16.97636, 'pid_415909': 16.752773, 'pid_256844': 16.750654, 'pid_281615': 16.750654, 'pid_444821': 16.73933}, 'qid_5025': {'pid_914004': 29.556135, 'pid_307425': 29.485783, 'pid_900629': 29.40689, 'pid_989729': 29.39123, 'pid_730899': 29.376198, 'pid_758006': 29.024426, 'pid_901994': 28.70085, 'pid_505215': 28.644678, 'pid_427134': 28.644073, 'pid_702248': 28.633474, 'pid_859517': 28.588764, 'pid_554000': 28.413502, 'pid_707723': 28.34713, 'pid_327415': 28.256508, 'pid_812688': 28.159164, 'pid_165089': 28.146402, 'pid_504069': 28.106623, 'pid_899217': 28.064505, 'pid_751557': 28.046951, 'pid_328': 28.046389, 'pid_925944': 28.022198, 'pid_197630': 28.000069, 'pid_236038': 27.858896, 'pid_408277': 27.84636, 'pid_32366': 27.746485, 'pid_817899': 27.708824, 'pid_420257': 27.66881, 'pid_567583': 27.666042, 'pid_539852': 27.65269, 'pid_7722': 27.53319, 'pid_784677': 27.519985, 'pid_788446': 27.506798, 'pid_786596': 27.266747, 'pid_84738': 27.246113, 'pid_181041': 27.16839, 'pid_914147': 27.153751, 'pid_464679': 27.13913, 'pid_691674': 26.878809, 'pid_225506': 26.680008, 'pid_6600': 26.651863, 'pid_150516': 26.573963, 'pid_105651': 24.02373, 'pid_28740': 23.685448, 'pid_668209': 23.590649, 'pid_305609': 23.58334, 'pid_683831': 23.529827, 'pid_131778': 23.526312, 'pid_880340': 23.435303, 'pid_258490': 23.308796, 'pid_895269': 23.307348, 'pid_457508': 23.240477, 'pid_698570': 23.167015, 'pid_113922': 23.041176, 'pid_55376': 23.022728, 'pid_576926': 23.013515, 'pid_276375': 22.998198, 'pid_76545': 22.994135, 'pid_954270': 22.944653, 'pid_838302': 22.884174, 'pid_583661': 22.844398, 'pid_798672': 22.829102, 'pid_285938': 22.819561, 'pid_843100': 22.819317, 'pid_194939': 22.814388, 'pid_25966': 22.754593, 'pid_570650': 22.737068, 'pid_803587': 22.619987, 'pid_460455': 22.59246, 'pid_245937': 22.531422, 'pid_481657': 22.513779, 'pid_223177': 22.445377, 'pid_189757': 22.340952, 'pid_157373': 22.298458, 'pid_159758': 22.298458, 'pid_153835': 22.272636, 'pid_787524': 22.162937, 'pid_47570': 22.135414, 'pid_640824': 22.094261, 'pid_81080': 22.062016, 'pid_435448': 22.046448, 'pid_843543': 21.999199, 'pid_578969': 21.82882, 'pid_304357': 21.80155, 'pid_822493': 21.80155, 'pid_829951': 21.775948, 'pid_244829': 21.738613, 'pid_422007': 21.693678, 'pid_425290': 21.649813, 'pid_568632': 21.649813, 'pid_655686': 21.634487, 'pid_728305': 21.633524, 'pid_300529': 21.62539, 'pid_377718': 21.62539, 'pid_56001': 21.61726, 'pid_408123': 21.61726, 'pid_340811': 21.610687, 'pid_696294': 21.60102, 'pid_894850': 21.59291, 'pid_640844': 21.567268, 'pid_446357': 21.566933}, 'qid_5026': {'pid_835121': 24.798376, 'pid_86356': 24.60219, 'pid_310975': 24.372648, 'pid_800530': 24.148401, 'pid_246580': 24.114681, 'pid_324618': 24.101732, 'pid_666096': 24.085289, 'pid_115168': 24.07269, 'pid_207024': 24.065544, 'pid_762435': 23.950665, 'pid_406889': 23.937366, 'pid_413461': 23.893135, 'pid_847077': 23.803389, 'pid_732410': 23.77398, 'pid_233002': 23.718285, 'pid_23544': 23.710659, 'pid_87934': 23.707615, 'pid_924287': 23.572292, 'pid_786565': 23.471945, 'pid_74985': 23.453903, 'pid_354262': 23.439247, 'pid_32333': 23.423302, 'pid_281528': 23.397514, 'pid_496545': 23.389484, 'pid_533566': 23.371233, 'pid_999606': 23.361744, 'pid_647701': 23.31031, 'pid_105131': 23.222952, 'pid_552991': 23.190794, 'pid_526280': 23.136246, 'pid_709480': 23.015942, 'pid_640120': 22.882723, 'pid_11785': 22.880735, 'pid_295999': 22.880735, 'pid_486248': 22.862583, 'pid_182157': 22.847498, 'pid_774993': 22.809315, 'pid_742804': 22.780766, 'pid_163814': 22.74964, 'pid_349669': 22.74267, 'pid_761283': 22.72232, 'pid_848707': 22.695572, 'pid_673255': 22.671192, 'pid_264943': 22.670578, 'pid_936864': 22.557825, 'pid_628576': 22.271748, 'pid_813248': 22.251818, 'pid_180411': 22.24115, 'pid_552766': 22.219847, 'pid_808837': 22.014935, 'pid_854203': 21.888336, 'pid_459651': 21.720142, 'pid_491578': 21.565628, 'pid_252098': 21.529282, 'pid_639490': 21.520004, 'pid_953399': 21.503246, 'pid_522411': 21.494356, 'pid_930258': 21.490826, 'pid_52138': 21.450361, 'pid_648089': 21.43785, 'pid_104143': 21.41204, 'pid_37619': 21.410688, 'pid_952867': 21.388117, 'pid_852682': 21.3598, 'pid_860711': 21.347122, 'pid_853983': 21.334963, 'pid_372787': 21.328453, 'pid_657880': 21.264862, 'pid_211206': 21.233147, 'pid_778399': 21.225029, 'pid_315670': 21.214275, 'pid_622390': 21.212208, 'pid_63210': 21.201363, 'pid_398627': 21.15997, 'pid_638775': 21.138865, 'pid_374527': 21.103207, 'pid_604487': 21.072344, 'pid_484744': 21.044321, 'pid_31120': 21.038784, 'pid_812272': 21.031456, 'pid_235274': 21.015121, 'pid_76834': 20.978851, 'pid_678967': 20.978851, 'pid_878420': 20.947258, 'pid_288842': 20.88935, 'pid_340300': 20.88935, 'pid_218071': 20.870974, 'pid_442641': 20.846409, 'pid_737608': 20.807611, 'pid_149326': 20.757214, 'pid_625010': 20.73711, 'pid_737851': 20.72361, 'pid_640555': 20.712261, 'pid_346675': 20.698204, 'pid_995377': 20.695726, 'pid_962111': 20.679218, 'pid_879021': 20.661598, 'pid_257975': 20.654537, 'pid_383295': 20.613453, 'pid_267654': 20.597845}, 'qid_5027': {'pid_778952': 23.23465, 'pid_593079': 21.290009, 'pid_799577': 20.604261, 'pid_714036': 20.261795, 'pid_334891': 19.911203, 'pid_627174': 19.823927, 'pid_445667': 19.282413, 'pid_824462': 18.653414, 'pid_317572': 18.483831, 'pid_664136': 17.848423, 'pid_916992': 17.81295, 'pid_78231': 17.193882, 'pid_546470': 17.133755, 'pid_794772': 17.120152, 'pid_784901': 16.669422, 'pid_826079': 16.63231, 'pid_391219': 16.306326, 'pid_597114': 16.162994, 'pid_596458': 16.095499, 'pid_296900': 16.02841, 'pid_612199': 15.966144, 'pid_220942': 15.877485, 'pid_698786': 15.874865, 'pid_466289': 15.856078, 'pid_706835': 15.839096, 'pid_523575': 15.80898, 'pid_18873': 15.802533, 'pid_25772': 15.731092, 'pid_344436': 15.718955, 'pid_41695': 15.706622, 'pid_400111': 15.681263, 'pid_427809': 15.669561, 'pid_284659': 15.618059, 'pid_623472': 15.617891, 'pid_356393': 15.59812, 'pid_797666': 15.586275, 'pid_878509': 15.549471, 'pid_642983': 15.537874, 'pid_64330': 15.500111, 'pid_630706': 15.499085, 'pid_419335': 15.479241, 'pid_400957': 15.47159, 'pid_624007': 15.420399, 'pid_109489': 15.414221, 'pid_17647': 15.4004, 'pid_442458': 15.338121, 'pid_490926': 15.24876, 'pid_801752': 15.234925, 'pid_841214': 15.158732, 'pid_323217': 15.102018, 'pid_934672': 15.051271, 'pid_736674': 15.033803, 'pid_110190': 14.990989, 'pid_669050': 14.985209, 'pid_574495': 14.875135, 'pid_169273': 14.838401, 'pid_878942': 14.757311, 'pid_774032': 14.743593, 'pid_435124': 14.689149, 'pid_484890': 14.6884575, 'pid_131823': 14.520847, 'pid_502589': 14.506323, 'pid_495422': 14.484224, 'pid_915258': 14.463263, 'pid_40539': 14.34822, 'pid_343937': 14.313266, 'pid_486682': 14.312291, 'pid_552606': 14.304429, 'pid_455592': 14.236851, 'pid_415552': 14.221123, 'pid_187281': 14.172104, 'pid_578618': 14.1661005, 'pid_551314': 14.158241, 'pid_455862': 14.145016, 'pid_682492': 14.144918, 'pid_302724': 14.127697, 'pid_995804': 14.094226, 'pid_637459': 14.089626, 'pid_203270': 14.08049, 'pid_130312': 14.063949, 'pid_849814': 14.035675, 'pid_367905': 14.032518, 'pid_753236': 13.985329, 'pid_329537': 13.949192, 'pid_869997': 13.885596, 'pid_572347': 13.835596, 'pid_166100': 13.818438, 'pid_96781': 13.816288, 'pid_322172': 13.800333, 'pid_556708': 13.780352, 'pid_154444': 13.769966, 'pid_932637': 13.75583, 'pid_472912': 13.746315, 'pid_703754': 13.741596, 'pid_9047': 13.740351, 'pid_446523': 13.722387, 'pid_333708': 13.717199, 'pid_62431': 13.705196, 'pid_629302': 13.69929, 'pid_234890': 13.697686}, 'qid_5028': {'pid_738123': 8.579107, 'pid_986272': 8.54777, 'pid_279593': 8.527744, 'pid_385964': 8.519972, 'pid_111434': 8.494545, 'pid_193358': 8.487339, 'pid_887395': 8.486457, 'pid_721889': 8.468545, 'pid_372752': 8.465421, 'pid_105486': 8.462653, 'pid_835099': 8.460579, 'pid_689094': 8.458697, 'pid_379044': 8.455752, 'pid_837334': 8.442274, 'pid_838766': 8.437406, 'pid_428187': 8.435291, 'pid_861034': 8.42832, 'pid_397611': 8.42527, 'pid_847222': 8.42527, 'pid_759354': 8.424839, 'pid_69961': 8.4144125, 'pid_564828': 8.410942, 'pid_721092': 8.410942, 'pid_132618': 8.404011, 'pid_696139': 8.397092, 'pid_610740': 8.394893, 'pid_860232': 8.392919, 'pid_670653': 8.390183, 'pid_393249': 8.385032, 'pid_421711': 8.385032, 'pid_325182': 8.383286, 'pid_378502': 8.381095, 'pid_735918': 8.376401, 'pid_43272': 8.366718, 'pid_547789': 8.365381, 'pid_989257': 8.36443, 'pid_284618': 8.358718, 'pid_322370': 8.358718, 'pid_27786': 8.355811, 'pid_363053': 8.355811, 'pid_474849': 8.355811, 'pid_619517': 8.353634, 'pid_909317': 8.339352, 'pid_466529': 8.337079, 'pid_584872': 8.332538, 'pid_673485': 8.332538, 'pid_928006': 8.322471, 'pid_563184': 8.314936, 'pid_664526': 8.314715, 'pid_942365': 8.314715, 'pid_43114': 8.309906, 'pid_688472': 8.309906, 'pid_850885': 8.309906, 'pid_189108': 8.305394, 'pid_160232': 8.296386, 'pid_320218': 8.296386, 'pid_445388': 8.296386, 'pid_710618': 8.296386, 'pid_719534': 8.296386, 'pid_951663': 8.296386, 'pid_536352': 8.286989, 'pid_930839': 8.286989, 'pid_780710': 8.280261, 'pid_135324': 8.278427, 'pid_967077': 8.278427, 'pid_400365': 8.277573, 'pid_220517': 8.274886, 'pid_661793': 8.270859, 'pid_848987': 8.270859, 'pid_823576': 8.269477, 'pid_986199': 8.269477, 'pid_976482': 8.26849, 'pid_58666': 8.268177, 'pid_302956': 8.268177, 'pid_594869': 8.262817, 'pid_790443': 8.26014, 'pid_441549': 8.257465, 'pid_211344': 8.25212, 'pid_573209': 8.25212, 'pid_605457': 8.25212, 'pid_260681': 8.251635, 'pid_976447': 8.251635, 'pid_612735': 8.249451, 'pid_615911': 8.249451, 'pid_656451': 8.249451, 'pid_492177': 8.244115, 'pid_933859': 8.244115, 'pid_136853': 8.238788, 'pid_217673': 8.233869, 'pid_427958': 8.233869, 'pid_4056': 8.233466, 'pid_66632': 8.233466, 'pid_644063': 8.233466, 'pid_753495': 8.233466, 'pid_329307': 8.228151, 'pid_615712': 8.228151, 'pid_892553': 8.228151, 'pid_451311': 8.225014, 'pid_910791': 8.225014, 'pid_354556': 8.222844}, 'qid_5029': {'pid_186591': 17.312271, 'pid_443435': 15.974519, 'pid_32203': 15.468897, 'pid_419420': 13.359863, 'pid_435245': 13.310583, 'pid_968921': 13.256068, 'pid_513399': 13.161587, 'pid_888211': 13.138823, 'pid_262913': 13.138076, 'pid_276838': 13.113516, 'pid_675959': 13.113153, 'pid_898959': 13.063938, 'pid_312448': 13.052698, 'pid_432828': 13.049141, 'pid_225249': 12.997303, 'pid_171223': 12.991854, 'pid_383349': 12.991854, 'pid_458528': 12.991771, 'pid_375925': 12.98015, 'pid_145729': 12.969622, 'pid_653785': 12.96489, 'pid_870935': 12.96489, 'pid_766712': 12.956577, 'pid_157285': 12.939661, 'pid_764781': 12.919727, 'pid_546672': 12.915701, 'pid_215025': 12.888489, 'pid_303990': 12.880194, 'pid_826766': 12.867382, 'pid_653852': 12.78331, 'pid_455734': 12.769428, 'pid_188572': 12.754831, 'pid_879082': 12.724738, 'pid_623097': 12.701086, 'pid_865996': 12.681444, 'pid_345300': 12.654053, 'pid_135218': 12.550604, 'pid_331518': 12.520496, 'pid_534368': 12.51838, 'pid_29701': 12.506275, 'pid_131846': 12.491726, 'pid_206043': 12.464605, 'pid_100480': 12.4381485, 'pid_110657': 12.403919, 'pid_724908': 12.400056, 'pid_924734': 12.399263, 'pid_262951': 12.385319, 'pid_672034': 12.380018, 'pid_54963': 12.348284, 'pid_429134': 12.345999, 'pid_122154': 12.33128, 'pid_513874': 12.316059, 'pid_977802': 12.28347, 'pid_943341': 12.275993, 'pid_533403': 12.2731495, 'pid_307709': 12.270315, 'pid_371149': 12.270315, 'pid_247972': 12.269283, 'pid_722651': 12.269283, 'pid_674636': 12.262022, 'pid_677120': 12.259489, 'pid_357583': 12.241424, 'pid_613869': 12.218723, 'pid_252985': 12.179094, 'pid_50105': 12.177042, 'pid_246569': 12.15864, 'pid_258118': 12.140313, 'pid_514282': 12.140313, 'pid_856185': 12.126129, 'pid_328105': 12.090292, 'pid_960569': 12.085775, 'pid_856635': 12.0726185, 'pid_51089': 12.069929, 'pid_696061': 12.069929, 'pid_774849': 12.036233, 'pid_217490': 12.024418, 'pid_228283': 12.0072975, 'pid_721030': 11.974337, 'pid_24588': 11.9086275, 'pid_895967': 11.850105, 'pid_147195': 11.838338, 'pid_198853': 11.82323, 'pid_129161': 11.733566, 'pid_168670': 11.716299, 'pid_842803': 11.633026, 'pid_744032': 11.625128, 'pid_473524': 11.61384, 'pid_839585': 11.563587, 'pid_358268': 11.531622, 'pid_996451': 11.349836, 'pid_107226': 11.28788, 'pid_229130': 11.253307, 'pid_327244': 11.217907, 'pid_750032': 11.191477, 'pid_948453': 11.137615, 'pid_526253': 11.130112, 'pid_80859': 11.115131, 'pid_786263': 11.098436, 'pid_62437': 11.09494, 'pid_289875': 11.085295}, 'qid_5030': {'pid_715688': 22.452772, 'pid_378547': 19.974844, 'pid_883389': 19.814335, 'pid_114196': 19.796314, 'pid_944753': 19.50721, 'pid_141717': 18.979939, 'pid_470512': 18.959188, 'pid_70206': 18.957764, 'pid_943253': 18.900328, 'pid_734172': 18.763744, 'pid_369639': 18.646524, 'pid_27047': 18.464373, 'pid_83974': 18.452332, 'pid_52393': 18.358019, 'pid_593227': 17.958752, 'pid_268852': 17.73089, 'pid_751252': 17.452032, 'pid_190178': 17.417637, 'pid_260575': 17.408545, 'pid_182691': 17.066132, 'pid_48190': 17.02872, 'pid_241592': 16.995657, 'pid_172484': 16.752134, 'pid_586015': 16.741776, 'pid_470550': 16.72495, 'pid_245618': 16.715805, 'pid_852210': 16.693262, 'pid_887235': 16.693262, 'pid_922513': 16.682816, 'pid_415356': 16.676395, 'pid_220979': 16.568726, 'pid_745062': 16.409197, 'pid_450362': 16.366488, 'pid_598313': 16.255537, 'pid_491818': 16.200932, 'pid_164528': 16.187407, 'pid_10519': 16.14717, 'pid_441593': 16.039694, 'pid_459227': 15.97482, 'pid_279480': 15.966332, 'pid_170593': 15.908485, 'pid_784708': 15.775097, 'pid_308536': 15.743763, 'pid_419213': 15.707313, 'pid_767109': 15.705285, 'pid_627822': 15.65539, 'pid_849187': 15.631292, 'pid_165831': 15.588228, 'pid_270748': 15.532821, 'pid_112516': 15.5228, 'pid_704559': 15.505032, 'pid_897328': 15.391418, 'pid_624155': 15.379874, 'pid_520802': 15.374108, 'pid_54458': 15.362589, 'pid_327996': 15.362589, 'pid_171555': 15.30303, 'pid_88602': 15.299542, 'pid_106952': 15.297629, 'pid_873118': 15.233216, 'pid_157415': 15.204641, 'pid_733329': 15.148088, 'pid_299648': 15.125193, 'pid_957796': 15.0858755, 'pid_565476': 15.036464, 'pid_699029': 15.027284, 'pid_279401': 14.924992, 'pid_132276': 14.878409, 'pid_220920': 14.8699465, 'pid_235917': 14.867443, 'pid_96851': 14.864141, 'pid_707273': 14.854118, 'pid_133168': 14.7909775, 'pid_322761': 14.780921, 'pid_697464': 14.774372, 'pid_283774': 14.735539, 'pid_450616': 14.731099, 'pid_899929': 14.679291, 'pid_644892': 14.659853, 'pid_321049': 14.640934, 'pid_278558': 14.63832, 'pid_319810': 14.63832, 'pid_888995': 14.625504, 'pid_592749': 14.595457, 'pid_610451': 14.595457, 'pid_629252': 14.591754, 'pid_384627': 14.565033, 'pid_757016': 14.551709, 'pid_363306': 14.545227, 'pid_956148': 14.542876, 'pid_962550': 14.530306, 'pid_852609': 14.519936, 'pid_842429': 14.471553, 'pid_255938': 14.466457, 'pid_996928': 14.459084, 'pid_278560': 14.446225, 'pid_921693': 14.443984, 'pid_830366': 14.440595, 'pid_727875': 14.4229, 'pid_364066': 14.37384}, 'qid_5031': {'pid_93843': 17.320583, 'pid_974754': 13.277777, 'pid_904731': 13.218602, 'pid_185057': 13.112591, 'pid_628366': 13.046028, 'pid_952691': 13.044882, 'pid_915258': 13.035145, 'pid_749179': 13.010677, 'pid_966636': 12.99872, 'pid_757334': 12.996967, 'pid_991797': 12.962984, 'pid_143334': 12.838366, 'pid_794989': 12.82927, 'pid_839942': 12.819593, 'pid_615727': 12.710034, 'pid_441791': 12.661417, 'pid_846910': 12.661417, 'pid_957615': 12.642801, 'pid_130756': 12.641713, 'pid_812025': 12.633186, 'pid_465813': 12.605928, 'pid_399560': 12.597376, 'pid_745673': 12.576806, 'pid_346741': 12.561773, 'pid_784783': 12.55389, 'pid_372978': 12.530301, 'pid_138500': 12.522339, 'pid_73589': 12.5146265, 'pid_114514': 12.5065975, 'pid_418007': 12.466072, 'pid_343144': 12.459035, 'pid_96905': 12.452328, 'pid_946743': 12.44404, 'pid_622984': 12.421418, 'pid_374598': 12.361524, 'pid_578478': 12.35689, 'pid_237006': 12.344831, 'pid_791701': 12.303782, 'pid_150498': 12.285174, 'pid_173818': 12.28426, 'pid_398798': 12.275285, 'pid_464606': 12.236391, 'pid_884540': 12.1916275, 'pid_29320': 12.181377, 'pid_533495': 12.138092, 'pid_874803': 12.125059, 'pid_557836': 12.114844, 'pid_978140': 12.079515, 'pid_900370': 12.072483, 'pid_76847': 12.06829, 'pid_105411': 12.063391, 'pid_914190': 12.059631, 'pid_947378': 12.019527, 'pid_925727': 12.010731, 'pid_536159': 11.993155, 'pid_346123': 11.983988, 'pid_259043': 11.969652, 'pid_543343': 11.969162, 'pid_326869': 11.948399, 'pid_503087': 11.946713, 'pid_617570': 11.932517, 'pid_312174': 11.928783, 'pid_930004': 11.917916, 'pid_387380': 11.911421, 'pid_961636': 11.901455, 'pid_841123': 11.884492, 'pid_268578': 11.874718, 'pid_708145': 11.874718, 'pid_762698': 11.872704, 'pid_934551': 11.871595, 'pid_356030': 11.866909, 'pid_45729': 11.848189, 'pid_684559': 11.84803, 'pid_824711': 11.829546, 'pid_283077': 11.822755, 'pid_906554': 11.822755, 'pid_332656': 11.821158, 'pid_739914': 11.814505, 'pid_763841': 11.813519, 'pid_20371': 11.781576, 'pid_373199': 11.775753, 'pid_701210': 11.745336, 'pid_770482': 11.745336, 'pid_708241': 11.74074, 'pid_986618': 11.737472, 'pid_977098': 11.728502, 'pid_984846': 11.7206, 'pid_153923': 11.7204485, 'pid_310763': 11.7204485, 'pid_734288': 11.7204485, 'pid_173032': 11.700241, 'pid_534479': 11.700241, 'pid_930740': 11.691782, 'pid_26719': 11.691691, 'pid_708873': 11.687381, 'pid_248663': 11.676239, 'pid_532481': 11.67275, 'pid_500906': 11.665384, 'pid_90519': 11.66515, 'pid_820585': 11.659083}, 'qid_5032': {'pid_31868': 20.439611, 'pid_818431': 19.441912, 'pid_442171': 19.337973, 'pid_725687': 19.09773, 'pid_864404': 18.860842, 'pid_767604': 18.751945, 'pid_958882': 18.705223, 'pid_405475': 18.59469, 'pid_864079': 18.36142, 'pid_29953': 17.864542, 'pid_168382': 17.649408, 'pid_727092': 17.265749, 'pid_820668': 16.934265, 'pid_923398': 16.83104, 'pid_381029': 16.71148, 'pid_737866': 16.696007, 'pid_715248': 16.612394, 'pid_848749': 16.57911, 'pid_859730': 16.51162, 'pid_244223': 16.50869, 'pid_306833': 16.49323, 'pid_57715': 16.399061, 'pid_913752': 16.38189, 'pid_74680': 16.375101, 'pid_94094': 16.351078, 'pid_447199': 16.257893, 'pid_326952': 16.25299, 'pid_150351': 16.2274, 'pid_59855': 16.096737, 'pid_509777': 16.096668, 'pid_538684': 16.09652, 'pid_700471': 16.083559, 'pid_351806': 16.043653, 'pid_674647': 16.030046, 'pid_961035': 15.99129, 'pid_662147': 15.980682, 'pid_508688': 15.980657, 'pid_726425': 15.951048, 'pid_539013': 15.929756, 'pid_944499': 15.911308, 'pid_757857': 15.888801, 'pid_484138': 15.884137, 'pid_505301': 15.8417225, 'pid_594958': 15.802933, 'pid_600305': 15.784239, 'pid_589055': 15.776817, 'pid_987648': 15.742407, 'pid_720046': 15.652648, 'pid_37235': 15.547907, 'pid_675043': 15.536259, 'pid_516819': 15.5260315, 'pid_262211': 15.523657, 'pid_804273': 15.502308, 'pid_524257': 15.481596, 'pid_326751': 15.460963, 'pid_163015': 15.4586315, 'pid_484928': 15.449444, 'pid_181264': 15.442358, 'pid_591722': 15.4149885, 'pid_962569': 15.408551, 'pid_401746': 15.398504, 'pid_160054': 15.392104, 'pid_331705': 15.374458, 'pid_620490': 15.3692875, 'pid_597529': 15.35289, 'pid_277583': 15.348928, 'pid_889027': 15.34431, 'pid_726176': 15.297976, 'pid_694809': 15.29538, 'pid_41242': 15.290379, 'pid_586476': 15.221639, 'pid_954057': 15.213366, 'pid_998527': 15.213366, 'pid_33641': 15.191362, 'pid_166305': 15.154711, 'pid_744187': 15.148224, 'pid_705996': 15.090147, 'pid_777711': 15.082329, 'pid_985153': 15.050951, 'pid_950330': 15.047268, 'pid_922834': 15.036824, 'pid_115882': 15.023591, 'pid_271940': 15.020089, 'pid_127371': 15.012242, 'pid_521931': 14.99454, 'pid_160501': 14.971357, 'pid_912392': 14.96443, 'pid_220889': 14.963007, 'pid_910474': 14.934702, 'pid_279152': 14.905754, 'pid_50566': 14.899481, 'pid_826268': 14.882393, 'pid_208694': 14.879081, 'pid_400169': 14.873407, 'pid_27403': 14.87233, 'pid_901771': 14.8645115, 'pid_759952': 14.864031, 'pid_732525': 14.861965, 'pid_99019': 14.860056, 'pid_283044': 14.83399}, 'qid_5033': {'pid_326939': 24.362305, 'pid_589272': 23.485792, 'pid_131469': 22.385876, 'pid_700916': 21.95626, 'pid_753704': 21.655313, 'pid_599807': 18.517298, 'pid_554739': 17.77777, 'pid_856541': 17.52615, 'pid_371007': 17.503138, 'pid_280648': 17.273504, 'pid_624851': 17.149582, 'pid_521620': 17.139793, 'pid_961012': 17.073662, 'pid_426628': 17.013906, 'pid_777228': 17.013906, 'pid_672737': 16.780499, 'pid_102320': 16.670883, 'pid_173547': 16.65427, 'pid_379504': 16.419462, 'pid_649208': 16.297571, 'pid_47353': 16.076492, 'pid_161521': 16.007805, 'pid_700569': 15.899186, 'pid_715626': 15.824497, 'pid_27296': 15.7911, 'pid_313207': 15.708535, 'pid_927178': 15.623455, 'pid_390144': 15.430979, 'pid_205642': 15.41081, 'pid_602451': 15.390694, 'pid_567452': 15.3506155, 'pid_717812': 15.288687, 'pid_453253': 15.192371, 'pid_391250': 14.923157, 'pid_755160': 14.660796, 'pid_394935': 14.275999, 'pid_673168': 14.038095, 'pid_163832': 14.016299, 'pid_961511': 13.944336, 'pid_944570': 13.849098, 'pid_387855': 13.831316, 'pid_579699': 13.7918415, 'pid_911258': 13.791481, 'pid_114161': 13.766092, 'pid_649852': 13.765057, 'pid_574119': 13.757106, 'pid_502266': 13.621561, 'pid_445424': 13.617527, 'pid_392872': 13.56146, 'pid_196972': 13.52587, 'pid_147954': 13.485425, 'pid_404941': 13.47032, 'pid_579391': 13.197826, 'pid_9222': 13.113062, 'pid_775837': 13.079803, 'pid_604260': 13.0537, 'pid_722806': 13.025474, 'pid_11559': 13.008985, 'pid_242000': 13.003482, 'pid_705074': 12.953608, 'pid_241950': 12.931615, 'pid_77354': 12.912594, 'pid_455421': 12.909712, 'pid_979676': 12.90875, 'pid_118733': 12.889127, 'pid_587628': 12.863163, 'pid_333956': 12.817923, 'pid_264002': 12.813002, 'pid_851197': 12.811488, 'pid_285456': 12.805059, 'pid_308195': 12.785818, 'pid_15944': 12.7261505, 'pid_335313': 12.719522, 'pid_537520': 12.719522, 'pid_935488': 12.719522, 'pid_481836': 12.709473, 'pid_317346': 12.699682, 'pid_577496': 12.699682, 'pid_551943': 12.694675, 'pid_453981': 12.684242, 'pid_177524': 12.666761, 'pid_803216': 12.653645, 'pid_628542': 12.607967, 'pid_873830': 12.594981, 'pid_307640': 12.559698, 'pid_797732': 12.530481, 'pid_393640': 12.32877, 'pid_208965': 12.163267, 'pid_590739': 12.157331, 'pid_62657': 12.128113, 'pid_310025': 12.122398, 'pid_195880': 12.106129, 'pid_436294': 12.098009, 'pid_132715': 12.089901, 'pid_604788': 12.081804, 'pid_188212': 12.065284, 'pid_74403': 12.057577, 'pid_635445': 12.057577, 'pid_349125': 12.025426, 'pid_359525': 12.025426}, 'qid_5034': {'pid_738837': 21.120947, 'pid_144265': 20.757355, 'pid_813239': 20.680773, 'pid_35163': 20.427776, 'pid_859992': 19.825996, 'pid_82709': 19.671473, 'pid_631157': 19.52653, 'pid_726766': 19.227627, 'pid_585870': 18.88541, 'pid_260610': 18.662794, 'pid_227293': 18.644722, 'pid_850621': 18.517548, 'pid_750834': 18.324083, 'pid_117092': 17.678104, 'pid_146082': 17.654552, 'pid_916620': 17.654552, 'pid_922279': 17.642797, 'pid_507373': 17.607632, 'pid_473121': 17.59594, 'pid_711469': 17.549332, 'pid_840774': 17.502968, 'pid_200770': 17.319942, 'pid_339785': 17.297333, 'pid_746440': 16.771877, 'pid_983237': 14.842438, 'pid_337993': 13.959782, 'pid_42744': 13.58829, 'pid_141209': 13.078928, 'pid_429442': 12.592669, 'pid_543187': 12.459772, 'pid_734853': 12.142436, 'pid_941262': 12.13949, 'pid_878408': 12.056778, 'pid_656025': 12.02025, 'pid_464609': 12.005857, 'pid_875869': 11.772629, 'pid_486840': 11.705439, 'pid_978548': 11.247593, 'pid_956420': 11.222416, 'pid_780862': 11.180702, 'pid_779090': 11.147554, 'pid_592103': 10.019445, 'pid_814541': 9.99946, 'pid_742475': 9.96633, 'pid_563815': 9.939983, 'pid_172840': 9.920315, 'pid_607386': 9.907245, 'pid_772942': 9.907245, 'pid_923039': 9.89421, 'pid_280156': 9.881208, 'pid_578201': 9.881208, 'pid_491879': 9.84241, 'pid_713286': 9.715256, 'pid_472839': 9.56694, 'pid_464205': 9.4973755, 'pid_618806': 9.493442, 'pid_233987': 9.471866, 'pid_555644': 9.459886, 'pid_915728': 9.445407, 'pid_481140': 9.423219, 'pid_437554': 9.409955, 'pid_817277': 9.396729, 'pid_821640': 9.396729, 'pid_191442': 9.396213, 'pid_226839': 9.384672, 'pid_268209': 9.384672, 'pid_351962': 9.379552, 'pid_853627': 9.379552, 'pid_676389': 9.3693285, 'pid_962762': 9.3693285, 'pid_44094': 9.364224, 'pid_86988': 9.364224, 'pid_748641': 9.359127, 'pid_910437': 9.335794, 'pid_710482': 9.3115225, 'pid_723927': 9.3115225, 'pid_993958': 9.306986, 'pid_422584': 9.282864, 'pid_148480': 9.270849, 'pid_160129': 9.234992, 'pid_383940': 9.234992, 'pid_90954': 9.189154, 'pid_615139': 9.187613, 'pid_774742': 9.181791, 'pid_861191': 9.178115, 'pid_951645': 9.174442, 'pid_39842': 9.168937, 'pid_962081': 9.168937, 'pid_449926': 9.165271, 'pid_44568': 9.159777, 'pid_527063': 9.141512, 'pid_706440': 9.141512, 'pid_256802': 9.126952, 'pid_577387': 9.126952, 'pid_679311': 9.126952, 'pid_332585': 9.11969, 'pid_623475': 9.11969, 'pid_502695': 9.112439, 'pid_312590': 9.097972, 'pid_969813': 9.090755}, 'qid_5035': {'pid_460326': 22.053505, 'pid_282590': 22.05247, 'pid_29380': 15.80831, 'pid_402175': 15.138307, 'pid_106102': 15.122995, 'pid_371680': 14.959286, 'pid_451465': 14.956891, 'pid_879963': 14.944595, 'pid_932554': 14.908187, 'pid_872861': 14.886326, 'pid_533691': 14.876729, 'pid_497758': 14.868046, 'pid_47174': 14.862102, 'pid_243495': 14.862102, 'pid_456174': 14.852043, 'pid_320223': 14.846279, 'pid_818900': 14.838457, 'pid_194704': 14.820349, 'pid_458708': 14.819262, 'pid_233111': 14.805115, 'pid_108732': 14.780405, 'pid_331700': 14.747869, 'pid_444051': 14.733944, 'pid_30463': 14.7276325, 'pid_293836': 14.721838, 'pid_703792': 14.687766, 'pid_459086': 14.676769, 'pid_206725': 14.673635, 'pid_633391': 14.670409, 'pid_584190': 14.65323, 'pid_501958': 14.623635, 'pid_302208': 14.612902, 'pid_672485': 14.611771, 'pid_59980': 14.609588, 'pid_38380': 14.584337, 'pid_675038': 14.577759, 'pid_669236': 14.571285, 'pid_986591': 14.571285, 'pid_373658': 14.570046, 'pid_374488': 14.531871, 'pid_86034': 14.517057, 'pid_697719': 14.513719, 'pid_851328': 14.49066, 'pid_37986': 14.490456, 'pid_262382': 14.48834, 'pid_571069': 14.48834, 'pid_820845': 14.481052, 'pid_991971': 14.462674, 'pid_601768': 14.450127, 'pid_951491': 14.446779, 'pid_929104': 14.422146, 'pid_333473': 14.409204, 'pid_810844': 14.402306, 'pid_640406': 14.4010105, 'pid_479164': 14.400526, 'pid_850772': 14.400468, 'pid_234510': 14.395821, 'pid_245117': 14.391942, 'pid_283724': 14.374566, 'pid_996741': 14.371821, 'pid_372754': 14.349485, 'pid_124103': 14.3455715, 'pid_992892': 14.3455715, 'pid_723622': 14.337875, 'pid_191528': 14.334489, 'pid_894484': 14.330187, 'pid_749806': 14.32424, 'pid_679020': 14.319813, 'pid_583064': 14.3154335, 'pid_621772': 14.314839, 'pid_18030': 14.305022, 'pid_197788': 14.290262, 'pid_34737': 14.289387, 'pid_801158': 14.27716, 'pid_358343': 14.273365, 'pid_906470': 14.269011, 'pid_449718': 14.267622, 'pid_1128': 14.232813, 'pid_204951': 14.215246, 'pid_149785': 14.213743, 'pid_589970': 14.209379, 'pid_227935': 14.200661, 'pid_771379': 14.200661, 'pid_610984': 14.193344, 'pid_289139': 14.191954, 'pid_112534': 14.191786, 'pid_649541': 14.191786, 'pid_252967': 14.187605, 'pid_205431': 14.183258, 'pid_351427': 14.144262, 'pid_396566': 14.136698, 'pid_671779': 14.134506, 'pid_732220': 14.127002, 'pid_999312': 14.126665, 'pid_808754': 14.125257, 'pid_548721': 14.124826, 'pid_316441': 14.116018, 'pid_607135': 14.108063, 'pid_613078': 14.0754795, 'pid_902047': 14.0754795}, 'qid_5036': {'pid_592185': 44.501064, 'pid_650912': 42.002163, 'pid_133970': 39.450333, 'pid_957316': 39.375584, 'pid_792085': 39.25312, 'pid_510763': 38.0274, 'pid_839870': 37.852417, 'pid_450252': 37.19194, 'pid_562089': 37.016644, 'pid_629330': 36.99864, 'pid_972442': 36.745564, 'pid_374361': 36.564053, 'pid_175533': 36.51152, 'pid_360039': 36.222122, 'pid_339804': 36.109238, 'pid_83463': 35.131187, 'pid_92841': 34.99334, 'pid_315846': 34.901016, 'pid_511807': 34.89663, 'pid_452983': 34.718815, 'pid_957955': 34.084225, 'pid_243854': 33.844654, 'pid_514626': 33.82865, 'pid_846675': 32.92547, 'pid_222048': 32.483604, 'pid_374343': 32.404434, 'pid_388906': 32.25234, 'pid_951781': 32.09108, 'pid_141666': 31.887308, 'pid_266429': 31.832544, 'pid_155056': 31.63968, 'pid_645298': 31.502056, 'pid_383083': 31.269531, 'pid_432812': 31.18375, 'pid_955879': 31.170675, 'pid_737378': 31.025707, 'pid_993575': 30.958946, 'pid_517018': 30.907585, 'pid_967242': 30.86526, 'pid_380946': 30.596607, 'pid_307661': 30.235126, 'pid_859625': 30.235126, 'pid_160609': 30.151947, 'pid_265705': 29.887844, 'pid_178706': 29.873062, 'pid_965339': 29.65043, 'pid_223069': 29.582693, 'pid_381119': 29.53826, 'pid_237461': 29.471792, 'pid_856385': 29.455456, 'pid_327582': 29.277367, 'pid_709205': 29.272234, 'pid_274336': 29.207243, 'pid_215546': 29.112766, 'pid_117716': 29.005264, 'pid_146219': 29.003561, 'pid_100061': 28.87672, 'pid_244519': 28.853874, 'pid_277409': 28.811562, 'pid_602337': 28.767664, 'pid_540570': 28.56456, 'pid_363106': 28.545483, 'pid_197004': 28.4502, 'pid_993082': 28.413422, 'pid_465246': 28.395144, 'pid_410442': 28.34254, 'pid_100990': 28.332, 'pid_667607': 28.29011, 'pid_643024': 28.267656, 'pid_61348': 28.243694, 'pid_713721': 28.21232, 'pid_884878': 28.150719, 'pid_917': 28.059109, 'pid_589889': 28.021273, 'pid_912467': 28.015764, 'pid_719498': 28.010365, 'pid_752096': 27.938997, 'pid_359943': 27.922045, 'pid_829261': 27.916765, 'pid_520743': 27.883923, 'pid_282353': 27.78241, 'pid_385825': 27.780193, 'pid_663511': 27.653276, 'pid_775660': 27.61774, 'pid_533596': 27.572083, 'pid_164939': 27.57004, 'pid_832828': 27.423653, 'pid_771301': 27.378904, 'pid_685191': 27.369286, 'pid_8358': 27.356657, 'pid_497225': 27.206493, 'pid_646392': 27.174913, 'pid_428728': 27.157833, 'pid_594464': 27.140799, 'pid_140991': 27.14029, 'pid_124211': 27.105423, 'pid_589288': 27.041904, 'pid_118915': 27.027393, 'pid_690278': 26.920464, 'pid_976008': 26.907143}, 'qid_5037': {'pid_49088': 26.423721, 'pid_27944': 22.98221, 'pid_76484': 22.714275, 'pid_538334': 22.403017, 'pid_989281': 21.901318, 'pid_286224': 21.783587, 'pid_59577': 21.62037, 'pid_518085': 21.261976, 'pid_754760': 21.187193, 'pid_514790': 21.162941, 'pid_465370': 21.14082, 'pid_134919': 21.01864, 'pid_436409': 20.729143, 'pid_619080': 20.72869, 'pid_839320': 20.717495, 'pid_512442': 20.646399, 'pid_941703': 20.632671, 'pid_116404': 20.52351, 'pid_925': 20.282072, 'pid_738660': 20.255596, 'pid_989113': 20.20285, 'pid_122143': 20.202463, 'pid_957471': 20.19038, 'pid_677269': 19.849016, 'pid_154724': 19.63514, 'pid_657478': 19.41105, 'pid_763147': 19.352345, 'pid_855438': 19.28355, 'pid_541859': 18.819988, 'pid_714093': 18.714708, 'pid_850399': 18.48462, 'pid_194299': 18.476437, 'pid_323315': 18.434223, 'pid_714343': 18.325583, 'pid_821877': 18.270555, 'pid_886963': 18.206285, 'pid_682154': 18.09054, 'pid_400267': 18.042889, 'pid_951693': 17.886826, 'pid_860708': 17.78621, 'pid_211968': 17.676203, 'pid_319097': 17.667805, 'pid_809749': 17.560226, 'pid_945772': 17.492327, 'pid_805323': 17.486227, 'pid_653595': 17.426636, 'pid_861092': 17.138596, 'pid_219642': 17.129854, 'pid_630999': 17.120502, 'pid_815644': 17.100395, 'pid_762622': 16.952576, 'pid_795971': 16.923203, 'pid_160063': 16.922703, 'pid_662108': 16.878647, 'pid_550824': 16.869007, 'pid_517252': 16.853985, 'pid_465551': 16.835724, 'pid_425772': 16.79715, 'pid_554100': 16.720556, 'pid_805463': 16.702978, 'pid_578849': 16.623373, 'pid_253981': 16.602203, 'pid_557500': 16.541498, 'pid_111165': 16.518211, 'pid_236052': 16.491732, 'pid_60644': 16.486954, 'pid_894334': 16.486954, 'pid_871342': 16.478664, 'pid_834646': 16.399029, 'pid_957984': 16.366299, 'pid_253429': 16.333698, 'pid_398510': 16.312037, 'pid_604940': 16.312037, 'pid_749700': 16.301228, 'pid_886799': 16.268887, 'pid_3740': 16.226082, 'pid_582772': 16.214718, 'pid_42145': 16.187986, 'pid_236497': 16.151884, 'pid_787332': 16.133362, 'pid_302551': 16.111412, 'pid_278982': 16.087374, 'pid_522461': 16.056513, 'pid_708677': 16.052555, 'pid_434295': 16.03556, 'pid_836963': 16.014702, 'pid_999763': 15.940774, 'pid_807114': 15.923696, 'pid_117': 15.860209, 'pid_559525': 15.78484, 'pid_61055': 15.601309, 'pid_107503': 15.578808, 'pid_781820': 15.53979, 'pid_326650': 15.467346, 'pid_89609': 15.432337, 'pid_648508': 15.379413, 'pid_903678': 15.27818, 'pid_685694': 15.2696, 'pid_317252': 15.245053, 'pid_320772': 15.084112}, 'qid_5038': {'pid_920578': 18.480127, 'pid_975202': 18.230223, 'pid_994382': 17.74186, 'pid_809387': 15.645809, 'pid_331705': 15.307043, 'pid_680542': 15.090059, 'pid_145810': 14.967693, 'pid_615042': 14.707766, 'pid_594535': 14.6667595, 'pid_365807': 14.633646, 'pid_387859': 14.551957, 'pid_651465': 14.528101, 'pid_63924': 14.511515, 'pid_411372': 14.496886, 'pid_266883': 14.386482, 'pid_732732': 14.36492, 'pid_24680': 14.356924, 'pid_250375': 14.303265, 'pid_414120': 14.293289, 'pid_82500': 14.2239685, 'pid_947413': 14.188058, 'pid_726176': 14.160038, 'pid_768005': 14.087228, 'pid_215923': 14.011158, 'pid_616558': 13.961271, 'pid_133089': 13.95534, 'pid_172295': 13.9549675, 'pid_181921': 13.875946, 'pid_26308': 13.866621, 'pid_484125': 13.857309, 'pid_117704': 13.848009, 'pid_552026': 13.829447, 'pid_66577': 13.820185, 'pid_388062': 13.820185, 'pid_374624': 13.817202, 'pid_671945': 13.810936, 'pid_751312': 13.658573, 'pid_106160': 13.64653, 'pid_878750': 13.628312, 'pid_340936': 13.627763, 'pid_808511': 13.597099, 'pid_284848': 13.592594, 'pid_425049': 13.574711, 'pid_962948': 13.559293, 'pid_160160': 13.556874, 'pid_482710': 13.475893, 'pid_239454': 13.428844, 'pid_567347': 13.386481, 'pid_628403': 13.363718, 'pid_868248': 13.363718, 'pid_916580': 13.327568, 'pid_319049': 13.192837, 'pid_963804': 13.192837, 'pid_967926': 13.138512, 'pid_147205': 13.1297245, 'pid_298491': 13.103432, 'pid_878689': 13.103432, 'pid_190799': 13.09469, 'pid_987388': 13.09469, 'pid_885287': 13.068539, 'pid_484415': 13.059843, 'pid_900333': 13.04249, 'pid_800169': 12.92898, 'pid_531671': 12.913789, 'pid_908000': 12.885808, 'pid_920458': 12.680221, 'pid_519675': 12.550507, 'pid_992023': 12.486642, 'pid_428907': 12.360839, 'pid_40591': 12.303761, 'pid_431411': 11.939814, 'pid_82462': 11.413569, 'pid_127683': 11.271887, 'pid_604341': 11.219666, 'pid_691631': 11.158195, 'pid_230889': 11.147427, 'pid_414591': 11.137375, 'pid_522047': 11.087082, 'pid_666200': 11.050948, 'pid_549647': 11.043044, 'pid_413609': 11.038935, 'pid_557308': 11.0353565, 'pid_433731': 10.989531, 'pid_714861': 10.980065, 'pid_336754': 10.889818, 'pid_630700': 10.879078, 'pid_635025': 10.859112, 'pid_32746': 10.846777, 'pid_367483': 10.833443, 'pid_518473': 10.789373, 'pid_502355': 10.785923, 'pid_515697': 10.785923, 'pid_816567': 10.776081, 'pid_301430': 10.774914, 'pid_820668': 10.770086, 'pid_314395': 10.746748, 'pid_846903': 10.746748, 'pid_470388': 10.724524, 'pid_398711': 10.722972, 'pid_642654': 10.713868}, 'qid_5039': {'pid_144962': 22.255392, 'pid_965780': 21.171545, 'pid_406945': 21.017916, 'pid_206463': 20.835625, 'pid_191131': 20.758108, 'pid_62572': 20.16305, 'pid_609974': 19.848644, 'pid_914000': 19.816538, 'pid_873432': 19.752035, 'pid_716419': 19.739813, 'pid_977281': 19.67803, 'pid_747242': 19.66196, 'pid_995893': 19.58384, 'pid_759027': 19.013752, 'pid_574227': 18.844723, 'pid_622806': 18.81963, 'pid_251057': 18.508816, 'pid_62765': 18.429462, 'pid_436050': 18.328289, 'pid_471669': 18.259733, 'pid_68306': 18.247196, 'pid_597013': 18.176876, 'pid_726517': 18.082748, 'pid_558045': 18.079124, 'pid_351213': 18.053802, 'pid_430863': 18.046553, 'pid_849961': 17.980824, 'pid_741527': 17.903194, 'pid_795610': 17.851969, 'pid_531634': 17.845798, 'pid_875879': 17.841627, 'pid_134248': 17.829124, 'pid_873375': 17.795868, 'pid_565592': 17.787575, 'pid_762921': 17.75003, 'pid_94684': 17.697653, 'pid_821499': 17.67099, 'pid_724352': 17.661766, 'pid_641402': 17.652554, 'pid_290884': 17.641712, 'pid_867368': 17.63875, 'pid_864721': 17.62497, 'pid_450876': 17.604897, 'pid_348495': 17.602047, 'pid_837948': 17.5774, 'pid_684405': 17.539276, 'pid_642490': 17.510954, 'pid_813071': 17.469105, 'pid_57753': 17.422764, 'pid_729699': 17.330652, 'pid_509967': 17.31049, 'pid_1309': 17.276848, 'pid_480465': 17.276848, 'pid_248666': 17.265663, 'pid_540262': 17.260078, 'pid_697532': 17.260078, 'pid_950723': 17.2582, 'pid_250739': 17.248917, 'pid_201900': 17.243341, 'pid_511510': 17.23777, 'pid_538875': 17.232203, 'pid_46577': 17.221077, 'pid_439767': 17.221077, 'pid_776916': 17.220879, 'pid_167341': 17.209969, 'pid_114700': 17.204418, 'pid_939487': 17.204418, 'pid_531967': 17.198874, 'pid_979569': 17.198874, 'pid_54281': 17.187794, 'pid_201303': 17.187794, 'pid_985363': 17.187794, 'pid_336357': 17.165678, 'pid_707326': 17.14362, 'pid_154557': 17.02887, 'pid_712705': 16.996792, 'pid_36919': 16.939358, 'pid_439123': 16.939358, 'pid_259757': 16.926647, 'pid_419730': 16.913956, 'pid_923158': 16.913956, 'pid_382988': 16.907618, 'pid_288659': 16.894955, 'pid_700541': 16.894955, 'pid_974867': 16.88863, 'pid_875308': 16.875996, 'pid_426233': 16.869684, 'pid_249938': 16.83192, 'pid_174300': 16.769358, 'pid_759084': 16.719292, 'pid_415542': 16.645954, 'pid_854113': 16.644745, 'pid_239057': 16.629362, 'pid_677075': 16.604752, 'pid_812623': 16.604752, 'pid_806705': 16.6, 'pid_127334': 16.589952, 'pid_552999': 16.581478, 'pid_644546': 16.581478, 'pid_594664': 16.580256}, 'qid_5040': {'pid_926141': 29.342648, 'pid_220264': 25.239948, 'pid_244894': 24.704374, 'pid_825548': 24.50145, 'pid_651945': 24.471165, 'pid_279421': 24.244726, 'pid_114104': 24.058668, 'pid_709903': 23.775246, 'pid_206335': 23.670311, 'pid_932104': 23.301085, 'pid_113029': 23.204556, 'pid_874438': 23.197525, 'pid_450226': 23.001328, 'pid_63215': 22.816715, 'pid_550894': 22.608065, 'pid_118624': 22.514082, 'pid_574731': 22.50836, 'pid_37473': 22.440487, 'pid_919224': 22.417856, 'pid_991209': 22.26641, 'pid_66152': 22.263569, 'pid_222798': 22.262585, 'pid_849894': 22.164757, 'pid_222527': 22.021015, 'pid_894767': 21.976889, 'pid_865206': 21.896389, 'pid_24202': 21.87928, 'pid_846999': 21.854998, 'pid_130986': 21.807194, 'pid_329405': 21.773233, 'pid_18483': 21.62454, 'pid_602507': 21.601807, 'pid_32962': 21.46471, 'pid_441978': 21.45245, 'pid_869810': 21.444178, 'pid_413864': 21.440205, 'pid_506864': 21.435797, 'pid_408449': 20.940231, 'pid_749478': 20.879742, 'pid_519028': 20.658545, 'pid_408744': 20.570168, 'pid_185851': 20.500196, 'pid_500150': 20.34721, 'pid_42044': 19.933277, 'pid_578644': 19.843657, 'pid_34408': 19.665949, 'pid_740094': 19.650967, 'pid_862529': 19.230154, 'pid_998780': 19.09945, 'pid_6857': 19.071423, 'pid_791896': 19.017157, 'pid_608136': 18.995836, 'pid_699619': 18.944115, 'pid_160062': 18.925268, 'pid_893521': 18.909977, 'pid_853001': 18.856827, 'pid_915265': 18.841415, 'pid_599993': 18.783878, 'pid_69176': 18.733562, 'pid_23438': 18.708126, 'pid_996027': 18.70807, 'pid_770912': 18.666502, 'pid_650761': 18.580795, 'pid_113875': 18.526106, 'pid_381962': 18.434586, 'pid_819077': 18.416922, 'pid_236888': 18.414268, 'pid_156511': 18.406694, 'pid_594248': 18.380968, 'pid_662255': 18.275215, 'pid_324169': 18.136717, 'pid_338405': 18.123503, 'pid_251263': 18.084543, 'pid_637031': 18.07183, 'pid_999877': 18.045006, 'pid_60849': 18.008617, 'pid_170874': 17.966564, 'pid_841639': 17.902958, 'pid_468749': 17.865566, 'pid_78493': 17.793606, 'pid_887584': 17.788864, 'pid_462256': 17.768568, 'pid_306332': 17.747837, 'pid_683249': 17.737885, 'pid_645097': 17.732136, 'pid_146671': 17.693031, 'pid_416085': 17.687536, 'pid_880653': 17.599775, 'pid_163900': 17.581898, 'pid_145212': 17.58069, 'pid_584805': 17.546104, 'pid_105876': 17.541246, 'pid_271634': 17.510326, 'pid_407929': 17.443218, 'pid_9': 17.402145, 'pid_132121': 17.372684, 'pid_476293': 17.351898, 'pid_30488': 17.332714, 'pid_720099': 17.259048, 'pid_243939': 17.249134}, 'qid_5041': {'pid_235060': 42.422386, 'pid_359051': 36.642746, 'pid_454963': 36.225307, 'pid_890060': 36.105045, 'pid_469863': 35.966858, 'pid_819428': 35.600216, 'pid_686626': 35.113113, 'pid_621283': 34.932365, 'pid_77801': 34.89013, 'pid_731714': 34.652615, 'pid_127711': 33.965282, 'pid_232350': 33.32065, 'pid_82548': 32.537926, 'pid_286867': 31.597855, 'pid_493803': 30.440153, 'pid_639827': 30.044395, 'pid_489446': 28.714508, 'pid_98482': 27.58688, 'pid_9487': 27.45284, 'pid_604462': 27.415257, 'pid_459191': 27.267483, 'pid_521060': 27.183044, 'pid_584686': 26.372337, 'pid_86052': 26.157497, 'pid_792571': 26.103043, 'pid_832856': 25.743357, 'pid_407126': 25.703089, 'pid_840807': 25.588493, 'pid_88922': 25.506441, 'pid_192158': 25.354334, 'pid_763952': 25.2427, 'pid_182847': 25.23911, 'pid_294358': 25.238983, 'pid_119364': 25.227085, 'pid_450526': 25.227085, 'pid_273019': 25.209053, 'pid_663977': 25.204216, 'pid_8779': 25.112371, 'pid_400540': 25.008945, 'pid_395253': 24.946194, 'pid_573273': 24.865953, 'pid_25790': 24.72007, 'pid_511995': 24.575739, 'pid_525263': 24.514318, 'pid_962866': 24.433006, 'pid_683253': 24.423279, 'pid_167897': 24.360563, 'pid_122808': 24.3416, 'pid_978869': 24.27017, 'pid_452577': 24.264181, 'pid_565283': 24.21907, 'pid_386860': 23.990112, 'pid_416057': 23.879679, 'pid_106089': 23.54747, 'pid_2909': 23.447, 'pid_466823': 23.4309, 'pid_685462': 23.195644, 'pid_442531': 23.149225, 'pid_135062': 23.149124, 'pid_476775': 23.133793, 'pid_922143': 23.104408, 'pid_421490': 23.04247, 'pid_751305': 22.642735, 'pid_295371': 22.31776, 'pid_38224': 22.31218, 'pid_72444': 22.17208, 'pid_486808': 22.150654, 'pid_326563': 22.118567, 'pid_961928': 22.044912, 'pid_811554': 21.904743, 'pid_641442': 21.830507, 'pid_763043': 21.779613, 'pid_228144': 21.760906, 'pid_300597': 21.57939, 'pid_534275': 21.567738, 'pid_276980': 21.564272, 'pid_117903': 21.560701, 'pid_693618': 21.552902, 'pid_661556': 21.548672, 'pid_892961': 21.406715, 'pid_109089': 21.403362, 'pid_95818': 21.388107, 'pid_867756': 21.305805, 'pid_882511': 21.254774, 'pid_200957': 21.23389, 'pid_728133': 21.093538, 'pid_723405': 21.0838, 'pid_306741': 20.896042, 'pid_210200': 20.88385, 'pid_41075': 20.8684, 'pid_989759': 20.852747, 'pid_165404': 20.848307, 'pid_702543': 20.845106, 'pid_200893': 20.777554, 'pid_895257': 20.753036, 'pid_785918': 20.591055, 'pid_508722': 20.554255, 'pid_163794': 20.455032, 'pid_571430': 20.430569, 'pid_129481': 20.395906}, 'qid_5042': {'pid_113029': 34.52315, 'pid_841639': 27.163605, 'pid_645097': 27.02365, 'pid_699619': 25.557526, 'pid_66152': 25.039646, 'pid_624380': 22.83858, 'pid_391154': 22.760376, 'pid_419349': 22.54526, 'pid_865136': 22.177608, 'pid_556630': 20.986431, 'pid_352063': 20.48064, 'pid_114104': 20.343708, 'pid_709903': 20.302155, 'pid_324129': 19.69677, 'pid_740094': 19.650967, 'pid_244894': 19.238476, 'pid_862529': 19.230154, 'pid_156466': 19.131233, 'pid_998780': 19.09945, 'pid_858689': 19.046223, 'pid_220264': 18.920942, 'pid_733476': 18.9057, 'pid_853001': 18.856827, 'pid_915265': 18.841415, 'pid_118624': 18.818546, 'pid_996027': 18.70807, 'pid_919224': 18.658438, 'pid_37473': 18.654026, 'pid_63215': 18.619434, 'pid_650761': 18.580795, 'pid_39655': 18.437119, 'pid_849894': 18.407837, 'pid_926141': 18.30761, 'pid_662255': 18.275215, 'pid_222527': 18.26659, 'pid_894767': 18.247227, 'pid_865206': 18.200853, 'pid_825548': 18.093628, 'pid_550894': 18.075172, 'pid_329405': 18.07286, 'pid_222798': 18.062187, 'pid_170874': 17.966564, 'pid_18483': 17.894878, 'pid_602507': 17.87706, 'pid_866823': 17.867393, 'pid_462256': 17.768568, 'pid_869810': 17.753466, 'pid_506864': 17.706135, 'pid_32962': 17.702791, 'pid_146671': 17.693031, 'pid_441978': 17.693031, 'pid_416085': 17.687536, 'pid_413864': 17.683285, 'pid_163900': 17.581898, 'pid_145212': 17.58069, 'pid_584805': 17.546104, 'pid_492651': 17.531422, 'pid_548991': 17.48985, 'pid_9': 17.402145, 'pid_749478': 17.208199, 'pid_279421': 17.20089, 'pid_52289': 17.063875, 'pid_167747': 16.983925, 'pid_364544': 16.972588, 'pid_932104': 16.927391, 'pid_40715': 16.895475, 'pid_324270': 16.782148, 'pid_829169': 16.748983, 'pid_343454': 16.662241, 'pid_225127': 16.639378, 'pid_185851': 16.339973, 'pid_643971': 16.136898, 'pid_603702': 15.73288, 'pid_488035': 15.622778, 'pid_388383': 14.586448, 'pid_352225': 14.388669, 'pid_60849': 14.231621, 'pid_984343': 14.212923, 'pid_395325': 14.202589, 'pid_206335': 13.992531, 'pid_338405': 13.987622, 'pid_314539': 13.925222, 'pid_239898': 13.912632, 'pid_251263': 13.912041, 'pid_637031': 13.905478, 'pid_440355': 13.843842, 'pid_738696': 13.787367, 'pid_662219': 13.775772, 'pid_967389': 13.748522, 'pid_488973': 13.736618, 'pid_164625': 13.692111, 'pid_568088': 13.692111, 'pid_31370': 13.6684265, 'pid_468749': 13.668286, 'pid_651945': 13.66567, 'pid_90267': 13.653426, 'pid_57468': 13.651695, 'pid_853769': 13.650986, 'pid_750103': 13.619905, 'pid_418816': 13.618921}, 'qid_5043': {'pid_75796': 22.482866, 'pid_143427': 22.439388, 'pid_947894': 22.372393, 'pid_243540': 21.850914, 'pid_360143': 21.708332, 'pid_585376': 21.482586, 'pid_981054': 21.385826, 'pid_660510': 21.344212, 'pid_94787': 21.286543, 'pid_875669': 21.23304, 'pid_44903': 21.154148, 'pid_38794': 21.144733, 'pid_898863': 21.111835, 'pid_944672': 21.058167, 'pid_913649': 20.796518, 'pid_733253': 19.952393, 'pid_954078': 18.527555, 'pid_371653': 18.328178, 'pid_724792': 17.986658, 'pid_416673': 17.973595, 'pid_964963': 17.966911, 'pid_57574': 17.958519, 'pid_40475': 17.926434, 'pid_879134': 17.906307, 'pid_435038': 17.905094, 'pid_880920': 17.89186, 'pid_555634': 17.846603, 'pid_156565': 17.834278, 'pid_661496': 17.783348, 'pid_327461': 17.77623, 'pid_834324': 17.747816, 'pid_669222': 17.74546, 'pid_661568': 17.711233, 'pid_177102': 17.70298, 'pid_680062': 17.69831, 'pid_143177': 17.691456, 'pid_319262': 17.684216, 'pid_750862': 17.63025, 'pid_991737': 17.615019, 'pid_28219': 17.570793, 'pid_574865': 17.464497, 'pid_500280': 17.444412, 'pid_282435': 17.433163, 'pid_218010': 17.420029, 'pid_825823': 17.412054, 'pid_714301': 17.404055, 'pid_688306': 17.377956, 'pid_357331': 17.37767, 'pid_591856': 17.30537, 'pid_129135': 17.295618, 'pid_59178': 17.259188, 'pid_117558': 17.229721, 'pid_532982': 17.229721, 'pid_328292': 17.220455, 'pid_989081': 17.214117, 'pid_632907': 17.202667, 'pid_601624': 17.191013, 'pid_191140': 17.181536, 'pid_941363': 17.172073, 'pid_705191': 17.16869, 'pid_41123': 17.158546, 'pid_126932': 17.148418, 'pid_615766': 17.077875, 'pid_942288': 17.057482, 'pid_582577': 17.027872, 'pid_219234': 17.01791, 'pid_640716': 17.01791, 'pid_949359': 17.01791, 'pid_343865': 17.016895, 'pid_993907': 17.016895, 'pid_716151': 17.00035, 'pid_991121': 16.998024, 'pid_357546': 16.994843, 'pid_523051': 16.983839, 'pid_808039': 16.947273, 'pid_143835': 16.939968, 'pid_245287': 16.926449, 'pid_16272': 16.879753, 'pid_995425': 16.863756, 'pid_882799': 16.681845, 'pid_23960': 16.681578, 'pid_481071': 16.650576, 'pid_694021': 16.650576, 'pid_419609': 16.63187, 'pid_281911': 16.53281, 'pid_238166': 16.394184, 'pid_597382': 16.375832, 'pid_182946': 16.334984, 'pid_993615': 16.322853, 'pid_723370': 16.310143, 'pid_685234': 16.309696, 'pid_333456': 16.309242, 'pid_936488': 16.294357, 'pid_836560': 16.290016, 'pid_950737': 16.287752, 'pid_23392': 16.28432, 'pid_659069': 16.26351, 'pid_802749': 16.259953, 'pid_78242': 16.254665, 'pid_150932': 16.24828}, 'qid_5044': {'pid_127189': 28.224083, 'pid_881060': 26.717232, 'pid_45088': 25.931116, 'pid_868233': 24.720676, 'pid_544200': 24.302185, 'pid_849304': 23.37144, 'pid_925280': 23.076115, 'pid_161100': 22.660635, 'pid_959695': 21.108871, 'pid_260521': 21.014, 'pid_428569': 20.69909, 'pid_75817': 20.424244, 'pid_245561': 20.40093, 'pid_126168': 20.395836, 'pid_622186': 20.09205, 'pid_813736': 19.93865, 'pid_555694': 19.72116, 'pid_224589': 19.686363, 'pid_906922': 19.327637, 'pid_402209': 19.28416, 'pid_129813': 19.14925, 'pid_519865': 19.036959, 'pid_43726': 18.395044, 'pid_904030': 17.684807, 'pid_997780': 17.682966, 'pid_810502': 17.45862, 'pid_392173': 17.237085, 'pid_294061': 16.913546, 'pid_73764': 16.90348, 'pid_546575': 16.894886, 'pid_114047': 16.871447, 'pid_991038': 16.677282, 'pid_22953': 16.636421, 'pid_402462': 16.562227, 'pid_974710': 16.541403, 'pid_892319': 16.523745, 'pid_322280': 16.41888, 'pid_805979': 16.405579, 'pid_794261': 16.389381, 'pid_901956': 16.269045, 'pid_47843': 16.19407, 'pid_70707': 16.157625, 'pid_569416': 16.152966, 'pid_855668': 16.147472, 'pid_821966': 16.094692, 'pid_890787': 16.058525, 'pid_206587': 16.053394, 'pid_242096': 16.040007, 'pid_753424': 16.00817, 'pid_437045': 16.002281, 'pid_105822': 15.992108, 'pid_238407': 15.990877, 'pid_132294': 15.951506, 'pid_413642': 15.8830385, 'pid_248560': 15.879004, 'pid_91029': 15.872116, 'pid_811201': 15.815821, 'pid_683331': 15.748182, 'pid_96806': 15.742285, 'pid_963613': 15.736351, 'pid_188748': 15.724539, 'pid_686359': 15.711897, 'pid_24480': 15.640091, 'pid_510845': 15.619364, 'pid_144442': 15.575014, 'pid_427186': 15.549458, 'pid_854796': 15.526407, 'pid_59936': 15.504101, 'pid_944870': 15.498905, 'pid_18004': 15.48905, 'pid_70169': 15.413992, 'pid_361970': 15.413992, 'pid_920052': 15.412174, 'pid_540612': 15.3790245, 'pid_583306': 15.322943, 'pid_691752': 15.31304, 'pid_206047': 15.307881, 'pid_144074': 15.285544, 'pid_40781': 15.277853, 'pid_863777': 15.266879, 'pid_8109': 15.244582, 'pid_187333': 15.241608, 'pid_451239': 15.225439, 'pid_552722': 15.178712, 'pid_12589': 15.171452, 'pid_3979': 15.165278, 'pid_742808': 15.164334, 'pid_824229': 15.160589, 'pid_104275': 15.116372, 'pid_62581': 15.11005, 'pid_464030': 15.096317, 'pid_960974': 15.060417, 'pid_425752': 15.057665, 'pid_337255': 15.014793, 'pid_96826': 14.791473, 'pid_871919': 14.784047, 'pid_968359': 14.773758, 'pid_759911': 14.769218, 'pid_792583': 14.732205, 'pid_961165': 14.724926}, 'qid_5045': {'pid_14346': 32.915604, 'pid_430640': 32.39008, 'pid_68506': 32.07951, 'pid_943655': 31.911514, 'pid_493731': 31.28305, 'pid_56117': 30.409235, 'pid_528223': 29.859564, 'pid_829980': 29.776514, 'pid_200521': 29.308979, 'pid_710297': 29.29859, 'pid_976008': 29.272148, 'pid_527027': 29.103708, 'pid_48727': 29.06839, 'pid_680192': 28.92685, 'pid_965339': 28.882969, 'pid_320693': 28.722195, 'pid_134323': 28.68496, 'pid_408428': 28.61824, 'pid_657458': 28.493711, 'pid_703975': 28.26609, 'pid_680428': 28.213829, 'pid_83463': 28.126726, 'pid_322685': 28.085693, 'pid_427412': 28.0785, 'pid_753841': 28.0726, 'pid_225309': 27.964539, 'pid_440420': 27.927423, 'pid_767315': 27.830902, 'pid_104424': 27.665833, 'pid_562970': 27.607075, 'pid_917': 27.57735, 'pid_290382': 27.536066, 'pid_719498': 27.515453, 'pid_957955': 27.469883, 'pid_503499': 27.409878, 'pid_685191': 27.37973, 'pid_485091': 27.344904, 'pid_35116': 27.263546, 'pid_972442': 27.242775, 'pid_125764': 27.241621, 'pid_846675': 27.225851, 'pid_5536': 27.198267, 'pid_562089': 26.9864, 'pid_988693': 26.922134, 'pid_22726': 26.895145, 'pid_253512': 26.856297, 'pid_959092': 26.822618, 'pid_768948': 26.799255, 'pid_280194': 26.726364, 'pid_374343': 26.707201, 'pid_891770': 26.693136, 'pid_580257': 26.688095, 'pid_663511': 26.65091, 'pid_775660': 26.596205, 'pid_398370': 26.546707, 'pid_516640': 26.546707, 'pid_474431': 26.394041, 'pid_428981': 26.36954, 'pid_380946': 26.280067, 'pid_395565': 26.182463, 'pid_106159': 26.170551, 'pid_590951': 26.149218, 'pid_447912': 26.107836, 'pid_445924': 26.031078, 'pid_986980': 25.900188, 'pid_155056': 25.703962, 'pid_193615': 25.614845, 'pid_49371': 25.60041, 'pid_432812': 25.271679, 'pid_458024': 24.860321, 'pid_62861': 24.420486, 'pid_120994': 24.39975, 'pid_153491': 24.356647, 'pid_468565': 24.325813, 'pid_439310': 24.319126, 'pid_789428': 24.108997, 'pid_337601': 24.034678, 'pid_349263': 24.017174, 'pid_842005': 24.009527, 'pid_959100': 23.928288, 'pid_117716': 23.819933, 'pid_48516': 23.806057, 'pid_771301': 23.678728, 'pid_274336': 23.664814, 'pid_888706': 23.656797, 'pid_975681': 23.649359, 'pid_465246': 23.633759, 'pid_397595': 23.624271, 'pid_410442': 23.588215, 'pid_440985': 23.554358, 'pid_104532': 23.51372, 'pid_170805': 23.483742, 'pid_215546': 23.483742, 'pid_824965': 23.480644, 'pid_929043': 23.436838, 'pid_317402': 23.402145, 'pid_592185': 23.390251, 'pid_577558': 23.36671, 'pid_59834': 23.339401, 'pid_667607': 23.321056}, 'qid_5046': {'pid_26938': 20.381826, 'pid_126011': 20.359022, 'pid_475764': 20.17457, 'pid_750200': 20.075142, 'pid_545520': 19.765484, 'pid_178378': 18.544926, 'pid_134279': 15.835737, 'pid_210480': 15.773549, 'pid_699301': 15.711246, 'pid_76474': 15.706796, 'pid_842614': 15.696693, 'pid_609719': 15.68878, 'pid_34093': 15.647524, 'pid_597905': 15.647041, 'pid_575026': 15.639284, 'pid_962156': 15.618006, 'pid_72482': 15.61375, 'pid_975830': 15.59558, 'pid_956725': 15.579109, 'pid_205527': 15.577386, 'pid_937675': 15.5671015, 'pid_150997': 15.561028, 'pid_625334': 15.558346, 'pid_239829': 15.54266, 'pid_522801': 15.54266, 'pid_366217': 15.53342, 'pid_412510': 15.478889, 'pid_350005': 15.471588, 'pid_804090': 15.470847, 'pid_368850': 15.463856, 'pid_348717': 15.463331, 'pid_897813': 15.453848, 'pid_533868': 15.422105, 'pid_813734': 15.411834, 'pid_636896': 15.404266, 'pid_239045': 15.394077, 'pid_250328': 15.3701935, 'pid_227477': 15.359638, 'pid_795846': 15.348057, 'pid_87776': 15.342533, 'pid_470505': 15.337423, 'pid_780229': 15.30718, 'pid_960976': 15.30718, 'pid_52245': 15.303354, 'pid_495965': 15.299783, 'pid_562804': 15.296253, 'pid_202436': 15.275508, 'pid_883464': 15.274873, 'pid_603046': 15.2626, 'pid_97635': 15.259008, 'pid_153806': 15.232178, 'pid_402894': 15.217506, 'pid_345642': 15.168015, 'pid_435817': 15.164125, 'pid_656659': 15.154936, 'pid_445251': 15.151489, 'pid_715505': 15.14797, 'pid_377819': 15.138876, 'pid_582765': 15.137535, 'pid_240311': 15.135557, 'pid_657908': 15.129644, 'pid_707747': 15.127829, 'pid_756503': 15.109135, 'pid_714301': 15.104927, 'pid_66840': 15.102854, 'pid_75796': 15.075417, 'pid_213601': 15.068335, 'pid_282988': 15.060253, 'pid_451177': 15.058094, 'pid_163105': 15.0542555, 'pid_653387': 15.039508, 'pid_167261': 15.034394, 'pid_999380': 15.033974, 'pid_564448': 15.011556, 'pid_883776': 15.007257, 'pid_752234': 14.997202, 'pid_282821': 14.997137, 'pid_226642': 14.989357, 'pid_15463': 14.985438, 'pid_450438': 14.985438, 'pid_279271': 14.981575, 'pid_851915': 14.976231, 'pid_40879': 14.972387, 'pid_595948': 14.964076, 'pid_981646': 14.962812, 'pid_639588': 14.9619665, 'pid_331588': 14.94636, 'pid_864120': 14.94071, 'pid_446849': 14.928794, 'pid_267667': 14.915407, 'pid_783656': 14.915243, 'pid_478989': 14.905096, 'pid_751009': 14.8975935, 'pid_456309': 14.896746, 'pid_163966': 14.882162, 'pid_748671': 14.876528, 'pid_783790': 14.869688, 'pid_198375': 14.862675, 'pid_179365': 14.845701, 'pid_888580': 14.831795}, 'qid_5047': {'pid_510660': 18.531303, 'pid_996451': 17.95141, 'pid_394070': 17.816975, 'pid_93816': 17.581839, 'pid_372680': 17.551449, 'pid_80538': 17.394337, 'pid_773225': 17.35824, 'pid_23261': 17.171349, 'pid_864023': 17.171156, 'pid_831107': 17.066483, 'pid_923430': 17.066483, 'pid_720083': 16.997334, 'pid_586685': 16.973469, 'pid_18916': 16.908657, 'pid_659076': 16.717377, 'pid_182276': 16.635912, 'pid_910741': 16.602486, 'pid_958847': 16.558125, 'pid_523562': 16.470116, 'pid_271732': 16.44826, 'pid_692933': 16.42646, 'pid_647761': 16.41558, 'pid_526484': 16.350616, 'pid_819190': 16.329075, 'pid_163823': 16.30759, 'pid_498290': 16.264793, 'pid_631569': 16.264793, 'pid_930086': 16.222216, 'pid_958551': 16.179865, 'pid_62971': 16.054121, 'pid_824879': 15.6883545, 'pid_953377': 14.932333, 'pid_767096': 11.201585, 'pid_994567': 11.087681, 'pid_137319': 10.963452, 'pid_929133': 10.929884, 'pid_572819': 10.732494, 'pid_657796': 10.681825, 'pid_871382': 10.668999, 'pid_359884': 10.66473, 'pid_22610': 10.596895, 'pid_373583': 10.4516, 'pid_979156': 10.439196, 'pid_968498': 10.432511, 'pid_655639': 10.421635, 'pid_995905': 10.413492, 'pid_299810': 10.410781, 'pid_357062': 10.405362, 'pid_404323': 10.399949, 'pid_465013': 10.282274, 'pid_425709': 10.004651, 'pid_892894': 9.989654, 'pid_979297': 9.989654, 'pid_969809': 9.985911, 'pid_587288': 9.9784355, 'pid_505657': 9.974701, 'pid_795858': 9.974701, 'pid_691085': 9.963516, 'pid_564694': 9.959793, 'pid_737033': 9.956074, 'pid_44947': 9.930112, 'pid_92008': 9.930112, 'pid_325702': 9.930112, 'pid_406670': 9.915337, 'pid_808080': 9.907966, 'pid_263880': 9.893256, 'pid_712849': 9.893256, 'pid_914732': 9.878591, 'pid_981978': 9.863969, 'pid_792351': 9.84939, 'pid_690242': 9.834854, 'pid_630734': 9.820361, 'pid_349818': 9.791503, 'pid_42714': 9.777138, 'pid_123396': 9.777138, 'pid_502010': 9.720095, 'pid_464205': 9.4973755, 'pid_618806': 9.493442, 'pid_233987': 9.471866, 'pid_555644': 9.459886, 'pid_915728': 9.445407, 'pid_481140': 9.423219, 'pid_437554': 9.409955, 'pid_817277': 9.396729, 'pid_821640': 9.396729, 'pid_191442': 9.396213, 'pid_226839': 9.384672, 'pid_268209': 9.384672, 'pid_351962': 9.379552, 'pid_853627': 9.379552, 'pid_676389': 9.3693285, 'pid_962762': 9.3693285, 'pid_44094': 9.364224, 'pid_86988': 9.364224, 'pid_748641': 9.359127, 'pid_910437': 9.335794, 'pid_710482': 9.3115225, 'pid_723927': 9.3115225, 'pid_993958': 9.306986, 'pid_983237': 9.2949095}, 'qid_5048': {'pid_728450': 35.84327, 'pid_772328': 34.174156, 'pid_908259': 30.117434, 'pid_895944': 26.293139, 'pid_563363': 26.259348, 'pid_570404': 25.01626, 'pid_369763': 24.902107, 'pid_449112': 24.645323, 'pid_866304': 24.602983, 'pid_488021': 24.290668, 'pid_92450': 23.9935, 'pid_153742': 23.428755, 'pid_101327': 23.28091, 'pid_783126': 23.18256, 'pid_391139': 23.009539, 'pid_565411': 22.783604, 'pid_218960': 22.615414, 'pid_775250': 22.331678, 'pid_425839': 22.275078, 'pid_49383': 22.105677, 'pid_472662': 21.914923, 'pid_156833': 21.872482, 'pid_873106': 21.506504, 'pid_402674': 21.404152, 'pid_930057': 21.305716, 'pid_478621': 21.298834, 'pid_512010': 21.200968, 'pid_515740': 21.01553, 'pid_256268': 20.960735, 'pid_951157': 20.80684, 'pid_152758': 20.793297, 'pid_826615': 20.745329, 'pid_297780': 20.725931, 'pid_860949': 20.649208, 'pid_219932': 20.59886, 'pid_733463': 20.491087, 'pid_228004': 20.448772, 'pid_452902': 20.340576, 'pid_253901': 20.289173, 'pid_582148': 20.284548, 'pid_188973': 20.265306, 'pid_734795': 20.190414, 'pid_906597': 20.118093, 'pid_180190': 20.080555, 'pid_449986': 20.07716, 'pid_454905': 20.030136, 'pid_994888': 19.996023, 'pid_459052': 19.943024, 'pid_18220': 19.673262, 'pid_302337': 19.639809, 'pid_465338': 19.422138, 'pid_358922': 19.39865, 'pid_230406': 19.329082, 'pid_76779': 19.28996, 'pid_961380': 19.22992, 'pid_13935': 19.195345, 'pid_843712': 19.175587, 'pid_287668': 19.124, 'pid_772988': 19.05157, 'pid_281670': 18.980974, 'pid_415648': 18.741463, 'pid_330918': 18.73196, 'pid_925431': 18.729456, 'pid_577630': 18.638033, 'pid_716956': 18.603554, 'pid_545120': 18.472075, 'pid_594692': 18.471504, 'pid_777601': 18.370918, 'pid_254518': 18.271688, 'pid_553951': 18.268015, 'pid_830929': 18.224873, 'pid_989551': 18.181555, 'pid_188261': 18.09385, 'pid_253500': 18.038017, 'pid_373330': 18.007282, 'pid_217740': 18.007118, 'pid_893525': 17.881596, 'pid_926029': 17.865835, 'pid_842105': 17.832943, 'pid_676010': 17.653046, 'pid_631761': 17.638994, 'pid_968431': 17.50861, 'pid_873261': 17.478374, 'pid_267576': 17.427763, 'pid_681038': 17.414425, 'pid_373007': 17.382544, 'pid_15422': 17.239956, 'pid_715673': 17.208261, 'pid_969937': 17.174637, 'pid_651168': 17.168074, 'pid_175338': 17.154037, 'pid_182393': 17.147346, 'pid_816518': 17.147346, 'pid_459011': 17.122068, 'pid_839585': 17.003328, 'pid_565145': 16.996449, 'pid_928636': 16.930069, 'pid_451117': 16.784285, 'pid_865743': 16.772312, 'pid_713746': 16.752106}, 'qid_5049': {'pid_691358': 27.918484, 'pid_680517': 27.745773, 'pid_91794': 26.823132, 'pid_496196': 26.168694, 'pid_384240': 23.85557, 'pid_158246': 23.737192, 'pid_557855': 23.715788, 'pid_39277': 23.459667, 'pid_904696': 23.412527, 'pid_765476': 23.397385, 'pid_468706': 23.053816, 'pid_615402': 22.94868, 'pid_354300': 22.845041, 'pid_893888': 22.783249, 'pid_436305': 22.759054, 'pid_190296': 22.748068, 'pid_423558': 22.740997, 'pid_823112': 22.663347, 'pid_789239': 22.445646, 'pid_518120': 22.4186, 'pid_194056': 22.365643, 'pid_127970': 22.363207, 'pid_619583': 22.309292, 'pid_952003': 22.167809, 'pid_277352': 22.09519, 'pid_879126': 22.073755, 'pid_909584': 22.060287, 'pid_715606': 21.819057, 'pid_107179': 21.810701, 'pid_914425': 21.700285, 'pid_155031': 21.678703, 'pid_225234': 21.654434, 'pid_940577': 21.651377, 'pid_445543': 21.609863, 'pid_888696': 21.537643, 'pid_990295': 21.36416, 'pid_323632': 21.2684, 'pid_709085': 21.259853, 'pid_256776': 21.240694, 'pid_901216': 21.133314, 'pid_737132': 21.123398, 'pid_576493': 21.115112, 'pid_819028': 21.006176, 'pid_468465': 20.999752, 'pid_910670': 20.854332, 'pid_596926': 20.768332, 'pid_610600': 20.731579, 'pid_78635': 20.720133, 'pid_303655': 20.684368, 'pid_26079': 20.586271, 'pid_236017': 20.542799, 'pid_358086': 20.493078, 'pid_222325': 20.42383, 'pid_426496': 20.372274, 'pid_835895': 19.952217, 'pid_966833': 19.871078, 'pid_418280': 19.694452, 'pid_992055': 19.571598, 'pid_103487': 19.520882, 'pid_321446': 19.48912, 'pid_907735': 19.46115, 'pid_228844': 19.459631, 'pid_105720': 19.420399, 'pid_438974': 19.2848, 'pid_933607': 19.277493, 'pid_939531': 19.18774, 'pid_165078': 19.177013, 'pid_192931': 19.152971, 'pid_378570': 19.152971, 'pid_23538': 19.111237, 'pid_453032': 19.036667, 'pid_242526': 19.031485, 'pid_730287': 19.031408, 'pid_143239': 19.023777, 'pid_340391': 18.954824, 'pid_847680': 18.926844, 'pid_798458': 18.90944, 'pid_100839': 18.866219, 'pid_265453': 18.84514, 'pid_287476': 18.830273, 'pid_940683': 18.830273, 'pid_993794': 18.811852, 'pid_358196': 18.807322, 'pid_566879': 18.794739, 'pid_710046': 18.772575, 'pid_789459': 18.755524, 'pid_612401': 18.747639, 'pid_105513': 18.680874, 'pid_394497': 18.675735, 'pid_445268': 18.66555, 'pid_906448': 18.646177, 'pid_336874': 18.56757, 'pid_780337': 18.529552, 'pid_961919': 18.501312, 'pid_948481': 18.494688, 'pid_660180': 18.443867, 'pid_512213': 18.371803, 'pid_958257': 18.349125, 'pid_531037': 18.329449, 'pid_699574': 18.327456}, 'qid_5050': {'pid_23960': 22.731972, 'pid_954078': 18.527555, 'pid_371653': 18.328178, 'pid_724792': 17.986658, 'pid_416673': 17.973595, 'pid_964963': 17.966911, 'pid_57574': 17.958519, 'pid_40475': 17.926434, 'pid_879134': 17.906307, 'pid_435038': 17.905094, 'pid_880920': 17.89186, 'pid_555634': 17.846603, 'pid_156565': 17.834278, 'pid_661496': 17.783348, 'pid_327461': 17.77623, 'pid_834324': 17.747816, 'pid_669222': 17.74546, 'pid_661568': 17.711233, 'pid_177102': 17.70298, 'pid_680062': 17.69831, 'pid_143177': 17.691456, 'pid_319262': 17.684216, 'pid_750862': 17.63025, 'pid_991737': 17.615019, 'pid_28219': 17.570793, 'pid_574865': 17.464497, 'pid_500280': 17.444412, 'pid_282435': 17.433163, 'pid_218010': 17.420029, 'pid_825823': 17.412054, 'pid_714301': 17.404055, 'pid_688306': 17.377956, 'pid_357331': 17.37767, 'pid_591856': 17.30537, 'pid_129135': 17.295618, 'pid_59178': 17.259188, 'pid_117558': 17.229721, 'pid_532982': 17.229721, 'pid_328292': 17.220455, 'pid_989081': 17.214117, 'pid_632907': 17.202667, 'pid_601624': 17.191013, 'pid_191140': 17.181536, 'pid_947894': 17.173765, 'pid_941363': 17.172073, 'pid_705191': 17.16869, 'pid_41123': 17.158546, 'pid_126932': 17.148418, 'pid_615766': 17.077875, 'pid_942288': 17.057482, 'pid_582577': 17.027872, 'pid_219234': 17.01791, 'pid_640716': 17.01791, 'pid_949359': 17.01791, 'pid_343865': 17.016895, 'pid_993907': 17.016895, 'pid_716151': 17.00035, 'pid_991121': 16.998024, 'pid_357546': 16.994843, 'pid_523051': 16.983839, 'pid_808039': 16.947273, 'pid_143835': 16.939968, 'pid_245287': 16.926449, 'pid_16272': 16.879753, 'pid_995425': 16.863756, 'pid_243540': 16.823109, 'pid_882799': 16.681845, 'pid_481071': 16.650576, 'pid_694021': 16.650576, 'pid_419609': 16.63187, 'pid_281911': 16.53281, 'pid_238166': 16.394184, 'pid_597382': 16.375832, 'pid_182946': 16.334984, 'pid_993615': 16.322853, 'pid_723370': 16.310143, 'pid_685234': 16.309696, 'pid_333456': 16.309242, 'pid_936488': 16.294357, 'pid_836560': 16.290016, 'pid_950737': 16.287752, 'pid_23392': 16.28432, 'pid_75796': 16.26351, 'pid_659069': 16.26351, 'pid_802749': 16.259953, 'pid_78242': 16.254665, 'pid_150932': 16.24828, 'pid_981054': 16.245415, 'pid_472300': 16.21156, 'pid_5233': 16.202574, 'pid_21893': 16.17672, 'pid_645759': 16.173143, 'pid_660510': 16.173143, 'pid_109261': 16.159073, 'pid_496572': 16.12608, 'pid_605668': 16.12608, 'pid_279271': 16.116114, 'pid_404620': 16.105354, 'pid_94787': 16.098284, 'pid_143427': 16.098284}, 'qid_5051': {'pid_652620': 10.451583, 'pid_104174': 10.424512, 'pid_269944': 10.355242, 'pid_54660': 10.353561, 'pid_198445': 10.326753, 'pid_865450': 10.303409, 'pid_95273': 10.296759, 'pid_753312': 10.296759, 'pid_743332': 10.243863, 'pid_197193': 10.234491, 'pid_921058': 10.234491, 'pid_466919': 10.23244, 'pid_622629': 10.22834, 'pid_140480': 10.218103, 'pid_204419': 10.207887, 'pid_186031': 10.203806, 'pid_458751': 10.199729, 'pid_54309': 10.183451, 'pid_142955': 10.183451, 'pid_758962': 10.171277, 'pid_504104': 10.1631775, 'pid_881508': 10.1631775, 'pid_224755': 10.15509, 'pid_229868': 10.15509, 'pid_765106': 10.15509, 'pid_953788': 10.15509, 'pid_728675': 10.147017, 'pid_985409': 10.147017, 'pid_92910': 10.12287, 'pid_991261': 10.031488, 'pid_482721': 10.02361, 'pid_832105': 10.015743, 'pid_71593': 10.010507, 'pid_349858': 10.010507, 'pid_169082': 10.00789, 'pid_443429': 10.00789, 'pid_813716': 10.00789, 'pid_523527': 10.005274, 'pid_79271': 10.002661, 'pid_701993': 10.000048, 'pid_929388': 10.000048, 'pid_91543': 9.997437, 'pid_147521': 9.989611, 'pid_375977': 9.989611, 'pid_176942': 9.987005, 'pid_12363': 9.981798, 'pid_107679': 9.981798, 'pid_119210': 9.981798, 'pid_631677': 9.979197, 'pid_435576': 9.976596, 'pid_172201': 9.973997, 'pid_64579': 9.971399, 'pid_883989': 9.971399, 'pid_234716': 9.968803, 'pid_680034': 9.968803, 'pid_431438': 9.963614, 'pid_884500': 9.953254, 'pid_916272': 9.953254, 'pid_233423': 9.948081, 'pid_296844': 9.948081, 'pid_73755': 9.942914, 'pid_401846': 9.937753, 'pid_963181': 9.937753, 'pid_981496': 9.91716, 'pid_369748': 9.906896, 'pid_56000': 9.896652, 'pid_158842': 9.896652, 'pid_976767': 9.616006, 'pid_465116': 9.60515, 'pid_716968': 9.60515, 'pid_762465': 9.601538, 'pid_724709': 9.597927, 'pid_734580': 9.597927, 'pid_829790': 9.597927, 'pid_931735': 9.597927, 'pid_397203': 9.594319, 'pid_617256': 9.594319, 'pid_33454': 9.5907135, 'pid_313511': 9.5907135, 'pid_752379': 9.5907135, 'pid_168225': 9.583512, 'pid_590692': 9.583512, 'pid_669630': 9.583512, 'pid_921811': 9.579915, 'pid_540715': 9.576321, 'pid_153199': 9.572729, 'pid_273327': 9.572729, 'pid_318590': 9.572729, 'pid_457458': 9.572729, 'pid_544005': 9.572729, 'pid_620842': 9.572729, 'pid_986030': 9.572729, 'pid_418089': 9.56914, 'pid_776498': 9.56914, 'pid_653993': 9.565555, 'pid_806495': 9.561972, 'pid_526698': 9.558391, 'pid_918270': 9.558391, 'pid_931209': 9.558391, 'pid_111062': 9.554812}, 'qid_5052': {'pid_38943': 43.06165, 'pid_55126': 41.5562, 'pid_91402': 40.974583, 'pid_490058': 40.828148, 'pid_288365': 40.702496, 'pid_371286': 40.25486, 'pid_922505': 39.92932, 'pid_204515': 39.462387, 'pid_231914': 38.688457, 'pid_349221': 38.205906, 'pid_961344': 37.002136, 'pid_808633': 36.48097, 'pid_513812': 36.451786, 'pid_897146': 36.22651, 'pid_659397': 36.22148, 'pid_660886': 36.102253, 'pid_843073': 36.064075, 'pid_291989': 35.7175, 'pid_536400': 35.646202, 'pid_548513': 35.557667, 'pid_814184': 35.554993, 'pid_924475': 35.52033, 'pid_90450': 35.238407, 'pid_828848': 35.08501, 'pid_412943': 35.055946, 'pid_423587': 34.94347, 'pid_594267': 34.71928, 'pid_358375': 34.396683, 'pid_346408': 34.1976, 'pid_45303': 34.14311, 'pid_971403': 34.06366, 'pid_421161': 33.97889, 'pid_743118': 33.867325, 'pid_601042': 33.83613, 'pid_587604': 33.805153, 'pid_708589': 33.499928, 'pid_208913': 33.25172, 'pid_829398': 33.194027, 'pid_675953': 33.18436, 'pid_926801': 33.167065, 'pid_549066': 33.027115, 'pid_66912': 32.926758, 'pid_382063': 32.76838, 'pid_183735': 32.587635, 'pid_470490': 32.567547, 'pid_791088': 32.563694, 'pid_750220': 32.428116, 'pid_655998': 32.411427, 'pid_282961': 32.34988, 'pid_578639': 32.229507, 'pid_874832': 32.22447, 'pid_969938': 32.22026, 'pid_638453': 32.207752, 'pid_718765': 32.207752, 'pid_845773': 32.20219, 'pid_140825': 32.19769, 'pid_136174': 32.14059, 'pid_504065': 32.13824, 'pid_767257': 32.058132, 'pid_912516': 32.048058, 'pid_569108': 32.00278, 'pid_235824': 31.941296, 'pid_387553': 31.922646, 'pid_341751': 31.855423, 'pid_50480': 31.803349, 'pid_860082': 31.766447, 'pid_918550': 31.753094, 'pid_79453': 31.663673, 'pid_68412': 31.643936, 'pid_531979': 31.61588, 'pid_706750': 31.596601, 'pid_894894': 31.595661, 'pid_30172': 31.587717, 'pid_532425': 31.570408, 'pid_837376': 31.546219, 'pid_691918': 31.538147, 'pid_241828': 31.53216, 'pid_373418': 31.491428, 'pid_48694': 31.395018, 'pid_940527': 30.915188, 'pid_868367': 30.876156, 'pid_257510': 30.852943, 'pid_750432': 30.852894, 'pid_947556': 30.85056, 'pid_637053': 30.829247, 'pid_928573': 30.797192, 'pid_722586': 30.705118, 'pid_438421': 30.653238, 'pid_996667': 30.52279, 'pid_518971': 30.519894, 'pid_13350': 30.51727, 'pid_17796': 30.433876, 'pid_907627': 30.428406, 'pid_160469': 30.403585, 'pid_528530': 30.369602, 'pid_916061': 30.328482, 'pid_513688': 30.272207, 'pid_306178': 30.15285, 'pid_292840': 30.069515, 'pid_822014': 30.067726}, 'qid_5053': {'pid_779982': 23.560125, 'pid_918657': 23.311703, 'pid_225811': 23.09719, 'pid_376912': 22.951078, 'pid_666787': 22.656124, 'pid_2521': 22.544765, 'pid_572175': 22.512749, 'pid_581144': 21.743763, 'pid_493425': 21.605951, 'pid_331504': 21.466578, 'pid_864487': 21.420238, 'pid_998427': 21.054039, 'pid_303252': 20.957499, 'pid_170826': 20.949623, 'pid_494032': 20.861574, 'pid_514557': 20.847595, 'pid_828679': 20.714497, 'pid_468261': 20.708485, 'pid_387876': 20.671425, 'pid_194559': 20.653996, 'pid_26586': 19.615246, 'pid_584606': 19.575722, 'pid_624804': 19.466562, 'pid_573573': 19.448982, 'pid_985817': 19.433525, 'pid_716641': 19.405407, 'pid_518497': 19.222565, 'pid_590767': 19.22073, 'pid_191599': 18.947098, 'pid_183654': 18.94576, 'pid_758810': 18.937378, 'pid_88469': 18.870335, 'pid_97210': 18.844543, 'pid_145176': 18.831676, 'pid_32011': 18.793198, 'pid_436199': 18.68842, 'pid_707023': 18.66996, 'pid_399335': 18.62272, 'pid_251453': 18.443218, 'pid_438145': 18.429089, 'pid_419880': 18.40092, 'pid_980551': 18.254827, 'pid_908992': 18.233278, 'pid_617861': 18.203812, 'pid_280372': 18.191374, 'pid_676317': 18.179647, 'pid_526795': 18.095577, 'pid_261612': 18.085209, 'pid_50138': 17.929657, 'pid_613845': 17.81072, 'pid_163511': 17.713755, 'pid_954047': 17.687279, 'pid_138356': 17.654816, 'pid_647439': 17.625198, 'pid_29711': 17.558327, 'pid_605001': 17.558327, 'pid_833481': 17.524286, 'pid_738481': 17.524231, 'pid_141976': 17.498892, 'pid_88203': 17.474396, 'pid_11604': 17.439852, 'pid_384926': 17.437637, 'pid_437486': 17.434433, 'pid_566646': 17.413218, 'pid_77718': 17.379282, 'pid_254389': 17.34767, 'pid_421151': 17.337461, 'pid_569274': 17.337461, 'pid_543135': 17.315594, 'pid_227407': 17.308674, 'pid_147642': 17.294851, 'pid_877535': 17.276136, 'pid_28683': 17.268242, 'pid_290125': 17.246647, 'pid_986774': 17.213636, 'pid_151567': 17.210546, 'pid_808758': 17.147562, 'pid_607329': 17.098234, 'pid_607311': 17.096096, 'pid_520230': 17.02816, 'pid_951445': 16.983128, 'pid_952268': 16.894194, 'pid_997127': 16.890411, 'pid_871448': 16.841743, 'pid_239995': 16.8196, 'pid_330632': 16.815653, 'pid_139048': 16.808311, 'pid_772814': 16.801903, 'pid_184562': 16.733608, 'pid_319206': 16.733608, 'pid_425791': 16.733608, 'pid_150493': 16.724554, 'pid_930628': 16.713234, 'pid_257496': 16.708319, 'pid_406438': 16.522787, 'pid_69978': 16.442795, 'pid_155563': 16.432585, 'pid_465887': 16.428158, 'pid_722360': 16.415209, 'pid_167716': 16.397865}, 'qid_5054': {'pid_381169': 20.141466, 'pid_573322': 19.503586, 'pid_716320': 19.489243, 'pid_680427': 19.222952, 'pid_719843': 18.99794, 'pid_106260': 18.994606, 'pid_76238': 18.930641, 'pid_313428': 18.92955, 'pid_467870': 18.90776, 'pid_27829': 18.901447, 'pid_594061': 18.873428, 'pid_792281': 18.819126, 'pid_745081': 18.806198, 'pid_964528': 18.750576, 'pid_339537': 18.604544, 'pid_306929': 18.466553, 'pid_117921': 18.449757, 'pid_774939': 18.430801, 'pid_254677': 18.426025, 'pid_643993': 18.300074, 'pid_65994': 17.885761, 'pid_11368': 17.87829, 'pid_889488': 17.876423, 'pid_332339': 17.820625, 'pid_95215': 17.81187, 'pid_549649': 17.750692, 'pid_697291': 17.74758, 'pid_895740': 17.710852, 'pid_476924': 17.706226, 'pid_331360': 17.586258, 'pid_488093': 17.420876, 'pid_253350': 17.379301, 'pid_135920': 17.303646, 'pid_350969': 17.113728, 'pid_121375': 16.828941, 'pid_247569': 16.819345, 'pid_582883': 16.197361, 'pid_367127': 16.062195, 'pid_731436': 14.798376, 'pid_246290': 14.7715845, 'pid_206128': 14.770389, 'pid_719943': 14.727276, 'pid_343016': 14.71777, 'pid_31596': 14.691777, 'pid_274456': 14.674065, 'pid_733315': 14.655099, 'pid_694057': 14.653741, 'pid_957621': 14.642492, 'pid_236425': 14.62202, 'pid_233007': 14.600197, 'pid_610612': 14.558254, 'pid_252010': 14.544477, 'pid_431532': 14.523203, 'pid_771868': 14.51453, 'pid_148436': 14.512636, 'pid_418070': 14.497417, 'pid_60150': 14.479969, 'pid_504413': 14.46919, 'pid_619088': 14.459753, 'pid_12632': 14.439201, 'pid_381131': 14.431725, 'pid_733066': 14.410736, 'pid_756504': 14.408234, 'pid_716344': 14.401274, 'pid_220620': 14.3745365, 'pid_12779': 14.368047, 'pid_137636': 14.36182, 'pid_989729': 14.319988, 'pid_796479': 14.311628, 'pid_400054': 14.305128, 'pid_249438': 14.299922, 'pid_417533': 14.291328, 'pid_761193': 14.279238, 'pid_237412': 14.278425, 'pid_122113': 14.25899, 'pid_202924': 14.256859, 'pid_466236': 14.255516, 'pid_585934': 14.226727, 'pid_946155': 14.214446, 'pid_758006': 14.189194, 'pid_57028': 14.177168, 'pid_462153': 14.16556, 'pid_249185': 14.163009, 'pid_774361': 14.143686, 'pid_159360': 14.141761, 'pid_648920': 14.137257, 'pid_255773': 14.134045, 'pid_664942': 14.132416, 'pid_315511': 14.1276245, 'pid_614408': 14.125818, 'pid_383210': 14.124392, 'pid_706398': 14.123575, 'pid_585743': 14.119223, 'pid_638265': 14.09948, 'pid_173082': 14.092419, 'pid_739408': 14.060162, 'pid_255388': 14.047105, 'pid_274534': 14.040586, 'pid_365791': 14.014572, 'pid_298608': 13.995247}, 'qid_5055': {'pid_263858': 19.832615, 'pid_393950': 19.31623, 'pid_805947': 19.281052, 'pid_14288': 19.273396, 'pid_511288': 19.244633, 'pid_6192': 19.099792, 'pid_887848': 19.047998, 'pid_937465': 19.03931, 'pid_981198': 18.956978, 'pid_236875': 18.844782, 'pid_89247': 18.821732, 'pid_476476': 18.808647, 'pid_67462': 18.73143, 'pid_424247': 18.614517, 'pid_857768': 18.50657, 'pid_113919': 18.355562, 'pid_490129': 18.32564, 'pid_809139': 18.307844, 'pid_167940': 18.301785, 'pid_780885': 18.189198, 'pid_61624': 18.187609, 'pid_895544': 18.14139, 'pid_264079': 18.100615, 'pid_214991': 18.080296, 'pid_498042': 18.080296, 'pid_353896': 18.066772, 'pid_646384': 17.986069, 'pid_924084': 17.986069, 'pid_189329': 17.972689, 'pid_200439': 17.696138, 'pid_594605': 17.659098, 'pid_839436': 17.622147, 'pid_962683': 17.60842, 'pid_331101': 17.594723, 'pid_468858': 17.513752, 'pid_668558': 17.484076, 'pid_307919': 17.449947, 'pid_247075': 17.426735, 'pid_992944': 17.355719, 'pid_6588': 17.341635, 'pid_554460': 17.340132, 'pid_998970': 17.211678, 'pid_149972': 17.164762, 'pid_788841': 17.124447, 'pid_799259': 17.111431, 'pid_958651': 17.0849, 'pid_404881': 17.06726, 'pid_698941': 17.06726, 'pid_151719': 17.058456, 'pid_141035': 17.049662, 'pid_238233': 16.201958, 'pid_237409': 16.1911, 'pid_659091': 16.180256, 'pid_739508': 16.158611, 'pid_947541': 16.094025, 'pid_867790': 16.072609, 'pid_222414': 16.008707, 'pid_202392': 15.998105, 'pid_219864': 15.927818, 'pid_430664': 15.809658, 'pid_302383': 15.800554, 'pid_907481': 14.858257, 'pid_90647': 14.540592, 'pid_962817': 14.403595, 'pid_87041': 14.363311, 'pid_55831': 14.349942, 'pid_932911': 14.131938, 'pid_372583': 14.052551, 'pid_729673': 14.027371, 'pid_865283': 13.943529, 'pid_854394': 13.850309, 'pid_926290': 13.847496, 'pid_980354': 13.816371, 'pid_759158': 13.792111, 'pid_421712': 13.75419, 'pid_224681': 13.672149, 'pid_283074': 13.6619625, 'pid_619969': 13.63677, 'pid_801947': 13.63677, 'pid_771674': 13.621368, 'pid_455599': 13.584681, 'pid_408699': 13.563381, 'pid_85540': 13.552761, 'pid_549923': 13.547461, 'pid_680219': 13.531586, 'pid_823966': 13.531586, 'pid_666011': 13.530124, 'pid_660671': 13.399725, 'pid_233868': 13.364248, 'pid_880730': 13.329288, 'pid_542779': 13.294058, 'pid_357707': 13.22533, 'pid_943364': 13.187859, 'pid_555933': 13.175418, 'pid_399824': 13.169209, 'pid_370310': 13.156807, 'pid_895739': 13.14443, 'pid_87620': 13.13825, 'pid_408363': 13.13825, 'pid_112375': 13.076807}, 'qid_5056': {'pid_329974': 17.64364, 'pid_507501': 17.432816, 'pid_14': 17.404726, 'pid_730843': 17.393124, 'pid_78680': 17.276993, 'pid_173742': 17.248861, 'pid_166924': 17.241255, 'pid_609225': 17.22574, 'pid_841421': 17.22574, 'pid_51664': 17.166487, 'pid_292609': 17.139435, 'pid_633312': 17.13311, 'pid_592615': 17.121956, 'pid_869193': 17.079918, 'pid_63185': 17.048605, 'pid_302349': 17.018917, 'pid_641610': 16.98583, 'pid_208959': 16.969503, 'pid_710392': 16.969059, 'pid_357386': 16.947796, 'pid_100208': 16.911781, 'pid_728161': 16.909945, 'pid_542875': 16.907452, 'pid_459389': 16.901213, 'pid_642002': 16.887976, 'pid_835483': 16.887976, 'pid_491095': 16.805084, 'pid_33896': 16.801128, 'pid_166869': 16.73978, 'pid_58591': 16.714306, 'pid_341634': 16.623661, 'pid_871064': 16.592674, 'pid_876030': 16.50563, 'pid_541872': 16.444351, 'pid_483361': 16.375439, 'pid_470602': 16.310917, 'pid_998268': 16.268497, 'pid_659196': 16.268255, 'pid_894161': 16.212069, 'pid_393030': 16.162786, 'pid_134160': 16.147528, 'pid_333028': 16.070993, 'pid_897735': 16.0563, 'pid_561921': 16.04465, 'pid_188074': 16.01441, 'pid_137115': 16.005018, 'pid_237429': 15.9943075, 'pid_867393': 15.980667, 'pid_831951': 15.979553, 'pid_40412': 15.973356, 'pid_637043': 15.953479, 'pid_796925': 15.942686, 'pid_493151': 15.942374, 'pid_704984': 15.930737, 'pid_5251': 15.92445, 'pid_487572': 15.90877, 'pid_839356': 15.895085, 'pid_891286': 15.744474, 'pid_329168': 15.724262, 'pid_390132': 15.701501, 'pid_439228': 15.692993, 'pid_368857': 15.650597, 'pid_464014': 15.640613, 'pid_179879': 15.608446, 'pid_626305': 15.608446, 'pid_678859': 15.608446, 'pid_378671': 15.591653, 'pid_804611': 15.591653, 'pid_817198': 15.569137, 'pid_428272': 15.557363, 'pid_32693': 15.464924, 'pid_973606': 15.368227, 'pid_740192': 15.311988, 'pid_477910': 15.234561, 'pid_259263': 15.215827, 'pid_174030': 15.157004, 'pid_411783': 15.133673, 'pid_721013': 15.130968, 'pid_33548': 15.06642, 'pid_787862': 15.027325, 'pid_163644': 15.015154, 'pid_968385': 15.00503, 'pid_365205': 14.973618, 'pid_927573': 14.945804, 'pid_447993': 14.924524, 'pid_33326': 14.914522, 'pid_205928': 14.904533, 'pid_799132': 14.900846, 'pid_890797': 14.864694, 'pid_54946': 14.854788, 'pid_912806': 14.834984, 'pid_505293': 14.805374, 'pid_164648': 14.787555, 'pid_30915': 14.7858925, 'pid_848637': 14.775884, 'pid_396120': 14.756288, 'pid_500317': 14.755375, 'pid_827536': 14.754612, 'pid_993124': 14.741106, 'pid_255562': 14.731476}, 'qid_5057': {'pid_852572': 23.765318, 'pid_567462': 23.411686, 'pid_723897': 23.245615, 'pid_47745': 22.661816, 'pid_7632': 22.038355, 'pid_808834': 21.059362, 'pid_965440': 21.013117, 'pid_141537': 20.928516, 'pid_228113': 20.889622, 'pid_609535': 20.807228, 'pid_295693': 20.797195, 'pid_146386': 20.650215, 'pid_52858': 20.6276, 'pid_590621': 20.6276, 'pid_273045': 20.567762, 'pid_18481': 20.563782, 'pid_67086': 20.517239, 'pid_618515': 20.452269, 'pid_654351': 20.3666, 'pid_463711': 20.024693, 'pid_67980': 19.974516, 'pid_818689': 19.947989, 'pid_688651': 19.944544, 'pid_821877': 19.893764, 'pid_896586': 19.881296, 'pid_315991': 19.844563, 'pid_664852': 19.81464, 'pid_245313': 19.66114, 'pid_492530': 19.652985, 'pid_322860': 19.543282, 'pid_278982': 19.527449, 'pid_511547': 19.460953, 'pid_714093': 19.422588, 'pid_251299': 19.417051, 'pid_554100': 19.351587, 'pid_99110': 19.343056, 'pid_657062': 19.343056, 'pid_653595': 19.280764, 'pid_490127': 19.243511, 'pid_961298': 19.052448, 'pid_968219': 19.001406, 'pid_430584': 18.988688, 'pid_11006': 18.937988, 'pid_437344': 18.925354, 'pid_555280': 18.912739, 'pid_846768': 18.912739, 'pid_855772': 18.912739, 'pid_965717': 18.900139, 'pid_795971': 18.84991, 'pid_588276': 18.824894, 'pid_886799': 18.762648, 'pid_110697': 18.663902, 'pid_832008': 18.663902, 'pid_847934': 18.541924, 'pid_87726': 18.232117, 'pid_942984': 18.232117, 'pid_197783': 18.028112, 'pid_311409': 17.825401, 'pid_381939': 17.663956, 'pid_284501': 17.083393, 'pid_370377': 16.444065, 'pid_320772': 16.048817, 'pid_592729': 16.026724, 'pid_484910': 15.963467, 'pid_834436': 15.837795, 'pid_422022': 15.348457, 'pid_373162': 15.239248, 'pid_475800': 15.170751, 'pid_359165': 15.013369, 'pid_414035': 14.978512, 'pid_122143': 14.907352, 'pid_249653': 14.831838, 'pid_664716': 14.787502, 'pid_931260': 14.765436, 'pid_514790': 14.754427, 'pid_643850': 14.732456, 'pid_828410': 14.721497, 'pid_119848': 14.715142, 'pid_236497': 14.710552, 'pid_329053': 14.688714, 'pid_557500': 14.675251, 'pid_882508': 14.671644, 'pid_553007': 14.623585, 'pid_193481': 14.618531, 'pid_380578': 14.521408, 'pid_662108': 14.51631, 'pid_247168': 14.434846, 'pid_329136': 14.404928, 'pid_789371': 14.321996, 'pid_792409': 14.160255, 'pid_124559': 14.154079, 'pid_941703': 14.117018, 'pid_519509': 14.107291, 'pid_456166': 14.09399, 'pid_333064': 14.090981, 'pid_258271': 14.0893345, 'pid_518849': 14.077215, 'pid_72779': 14.061768, 'pid_24266': 14.034319, 'pid_311917': 14.034319}, 'qid_5058': {'pid_420257': 38.231472, 'pid_758006': 34.658943, 'pid_751557': 33.991695, 'pid_925944': 33.96384, 'pid_812688': 33.146206, 'pid_328': 33.06309, 'pid_197630': 32.941658, 'pid_567583': 32.746544, 'pid_539852': 32.729794, 'pid_817899': 32.7156, 'pid_691674': 32.555466, 'pid_225506': 32.3271, 'pid_181041': 32.255703, 'pid_786596': 32.247246, 'pid_84738': 32.220085, 'pid_914004': 29.556135, 'pid_307425': 29.485783, 'pid_900629': 29.40689, 'pid_989729': 29.39123, 'pid_730899': 29.376198, 'pid_901994': 28.70085, 'pid_505215': 28.644678, 'pid_668209': 28.64409, 'pid_427134': 28.644073, 'pid_702248': 28.633474, 'pid_859517': 28.588764, 'pid_554000': 28.413502, 'pid_707723': 28.34713, 'pid_327415': 28.256508, 'pid_258490': 28.186872, 'pid_165089': 28.146402, 'pid_787524': 28.12324, 'pid_504069': 28.106623, 'pid_899217': 28.064505, 'pid_829951': 28.043543, 'pid_159758': 27.907991, 'pid_285938': 27.866285, 'pid_236038': 27.858896, 'pid_194939': 27.857758, 'pid_408277': 27.84636, 'pid_47570': 27.837654, 'pid_32366': 27.746485, 'pid_435448': 27.720982, 'pid_408123': 27.574444, 'pid_7722': 27.53319, 'pid_784677': 27.519985, 'pid_788446': 27.506798, 'pid_894850': 27.29301, 'pid_153835': 27.272818, 'pid_236425': 27.24243, 'pid_914147': 27.153751, 'pid_464679': 27.13913, 'pid_431532': 27.042473, 'pid_81080': 27.029476, 'pid_619088': 26.918411, 'pid_733066': 26.879324, 'pid_568632': 26.730312, 'pid_422007': 26.674175, 'pid_377718': 26.668747, 'pid_6600': 26.651863, 'pid_159360': 26.576862, 'pid_150516': 26.573963, 'pid_756504': 26.563688, 'pid_462440': 26.55528, 'pid_716344': 26.441223, 'pid_202924': 26.426542, 'pid_462153': 26.322636, 'pid_173082': 26.29374, 'pid_332757': 26.226986, 'pid_610612': 26.219212, 'pid_540063': 26.195038, 'pid_249185': 26.182686, 'pid_677552': 26.144478, 'pid_57028': 26.076706, 'pid_922242': 26.029844, 'pid_634038': 25.984886, 'pid_147787': 25.97024, 'pid_374588': 25.96633, 'pid_381131': 25.909706, 'pid_324046': 25.899405, 'pid_121600': 25.76879, 'pid_90991': 25.659344, 'pid_71830': 25.500525, 'pid_440927': 25.484217, 'pid_648920': 25.474844, 'pid_368002': 25.473421, 'pid_892903': 25.451668, 'pid_315511': 25.450289, 'pid_143475': 25.391552, 'pid_245512': 25.386837, 'pid_794680': 25.38432, 'pid_365791': 25.369946, 'pid_938372': 25.322878, 'pid_419308': 25.319561, 'pid_895740': 25.315489, 'pid_684794': 25.243681, 'pid_643993': 25.208937, 'pid_287681': 25.199957, 'pid_99064': 25.155207, 'pid_339537': 25.132412}, 'qid_5059': {'pid_365557': 32.45019, 'pid_891854': 32.36921, 'pid_337739': 32.28959, 'pid_999113': 32.261276, 'pid_577734': 31.72376, 'pid_724912': 31.57594, 'pid_86726': 31.278189, 'pid_331728': 31.18351, 'pid_995757': 30.497417, 'pid_551461': 29.99628, 'pid_709998': 29.922543, 'pid_782488': 29.835201, 'pid_550884': 29.762875, 'pid_602381': 29.603558, 'pid_367245': 29.46352, 'pid_778301': 29.31853, 'pid_119629': 28.897076, 'pid_738598': 26.887678, 'pid_913786': 26.647547, 'pid_558177': 26.598867, 'pid_320490': 26.392439, 'pid_577925': 26.299273, 'pid_46809': 26.118196, 'pid_672758': 26.090181, 'pid_360597': 25.986101, 'pid_514984': 25.391031, 'pid_711593': 25.243263, 'pid_790859': 25.202562, 'pid_636435': 25.197432, 'pid_981999': 24.479866, 'pid_167300': 24.154345, 'pid_627558': 24.120914, 'pid_201338': 24.117266, 'pid_171546': 24.097523, 'pid_177209': 24.037106, 'pid_451477': 23.970078, 'pid_514346': 23.9687, 'pid_268338': 23.871487, 'pid_410240': 23.82499, 'pid_399232': 23.82236, 'pid_669303': 23.813925, 'pid_451326': 23.78866, 'pid_671429': 23.673704, 'pid_274891': 23.666866, 'pid_516948': 23.645157, 'pid_684654': 23.596079, 'pid_251110': 23.58266, 'pid_668405': 23.53685, 'pid_656834': 23.508343, 'pid_642634': 23.460304, 'pid_499775': 23.419144, 'pid_287549': 23.365376, 'pid_109655': 23.36425, 'pid_210673': 23.358818, 'pid_652307': 23.342422, 'pid_711108': 23.329384, 'pid_964636': 23.327179, 'pid_307528': 23.29456, 'pid_203156': 23.267216, 'pid_124488': 23.255363, 'pid_210465': 23.231295, 'pid_795247': 23.219702, 'pid_970698': 23.159002, 'pid_66402': 23.117924, 'pid_801830': 23.107498, 'pid_471430': 23.10229, 'pid_721979': 23.10229, 'pid_354478': 23.059898, 'pid_80422': 23.054354, 'pid_511692': 23.049084, 'pid_485191': 23.036522, 'pid_114082': 23.030437, 'pid_129934': 23.011446, 'pid_282482': 22.981825, 'pid_887143': 22.895916, 'pid_161838': 22.893147, 'pid_408028': 22.891602, 'pid_84919': 22.886742, 'pid_509195': 22.870586, 'pid_227660': 22.864925, 'pid_408421': 22.864925, 'pid_606659': 22.85927, 'pid_408755': 22.850836, 'pid_332373': 22.844864, 'pid_994307': 22.844864, 'pid_927204': 22.83722, 'pid_978130': 22.826962, 'pid_98491': 22.79624, 'pid_806926': 22.782133, 'pid_688335': 22.76101, 'pid_787916': 22.758026, 'pid_439185': 22.731966, 'pid_451398': 22.720146, 'pid_681597': 22.698608, 'pid_430530': 22.686316, 'pid_900378': 22.680176, 'pid_56000': 22.680008, 'pid_235670': 22.655985, 'pid_299739': 22.631178, 'pid_576764': 22.594584}, 'qid_5060': {'pid_634258': 21.172773, 'pid_868804': 20.95678, 'pid_31416': 20.670992, 'pid_610603': 20.410187, 'pid_182149': 20.240679, 'pid_870063': 20.191944, 'pid_175692': 20.15107, 'pid_16026': 19.96389, 'pid_412609': 19.819561, 'pid_961634': 19.719963, 'pid_961602': 19.706762, 'pid_774873': 19.257244, 'pid_764279': 19.204037, 'pid_838401': 19.121548, 'pid_836476': 18.888342, 'pid_62821': 18.229464, 'pid_356671': 17.383078, 'pid_404246': 17.164541, 'pid_159807': 17.120832, 'pid_485083': 17.001991, 'pid_263124': 16.99319, 'pid_186996': 16.84777, 'pid_213957': 16.776758, 'pid_899579': 16.722445, 'pid_101070': 16.683075, 'pid_35281': 16.655449, 'pid_978439': 16.619757, 'pid_797964': 16.389286, 'pid_650069': 16.348864, 'pid_921450': 16.338428, 'pid_930202': 16.304777, 'pid_882573': 16.085262, 'pid_326764': 16.077686, 'pid_268334': 16.069708, 'pid_508344': 16.019907, 'pid_597530': 15.992492, 'pid_281863': 15.988026, 'pid_313604': 15.902252, 'pid_820401': 15.887162, 'pid_97780': 15.872295, 'pid_56578': 15.831879, 'pid_6213': 15.799879, 'pid_132669': 15.786627, 'pid_713962': 15.7219515, 'pid_167354': 15.706913, 'pid_193936': 15.701536, 'pid_289894': 15.587741, 'pid_206220': 15.550739, 'pid_551137': 15.545839, 'pid_748010': 15.533481, 'pid_199919': 15.346863, 'pid_705222': 15.316801, 'pid_857452': 15.242754, 'pid_76122': 15.091587, 'pid_834323': 15.09108, 'pid_831569': 15.046139, 'pid_609325': 15.023769, 'pid_599175': 15.016035, 'pid_895254': 14.854628, 'pid_809799': 14.847643, 'pid_193377': 14.841154, 'pid_835225': 14.775377, 'pid_166768': 14.733756, 'pid_29605': 14.703875, 'pid_750238': 14.700901, 'pid_751683': 14.669796, 'pid_318504': 14.610768, 'pid_389933': 14.610768, 'pid_653240': 14.610768, 'pid_568025': 14.60988, 'pid_451484': 14.60432, 'pid_688084': 14.58624, 'pid_305184': 14.585018, 'pid_475502': 14.56748, 'pid_401247': 14.5358925, 'pid_176222': 14.46793, 'pid_806648': 14.463076, 'pid_668214': 14.450602, 'pid_875842': 14.444086, 'pid_480432': 14.411716, 'pid_700961': 14.391918, 'pid_436410': 14.347719, 'pid_61219': 14.311408, 'pid_834192': 14.301763, 'pid_564926': 14.295519, 'pid_579715': 14.241989, 'pid_178111': 14.226596, 'pid_951752': 14.181268, 'pid_909335': 14.017682, 'pid_849052': 13.944655, 'pid_39207': 13.92511, 'pid_625407': 13.915672, 'pid_992885': 13.909704, 'pid_52349': 13.901018, 'pid_534525': 13.884449, 'pid_911377': 13.837577, 'pid_244996': 13.831734, 'pid_809663': 13.7976465, 'pid_465166': 13.761442, 'pid_844620': 13.750107}, 'qid_5061': {'pid_380406': 23.474762, 'pid_765920': 23.474762, 'pid_976558': 21.567905, 'pid_17647': 21.497927, 'pid_719968': 21.11839, 'pid_42991': 20.994934, 'pid_347135': 20.994934, 'pid_195294': 20.427008, 'pid_985775': 20.427008, 'pid_116655': 20.310768, 'pid_76934': 20.244146, 'pid_240081': 20.051847, 'pid_778952': 19.756378, 'pid_261787': 19.727196, 'pid_921529': 19.727196, 'pid_503036': 19.355011, 'pid_889958': 19.28096, 'pid_193398': 19.265505, 'pid_602580': 19.21147, 'pid_635135': 18.988829, 'pid_216402': 18.66333, 'pid_643244': 17.578766, 'pid_141029': 17.532398, 'pid_612199': 17.440168, 'pid_841459': 17.356478, 'pid_296900': 17.249039, 'pid_174983': 17.194208, 'pid_444775': 17.168407, 'pid_372923': 17.072035, 'pid_491390': 17.052588, 'pid_375586': 17.037598, 'pid_978382': 17.021772, 'pid_586221': 16.956757, 'pid_505478': 16.884956, 'pid_637254': 16.859812, 'pid_608484': 16.766323, 'pid_984129': 16.753044, 'pid_453049': 16.603289, 'pid_268485': 16.459347, 'pid_826079': 16.413773, 'pid_321073': 16.34766, 'pid_197367': 16.336796, 'pid_173242': 16.332071, 'pid_780064': 16.318914, 'pid_440525': 16.3107, 'pid_170629': 16.274473, 'pid_281551': 16.268534, 'pid_267676': 16.223982, 'pid_596841': 16.21722, 'pid_690497': 16.194563, 'pid_395189': 16.171402, 'pid_539442': 16.16311, 'pid_234291': 16.159187, 'pid_568694': 16.116041, 'pid_584979': 16.044119, 'pid_916992': 16.038803, 'pid_498702': 16.018742, 'pid_597114': 15.990505, 'pid_774484': 15.983273, 'pid_784901': 15.953638, 'pid_15277': 15.917716, 'pid_211900': 15.90792, 'pid_773638': 15.895319, 'pid_277436': 15.885994, 'pid_921274': 15.796759, 'pid_317859': 15.769192, 'pid_244951': 15.579138, 'pid_396241': 15.324121, 'pid_367905': 15.209785, 'pid_283764': 15.191429, 'pid_628149': 15.162203, 'pid_224581': 15.153538, 'pid_466289': 15.153341, 'pid_75861': 15.10384, 'pid_479295': 15.095558, 'pid_149172': 15.045916, 'pid_383611': 14.925896, 'pid_461906': 14.88758, 'pid_16964': 14.863431, 'pid_716022': 14.816296, 'pid_706453': 14.811161, 'pid_577376': 14.769726, 'pid_362033': 14.762062, 'pid_216633': 14.7552595, 'pid_275509': 14.753681, 'pid_963814': 14.704811, 'pid_151325': 14.694836, 'pid_695541': 14.660772, 'pid_157593': 14.624676, 'pid_681127': 14.596, 'pid_354353': 14.59253, 'pid_819737': 14.5786705, 'pid_98563': 14.473915, 'pid_581879': 14.426191, 'pid_457667': 14.406493, 'pid_482296': 14.302871, 'pid_65913': 14.155695, 'pid_909267': 14.124096, 'pid_744468': 14.090923, 'pid_577788': 14.074909}, 'qid_5062': {'pid_895257': 25.3216, 'pid_507935': 24.289865, 'pid_927752': 23.870674, 'pid_374233': 23.59294, 'pid_771698': 23.574343, 'pid_858124': 23.440018, 'pid_785091': 22.821426, 'pid_962181': 22.64301, 'pid_780276': 22.632126, 'pid_122808': 22.530245, 'pid_192390': 21.947073, 'pid_621819': 21.947073, 'pid_92987': 21.902918, 'pid_997065': 21.815905, 'pid_976588': 21.556149, 'pid_794694': 21.458302, 'pid_175001': 21.426094, 'pid_691161': 21.322224, 'pid_867756': 20.941948, 'pid_880782': 20.879974, 'pid_54230': 20.555298, 'pid_60831': 20.331078, 'pid_139617': 20.229256, 'pid_301460': 20.221888, 'pid_936663': 20.154224, 'pid_123401': 20.075699, 'pid_161715': 20.017792, 'pid_451459': 19.991245, 'pid_612956': 19.97504, 'pid_183701': 19.968428, 'pid_868767': 19.872713, 'pid_622143': 19.621923, 'pid_107920': 19.58582, 'pid_540115': 19.528156, 'pid_883437': 19.372658, 'pid_51613': 19.310715, 'pid_367452': 19.287613, 'pid_61393': 19.25925, 'pid_790697': 19.224977, 'pid_934534': 19.135008, 'pid_258660': 19.130033, 'pid_721283': 19.09591, 'pid_264005': 18.950554, 'pid_354828': 18.916437, 'pid_689978': 18.802094, 'pid_612256': 18.700232, 'pid_282457': 18.69427, 'pid_483075': 18.692453, 'pid_578259': 18.549839, 'pid_102010': 18.51278, 'pid_684767': 18.509613, 'pid_203011': 18.481796, 'pid_765381': 18.35219, 'pid_576632': 18.235813, 'pid_143325': 18.119364, 'pid_912421': 18.102945, 'pid_604462': 18.047157, 'pid_647559': 17.998734, 'pid_832856': 17.971535, 'pid_407126': 17.9685, 'pid_631872': 17.943851, 'pid_489446': 17.940437, 'pid_70732': 17.932846, 'pid_939835': 17.929924, 'pid_624893': 17.861263, 'pid_732349': 17.8512, 'pid_931681': 17.813858, 'pid_57576': 17.809092, 'pid_520100': 17.802183, 'pid_635869': 17.772263, 'pid_203769': 17.740177, 'pid_220176': 17.736874, 'pid_826704': 17.72951, 'pid_510185': 17.704725, 'pid_721483': 17.702766, 'pid_72444': 17.6793, 'pid_896807': 17.676804, 'pid_50172': 17.6596, 'pid_311246': 17.638304, 'pid_664176': 17.622915, 'pid_312456': 17.621305, 'pid_167997': 17.607716, 'pid_868846': 17.604416, 'pid_153276': 17.593052, 'pid_439658': 17.587261, 'pid_192158': 17.582512, 'pid_36390': 17.57189, 'pid_310723': 17.552746, 'pid_564472': 17.544014, 'pid_166506': 17.497936, 'pid_718774': 17.493866, 'pid_711293': 17.489807, 'pid_607446': 17.468946, 'pid_182847': 17.467289, 'pid_920847': 17.46224, 'pid_102623': 17.457989, 'pid_655395': 17.444212, 'pid_179095': 17.420753, 'pid_571196': 17.400578, 'pid_723405': 17.380589}, 'qid_5063': {'pid_730590': 19.946945, 'pid_332504': 19.925556, 'pid_179304': 19.02918, 'pid_744214': 17.274326, 'pid_304155': 17.081966, 'pid_543189': 16.614008, 'pid_936621': 16.387829, 'pid_750714': 16.328444, 'pid_656122': 16.29166, 'pid_52991': 16.174934, 'pid_261691': 16.11353, 'pid_543077': 15.750096, 'pid_107945': 15.581204, 'pid_395968': 15.514355, 'pid_527467': 15.473048, 'pid_781418': 15.324863, 'pid_391123': 15.281662, 'pid_349951': 15.1528635, 'pid_889644': 14.981971, 'pid_702739': 14.960819, 'pid_536092': 14.948851, 'pid_488146': 14.946647, 'pid_756203': 14.842402, 'pid_357631': 14.829422, 'pid_870990': 14.761922, 'pid_86934': 14.57222, 'pid_294944': 14.241228, 'pid_446931': 14.129885, 'pid_212854': 14.084539, 'pid_805599': 14.006673, 'pid_72192': 13.996948, 'pid_616660': 13.927343, 'pid_556694': 13.831333, 'pid_520958': 13.73168, 'pid_215308': 13.623719, 'pid_309229': 13.425549, 'pid_989854': 13.392, 'pid_993819': 13.391141, 'pid_759478': 13.306698, 'pid_201723': 13.304895, 'pid_233074': 13.281538, 'pid_429911': 13.272537, 'pid_907959': 13.233857, 'pid_598756': 13.190773, 'pid_583940': 13.124363, 'pid_711075': 13.116361, 'pid_448821': 13.060865, 'pid_447847': 13.05448, 'pid_131182': 13.048401, 'pid_803719': 13.039592, 'pid_673295': 13.015694, 'pid_802826': 12.982191, 'pid_355862': 12.975796, 'pid_837772': 12.975796, 'pid_315644': 12.959288, 'pid_971770': 12.756078, 'pid_715255': 12.7179365, 'pid_829268': 12.709784, 'pid_629221': 12.667271, 'pid_703253': 12.666112, 'pid_122430': 12.646063, 'pid_922278': 12.618719, 'pid_168483': 12.616583, 'pid_213870': 12.614457, 'pid_252923': 12.606518, 'pid_870927': 12.58662, 'pid_356015': 12.561352, 'pid_869313': 12.556152, 'pid_751598': 12.55032, 'pid_906052': 12.53829, 'pid_930125': 12.516015, 'pid_68603': 12.483225, 'pid_875383': 12.481215, 'pid_140511': 12.476803, 'pid_18741': 12.464748, 'pid_242326': 12.460508, 'pid_666075': 12.45878, 'pid_357553': 12.456993, 'pid_391966': 12.417108, 'pid_494835': 12.402001, 'pid_103077': 12.397606, 'pid_688955': 12.396151, 'pid_277767': 12.337989, 'pid_650303': 12.32319, 'pid_743519': 12.3231325, 'pid_76533': 12.317976, 'pid_840302': 12.317976, 'pid_919585': 12.29344, 'pid_244739': 12.252112, 'pid_671783': 12.236567, 'pid_956084': 12.206181, 'pid_634484': 12.198789, 'pid_895523': 12.171039, 'pid_637294': 12.164213, 'pid_656691': 12.118081, 'pid_706875': 12.110799, 'pid_599343': 12.090237, 'pid_108699': 12.084818, 'pid_965439': 12.074522, 'pid_693896': 12.031284}, 'qid_5064': {'pid_163016': 29.146284, 'pid_836561': 27.981512, 'pid_281551': 27.015083, 'pid_319872': 26.015793, 'pid_174983': 23.940094, 'pid_304567': 23.911524, 'pid_637254': 23.658749, 'pid_524157': 23.333105, 'pid_641512': 23.256197, 'pid_234291': 23.119709, 'pid_130294': 22.797998, 'pid_869638': 22.74992, 'pid_373008': 22.349697, 'pid_826521': 22.219246, 'pid_372923': 22.155415, 'pid_340970': 22.108637, 'pid_535709': 21.92327, 'pid_633229': 21.676949, 'pid_993001': 21.56911, 'pid_963814': 21.25831, 'pid_790769': 21.18491, 'pid_187281': 21.071785, 'pid_361091': 20.809156, 'pid_628149': 20.44817, 'pid_944989': 20.304688, 'pid_514644': 18.920063, 'pid_448297': 18.798899, 'pid_726755': 18.688164, 'pid_753233': 18.522245, 'pid_675177': 18.254698, 'pid_243040': 18.249859, 'pid_467377': 18.241318, 'pid_307891': 18.236164, 'pid_808012': 18.214859, 'pid_442523': 18.21268, 'pid_706520': 18.191608, 'pid_343526': 18.162718, 'pid_748042': 18.159063, 'pid_673813': 18.025284, 'pid_968118': 17.969364, 'pid_982809': 17.930733, 'pid_209947': 17.901173, 'pid_573849': 17.895386, 'pid_306254': 17.859856, 'pid_20563': 17.797657, 'pid_978382': 17.784369, 'pid_138274': 17.73793, 'pid_441896': 17.723274, 'pid_83770': 17.721561, 'pid_220693': 17.714344, 'pid_310665': 17.665253, 'pid_816431': 17.66322, 'pid_161185': 17.6541, 'pid_780064': 17.647491, 'pid_721271': 17.61764, 'pid_439453': 17.593327, 'pid_380490': 17.582306, 'pid_949195': 17.560287, 'pid_141605': 17.536694, 'pid_574316': 17.52463, 'pid_862194': 17.491915, 'pid_27428': 17.301369, 'pid_790236': 17.267094, 'pid_85648': 17.245083, 'pid_577549': 17.192648, 'pid_293837': 17.17684, 'pid_802380': 17.130886, 'pid_654106': 17.11679, 'pid_971041': 17.078674, 'pid_20439': 17.077202, 'pid_416280': 17.05096, 'pid_439667': 17.038307, 'pid_141790': 16.957674, 'pid_679810': 16.924923, 'pid_570283': 16.915417, 'pid_868585': 16.885563, 'pid_526042': 16.866024, 'pid_719211': 16.840958, 'pid_947686': 16.819304, 'pid_216274': 16.767645, 'pid_954981': 16.719128, 'pid_129513': 16.694435, 'pid_799577': 16.681932, 'pid_915104': 16.654928, 'pid_20363': 16.565636, 'pid_912396': 16.562557, 'pid_815358': 16.498064, 'pid_654431': 16.491764, 'pid_99000': 16.436462, 'pid_483112': 16.390999, 'pid_843150': 16.366858, 'pid_695541': 16.25149, 'pid_403845': 16.207743, 'pid_344721': 16.198395, 'pid_584979': 16.18957, 'pid_341801': 16.122772, 'pid_308622': 16.112467, 'pid_612199': 16.093056, 'pid_516740': 16.075918, 'pid_912000': 16.068586}, 'qid_5065': {'pid_542701': 28.975163, 'pid_525613': 28.884663, 'pid_641396': 28.765806, 'pid_641410': 27.794825, 'pid_238904': 27.73285, 'pid_104851': 27.32447, 'pid_358414': 27.300499, 'pid_19675': 27.256874, 'pid_744461': 27.23082, 'pid_875793': 27.180788, 'pid_420124': 27.152248, 'pid_295046': 27.133287, 'pid_767826': 27.113121, 'pid_906258': 26.863716, 'pid_121797': 26.834505, 'pid_205876': 26.819157, 'pid_755319': 26.742695, 'pid_313444': 26.72425, 'pid_4636': 26.712238, 'pid_14570': 26.66669, 'pid_168428': 26.50447, 'pid_224681': 26.486132, 'pid_112375': 26.45629, 'pid_109793': 26.127937, 'pid_668558': 25.954727, 'pid_423382': 25.861416, 'pid_372820': 25.782349, 'pid_99685': 25.748043, 'pid_287971': 25.713829, 'pid_14240': 25.533848, 'pid_752550': 25.260677, 'pid_808087': 25.196442, 'pid_800211': 24.81606, 'pid_727426': 24.79744, 'pid_899756': 24.741745, 'pid_939501': 23.758131, 'pid_712622': 23.478567, 'pid_331101': 23.396305, 'pid_895774': 23.396305, 'pid_406977': 23.31231, 'pid_679629': 23.300537, 'pid_979339': 23.277039, 'pid_619969': 23.21321, 'pid_946561': 23.171959, 'pid_216474': 23.125607, 'pid_89247': 23.10251, 'pid_698941': 22.980774, 'pid_988184': 22.955317, 'pid_555933': 22.942612, 'pid_671343': 22.904583, 'pid_267686': 22.866688, 'pid_765454': 22.716433, 'pid_189329': 22.691595, 'pid_686143': 22.666813, 'pid_975031': 22.64209, 'pid_542779': 22.41903, 'pid_238233': 22.163063, 'pid_437296': 22.088993, 'pid_716306': 22.059504, 'pid_39672': 22.044788, 'pid_147908': 22.044788, 'pid_841167': 22.030094, 'pid_263263': 21.986124, 'pid_966546': 21.927769, 'pid_172793': 21.898708, 'pid_505791': 21.884207, 'pid_261867': 21.683184, 'pid_495251': 21.237286, 'pid_930607': 20.944075, 'pid_107438': 20.8272, 'pid_212737': 20.090082, 'pid_272224': 19.751963, 'pid_394719': 18.008799, 'pid_130697': 17.957348, 'pid_677077': 17.925198, 'pid_347789': 17.9216, 'pid_941952': 17.744987, 'pid_31269': 17.675312, 'pid_298772': 17.590103, 'pid_154827': 17.58326, 'pid_396258': 17.58326, 'pid_177819': 17.446962, 'pid_816861': 17.33482, 'pid_779864': 17.312765, 'pid_379707': 17.229546, 'pid_488530': 17.108206, 'pid_370624': 17.101355, 'pid_124139': 16.737432, 'pid_283890': 16.702522, 'pid_481033': 16.693817, 'pid_25091': 16.68947, 'pid_39226': 16.680779, 'pid_978164': 16.680779, 'pid_363725': 16.672096, 'pid_636528': 16.66906, 'pid_878951': 16.663424, 'pid_128957': 16.491842, 'pid_964172': 16.030054, 'pid_345145': 16.018028, 'pid_218275': 16.006023}, 'qid_5066': {'pid_985458': 18.171816, 'pid_905212': 18.017887, 'pid_350433': 17.806076, 'pid_803749': 17.738, 'pid_508213': 17.619244, 'pid_730526': 17.57834, 'pid_887938': 17.57834, 'pid_950369': 17.534674, 'pid_480917': 17.365702, 'pid_209698': 17.339697, 'pid_984532': 17.337925, 'pid_894797': 17.278175, 'pid_928820': 17.242527, 'pid_401526': 17.20819, 'pid_304121': 17.19658, 'pid_786567': 17.179516, 'pid_132947': 17.127327, 'pid_206087': 17.125687, 'pid_421177': 17.089355, 'pid_874344': 17.070446, 'pid_510327': 17.02745, 'pid_210464': 17.005531, 'pid_122169': 16.991709, 'pid_607435': 16.951878, 'pid_502320': 16.945736, 'pid_210929': 16.94175, 'pid_449892': 16.89598, 'pid_655347': 16.800724, 'pid_763142': 16.779266, 'pid_476359': 16.639412, 'pid_721829': 16.632385, 'pid_8167': 16.594027, 'pid_498705': 16.590805, 'pid_807190': 16.55416, 'pid_249584': 16.503407, 'pid_387356': 16.495686, 'pid_379536': 16.484707, 'pid_558362': 16.456707, 'pid_231036': 16.394531, 'pid_443800': 16.267765, 'pid_94767': 16.264078, 'pid_637918': 16.095966, 'pid_521261': 16.039253, 'pid_575292': 15.791307, 'pid_636632': 15.698465, 'pid_795988': 15.698465, 'pid_440132': 15.271669, 'pid_8910': 15.255596, 'pid_587871': 15.09481, 'pid_885877': 15.035385, 'pid_900558': 15.035385, 'pid_923901': 14.576318, 'pid_191123': 13.246279, 'pid_827013': 13.191122, 'pid_17203': 13.180118, 'pid_993064': 13.109552, 'pid_757031': 13.082219, 'pid_481880': 13.08214, 'pid_673854': 13.071237, 'pid_586266': 13.07019, 'pid_398459': 13.026024, 'pid_178571': 13.015532, 'pid_475786': 13.015532, 'pid_758062': 13.003733, 'pid_961668': 12.972191, 'pid_239907': 12.964653, 'pid_838875': 12.947274, 'pid_808660': 12.938071, 'pid_64989': 12.935971, 'pid_684242': 12.935971, 'pid_273949': 12.935133, 'pid_197158': 12.927577, 'pid_569355': 12.917064, 'pid_629251': 12.904857, 'pid_623665': 12.902504, 'pid_311960': 12.896111, 'pid_388266': 12.894373, 'pid_627308': 12.894373, 'pid_343495': 12.877693, 'pid_662534': 12.875435, 'pid_846298': 12.866299, 'pid_356055': 12.865084, 'pid_126105': 12.840872, 'pid_882446': 12.840872, 'pid_834558': 12.839411, 'pid_560751': 12.818415, 'pid_700222': 12.818415, 'pid_859646': 12.816998, 'pid_301026': 12.813857, 'pid_443575': 12.808054, 'pid_270512': 12.799124, 'pid_708569': 12.795662, 'pid_15273': 12.793803, 'pid_42617': 12.793803, 'pid_57940': 12.789661, 'pid_290594': 12.78867, 'pid_537466': 12.78867, 'pid_307008': 12.773295, 'pid_371300': 12.765622, 'pid_692621': 12.759441}, 'qid_5067': {'pid_852224': 33.73815, 'pid_60688': 33.572105, 'pid_978207': 32.644783, 'pid_960259': 32.54702, 'pid_656801': 32.232906, 'pid_605258': 31.868742, 'pid_788764': 31.838203, 'pid_311935': 30.488487, 'pid_465774': 30.34938, 'pid_370958': 29.276062, 'pid_89707': 29.005463, 'pid_455347': 29.002937, 'pid_317192': 28.719854, 'pid_393866': 28.679234, 'pid_756523': 28.42429, 'pid_614771': 28.412905, 'pid_484810': 28.363987, 'pid_8443': 28.3164, 'pid_715121': 28.192944, 'pid_680799': 28.14465, 'pid_432296': 28.108631, 'pid_761650': 28.034893, 'pid_299791': 28.029636, 'pid_844516': 27.800266, 'pid_729169': 27.793818, 'pid_43820': 27.789028, 'pid_562944': 27.60439, 'pid_414410': 27.357424, 'pid_740158': 27.294746, 'pid_793990': 26.81049, 'pid_898258': 26.777689, 'pid_992119': 26.57278, 'pid_305964': 26.447775, 'pid_664616': 26.287144, 'pid_305808': 26.146591, 'pid_297750': 26.110357, 'pid_754928': 26.023502, 'pid_45135': 25.895603, 'pid_327834': 25.703465, 'pid_528097': 25.579704, 'pid_838827': 25.338953, 'pid_370831': 25.282015, 'pid_982272': 25.241095, 'pid_667861': 25.120697, 'pid_496001': 24.885225, 'pid_62342': 24.713173, 'pid_795589': 24.710503, 'pid_905962': 24.643227, 'pid_381860': 24.507187, 'pid_413739': 24.444838, 'pid_764942': 24.362715, 'pid_841995': 24.341599, 'pid_201579': 24.084892, 'pid_120684': 24.005661, 'pid_416439': 24.005661, 'pid_526993': 23.994772, 'pid_2758': 23.96973, 'pid_961839': 23.96973, 'pid_261017': 23.953482, 'pid_255189': 23.95087, 'pid_197952': 23.886318, 'pid_486865': 23.754824, 'pid_652637': 23.617441, 'pid_390632': 23.592022, 'pid_8586': 23.53923, 'pid_960977': 23.396458, 'pid_496506': 23.371399, 'pid_784372': 23.266386, 'pid_262736': 23.095219, 'pid_464654': 22.873964, 'pid_158104': 22.806988, 'pid_418011': 22.528433, 'pid_828384': 22.499363, 'pid_746105': 22.483969, 'pid_752028': 22.463644, 'pid_635937': 22.461308, 'pid_891147': 22.461308, 'pid_398965': 22.407534, 'pid_917884': 22.30332, 'pid_977744': 22.251621, 'pid_867012': 22.227682, 'pid_279971': 22.214794, 'pid_193667': 22.19975, 'pid_337395': 21.836845, 'pid_744396': 21.81296, 'pid_165636': 21.61622, 'pid_981592': 21.193132, 'pid_388681': 21.004055, 'pid_793017': 20.8898, 'pid_240641': 20.84793, 'pid_987912': 20.61972, 'pid_643046': 20.59349, 'pid_476656': 20.5258, 'pid_69255': 20.466372, 'pid_597288': 20.43214, 'pid_413403': 20.39555, 'pid_834955': 20.228594, 'pid_749172': 20.196629, 'pid_654359': 20.155676, 'pid_815005': 19.969147}, 'qid_5068': {'pid_209725': 36.901764, 'pid_777170': 35.49171, 'pid_483226': 32.259228, 'pid_749656': 31.867199, 'pid_427780': 31.002632, 'pid_398508': 30.643036, 'pid_417487': 30.37217, 'pid_44349': 30.133818, 'pid_55869': 30.018303, 'pid_354213': 29.97523, 'pid_480378': 29.663006, 'pid_785817': 29.595154, 'pid_52657': 29.462814, 'pid_230061': 29.087015, 'pid_365318': 27.768934, 'pid_733206': 25.99685, 'pid_204575': 25.314201, 'pid_299048': 25.22493, 'pid_965648': 25.020897, 'pid_868538': 24.965218, 'pid_567422': 24.900238, 'pid_220898': 24.74718, 'pid_232938': 24.719566, 'pid_646219': 24.692017, 'pid_425936': 24.435791, 'pid_673529': 24.037659, 'pid_296561': 23.989841, 'pid_415909': 23.907677, 'pid_248318': 23.857649, 'pid_864184': 23.831816, 'pid_796877': 23.80046, 'pid_746405': 23.769188, 'pid_581271': 23.614046, 'pid_596066': 23.491383, 'pid_634610': 23.491383, 'pid_938931': 22.977423, 'pid_329520': 22.711775, 'pid_312412': 22.671408, 'pid_439636': 22.656364, 'pid_368956': 22.59639, 'pid_354592': 22.492197, 'pid_432782': 21.850443, 'pid_801752': 21.552156, 'pid_77854': 21.552128, 'pid_226566': 21.531225, 'pid_926796': 21.520273, 'pid_426111': 21.230118, 'pid_128077': 21.125254, 'pid_477745': 21.09984, 'pid_964910': 21.055086, 'pid_495422': 20.816425, 'pid_776839': 20.723305, 'pid_866758': 20.575563, 'pid_523835': 20.522057, 'pid_397099': 20.463741, 'pid_446273': 20.237984, 'pid_13774': 20.195677, 'pid_852898': 20.122934, 'pid_329537': 19.989372, 'pid_268447': 19.913733, 'pid_590145': 19.904453, 'pid_915947': 19.729614, 'pid_508096': 19.654205, 'pid_861712': 19.600601, 'pid_700664': 19.57463, 'pid_612020': 19.548428, 'pid_777066': 19.457268, 'pid_647958': 19.439617, 'pid_698809': 19.420628, 'pid_701906': 19.396936, 'pid_932947': 19.379807, 'pid_890056': 19.369982, 'pid_382913': 19.354122, 'pid_790875': 19.339722, 'pid_625182': 19.09908, 'pid_814474': 19.069736, 'pid_781071': 19.013933, 'pid_477762': 18.998861, 'pid_757944': 18.718756, 'pid_335337': 18.690495, 'pid_154515': 18.683441, 'pid_855524': 18.676395, 'pid_538652': 18.655287, 'pid_416559': 18.648262, 'pid_684095': 18.648262, 'pid_310183': 18.641241, 'pid_280770': 18.634228, 'pid_283830': 18.634228, 'pid_201626': 18.620213, 'pid_212373': 18.60622, 'pid_516642': 18.58527, 'pid_465327': 18.57133, 'pid_523055': 18.55741, 'pid_40188': 18.522701, 'pid_949565': 18.522701, 'pid_340222': 18.508854, 'pid_515034': 18.50194, 'pid_817488': 18.50194, 'pid_605255': 18.474327, 'pid_389755': 18.447254}, 'qid_5069': {'pid_839154': 14.604536, 'pid_184210': 13.946481, 'pid_989974': 13.6118965, 'pid_773932': 13.182844, 'pid_704293': 13.086624, 'pid_16265': 12.839563, 'pid_295034': 11.484191, 'pid_51230': 11.43872, 'pid_589647': 11.420827, 'pid_25758': 11.267319, 'pid_471614': 11.252764, 'pid_329234': 11.177497, 'pid_527500': 11.152902, 'pid_30075': 11.126193, 'pid_102007': 11.112886, 'pid_8765': 11.1084585, 'pid_278568': 11.1084585, 'pid_934914': 11.099612, 'pid_430957': 11.003225, 'pid_711040': 10.950052, 'pid_717829': 10.950052, 'pid_233087': 10.938594, 'pid_531461': 10.932874, 'pid_343416': 10.927159, 'pid_80012': 10.9072075, 'pid_386813': 10.9072075, 'pid_590960': 10.904363, 'pid_587309': 10.895839, 'pid_711415': 10.890163, 'pid_463004': 10.8646965, 'pid_221965': 10.859054, 'pid_600766': 10.847786, 'pid_218999': 10.830927, 'pid_535173': 10.830927, 'pid_169720': 10.797365, 'pid_196254': 10.786224, 'pid_87927': 10.752939, 'pid_232833': 10.525818, 'pid_709873': 10.525818, 'pid_33695': 10.521845, 'pid_425159': 10.517875, 'pid_207212': 10.513907, 'pid_888030': 10.509944, 'pid_919495': 10.505982, 'pid_685685': 10.502025, 'pid_389466': 10.494118, 'pid_828228': 10.494118, 'pid_817281': 10.490169, 'pid_282495': 10.486222, 'pid_812932': 10.486222, 'pid_950741': 10.458683, 'pid_221665': 10.4391, 'pid_782642': 10.423487, 'pid_31588': 10.384657, 'pid_379115': 10.3769245, 'pid_892989': 10.369205, 'pid_754239': 10.30024, 'pid_427945': 10.269882, 'pid_727872': 10.269882, 'pid_233566': 10.155755, 'pid_11758': 10.1268015, 'pid_120772': 10.096653, 'pid_489297': 10.070547, 'pid_221592': 10.049965, 'pid_650714': 10.049965, 'pid_36599': 10.028104, 'pid_377982': 10.028104, 'pid_54823': 10.022654, 'pid_450293': 10.01177, 'pid_563666': 9.957707, 'pid_558252': 9.953995, 'pid_588191': 9.950771, 'pid_600675': 9.925064, 'pid_414153': 9.854727, 'pid_509591': 9.842424, 'pid_170018': 9.838952, 'pid_977444': 9.817346, 'pid_14096': 9.805599, 'pid_448790': 9.801691, 'pid_113742': 9.789982, 'pid_19729': 9.782192, 'pid_933781': 9.758896, 'pid_317059': 9.751156, 'pid_865550': 9.640397, 'pid_953748': 9.640397, 'pid_862387': 9.637877, 'pid_862285': 9.630327, 'pid_2703': 9.628955, 'pid_995077': 9.627813, 'pid_412610': 9.6253, 'pid_391617': 9.622789, 'pid_660157': 9.61777, 'pid_522817': 9.612757, 'pid_500123': 9.605247, 'pid_836620': 9.597748, 'pid_145018': 9.587767, 'pid_693022': 9.587767, 'pid_662512': 9.572835, 'pid_635754': 9.567868, 'pid_27537': 9.4939785}, 'qid_5070': {'pid_972655': 25.071453, 'pid_547005': 22.254568, 'pid_1875': 21.67907, 'pid_609895': 21.634632, 'pid_973492': 21.615837, 'pid_952116': 21.38121, 'pid_632299': 21.354443, 'pid_419529': 21.141054, 'pid_492174': 21.141054, 'pid_405224': 21.012426, 'pid_463858': 20.829508, 'pid_776646': 20.829508, 'pid_682475': 20.787325, 'pid_728700': 20.110508, 'pid_228560': 19.900854, 'pid_603320': 19.773191, 'pid_662667': 19.670944, 'pid_27519': 18.79925, 'pid_187484': 18.75234, 'pid_541018': 18.722214, 'pid_557499': 18.722214, 'pid_869172': 18.599072, 'pid_443055': 18.59751, 'pid_275514': 18.423319, 'pid_246824': 18.410128, 'pid_857373': 18.334621, 'pid_685222': 18.318825, 'pid_10233': 18.29773, 'pid_477329': 18.227291, 'pid_10085': 18.224667, 'pid_448190': 18.224667, 'pid_79672': 18.198427, 'pid_118686': 18.162468, 'pid_464991': 18.100721, 'pid_138142': 17.98145, 'pid_580163': 17.917295, 'pid_345066': 17.872429, 'pid_775193': 17.862537, 'pid_957227': 17.795345, 'pid_45214': 17.776299, 'pid_358266': 17.769812, 'pid_534420': 17.676493, 'pid_276932': 17.601814, 'pid_753022': 17.586899, 'pid_209505': 17.53226, 'pid_952624': 17.50419, 'pid_217233': 17.483316, 'pid_970162': 17.475307, 'pid_688742': 17.460499, 'pid_718523': 17.386955, 'pid_646313': 17.382475, 'pid_615175': 17.380426, 'pid_640874': 17.376167, 'pid_137916': 17.343811, 'pid_909895': 17.32129, 'pid_209925': 17.302849, 'pid_201413': 17.29695, 'pid_468495': 17.278442, 'pid_898839': 17.278442, 'pid_408830': 17.270824, 'pid_563002': 17.265862, 'pid_372936': 17.255524, 'pid_78054': 17.244167, 'pid_734714': 17.230675, 'pid_273717': 17.181915, 'pid_951879': 17.181915, 'pid_432324': 17.159182, 'pid_235320': 17.15767, 'pid_624912': 17.15767, 'pid_629258': 17.157494, 'pid_153751': 17.143633, 'pid_937049': 17.11721, 'pid_754235': 17.11215, 'pid_940483': 17.095945, 'pid_421475': 17.08656, 'pid_650425': 17.08656, 'pid_450559': 17.07, 'pid_742781': 17.052357, 'pid_919263': 16.989536, 'pid_213477': 16.985464, 'pid_887452': 16.95028, 'pid_786792': 16.940624, 'pid_175534': 16.936375, 'pid_417827': 16.932014, 'pid_486781': 16.899277, 'pid_693758': 16.8918, 'pid_699431': 16.886501, 'pid_682486': 16.87516, 'pid_665147': 16.852526, 'pid_244907': 16.85237, 'pid_891062': 16.832502, 'pid_546004': 16.829952, 'pid_534012': 16.807438, 'pid_108763': 16.796204, 'pid_957778': 16.796204, 'pid_119585': 16.789045, 'pid_599178': 16.789045, 'pid_381718': 16.785904, 'pid_691409': 16.784985, 'pid_813792': 16.784985}, 'qid_5071': {'pid_565592': 27.342567, 'pid_864446': 26.996998, 'pid_33302': 26.714022, 'pid_7423': 26.704031, 'pid_501286': 26.684076, 'pid_54281': 26.66415, 'pid_765367': 26.20686, 'pid_969297': 26.12293, 'pid_184305': 25.67316, 'pid_186594': 25.587267, 'pid_100003': 25.324997, 'pid_554554': 24.689316, 'pid_611851': 24.512577, 'pid_291248': 23.804022, 'pid_952935': 23.804022, 'pid_370900': 23.772326, 'pid_26027': 23.756512, 'pid_297446': 23.756512, 'pid_990084': 23.756512, 'pid_604479': 23.740717, 'pid_250739': 23.724941, 'pid_736195': 23.724941, 'pid_531703': 23.70919, 'pid_198326': 23.693459, 'pid_903946': 23.693459, 'pid_917965': 23.693459, 'pid_844610': 23.677748, 'pid_688481': 23.599504, 'pid_603650': 21.624117, 'pid_353570': 21.429543, 'pid_439689': 21.061289, 'pid_439123': 19.62385, 'pid_249938': 19.247726, 'pid_340110': 19.131279, 'pid_941188': 18.980398, 'pid_920255': 18.825834, 'pid_954286': 18.661514, 'pid_512360': 18.656004, 'pid_92735': 18.613997, 'pid_36803': 18.441158, 'pid_977675': 18.38881, 'pid_552815': 18.34315, 'pid_251057': 18.326086, 'pid_436050': 18.320406, 'pid_728086': 18.00885, 'pid_944884': 18.002075, 'pid_741125': 17.956024, 'pid_128375': 17.954798, 'pid_252159': 17.941334, 'pid_57753': 17.934612, 'pid_511510': 17.927893, 'pid_71484': 17.921179, 'pid_427137': 17.881004, 'pid_531967': 17.881004, 'pid_741527': 17.841007, 'pid_527646': 17.775822, 'pid_850953': 17.69991, 'pid_795610': 17.624825, 'pid_94684': 17.604734, 'pid_911790': 17.516167, 'pid_378474': 17.437494, 'pid_770559': 17.434147, 'pid_204067': 17.389801, 'pid_707326': 17.323795, 'pid_445955': 17.207935, 'pid_736204': 17.204298, 'pid_695956': 17.124197, 'pid_54340': 17.081501, 'pid_127268': 17.081501, 'pid_818778': 17.081501, 'pid_813778': 17.072989, 'pid_332559': 17.064486, 'pid_774445': 17.055992, 'pid_617209': 17.047508, 'pid_165621': 17.030567, 'pid_644919': 17.030567, 'pid_461053': 17.02211, 'pid_945694': 17.02211, 'pid_21875': 16.93804, 'pid_686380': 16.879723, 'pid_102416': 16.86314, 'pid_256387': 16.861622, 'pid_369469': 16.790846, 'pid_335293': 16.782043, 'pid_818656': 16.720707, 'pid_938725': 16.350456, 'pid_346570': 16.133915, 'pid_962253': 16.101345, 'pid_154557': 16.090519, 'pid_919019': 16.079706, 'pid_367936': 16.015133, 'pid_163853': 16.004421, 'pid_127625': 15.993724, 'pid_711159': 15.98304, 'pid_100119': 15.972372, 'pid_1161': 15.961718, 'pid_570759': 15.951077, 'pid_396958': 15.940451, 'pid_622806': 15.929838, 'pid_540262': 15.919241}, 'qid_5072': {'pid_741566': 16.39567, 'pid_538919': 16.079084, 'pid_974018': 15.627478, 'pid_451121': 15.508911, 'pid_970864': 15.055837, 'pid_838638': 15.053941, 'pid_768357': 14.960202, 'pid_800449': 14.935777, 'pid_72560': 14.874531, 'pid_719836': 14.831899, 'pid_74475': 14.698233, 'pid_317650': 14.664499, 'pid_291350': 14.612599, 'pid_43913': 14.608139, 'pid_424068': 14.58717, 'pid_65802': 14.583049, 'pid_686338': 14.573902, 'pid_998183': 14.564951, 'pid_80177': 14.543484, 'pid_545506': 14.541691, 'pid_978836': 14.531252, 'pid_298456': 14.488684, 'pid_877714': 14.485754, 'pid_322699': 14.462318, 'pid_322290': 14.450328, 'pid_813842': 14.43149, 'pid_293379': 14.416759, 'pid_893593': 14.370468, 'pid_131207': 14.369178, 'pid_699819': 14.3289175, 'pid_128385': 14.323922, 'pid_52496': 14.264063, 'pid_132673': 14.2262125, 'pid_3558': 14.096333, 'pid_589997': 14.089822, 'pid_122347': 14.084003, 'pid_178633': 14.0696945, 'pid_924272': 14.043344, 'pid_425035': 14.016796, 'pid_287346': 13.994507, 'pid_443218': 13.979517, 'pid_185655': 13.964562, 'pid_85914': 13.9571, 'pid_879916': 13.9571, 'pid_180835': 13.949644, 'pid_314232': 13.937061, 'pid_941508': 13.897713, 'pid_2614': 13.862152, 'pid_435566': 13.854692, 'pid_276516': 13.835759, 'pid_631099': 13.826925, 'pid_58205': 13.81996, 'pid_458567': 13.81996, 'pid_263983': 13.78816, 'pid_358978': 13.772319, 'pid_598130': 13.764412, 'pid_830604': 13.7264385, 'pid_524916': 13.687115, 'pid_844070': 13.687115, 'pid_903791': 13.687115, 'pid_360964': 13.670276, 'pid_249591': 13.608328, 'pid_615825': 13.608328, 'pid_359368': 13.576144, 'pid_123855': 13.5688, 'pid_376406': 13.564231, 'pid_998093': 13.555111, 'pid_320667': 13.518166, 'pid_487750': 13.518166, 'pid_224864': 13.509152, 'pid_219471': 13.50876, 'pid_117415': 13.486961, 'pid_698965': 13.462883, 'pid_702562': 13.428191, 'pid_860326': 13.428191, 'pid_719904': 13.418259, 'pid_129450': 13.405739, 'pid_599894': 13.398527, 'pid_63607': 13.353826, 'pid_768782': 13.3122635, 'pid_674284': 13.299557, 'pid_810054': 13.28257, 'pid_8668': 13.264908, 'pid_145942': 13.192644, 'pid_419190': 13.159915, 'pid_134530': 12.988573, 'pid_633101': 12.954839, 'pid_668787': 12.821634, 'pid_809847': 12.756055, 'pid_295579': 12.626888, 'pid_326818': 12.626888, 'pid_684906': 12.626888, 'pid_566763': 11.308664, 'pid_790975': 11.308664, 'pid_695882': 11.297412, 'pid_51155': 11.197443, 'pid_822558': 11.183518, 'pid_345545': 11.157644, 'pid_192369': 11.116499, 'pid_922305': 10.808447}, 'qid_5073': {'pid_218010': 37.77512, 'pid_496572': 36.344406, 'pid_714301': 32.50898, 'pid_661496': 31.775467, 'pid_238166': 31.549059, 'pid_75796': 31.338926, 'pid_883464': 31.126518, 'pid_279271': 31.097689, 'pid_343865': 30.915009, 'pid_640716': 30.896725, 'pid_210480': 30.82536, 'pid_597382': 30.689325, 'pid_34093': 30.657465, 'pid_182946': 30.607628, 'pid_597905': 30.595934, 'pid_723370': 30.590334, 'pid_240311': 30.58148, 'pid_333456': 30.561617, 'pid_685234': 30.53628, 'pid_23392': 30.533363, 'pid_936488': 30.523628, 'pid_950737': 30.511793, 'pid_659069': 30.50237, 'pid_802749': 30.489958, 'pid_981054': 30.44751, 'pid_21893': 30.334063, 'pid_605668': 30.185167, 'pid_605230': 30.025352, 'pid_157419': 29.99266, 'pid_981646': 29.901894, 'pid_755174': 29.783445, 'pid_621350': 29.771194, 'pid_5233': 29.757954, 'pid_880666': 29.716877, 'pid_962156': 29.692307, 'pid_284477': 29.62529, 'pid_1662': 29.622387, 'pid_40237': 29.60141, 'pid_258163': 29.441246, 'pid_808077': 29.23476, 'pid_625087': 29.055378, 'pid_120380': 29.016289, 'pid_545520': 28.91597, 'pid_44903': 28.895111, 'pid_11757': 28.836754, 'pid_771675': 28.56624, 'pid_59045': 28.403236, 'pid_645753': 28.324095, 'pid_163560': 28.285322, 'pid_886098': 28.224968, 'pid_474971': 28.210144, 'pid_150997': 28.179506, 'pid_270398': 28.142181, 'pid_131723': 28.107786, 'pid_921767': 28.088558, 'pid_920520': 28.039371, 'pid_21850': 27.942694, 'pid_572183': 27.847898, 'pid_634386': 27.810163, 'pid_283570': 27.689095, 'pid_180809': 27.555393, 'pid_783656': 27.443264, 'pid_818870': 27.274492, 'pid_429682': 27.04729, 'pid_954078': 26.778465, 'pid_699233': 26.655832, 'pid_371653': 26.519907, 'pid_416673': 26.048553, 'pid_724792': 25.999285, 'pid_964963': 25.916492, 'pid_879134': 25.842579, 'pid_880920': 25.81136, 'pid_57574': 25.808044, 'pid_435038': 25.779934, 'pid_856453': 25.761824, 'pid_40475': 25.749296, 'pid_156565': 25.742275, 'pid_177102': 25.645706, 'pid_555634': 25.630499, 'pid_143177': 25.630306, 'pid_327461': 25.594395, 'pid_661568': 25.570866, 'pid_834324': 25.553486, 'pid_750862': 25.548508, 'pid_991737': 25.528143, 'pid_28219': 25.52469, 'pid_688306': 25.5219, 'pid_680062': 25.482206, 'pid_669222': 25.480043, 'pid_319262': 25.461914, 'pid_326268': 25.315123, 'pid_129135': 25.29512, 'pid_989081': 25.275745, 'pid_59178': 25.249962, 'pid_500280': 25.222109, 'pid_825823': 25.177383, 'pid_601624': 25.1067, 'pid_191140': 25.09466, 'pid_941363': 25.082634, 'pid_574865': 25.038227}, 'qid_5074': {'pid_809997': 37.964005, 'pid_132478': 37.545616, 'pid_654536': 37.146328, 'pid_209192': 36.751507, 'pid_526956': 36.44844, 'pid_465482': 36.19486, 'pid_768088': 36.11665, 'pid_809036': 34.263702, 'pid_766848': 33.547623, 'pid_536400': 33.43871, 'pid_243861': 33.107555, 'pid_305029': 32.817123, 'pid_166927': 32.803204, 'pid_92579': 32.637764, 'pid_791088': 32.47506, 'pid_204515': 32.067734, 'pid_630877': 31.997192, 'pid_583340': 31.949385, 'pid_392458': 31.931181, 'pid_897500': 31.873234, 'pid_430439': 31.74124, 'pid_897146': 31.740852, 'pid_924475': 31.609203, 'pid_789171': 31.585625, 'pid_842887': 31.498632, 'pid_458429': 31.42374, 'pid_831499': 31.405598, 'pid_926801': 31.309877, 'pid_874832': 31.26838, 'pid_513812': 30.926657, 'pid_916061': 30.90868, 'pid_638663': 30.721577, 'pid_414411': 30.653322, 'pid_423587': 30.64498, 'pid_441277': 30.497908, 'pid_91402': 30.495693, 'pid_713418': 30.270092, 'pid_968797': 30.268513, 'pid_75397': 29.922077, 'pid_113799': 29.8633, 'pid_413588': 29.856195, 'pid_61836': 29.839632, 'pid_768866': 29.807001, 'pid_137981': 29.774307, 'pid_292433': 29.725422, 'pid_963842': 29.715607, 'pid_864628': 29.595959, 'pid_162483': 29.591358, 'pid_476144': 29.435932, 'pid_667652': 29.037983, 'pid_750220': 29.032476, 'pid_829398': 28.897026, 'pid_871261': 28.827099, 'pid_545633': 28.784916, 'pid_73054': 28.688385, 'pid_201122': 28.591988, 'pid_928573': 28.40777, 'pid_77965': 28.264961, 'pid_498882': 28.26458, 'pid_177959': 28.193308, 'pid_7362': 27.983383, 'pid_609562': 27.935753, 'pid_598443': 27.913448, 'pid_412943': 27.912868, 'pid_968328': 27.812168, 'pid_168014': 27.806246, 'pid_732052': 27.779087, 'pid_672751': 27.720524, 'pid_925161': 27.670246, 'pid_587604': 27.65657, 'pid_155800': 27.646837, 'pid_158503': 27.621464, 'pid_795556': 27.577595, 'pid_408053': 27.559366, 'pid_308962': 27.325151, 'pid_153779': 27.183048, 'pid_358375': 27.177752, 'pid_291989': 27.054752, 'pid_669934': 26.8991, 'pid_167392': 26.88024, 'pid_543695': 26.877327, 'pid_790921': 26.8425, 'pid_667545': 26.811752, 'pid_530496': 26.804377, 'pid_628660': 26.629574, 'pid_996667': 26.577843, 'pid_51121': 26.535337, 'pid_892240': 26.522316, 'pid_99815': 26.517633, 'pid_175656': 26.513676, 'pid_265956': 26.50752, 'pid_445414': 26.496086, 'pid_457196': 26.4001, 'pid_605054': 26.34755, 'pid_650002': 26.306324, 'pid_349221': 26.190283, 'pid_845404': 26.079172, 'pid_399104': 25.977028, 'pid_580307': 25.943375, 'pid_346408': 25.801422}, 'qid_5075': {'pid_583996': 33.829796, 'pid_76690': 26.647816, 'pid_812486': 23.536877, 'pid_797677': 23.26574, 'pid_486115': 21.781145, 'pid_694585': 21.16456, 'pid_315074': 21.078037, 'pid_656976': 20.255932, 'pid_817033': 20.23819, 'pid_795807': 19.924002, 'pid_518096': 19.748806, 'pid_232018': 19.442642, 'pid_210200': 18.842522, 'pid_932607': 18.800621, 'pid_577915': 18.553976, 'pid_162573': 18.455921, 'pid_520885': 18.026478, 'pid_448350': 17.936653, 'pid_456987': 17.92147, 'pid_306774': 17.867794, 'pid_454627': 17.850485, 'pid_635866': 17.833385, 'pid_1181': 17.799816, 'pid_540438': 17.625439, 'pid_470095': 17.413628, 'pid_992090': 17.399216, 'pid_811793': 17.394943, 'pid_913481': 17.330362, 'pid_504234': 17.218426, 'pid_67019': 17.19464, 'pid_409292': 17.125856, 'pid_472528': 16.90081, 'pid_817783': 16.898113, 'pid_903823': 16.855713, 'pid_395058': 16.800991, 'pid_258237': 16.721628, 'pid_235611': 16.71236, 'pid_120925': 16.623209, 'pid_937619': 16.601841, 'pid_951912': 16.597178, 'pid_732464': 16.553291, 'pid_868417': 16.535725, 'pid_521060': 16.459528, 'pid_35930': 16.446503, 'pid_204913': 16.432777, 'pid_847910': 16.39346, 'pid_23095': 16.384655, 'pid_98362': 16.372078, 'pid_613621': 16.355164, 'pid_41714': 16.275972, 'pid_687722': 16.211493, 'pid_217028': 16.202066, 'pid_512329': 16.202066, 'pid_477155': 16.196114, 'pid_932516': 16.026047, 'pid_544080': 15.965265, 'pid_480932': 15.901823, 'pid_551532': 15.843254, 'pid_65018': 15.7953205, 'pid_924210': 15.769617, 'pid_499450': 15.650551, 'pid_171245': 15.644964, 'pid_125949': 15.579992, 'pid_371044': 15.522266, 'pid_720546': 15.502005, 'pid_851813': 15.463375, 'pid_580124': 15.4616375, 'pid_812630': 15.393247, 'pid_10233': 15.391918, 'pid_739591': 15.350503, 'pid_20647': 15.194892, 'pid_353149': 15.001585, 'pid_279115': 14.880407, 'pid_446221': 14.684242, 'pid_210649': 14.6455, 'pid_327233': 14.614807, 'pid_298874': 14.558913, 'pid_813277': 14.47892, 'pid_327003': 14.425997, 'pid_985851': 14.355966, 'pid_346894': 14.336317, 'pid_629727': 14.259638, 'pid_243923': 14.218801, 'pid_935230': 14.208533, 'pid_870222': 14.196049, 'pid_673601': 14.187014, 'pid_110475': 14.186949, 'pid_528512': 14.137912, 'pid_425857': 14.12381, 'pid_637108': 14.109198, 'pid_961928': 14.084373, 'pid_750921': 14.079385, 'pid_542548': 14.051566, 'pid_203408': 14.047443, 'pid_72633': 14.035412, 'pid_427883': 14.032682, 'pid_576979': 14.029272, 'pid_243556': 14.023261, 'pid_2909': 14.021084, 'pid_955106': 14.011551}, 'qid_5076': {'pid_201696': 36.75705, 'pid_310615': 35.933147, 'pid_641776': 34.59229, 'pid_845896': 34.519913, 'pid_266776': 33.170216, 'pid_986618': 33.162994, 'pid_543343': 33.063965, 'pid_219487': 32.71607, 'pid_396011': 32.66697, 'pid_122254': 32.599354, 'pid_742646': 32.36505, 'pid_202866': 32.120575, 'pid_614518': 32.071068, 'pid_290093': 32.00894, 'pid_883145': 31.926731, 'pid_563419': 31.742628, 'pid_511766': 31.71859, 'pid_789667': 31.693867, 'pid_940505': 31.55614, 'pid_342877': 31.546959, 'pid_171999': 31.519287, 'pid_320836': 31.442116, 'pid_782641': 31.394054, 'pid_308405': 31.366858, 'pid_927270': 31.350533, 'pid_239031': 31.276112, 'pid_488794': 31.229784, 'pid_601203': 31.194216, 'pid_273904': 31.126144, 'pid_20261': 31.028759, 'pid_660749': 30.999254, 'pid_381411': 30.973186, 'pid_793118': 30.900328, 'pid_143449': 30.875298, 'pid_788460': 30.795883, 'pid_141514': 30.762407, 'pid_282273': 30.72132, 'pid_961636': 30.706934, 'pid_940097': 30.630762, 'pid_862803': 30.494251, 'pid_111762': 30.466913, 'pid_753030': 30.350489, 'pid_967170': 30.306257, 'pid_575227': 30.294067, 'pid_906598': 30.26943, 'pid_783513': 30.164309, 'pid_312174': 30.111034, 'pid_315491': 30.083153, 'pid_794298': 30.056973, 'pid_626969': 30.038143, 'pid_331909': 30.03019, 'pid_298986': 30.024343, 'pid_599319': 29.977005, 'pid_578928': 29.85972, 'pid_163674': 29.815079, 'pid_43544': 29.747324, 'pid_308486': 29.730553, 'pid_442781': 29.712318, 'pid_777629': 29.678696, 'pid_553723': 29.589901, 'pid_530471': 29.478916, 'pid_346123': 29.46077, 'pid_143453': 29.343443, 'pid_823776': 29.340508, 'pid_66672': 29.296085, 'pid_276226': 29.198631, 'pid_845742': 29.159832, 'pid_44625': 29.14047, 'pid_777145': 28.77072, 'pid_492118': 28.571358, 'pid_408580': 28.549072, 'pid_278822': 28.42654, 'pid_667642': 28.388792, 'pid_523005': 28.367416, 'pid_575777': 28.290428, 'pid_910279': 28.279678, 'pid_992032': 28.242329, 'pid_341536': 28.093864, 'pid_973231': 28.008533, 'pid_834026': 27.834005, 'pid_935926': 27.744411, 'pid_745157': 27.61243, 'pid_816282': 27.506826, 'pid_829567': 27.408264, 'pid_883102': 27.04668, 'pid_227592': 27.004456, 'pid_826890': 26.96459, 'pid_609611': 26.832405, 'pid_181275': 26.596565, 'pid_113590': 26.483635, 'pid_310763': 26.310818, 'pid_537991': 26.038395, 'pid_980758': 25.958271, 'pid_659033': 25.905937, 'pid_737373': 25.88854, 'pid_327033': 25.856915, 'pid_343476': 25.836489, 'pid_598689': 25.814623, 'pid_200589': 25.801905, 'pid_377136': 25.770517}, 'qid_5077': {'pid_589885': 23.509436, 'pid_178882': 23.329773, 'pid_749397': 22.252415, 'pid_293216': 22.249012, 'pid_206905': 21.390337, 'pid_906178': 21.33298, 'pid_849733': 21.218863, 'pid_553024': 20.830534, 'pid_175343': 20.815115, 'pid_256004': 20.586924, 'pid_184463': 20.208908, 'pid_690847': 19.853697, 'pid_936922': 19.664703, 'pid_435473': 19.63974, 'pid_229272': 19.611135, 'pid_140413': 19.402092, 'pid_489450': 19.347094, 'pid_348425': 19.329266, 'pid_806828': 19.322397, 'pid_971373': 19.199295, 'pid_866426': 18.830402, 'pid_167267': 18.685596, 'pid_749075': 18.58837, 'pid_970255': 18.52691, 'pid_208266': 18.493898, 'pid_14727': 18.425968, 'pid_394421': 18.374332, 'pid_852020': 18.250294, 'pid_842785': 18.160057, 'pid_117950': 18.153238, 'pid_207575': 18.119934, 'pid_43743': 18.05655, 'pid_293671': 17.994843, 'pid_658028': 17.83878, 'pid_609331': 17.803957, 'pid_767059': 17.783169, 'pid_700246': 17.782991, 'pid_143195': 17.749453, 'pid_110416': 17.652367, 'pid_953218': 17.462088, 'pid_921932': 17.421488, 'pid_23324': 17.410917, 'pid_202425': 17.39273, 'pid_350255': 17.366995, 'pid_110370': 17.366364, 'pid_11521': 17.331665, 'pid_379537': 17.321354, 'pid_557398': 17.312775, 'pid_89842': 17.30589, 'pid_167282': 17.279373, 'pid_959030': 17.24631, 'pid_22062': 17.219885, 'pid_412654': 17.193123, 'pid_191349': 17.190538, 'pid_958567': 17.167488, 'pid_462157': 17.126842, 'pid_294124': 17.112186, 'pid_834173': 17.112186, 'pid_519334': 17.104137, 'pid_372039': 17.082958, 'pid_159003': 17.06944, 'pid_691191': 17.053835, 'pid_209110': 17.012661, 'pid_749530': 17.003134, 'pid_376202': 17.000706, 'pid_830193': 16.995907, 'pid_815351': 16.977951, 'pid_783601': 16.972454, 'pid_688081': 16.950954, 'pid_283786': 16.949945, 'pid_563055': 16.938715, 'pid_200612': 16.927498, 'pid_383548': 16.916296, 'pid_274376': 16.912512, 'pid_277349': 16.824612, 'pid_710195': 16.821543, 'pid_873050': 16.81614, 'pid_478048': 16.812998, 'pid_700534': 16.68443, 'pid_100518': 16.647436, 'pid_966629': 16.640984, 'pid_808318': 16.633978, 'pid_536316': 16.581211, 'pid_823453': 16.560965, 'pid_775814': 16.554766, 'pid_862963': 16.554766, 'pid_220315': 16.546438, 'pid_251303': 16.517267, 'pid_396334': 16.480015, 'pid_670906': 16.401405, 'pid_406382': 16.39934, 'pid_475588': 16.39934, 'pid_76406': 16.385279, 'pid_861045': 16.36418, 'pid_354363': 16.359348, 'pid_628318': 16.35548, 'pid_216149': 16.343079, 'pid_653356': 16.319584, 'pid_862566': 16.319584, 'pid_293462': 16.303642}, 'qid_5078': {'pid_326859': 15.279754, 'pid_545619': 15.256277, 'pid_599524': 15.2141695, 'pid_168062': 15.203722, 'pid_226179': 15.108492, 'pid_118318': 15.087095, 'pid_432126': 15.031204, 'pid_616623': 14.929766, 'pid_547709': 14.883408, 'pid_829468': 14.845673, 'pid_602199': 14.8275585, 'pid_723018': 14.821042, 'pid_933997': 14.759137, 'pid_188705': 14.750544, 'pid_546622': 14.741961, 'pid_211269': 14.705826, 'pid_103835': 14.683949, 'pid_335636': 14.639812, 'pid_774523': 14.639651, 'pid_299961': 14.625551, 'pid_112564': 14.586662, 'pid_322364': 14.586662, 'pid_176256': 14.5694275, 'pid_454120': 14.550818, 'pid_294462': 14.528073, 'pid_226562': 14.42658, 'pid_818914': 14.419235, 'pid_748379': 14.375988, 'pid_900047': 14.358337, 'pid_512349': 14.343723, 'pid_562693': 14.343723, 'pid_640041': 14.316947, 'pid_865243': 14.263691, 'pid_957655': 14.2425, 'pid_763299': 14.231928, 'pid_855078': 14.231928, 'pid_319105': 14.189797, 'pid_392168': 14.127066, 'pid_964038': 14.03821, 'pid_396654': 13.998627, 'pid_234784': 13.991834, 'pid_483480': 13.96579, 'pid_237749': 13.953711, 'pid_987764': 13.9356, 'pid_900869': 13.929577, 'pid_550252': 13.917551, 'pid_671631': 13.917551, 'pid_60923': 13.856384, 'pid_41736': 13.840026, 'pid_235423': 13.806383, 'pid_825604': 13.806383, 'pid_247752': 13.786399, 'pid_978818': 13.784323, 'pid_209789': 13.778971, 'pid_490712': 13.777243, 'pid_290190': 13.760786, 'pid_406901': 13.742294, 'pid_650228': 13.735288, 'pid_838081': 13.7228985, 'pid_868150': 13.7228985, 'pid_550711': 13.71508, 'pid_110758': 13.708212, 'pid_952841': 13.694495, 'pid_295940': 13.678322, 'pid_520071': 13.653524, 'pid_845398': 13.653524, 'pid_517876': 13.653184, 'pid_544979': 13.653184, 'pid_856941': 13.6406555, 'pid_205824': 13.633138, 'pid_604232': 13.617395, 'pid_144849': 13.578422, 'pid_419179': 13.578422, 'pid_850996': 13.568166, 'pid_126033': 13.567036, 'pid_272588': 13.552721, 'pid_119953': 13.540685, 'pid_481900': 13.538438, 'pid_410719': 13.5321865, 'pid_380734': 13.526916, 'pid_786131': 13.50997, 'pid_890303': 13.504622, 'pid_891157': 13.502872, 'pid_313287': 13.495785, 'pid_787766': 13.488703, 'pid_881526': 13.48163, 'pid_935656': 13.467508, 'pid_676745': 13.455948, 'pid_944079': 13.455948, 'pid_340900': 13.449208, 'pid_821365': 13.377989, 'pid_80712': 13.376486, 'pid_542825': 13.3626, 'pid_516648': 13.359831, 'pid_721303': 13.359831, 'pid_345741': 13.348744, 'pid_734322': 13.296369, 'pid_467362': 13.245163, 'pid_686053': 13.245163, 'pid_613338': 13.239005}, 'qid_5079': {'pid_774873': 24.991392, 'pid_16026': 24.851202, 'pid_634258': 21.172773, 'pid_868804': 20.95678, 'pid_842918': 20.804821, 'pid_31416': 20.670992, 'pid_610603': 20.410187, 'pid_182149': 20.240679, 'pid_166768': 20.232018, 'pid_870063': 20.191944, 'pid_175692': 20.15107, 'pid_412609': 19.819561, 'pid_961634': 19.719963, 'pid_961602': 19.706762, 'pid_666880': 19.699356, 'pid_350726': 19.542711, 'pid_240292': 19.376226, 'pid_23467': 19.331264, 'pid_767788': 19.284657, 'pid_224380': 19.24002, 'pid_764279': 19.204037, 'pid_838401': 19.121548, 'pid_665179': 19.037916, 'pid_836476': 18.888342, 'pid_465166': 18.648754, 'pid_564272': 18.61285, 'pid_503809': 18.5606, 'pid_395362': 18.518478, 'pid_837484': 18.432323, 'pid_911517': 18.241583, 'pid_62821': 18.229464, 'pid_747665': 18.109318, 'pid_335434': 17.970097, 'pid_956147': 17.631691, 'pid_875937': 17.526917, 'pid_356671': 17.383078, 'pid_687883': 17.359692, 'pid_481383': 17.315163, 'pid_527189': 17.237282, 'pid_404246': 17.164541, 'pid_159807': 17.120832, 'pid_485083': 17.001991, 'pid_263124': 16.99319, 'pid_996261': 16.951488, 'pid_186996': 16.84777, 'pid_268495': 16.831812, 'pid_9554': 16.810984, 'pid_213957': 16.776758, 'pid_789782': 16.76341, 'pid_899579': 16.722445, 'pid_101070': 16.683075, 'pid_35281': 16.655449, 'pid_978439': 16.619757, 'pid_240917': 16.619194, 'pid_124645': 16.601818, 'pid_172242': 16.434477, 'pid_797964': 16.389286, 'pid_792419': 16.355412, 'pid_650069': 16.348864, 'pid_921450': 16.338428, 'pid_930202': 16.304777, 'pid_955139': 16.16996, 'pid_882573': 16.085262, 'pid_326764': 16.077686, 'pid_268334': 16.069708, 'pid_508344': 16.019907, 'pid_597530': 15.992492, 'pid_281863': 15.988026, 'pid_313604': 15.902252, 'pid_820401': 15.887162, 'pid_97780': 15.872295, 'pid_56578': 15.831879, 'pid_6213': 15.799879, 'pid_132669': 15.786627, 'pid_183992': 15.747354, 'pid_713962': 15.7219515, 'pid_167354': 15.706913, 'pid_193936': 15.701536, 'pid_289894': 15.587741, 'pid_206220': 15.550739, 'pid_551137': 15.545839, 'pid_748010': 15.533481, 'pid_908741': 15.516428, 'pid_155782': 15.419887, 'pid_113548': 15.389795, 'pid_199919': 15.346863, 'pid_705222': 15.316801, 'pid_857452': 15.242754, 'pid_980820': 15.215605, 'pid_76122': 15.091587, 'pid_834323': 15.09108, 'pid_831569': 15.046139, 'pid_609325': 15.023769, 'pid_599175': 15.016035, 'pid_390542': 14.972081, 'pid_419749': 14.868969, 'pid_895254': 14.854628, 'pid_809799': 14.847643, 'pid_193377': 14.841154, 'pid_835225': 14.775377}, 'qid_5080': {'pid_868984': 29.87597, 'pid_104598': 26.910645, 'pid_930759': 26.293758, 'pid_529372': 25.803259, 'pid_931462': 25.757248, 'pid_500375': 25.685637, 'pid_233507': 25.469524, 'pid_435328': 25.36613, 'pid_198751': 25.315266, 'pid_249458': 24.81762, 'pid_503768': 24.677912, 'pid_733827': 24.677437, 'pid_762897': 24.606777, 'pid_84639': 24.33916, 'pid_62644': 24.112574, 'pid_768159': 23.078064, 'pid_908153': 22.747484, 'pid_421487': 22.707947, 'pid_70249': 22.598621, 'pid_940011': 22.555864, 'pid_896066': 22.45398, 'pid_172560': 22.2878, 'pid_820227': 21.999155, 'pid_692891': 21.542892, 'pid_539924': 21.34797, 'pid_750268': 21.184814, 'pid_985519': 21.011835, 'pid_606297': 21.000362, 'pid_38367': 20.939034, 'pid_562933': 20.73032, 'pid_141084': 20.648817, 'pid_256417': 20.631012, 'pid_509707': 20.609684, 'pid_110161': 20.579914, 'pid_160430': 20.568449, 'pid_378402': 20.47279, 'pid_785502': 20.124254, 'pid_608848': 20.022001, 'pid_627158': 19.937895, 'pid_340972': 19.811256, 'pid_485872': 19.800842, 'pid_96530': 19.770035, 'pid_531791': 19.766235, 'pid_217640': 19.668127, 'pid_108855': 19.587456, 'pid_488678': 19.415482, 'pid_614276': 19.310953, 'pid_19168': 19.261076, 'pid_417344': 19.252815, 'pid_989878': 19.143633, 'pid_621812': 19.134352, 'pid_720034': 19.011723, 'pid_303603': 18.999739, 'pid_642417': 18.903452, 'pid_211742': 18.782509, 'pid_591637': 18.782509, 'pid_832319': 18.761694, 'pid_519801': 18.683136, 'pid_382254': 18.670286, 'pid_180096': 18.610394, 'pid_89355': 18.439247, 'pid_776482': 18.41789, 'pid_702462': 18.407278, 'pid_708002': 18.391232, 'pid_976088': 18.363462, 'pid_763550': 18.358885, 'pid_969024': 18.276833, 'pid_919030': 18.253496, 'pid_299208': 18.217983, 'pid_832547': 18.210995, 'pid_447527': 18.153225, 'pid_25146': 18.112566, 'pid_641021': 17.985624, 'pid_389164': 17.737478, 'pid_820294': 17.724846, 'pid_944434': 17.719496, 'pid_95187': 17.711288, 'pid_568997': 17.690712, 'pid_815176': 17.680965, 'pid_43267': 17.556967, 'pid_75570': 17.502687, 'pid_291744': 17.493465, 'pid_956986': 17.48767, 'pid_671939': 17.432892, 'pid_319186': 17.3197, 'pid_545397': 17.277092, 'pid_901540': 17.158241, 'pid_493294': 17.148659, 'pid_836439': 17.047394, 'pid_105888': 16.97844, 'pid_631195': 16.942926, 'pid_853718': 16.933376, 'pid_893288': 16.929749, 'pid_951361': 16.882854, 'pid_963754': 16.877384, 'pid_352209': 16.863039, 'pid_430692': 16.800476, 'pid_735978': 16.772985, 'pid_481507': 16.738083, 'pid_869535': 16.728876}, 'qid_5081': {'pid_514147': 18.80449, 'pid_680098': 18.730925, 'pid_19341': 18.626904, 'pid_236228': 18.570665, 'pid_57259': 18.434938, 'pid_397518': 18.395834, 'pid_204863': 18.36851, 'pid_661117': 17.110641, 'pid_48107': 16.561142, 'pid_291860': 16.424833, 'pid_941100': 16.061438, 'pid_471091': 16.001717, 'pid_826831': 15.734541, 'pid_993430': 15.734541, 'pid_806056': 15.567608, 'pid_488130': 15.5511675, 'pid_817017': 15.52451, 'pid_647341': 15.481351, 'pid_177357': 15.469641, 'pid_19674': 15.442453, 'pid_731736': 15.4364605, 'pid_732612': 15.436188, 'pid_292369': 15.409607, 'pid_306436': 15.394476, 'pid_510551': 15.299366, 'pid_52102': 15.280348, 'pid_937220': 15.205858, 'pid_70713': 15.112408, 'pid_625503': 15.109685, 'pid_344060': 15.109388, 'pid_396311': 15.109388, 'pid_517140': 15.045029, 'pid_552839': 15.00696, 'pid_678940': 14.981487, 'pid_935098': 14.9321165, 'pid_689966': 14.930937, 'pid_824812': 14.930937, 'pid_38109': 14.879932, 'pid_384503': 14.879847, 'pid_370444': 14.871613, 'pid_412720': 14.776604, 'pid_490290': 14.76815, 'pid_976505': 14.738875, 'pid_718301': 14.680697, 'pid_516072': 14.669043, 'pid_860882': 14.624886, 'pid_453220': 14.594354, 'pid_995593': 14.580616, 'pid_337864': 14.551395, 'pid_262737': 14.452849, 'pid_589978': 14.341753, 'pid_780314': 14.22349, 'pid_710550': 14.128546, 'pid_188272': 14.109709, 'pid_398641': 14.053499, 'pid_509405': 14.053499, 'pid_893556': 14.044174, 'pid_716471': 14.025561, 'pid_35885': 14.019194, 'pid_337539': 13.988483, 'pid_128693': 13.942411, 'pid_461044': 13.9240675, 'pid_809996': 13.779034, 'pid_663653': 13.601936, 'pid_592394': 13.567062, 'pid_150129': 13.532365, 'pid_561070': 13.395337, 'pid_885128': 13.000412, 'pid_637235': 12.930401, 'pid_712723': 12.764732, 'pid_303332': 12.674753, 'pid_183066': 12.668564, 'pid_722647': 12.6026745, 'pid_287823': 12.560716, 'pid_666819': 12.55766, 'pid_291320': 12.49132, 'pid_574300': 12.4175005, 'pid_738123': 12.374804, 'pid_681270': 12.367374, 'pid_270663': 12.351618, 'pid_61430': 12.311832, 'pid_262131': 12.276958, 'pid_536459': 12.245602, 'pid_121190': 12.235767, 'pid_904340': 12.22983, 'pid_401842': 12.198679, 'pid_559177': 12.181118, 'pid_99249': 12.172789, 'pid_8663': 12.136923, 'pid_732139': 12.136244, 'pid_17741': 12.132692, 'pid_271284': 12.10545, 'pid_973376': 12.099785, 'pid_442424': 12.094315, 'pid_665218': 12.093248, 'pid_329307': 12.086576, 'pid_961231': 12.081961, 'pid_377757': 12.080761, 'pid_838766': 12.069864, 'pid_417314': 12.055073}, 'qid_5082': {'pid_518239': 15.673843, 'pid_417447': 15.376701, 'pid_820526': 15.282238, 'pid_541397': 14.26675, 'pid_261997': 13.042857, 'pid_595048': 12.999729, 'pid_775472': 12.9209585, 'pid_735655': 12.874857, 'pid_426984': 12.817805, 'pid_839533': 12.791948, 'pid_24780': 12.783987, 'pid_21846': 12.761091, 'pid_972119': 12.674641, 'pid_77914': 12.642166, 'pid_175398': 12.642166, 'pid_112788': 12.535329, 'pid_691543': 12.509136, 'pid_884353': 12.472991, 'pid_978005': 12.470757, 'pid_666805': 12.457383, 'pid_964488': 12.455004, 'pid_693329': 12.401377, 'pid_621313': 12.324791, 'pid_187282': 12.231927, 'pid_119428': 12.208947, 'pid_957477': 12.062135, 'pid_840670': 12.050969, 'pid_570551': 11.942212, 'pid_473023': 11.920065, 'pid_514947': 11.90572, 'pid_365078': 11.746977, 'pid_381367': 11.738384, 'pid_595232': 11.700547, 'pid_633380': 11.646044, 'pid_341525': 11.580263, 'pid_750777': 11.564835, 'pid_869477': 11.5341, 'pid_667667': 11.521164, 'pid_519847': 11.506338, 'pid_90295': 11.495909, 'pid_945310': 11.488302, 'pid_317339': 11.473201, 'pid_175236': 11.4353285, 'pid_201758': 11.405277, 'pid_698205': 11.366039, 'pid_982873': 11.301329, 'pid_732763': 11.2795925, 'pid_854209': 11.271976, 'pid_81580': 11.261232, 'pid_885348': 11.242777, 'pid_140171': 11.216281, 'pid_986218': 11.213728, 'pid_883960': 11.146042, 'pid_73527': 11.137953, 'pid_731478': 11.137953, 'pid_406079': 11.121816, 'pid_918256': 11.121816, 'pid_783082': 11.105737, 'pid_306393': 10.986628, 'pid_241172': 10.890127, 'pid_501890': 10.8753, 'pid_909700': 10.831081, 'pid_25302': 10.826193, 'pid_953766': 10.806683, 'pid_340541': 10.796957, 'pid_303929': 10.78725, 'pid_671302': 10.634451, 'pid_894830': 10.578346, 'pid_220387': 10.010756, 'pid_628771': 10.010756, 'pid_612890': 10.004073, 'pid_695107': 9.977432, 'pid_997637': 9.970795, 'pid_617907': 9.964166, 'pid_825344': 9.950933, 'pid_794067': 9.944331, 'pid_670747': 9.9377365, 'pid_916144': 9.924575, 'pid_792104': 9.891823, 'pid_37100': 9.885299, 'pid_805164': 9.872275, 'pid_523727': 9.846331, 'pid_860216': 9.83341, 'pid_884255': 9.80767, 'pid_795323': 9.782064, 'pid_806166': 9.782064, 'pid_604478': 9.756592, 'pid_54975': 9.731252, 'pid_908198': 9.731252, 'pid_10882': 9.706042, 'pid_515490': 9.205269, 'pid_665435': 8.858156, 'pid_876864': 8.82786, 'pid_58172': 8.780959, 'pid_787787': 8.7777195, 'pid_796186': 8.774603, 'pid_448850': 8.770964, 'pid_426579': 8.762787, 'pid_952455': 8.759157, 'pid_881212': 8.755531}, 'qid_5083': {'pid_406547': 34.89752, 'pid_658114': 34.833233, 'pid_198086': 33.859646, 'pid_381775': 32.274876, 'pid_486157': 32.0345, 'pid_695014': 31.951138, 'pid_500411': 31.885717, 'pid_644355': 31.748161, 'pid_592468': 31.666563, 'pid_570999': 31.639534, 'pid_202503': 31.505518, 'pid_297416': 31.338982, 'pid_626579': 31.32694, 'pid_609227': 31.195473, 'pid_209335': 31.15204, 'pid_300633': 31.1096, 'pid_567336': 31.061718, 'pid_200077': 31.039307, 'pid_645047': 31.006195, 'pid_858079': 30.974758, 'pid_200069': 30.898914, 'pid_887585': 30.857939, 'pid_962354': 30.829544, 'pid_586108': 30.815697, 'pid_702822': 30.730816, 'pid_224006': 30.719559, 'pid_844364': 30.608847, 'pid_776012': 30.595339, 'pid_439556': 30.589224, 'pid_777433': 30.579605, 'pid_615882': 30.48708, 'pid_3873': 30.476833, 'pid_271302': 30.410133, 'pid_627250': 30.383036, 'pid_911513': 30.343763, 'pid_294023': 30.246145, 'pid_600436': 30.185207, 'pid_510587': 30.148354, 'pid_920945': 30.12516, 'pid_565707': 30.097855, 'pid_603328': 30.03926, 'pid_792867': 29.98206, 'pid_634255': 29.892185, 'pid_744688': 29.849035, 'pid_423304': 29.727898, 'pid_487347': 29.72691, 'pid_815097': 29.61209, 'pid_676460': 29.56632, 'pid_358784': 29.546303, 'pid_517577': 29.512484, 'pid_666344': 29.509056, 'pid_282924': 29.49978, 'pid_167910': 29.47868, 'pid_300045': 29.447308, 'pid_526211': 29.431664, 'pid_453418': 29.407047, 'pid_600342': 29.387661, 'pid_208562': 29.368107, 'pid_460675': 29.310045, 'pid_365383': 29.282288, 'pid_531935': 29.270084, 'pid_797934': 29.020618, 'pid_649636': 29.008026, 'pid_260538': 28.997295, 'pid_845540': 28.981653, 'pid_540919': 28.938578, 'pid_115765': 28.891115, 'pid_59161': 28.84395, 'pid_12730': 28.813154, 'pid_274520': 28.779638, 'pid_175580': 28.76698, 'pid_576952': 28.67853, 'pid_534826': 28.652042, 'pid_38324': 28.623472, 'pid_977455': 28.616415, 'pid_657362': 28.476358, 'pid_88105': 28.445328, 'pid_792305': 28.347189, 'pid_858417': 28.301643, 'pid_949175': 28.248665, 'pid_566650': 28.233824, 'pid_645002': 28.204296, 'pid_13343': 28.182453, 'pid_732694': 28.177477, 'pid_524077': 28.023136, 'pid_974931': 27.764837, 'pid_614371': 27.7642, 'pid_102061': 27.685436, 'pid_44706': 27.647297, 'pid_809575': 27.625046, 'pid_870720': 27.607065, 'pid_921027': 27.551044, 'pid_525936': 27.52077, 'pid_995662': 27.42231, 'pid_902875': 27.404018, 'pid_984760': 27.39252, 'pid_446999': 27.222425, 'pid_60253': 26.954504, 'pid_795322': 26.816643, 'pid_57997': 26.66753}, 'qid_5084': {'pid_101001': 30.855474, 'pid_362873': 30.441158, 'pid_611215': 30.36945, 'pid_360129': 30.252668, 'pid_884341': 30.218105, 'pid_855554': 29.501827, 'pid_742224': 29.402243, 'pid_664430': 28.647686, 'pid_276170': 28.568674, 'pid_693616': 28.216675, 'pid_536041': 28.192505, 'pid_868718': 25.986515, 'pid_739466': 24.302002, 'pid_505154': 24.220829, 'pid_547099': 24.031868, 'pid_584206': 24.02344, 'pid_855556': 23.707314, 'pid_348064': 23.575895, 'pid_949724': 23.465782, 'pid_889326': 23.45694, 'pid_884550': 23.387594, 'pid_474056': 23.303383, 'pid_712213': 23.222454, 'pid_929843': 23.090073, 'pid_960723': 23.036497, 'pid_910908': 23.027927, 'pid_390982': 22.890448, 'pid_255124': 22.841532, 'pid_992768': 22.759819, 'pid_963386': 22.587818, 'pid_621585': 22.558525, 'pid_591532': 22.540611, 'pid_991286': 22.503586, 'pid_560393': 22.411245, 'pid_88534': 22.408957, 'pid_801144': 22.405645, 'pid_156371': 22.378172, 'pid_346375': 22.353989, 'pid_536707': 22.344326, 'pid_922835': 22.266655, 'pid_456758': 22.242561, 'pid_114921': 22.23882, 'pid_391871': 22.154758, 'pid_882827': 22.047194, 'pid_892364': 21.99231, 'pid_131847': 21.851383, 'pid_599605': 21.774063, 'pid_70433': 21.752455, 'pid_288864': 21.69107, 'pid_861133': 21.632843, 'pid_360041': 21.62231, 'pid_961618': 21.478508, 'pid_106428': 21.446081, 'pid_622383': 21.431555, 'pid_182003': 21.421585, 'pid_66519': 21.411764, 'pid_933202': 21.369429, 'pid_707578': 21.33449, 'pid_257188': 21.29991, 'pid_129215': 21.26876, 'pid_270571': 21.251253, 'pid_192635': 21.234179, 'pid_493634': 21.187166, 'pid_612037': 21.181833, 'pid_984904': 21.12522, 'pid_107507': 21.101452, 'pid_998135': 21.101452, 'pid_79019': 21.07122, 'pid_982894': 21.054089, 'pid_896796': 21.045265, 'pid_172134': 21.042282, 'pid_789929': 21.010384, 'pid_806329': 20.95502, 'pid_342502': 20.76721, 'pid_145738': 20.554562, 'pid_969223': 20.336472, 'pid_694882': 20.299217, 'pid_956702': 20.282352, 'pid_868564': 20.2554, 'pid_892924': 20.19423, 'pid_775591': 20.134998, 'pid_297242': 19.761028, 'pid_538668': 19.747873, 'pid_384660': 19.734735, 'pid_450112': 16.95366, 'pid_820102': 16.716057, 'pid_789523': 16.547573, 'pid_602742': 16.531422, 'pid_494095': 16.496542, 'pid_353856': 16.470396, 'pid_464118': 16.1809, 'pid_778255': 16.169626, 'pid_966591': 16.155268, 'pid_873632': 16.060442, 'pid_924361': 16.031631, 'pid_161039': 16.013144, 'pid_984234': 15.97817, 'pid_417453': 15.977091, 'pid_706323': 15.959265, 'pid_562938': 15.950251}, 'qid_5085': {'pid_807285': 30.515852, 'pid_644693': 30.188383, 'pid_178184': 29.260365, 'pid_478340': 29.105207, 'pid_453438': 28.962135, 'pid_438910': 28.12324, 'pid_56912': 28.06512, 'pid_229679': 27.933792, 'pid_469400': 27.48589, 'pid_533768': 27.48194, 'pid_150129': 27.438795, 'pid_732139': 26.993547, 'pid_860882': 26.939476, 'pid_652408': 26.79087, 'pid_209523': 26.716076, 'pid_757052': 25.739252, 'pid_219450': 25.555922, 'pid_719638': 25.33004, 'pid_342638': 25.326124, 'pid_117570': 25.189852, 'pid_48107': 24.814932, 'pid_467157': 24.78424, 'pid_153913': 24.746914, 'pid_947931': 24.690943, 'pid_221314': 24.685484, 'pid_806809': 24.625473, 'pid_555126': 24.532215, 'pid_966432': 24.513283, 'pid_228453': 24.440119, 'pid_938848': 24.352942, 'pid_847841': 24.335196, 'pid_35522': 24.292297, 'pid_490290': 24.277086, 'pid_803527': 24.227798, 'pid_963463': 24.18914, 'pid_235672': 24.17693, 'pid_528003': 24.05111, 'pid_936916': 23.880653, 'pid_324007': 23.861042, 'pid_364426': 23.85959, 'pid_935723': 23.817524, 'pid_402447': 23.765043, 'pid_976505': 23.693504, 'pid_730868': 23.664318, 'pid_949764': 23.655989, 'pid_160406': 23.618807, 'pid_726103': 23.515743, 'pid_587529': 23.390778, 'pid_644309': 23.175186, 'pid_582196': 23.17194, 'pid_402103': 23.054993, 'pid_611112': 23.04338, 'pid_115797': 22.956982, 'pid_453220': 22.921045, 'pid_638824': 22.90487, 'pid_586657': 22.884157, 'pid_10276': 22.842009, 'pid_132567': 22.742819, 'pid_961231': 22.736843, 'pid_118239': 22.638472, 'pid_833101': 22.637178, 'pid_559177': 22.612453, 'pid_169427': 22.591465, 'pid_629733': 22.588104, 'pid_577070': 22.562206, 'pid_328063': 22.523132, 'pid_612757': 22.495808, 'pid_895570': 22.4749, 'pid_253213': 22.465008, 'pid_178767': 22.401514, 'pid_174520': 22.385109, 'pid_574801': 22.334137, 'pid_255557': 22.307783, 'pid_826145': 22.055382, 'pid_415396': 22.040539, 'pid_46538': 22.039042, 'pid_306674': 21.966633, 'pid_743871': 21.893219, 'pid_610207': 21.892775, 'pid_370115': 21.878595, 'pid_277782': 21.868765, 'pid_850304': 21.820295, 'pid_262737': 21.774548, 'pid_995036': 21.772556, 'pid_632814': 21.731373, 'pid_36649': 21.636564, 'pid_718423': 21.632946, 'pid_128693': 21.575947, 'pid_8663': 21.434752, 'pid_261783': 21.434752, 'pid_314284': 21.293957, 'pid_830898': 21.212645, 'pid_142217': 20.977654, 'pid_99291': 20.941399, 'pid_693380': 20.49733, 'pid_508632': 20.344316, 'pid_390928': 20.271437, 'pid_573511': 20.263084, 'pid_385232': 19.55661, 'pid_516072': 19.37989}, 'qid_5086': {'pid_782128': 26.382284, 'pid_297535': 25.729193, 'pid_643987': 23.96513, 'pid_646858': 23.75396, 'pid_390293': 23.316751, 'pid_798386': 23.21987, 'pid_607374': 23.170849, 'pid_814313': 22.788603, 'pid_589787': 22.742365, 'pid_621506': 22.344643, 'pid_190059': 22.300993, 'pid_236422': 22.021397, 'pid_508620': 21.903547, 'pid_7453': 21.866098, 'pid_264535': 21.607233, 'pid_814834': 21.417435, 'pid_473488': 21.318966, 'pid_888063': 21.187485, 'pid_817884': 21.120054, 'pid_411844': 20.976526, 'pid_486720': 20.9474, 'pid_33741': 20.79785, 'pid_403288': 20.773752, 'pid_121656': 20.67357, 'pid_157848': 20.644238, 'pid_812896': 20.631947, 'pid_978689': 20.439522, 'pid_801365': 20.42562, 'pid_676715': 20.14187, 'pid_211128': 19.80686, 'pid_320178': 19.65094, 'pid_990839': 19.49659, 'pid_623996': 19.405733, 'pid_581794': 19.175669, 'pid_767552': 19.126135, 'pid_330093': 19.123947, 'pid_425468': 19.000523, 'pid_538135': 18.904324, 'pid_599371': 18.646107, 'pid_39476': 18.20421, 'pid_426749': 18.091278, 'pid_821778': 18.079952, 'pid_255417': 18.046204, 'pid_73629': 18.04052, 'pid_727493': 17.920345, 'pid_13933': 17.893505, 'pid_522628': 17.823402, 'pid_663191': 17.769604, 'pid_684075': 17.768124, 'pid_833152': 17.64506, 'pid_134149': 17.596157, 'pid_725870': 17.57203, 'pid_803529': 17.53725, 'pid_236439': 17.506983, 'pid_885531': 17.50027, 'pid_612217': 17.47648, 'pid_807899': 17.473207, 'pid_629172': 17.442776, 'pid_403245': 17.369005, 'pid_931718': 17.348637, 'pid_41431': 17.200392, 'pid_620604': 17.081884, 'pid_260043': 17.072199, 'pid_928548': 17.066568, 'pid_375014': 17.027206, 'pid_962414': 17.022223, 'pid_156270': 17.01301, 'pid_985407': 17.011448, 'pid_271141': 16.998528, 'pid_511418': 16.994701, 'pid_66203': 16.943676, 'pid_242327': 16.926432, 'pid_13002': 16.922615, 'pid_596531': 16.892658, 'pid_733964': 16.87892, 'pid_795188': 16.874187, 'pid_78539': 16.862785, 'pid_302522': 16.81562, 'pid_275991': 16.77465, 'pid_508282': 16.731504, 'pid_690702': 16.730026, 'pid_994084': 16.707521, 'pid_626293': 16.695387, 'pid_57109': 16.66924, 'pid_199640': 16.652252, 'pid_205085': 16.648216, 'pid_91934': 16.645487, 'pid_127004': 16.642803, 'pid_576529': 16.641186, 'pid_743854': 16.61693, 'pid_166933': 16.610184, 'pid_440239': 16.58577, 'pid_546472': 16.58577, 'pid_897041': 16.58577, 'pid_216668': 16.57657, 'pid_855262': 16.525557, 'pid_195443': 16.523827, 'pid_537870': 16.523827, 'pid_730069': 16.523827, 'pid_994770': 16.4982}, 'qid_5087': {'pid_526899': 20.391836, 'pid_798899': 20.327545, 'pid_8296': 20.24368, 'pid_986776': 20.156181, 'pid_49384': 20.07535, 'pid_935772': 20.027596, 'pid_979296': 20.027596, 'pid_470151': 20.00587, 'pid_827097': 19.955074, 'pid_821542': 19.86581, 'pid_693357': 19.837135, 'pid_583815': 19.83487, 'pid_370140': 19.808884, 'pid_89028': 19.800306, 'pid_512474': 19.753828, 'pid_243151': 19.747913, 'pid_602245': 19.690529, 'pid_556439': 19.654934, 'pid_183402': 19.626413, 'pid_381462': 19.609127, 'pid_999220': 19.60271, 'pid_77456': 19.54365, 'pid_839469': 19.530285, 'pid_516604': 19.49271, 'pid_101877': 19.48185, 'pid_420257': 19.371365, 'pid_616324': 19.361958, 'pid_307070': 19.360113, 'pid_454641': 19.29945, 'pid_669750': 19.276045, 'pid_708893': 19.271467, 'pid_331717': 19.244984, 'pid_129580': 19.191519, 'pid_481197': 19.15839, 'pid_703482': 19.052362, 'pid_387038': 18.985117, 'pid_804620': 18.954754, 'pid_391578': 18.936325, 'pid_700459': 18.931574, 'pid_165424': 18.92181, 'pid_335562': 18.91498, 'pid_491282': 18.91498, 'pid_681778': 18.914402, 'pid_735973': 18.912415, 'pid_51220': 18.853657, 'pid_456641': 18.85058, 'pid_802117': 18.822784, 'pid_449618': 18.763302, 'pid_141860': 18.74938, 'pid_53080': 18.729528, 'pid_300883': 18.72684, 'pid_754394': 18.719807, 'pid_51824': 18.71769, 'pid_337969': 18.712782, 'pid_873863': 18.708044, 'pid_684022': 18.680798, 'pid_325489': 18.670736, 'pid_548345': 18.639223, 'pid_974134': 18.62479, 'pid_87339': 18.62439, 'pid_673249': 18.618523, 'pid_81395': 18.597876, 'pid_740535': 18.563593, 'pid_899762': 18.555168, 'pid_253686': 18.53194, 'pid_581938': 18.496988, 'pid_846466': 18.494621, 'pid_772187': 18.481945, 'pid_977422': 18.449648, 'pid_543018': 18.42406, 'pid_412667': 18.382612, 'pid_915648': 18.358736, 'pid_197560': 18.347616, 'pid_319851': 18.341057, 'pid_129747': 18.332617, 'pid_126497': 18.279404, 'pid_406265': 18.268324, 'pid_411644': 18.268324, 'pid_386104': 18.262762, 'pid_823823': 18.215546, 'pid_957632': 18.200533, 'pid_634038': 18.198465, 'pid_485739': 18.187616, 'pid_690071': 18.17249, 'pid_867061': 18.114216, 'pid_166877': 18.084778, 'pid_590531': 18.060019, 'pid_354728': 18.051783, 'pid_280232': 18.01022, 'pid_148247': 18.002531, 'pid_485150': 18.002531, 'pid_836380': 18.002531, 'pid_2915': 17.969858, 'pid_260693': 17.960646, 'pid_148980': 17.93705, 'pid_471326': 17.787487, 'pid_69243': 17.7829, 'pid_422007': 17.769917, 'pid_146408': 17.760567, 'pid_879751': 17.718512}, 'qid_5088': {'pid_465774': 26.731665, 'pid_922410': 26.63247, 'pid_486865': 26.541706, 'pid_484810': 26.395603, 'pid_673272': 26.22047, 'pid_667861': 25.927265, 'pid_282503': 25.625816, 'pid_8443': 25.537373, 'pid_279971': 25.485546, 'pid_803837': 25.437344, 'pid_922628': 25.405455, 'pid_715121': 25.37368, 'pid_562944': 25.229578, 'pid_43820': 25.158516, 'pid_578675': 25.121655, 'pid_255189': 24.99664, 'pid_337395': 24.965014, 'pid_905962': 24.812193, 'pid_351487': 24.634438, 'pid_413739': 24.611225, 'pid_971198': 24.593899, 'pid_654359': 24.575502, 'pid_496506': 24.450737, 'pid_891147': 24.420145, 'pid_332176': 24.413446, 'pid_731446': 24.376808, 'pid_212821': 24.344828, 'pid_28724': 24.330381, 'pid_485450': 24.31295, 'pid_587702': 24.291754, 'pid_917884': 24.202951, 'pid_327834': 23.96919, 'pid_740158': 23.896145, 'pid_300345': 23.63322, 'pid_221823': 23.590824, 'pid_417384': 23.56044, 'pid_8586': 23.537558, 'pid_305808': 23.347267, 'pid_775994': 22.967134, 'pid_605258': 22.873892, 'pid_788764': 22.75408, 'pid_815005': 22.748144, 'pid_878781': 22.696545, 'pid_785476': 22.534555, 'pid_305964': 22.46621, 'pid_981592': 22.380295, 'pid_289434': 22.193745, 'pid_898258': 22.019093, 'pid_939227': 22.019093, 'pid_408247': 21.540443, 'pid_979113': 21.256664, 'pid_120684': 21.25145, 'pid_416439': 21.25145, 'pid_200024': 21.165695, 'pid_715327': 21.157219, 'pid_838827': 21.108583, 'pid_227611': 21.082153, 'pid_271376': 21.00162, 'pid_393866': 20.971905, 'pid_381230': 20.910475, 'pid_322670': 20.908823, 'pid_988543': 20.860851, 'pid_453351': 20.844086, 'pid_473842': 20.787926, 'pid_987912': 20.73119, 'pid_852224': 20.725523, 'pid_797645': 20.72244, 'pid_916963': 20.719835, 'pid_121025': 20.680391, 'pid_334623': 20.678684, 'pid_982272': 20.678513, 'pid_573468': 20.67583, 'pid_752028': 20.6622, 'pid_834955': 20.6622, 'pid_162137': 20.611069, 'pid_602104': 20.60058, 'pid_629684': 20.599611, 'pid_680799': 20.582445, 'pid_860849': 20.579182, 'pid_261017': 20.525877, 'pid_275939': 20.504633, 'pid_313763': 20.504633, 'pid_63950': 20.48343, 'pid_2758': 20.46497, 'pid_961839': 20.46497, 'pid_268266': 20.45367, 'pid_978207': 20.432386, 'pid_697387': 20.378464, 'pid_79660': 20.298294, 'pid_764942': 20.239307, 'pid_666056': 20.196793, 'pid_616490': 20.178291, 'pid_795589': 20.1554, 'pid_193667': 20.151009, 'pid_851809': 20.135393, 'pid_665809': 20.12473, 'pid_455347': 20.111664, 'pid_370831': 20.106361, 'pid_615106': 20.106361, 'pid_301599': 20.0591}, 'qid_5089': {'pid_261328': 47.019527, 'pid_573468': 45.153255, 'pid_365527': 44.472034, 'pid_473842': 43.444542, 'pid_905962': 40.226597, 'pid_987912': 39.915043, 'pid_413739': 39.79031, 'pid_970524': 39.508835, 'pid_936603': 39.261894, 'pid_63950': 39.096046, 'pid_667861': 39.048416, 'pid_852224': 39.013973, 'pid_7242': 38.98645, 'pid_982272': 38.919952, 'pid_673272': 38.700993, 'pid_646374': 38.45444, 'pid_629684': 38.315872, 'pid_988543': 38.30292, 'pid_680799': 38.105072, 'pid_725696': 38.059395, 'pid_261017': 37.967945, 'pid_572484': 37.656696, 'pid_255189': 37.064465, 'pid_797645': 37.03655, 'pid_654359': 36.97799, 'pid_370958': 36.76872, 'pid_28724': 36.707508, 'pid_381860': 36.702583, 'pid_310567': 36.545433, 'pid_224000': 36.446087, 'pid_120460': 36.406906, 'pid_351487': 36.33703, 'pid_327834': 36.3129, 'pid_79556': 36.18049, 'pid_178772': 35.869675, 'pid_291846': 35.611023, 'pid_465774': 34.683044, 'pid_821336': 34.506, 'pid_89707': 34.234787, 'pid_727013': 34.195824, 'pid_158104': 34.097885, 'pid_402235': 34.030235, 'pid_322670': 34.026714, 'pid_200024': 34.015915, 'pid_979113': 33.92645, 'pid_756916': 33.880333, 'pid_484810': 33.863342, 'pid_82817': 33.8464, 'pid_764942': 33.79125, 'pid_370831': 33.696045, 'pid_453351': 33.683964, 'pid_393866': 33.54377, 'pid_834955': 33.37237, 'pid_121025': 33.352734, 'pid_227611': 33.33452, 'pid_697387': 33.22598, 'pid_486865': 33.181076, 'pid_62342': 33.16552, 'pid_981592': 33.15322, 'pid_616490': 33.133396, 'pid_282503': 33.08239, 'pid_838827': 33.071045, 'pid_562944': 33.001217, 'pid_162137': 32.904846, 'pid_408247': 32.898865, 'pid_666056': 32.8667, 'pid_528097': 32.8158, 'pid_645499': 32.815475, 'pid_301599': 32.799995, 'pid_743239': 32.637325, 'pid_851809': 32.564903, 'pid_43820': 32.544376, 'pid_290522': 32.529213, 'pid_978207': 32.506298, 'pid_799459': 32.502365, 'pid_193667': 32.426838, 'pid_2758': 32.30651, 'pid_961839': 32.30651, 'pid_8443': 32.19466, 'pid_749172': 32.118805, 'pid_715121': 32.06221, 'pid_578675': 32.05937, 'pid_454515': 32.024323, 'pid_633064': 31.986439, 'pid_756523': 31.986439, 'pid_882230': 31.781088, 'pid_120684': 31.777424, 'pid_416439': 31.777424, 'pid_496506': 31.665781, 'pid_795589': 31.504612, 'pid_2135': 31.32948, 'pid_432296': 31.291313, 'pid_358904': 31.275726, 'pid_841995': 31.261518, 'pid_761650': 31.089378, 'pid_212821': 31.0784, 'pid_60688': 31.0422, 'pid_677217': 31.039143, 'pid_331952': 31.012169, 'pid_397670': 30.993717}, 'qid_5090': {'pid_328475': 16.037395, 'pid_121192': 16.010258, 'pid_208260': 15.564691, 'pid_520863': 15.506828, 'pid_965604': 15.469698, 'pid_904569': 15.465261, 'pid_562723': 15.455828, 'pid_795767': 15.420172, 'pid_695211': 15.416185, 'pid_104936': 15.397821, 'pid_246229': 15.353772, 'pid_309872': 15.343075, 'pid_720563': 15.320081, 'pid_862779': 15.218752, 'pid_752492': 15.193065, 'pid_278335': 15.190779, 'pid_21729': 15.186789, 'pid_802007': 15.178598, 'pid_598510': 15.056456, 'pid_837190': 15.006409, 'pid_263026': 14.952896, 'pid_895166': 14.863128, 'pid_585372': 14.830713, 'pid_92359': 14.821288, 'pid_799699': 14.74894, 'pid_351784': 14.633614, 'pid_627863': 14.633614, 'pid_153982': 14.533908, 'pid_382553': 14.532475, 'pid_756155': 14.527702, 'pid_408230': 14.522494, 'pid_982889': 14.502371, 'pid_652700': 14.490794, 'pid_658357': 14.490794, 'pid_253089': 14.483243, 'pid_595886': 14.472413, 'pid_735436': 14.44215, 'pid_161165': 14.394188, 'pid_134937': 14.392893, 'pid_70101': 14.38091, 'pid_772931': 14.380798, 'pid_144180': 14.374283, 'pid_780170': 14.374283, 'pid_171815': 14.345381, 'pid_703326': 14.342585, 'pid_671416': 14.329344, 'pid_997196': 14.328089, 'pid_10760': 14.320712, 'pid_482479': 14.308399, 'pid_157730': 14.29686, 'pid_465515': 14.29686, 'pid_990167': 14.295309, 'pid_812050': 14.272848, 'pid_54183': 14.269214, 'pid_650918': 14.269214, 'pid_883402': 14.251316, 'pid_200176': 14.248866, 'pid_723763': 14.243232, 'pid_935583': 14.230282, 'pid_7676': 14.204836, 'pid_529676': 14.20302, 'pid_863047': 14.191603, 'pid_979342': 14.170972, 'pid_25711': 14.165956, 'pid_887219': 14.1497345, 'pid_99126': 14.126762, 'pid_34392': 14.122812, 'pid_610231': 14.1080265, 'pid_366777': 14.100645, 'pid_200653': 14.093273, 'pid_742544': 14.089668, 'pid_490200': 14.085909, 'pid_988097': 14.078553, 'pid_9194': 14.071205, 'pid_49067': 14.071205, 'pid_663112': 14.067852, 'pid_936343': 14.058491, 'pid_857589': 14.041899, 'pid_695346': 14.034592, 'pid_583115': 14.030672, 'pid_976075': 14.014349, 'pid_468895': 13.983677, 'pid_584393': 13.961977, 'pid_769181': 13.95298, 'pid_377310': 13.947551, 'pid_799743': 13.890165, 'pid_257480': 13.879765, 'pid_595740': 13.875898, 'pid_690823': 13.870283, 'pid_282703': 13.861662, 'pid_120919': 13.805033, 'pid_895725': 13.805033, 'pid_695495': 13.798918, 'pid_191856': 13.797462, 'pid_577618': 13.786214, 'pid_78987': 13.776904, 'pid_256019': 13.748898, 'pid_577207': 13.648912, 'pid_232466': 13.583397, 'pid_419268': 13.539308}, 'qid_5091': {'pid_622148': 20.749193, 'pid_834008': 20.729582, 'pid_574176': 20.690434, 'pid_967343': 20.655167, 'pid_213900': 20.543858, 'pid_696986': 20.395247, 'pid_553094': 20.328402, 'pid_298722': 20.295942, 'pid_430804': 20.1816, 'pid_4304': 20.15672, 'pid_715968': 20.099457, 'pid_794149': 20.09519, 'pid_89599': 19.892366, 'pid_435346': 19.755035, 'pid_901082': 19.635132, 'pid_73745': 19.586338, 'pid_213605': 19.365646, 'pid_133578': 19.239902, 'pid_188805': 18.78022, 'pid_767463': 17.961689, 'pid_427320': 17.74748, 'pid_977045': 17.669724, 'pid_49049': 17.659916, 'pid_816940': 17.477959, 'pid_127730': 17.308422, 'pid_909224': 17.304825, 'pid_509733': 17.26638, 'pid_495552': 17.228306, 'pid_873794': 17.111881, 'pid_37981': 17.098246, 'pid_584727': 17.09489, 'pid_431173': 17.076323, 'pid_919663': 17.064238, 'pid_380059': 17.063917, 'pid_762285': 17.056618, 'pid_893640': 17.054197, 'pid_386132': 17.024303, 'pid_191935': 16.99421, 'pid_157416': 16.980856, 'pid_90403': 16.968594, 'pid_485967': 16.937147, 'pid_780696': 16.906666, 'pid_716886': 16.854105, 'pid_281302': 16.852299, 'pid_864219': 16.847685, 'pid_38524': 16.815407, 'pid_340036': 16.780313, 'pid_822034': 16.728903, 'pid_642450': 16.71962, 'pid_146514': 16.70348, 'pid_673632': 16.68762, 'pid_107795': 16.686031, 'pid_657050': 16.683842, 'pid_390258': 16.658287, 'pid_550157': 16.655582, 'pid_823046': 16.602055, 'pid_639328': 16.580503, 'pid_26319': 16.530064, 'pid_489030': 16.527702, 'pid_693346': 16.471222, 'pid_627916': 16.406656, 'pid_269454': 16.380463, 'pid_155152': 16.36219, 'pid_26306': 16.306019, 'pid_433513': 16.281883, 'pid_374466': 16.275726, 'pid_4986': 16.226757, 'pid_347174': 16.21821, 'pid_553443': 16.203484, 'pid_755715': 16.203484, 'pid_125287': 16.181927, 'pid_412017': 16.181248, 'pid_369234': 16.178455, 'pid_497737': 16.172926, 'pid_726843': 16.168718, 'pid_442410': 16.167133, 'pid_952060': 16.146875, 'pid_750094': 16.136662, 'pid_975703': 16.103836, 'pid_210214': 16.089108, 'pid_63448': 16.088013, 'pid_756272': 16.072386, 'pid_845387': 16.072386, 'pid_911256': 16.022943, 'pid_541178': 15.997032, 'pid_287612': 15.986166, 'pid_247888': 15.946732, 'pid_299456': 15.911166, 'pid_571370': 15.902393, 'pid_470578': 15.827144, 'pid_993020': 15.826257, 'pid_439935': 15.82142, 'pid_624810': 15.802372, 'pid_309335': 15.800198, 'pid_977477': 15.789608, 'pid_784330': 15.766312, 'pid_69168': 15.757927, 'pid_251443': 15.757286, 'pid_14671': 15.747742, 'pid_743172': 15.741379}, 'qid_5092': {'pid_203010': 20.038084, 'pid_520342': 19.917063, 'pid_6029': 18.763851, 'pid_754322': 18.242678, 'pid_216336': 17.830404, 'pid_722410': 17.75127, 'pid_766404': 17.71795, 'pid_984482': 17.597572, 'pid_843062': 17.552683, 'pid_72891': 17.444983, 'pid_828172': 17.30403, 'pid_267931': 17.27874, 'pid_144849': 17.233984, 'pid_193251': 17.198345, 'pid_212629': 17.163567, 'pid_396654': 17.159914, 'pid_878145': 17.159618, 'pid_483480': 17.131699, 'pid_124011': 17.12752, 'pid_550252': 17.066782, 'pid_371276': 17.022692, 'pid_642854': 17.00387, 'pid_684447': 16.999748, 'pid_951209': 16.993402, 'pid_756435': 16.989485, 'pid_925369': 16.984987, 'pid_948783': 16.96753, 'pid_903008': 16.94976, 'pid_850996': 16.783535, 'pid_223997': 16.75032, 'pid_167873': 16.679224, 'pid_372916': 16.654173, 'pid_831232': 16.635435, 'pid_695301': 16.536207, 'pid_241962': 16.511585, 'pid_511910': 16.511585, 'pid_301267': 16.389565, 'pid_70619': 16.385033, 'pid_909097': 16.365377, 'pid_15685': 16.365131, 'pid_964038': 16.03747, 'pid_266691': 16.024973, 'pid_647090': 16.009075, 'pid_160212': 16.000147, 'pid_472841': 15.99394, 'pid_940400': 15.945669, 'pid_185227': 15.939948, 'pid_214200': 15.932341, 'pid_900869': 15.92618, 'pid_967826': 15.924593, 'pid_671631': 15.911505, 'pid_992211': 15.909271, 'pid_602199': 15.862148, 'pid_899078': 15.847922, 'pid_198026': 15.825567, 'pid_906301': 15.825567, 'pid_41736': 15.816927, 'pid_546622': 15.788107, 'pid_769294': 15.777916, 'pid_290190': 15.754741, 'pid_825604': 15.752556, 'pid_893136': 15.742813, 'pid_852306': 15.730861, 'pid_978818': 15.72547, 'pid_852506': 15.716291, 'pid_748351': 15.693325, 'pid_743274': 15.674128, 'pid_838081': 15.674128, 'pid_220153': 15.670439, 'pid_295940': 15.655224, 'pid_604232': 15.639526, 'pid_544979': 15.624897, 'pid_144584': 15.609785, 'pid_856941': 15.609785, 'pid_215420': 15.596732, 'pid_236421': 15.588204, 'pid_357494': 15.588204, 'pid_399492': 15.579685, 'pid_427900': 15.541422, 'pid_870473': 15.537241, 'pid_149542': 15.534732, 'pid_626543': 15.5345, 'pid_313287': 15.495045, 'pid_464116': 15.486634, 'pid_890303': 15.445768, 'pid_547777': 15.403067, 'pid_46367': 15.320457, 'pid_517916': 15.287679, 'pid_530159': 15.271345, 'pid_928054': 15.271343, 'pid_855078': 15.255049, 'pid_828847': 15.112938, 'pid_923579': 15.081985, 'pid_329179': 15.00455, 'pid_112919': 14.974158, 'pid_632534': 14.964054, 'pid_115408': 14.953966, 'pid_602285': 14.90372, 'pid_21264': 14.893711, 'pid_915105': 14.863766}, 'qid_5093': {'pid_783107': 32.823025, 'pid_758551': 32.74416, 'pid_420513': 31.25884, 'pid_456419': 31.123686, 'pid_921322': 30.033094, 'pid_79541': 29.67501, 'pid_596226': 29.371618, 'pid_920647': 28.456005, 'pid_880496': 28.273268, 'pid_396241': 27.899094, 'pid_912604': 27.803562, 'pid_519469': 27.78174, 'pid_221825': 27.75645, 'pid_405894': 27.566343, 'pid_303795': 27.374924, 'pid_13436': 27.308601, 'pid_158668': 27.172258, 'pid_502266': 27.044876, 'pid_28637': 26.893648, 'pid_247173': 26.638493, 'pid_698858': 26.282234, 'pid_850443': 26.15437, 'pid_312545': 26.149618, 'pid_538422': 26.112225, 'pid_854972': 26.112225, 'pid_78559': 26.067232, 'pid_18305': 25.940445, 'pid_392887': 25.872364, 'pid_33574': 25.834099, 'pid_52840': 25.591225, 'pid_912933': 25.52584, 'pid_258919': 25.100456, 'pid_738644': 25.033846, 'pid_580462': 24.936186, 'pid_610919': 24.86825, 'pid_376990': 24.692905, 'pid_639833': 24.474, 'pid_426434': 24.381235, 'pid_709726': 24.381235, 'pid_344032': 24.337114, 'pid_634335': 24.295012, 'pid_757061': 24.156195, 'pid_127298': 23.717857, 'pid_343223': 23.706978, 'pid_939190': 23.66, 'pid_142790': 23.362959, 'pid_227645': 23.338385, 'pid_237432': 23.059586, 'pid_923281': 22.698334, 'pid_404941': 22.68587, 'pid_439102': 22.53451, 'pid_274274': 22.329115, 'pid_124651': 22.204266, 'pid_714551': 22.13624, 'pid_837632': 22.102135, 'pid_890790': 22.047642, 'pid_693549': 21.990265, 'pid_47517': 21.844456, 'pid_255791': 21.818064, 'pid_51583': 21.77531, 'pid_817219': 21.77273, 'pid_97191': 21.701912, 'pid_766265': 21.623732, 'pid_572494': 21.446964, 'pid_69284': 21.198158, 'pid_529868': 21.148726, 'pid_694686': 20.871689, 'pid_701634': 20.60861, 'pid_688457': 20.538363, 'pid_870296': 20.494205, 'pid_597251': 20.409584, 'pid_638526': 20.31901, 'pid_640259': 20.226105, 'pid_590024': 20.17116, 'pid_767174': 20.122274, 'pid_325838': 20.111685, 'pid_108543': 20.098473, 'pid_232867': 20.077677, 'pid_923918': 20.043856, 'pid_12720': 20.022993, 'pid_817469': 20.007559, 'pid_397381': 19.98441, 'pid_596357': 19.963337, 'pid_319865': 19.939896, 'pid_486929': 19.91212, 'pid_224615': 19.892899, 'pid_998610': 19.863668, 'pid_751993': 19.760868, 'pid_741268': 19.749685, 'pid_905454': 19.747494, 'pid_653791': 19.715904, 'pid_440123': 19.71159, 'pid_171985': 19.689518, 'pid_390148': 19.568077, 'pid_132283': 19.553078, 'pid_633735': 19.480764, 'pid_790807': 19.479538, 'pid_556056': 19.34925, 'pid_721109': 19.30458, 'pid_196732': 19.268703}, 'qid_5094': {'pid_263499': 21.07274, 'pid_545910': 20.699589, 'pid_567090': 20.460838, 'pid_581377': 20.251406, 'pid_816797': 20.141264, 'pid_155175': 20.105537, 'pid_220302': 20.083035, 'pid_583059': 20.058592, 'pid_686081': 19.987732, 'pid_32909': 19.958307, 'pid_75373': 19.86429, 'pid_427763': 19.858639, 'pid_530385': 19.80827, 'pid_367549': 19.77632, 'pid_495604': 19.768179, 'pid_309193': 19.204844, 'pid_846968': 19.158407, 'pid_523517': 19.104904, 'pid_906017': 19.020985, 'pid_390836': 18.97465, 'pid_351977': 18.936407, 'pid_861321': 18.720789, 'pid_524926': 18.671452, 'pid_641782': 18.586071, 'pid_690876': 18.248894, 'pid_987382': 18.096802, 'pid_644779': 17.53384, 'pid_502873': 17.113825, 'pid_647894': 16.746704, 'pid_441123': 16.604946, 'pid_323293': 16.492165, 'pid_965023': 16.441513, 'pid_821196': 16.31828, 'pid_216930': 16.214367, 'pid_366401': 16.147753, 'pid_351868': 16.13698, 'pid_796233': 16.101423, 'pid_816174': 16.026396, 'pid_792447': 15.858437, 'pid_572598': 15.837691, 'pid_780713': 15.675451, 'pid_794428': 15.674867, 'pid_257106': 15.655913, 'pid_886069': 15.607929, 'pid_752151': 15.592383, 'pid_528836': 15.549395, 'pid_619052': 15.542402, 'pid_133395': 15.538113, 'pid_692360': 15.522566, 'pid_595622': 15.504774, 'pid_406754': 15.503321, 'pid_208708': 15.47727, 'pid_950686': 15.450998, 'pid_528397': 15.417713, 'pid_394236': 15.360899, 'pid_957071': 15.339797, 'pid_666756': 15.326221, 'pid_739916': 15.326221, 'pid_640774': 15.315223, 'pid_969937': 15.308082, 'pid_535984': 15.301037, 'pid_469914': 15.291702, 'pid_935828': 15.250397, 'pid_993163': 15.222644, 'pid_771623': 15.178661, 'pid_504486': 15.156013, 'pid_808351': 15.114889, 'pid_306162': 15.106516, 'pid_645920': 15.077244, 'pid_536547': 15.051257, 'pid_539414': 15.021196, 'pid_625023': 15.001995, 'pid_650065': 14.972904, 'pid_330949': 14.961102, 'pid_581534': 14.930506, 'pid_386915': 14.922877, 'pid_7014': 14.890053, 'pid_445991': 14.864641, 'pid_581869': 14.858708, 'pid_330049': 14.811742, 'pid_40404': 14.797191, 'pid_956730': 14.79583, 'pid_883493': 14.782827, 'pid_516052': 14.760328, 'pid_470219': 14.757885, 'pid_445047': 14.746462, 'pid_9248': 14.740171, 'pid_688399': 14.733431, 'pid_16857': 14.711868, 'pid_192470': 14.696604, 'pid_591834': 14.656464, 'pid_220486': 14.614986, 'pid_545614': 14.607706, 'pid_526808': 14.549133, 'pid_357825': 14.546337, 'pid_417546': 14.516443, 'pid_357583': 14.50783, 'pid_129689': 14.493973, 'pid_106691': 14.4782295, 'pid_172526': 14.471815}, 'qid_5095': {'pid_481653': 18.2864, 'pid_179864': 16.744265, 'pid_105269': 14.7865505, 'pid_792948': 14.74222, 'pid_852034': 14.618498, 'pid_425862': 14.333122, 'pid_147306': 14.259062, 'pid_648553': 14.200403, 'pid_959986': 14.122313, 'pid_579762': 13.895992, 'pid_362196': 13.7770195, 'pid_665789': 13.746317, 'pid_632082': 13.669699, 'pid_313727': 13.426283, 'pid_419420': 13.359863, 'pid_592689': 13.347801, 'pid_435245': 13.310583, 'pid_968921': 13.256068, 'pid_44660': 13.219549, 'pid_679476': 13.219549, 'pid_888211': 13.138823, 'pid_675959': 13.113153, 'pid_293990': 13.10113, 'pid_561618': 13.085008, 'pid_968204': 13.064053, 'pid_898959': 13.063938, 'pid_312448': 13.052698, 'pid_432828': 13.049141, 'pid_813811': 13.020552, 'pid_465852': 13.018759, 'pid_225249': 12.997303, 'pid_458528': 12.991771, 'pid_375925': 12.98015, 'pid_653785': 12.96489, 'pid_870935': 12.96489, 'pid_369934': 12.957855, 'pid_755161': 12.957855, 'pid_766712': 12.956577, 'pid_157285': 12.939661, 'pid_764781': 12.919727, 'pid_546672': 12.915701, 'pid_215025': 12.888489, 'pid_959967': 12.888063, 'pid_303990': 12.880194, 'pid_826766': 12.867382, 'pid_653852': 12.78331, 'pid_455734': 12.769428, 'pid_879082': 12.724738, 'pid_623097': 12.701086, 'pid_371226': 12.698555, 'pid_470309': 12.698555, 'pid_865996': 12.681444, 'pid_345300': 12.654053, 'pid_135218': 12.550604, 'pid_252209': 12.538382, 'pid_534368': 12.51838, 'pid_755568': 12.465801, 'pid_206043': 12.464605, 'pid_100480': 12.4381485, 'pid_110657': 12.403919, 'pid_724908': 12.400056, 'pid_924734': 12.399263, 'pid_186591': 12.395849, 'pid_262951': 12.385319, 'pid_672034': 12.380018, 'pid_54963': 12.348284, 'pid_429134': 12.345999, 'pid_33927': 12.319538, 'pid_513874': 12.316059, 'pid_638139': 12.306032, 'pid_977802': 12.28347, 'pid_943341': 12.275993, 'pid_307709': 12.270315, 'pid_371149': 12.270315, 'pid_247972': 12.269283, 'pid_722651': 12.269283, 'pid_674636': 12.262022, 'pid_677120': 12.259489, 'pid_357583': 12.241424, 'pid_613869': 12.218723, 'pid_252985': 12.179094, 'pid_50105': 12.177042, 'pid_246569': 12.15864, 'pid_104721': 12.157661, 'pid_258118': 12.140313, 'pid_514282': 12.140313, 'pid_856185': 12.126129, 'pid_522945': 12.109924, 'pid_228820': 12.107054, 'pid_328105': 12.090292, 'pid_960569': 12.085775, 'pid_51089': 12.069929, 'pid_696061': 12.069929, 'pid_774849': 12.036233, 'pid_217490': 12.024418, 'pid_228283': 12.0072975, 'pid_721030': 11.974337, 'pid_356293': 11.953476, 'pid_418541': 11.92267, 'pid_24588': 11.9086275}, 'qid_5096': {'pid_872161': 17.828108, 'pid_785714': 16.89155, 'pid_415519': 16.711765, 'pid_524096': 16.541874, 'pid_896282': 16.368534, 'pid_103677': 16.135464, 'pid_204324': 15.997302, 'pid_34308': 15.960551, 'pid_659076': 15.400433, 'pid_401781': 14.8187275, 'pid_676389': 14.212626, 'pid_748641': 13.973549, 'pid_60222': 13.868162, 'pid_991593': 13.800825, 'pid_442776': 13.734959, 'pid_345451': 13.716611, 'pid_399302': 13.685981, 'pid_86988': 13.616665, 'pid_39842': 13.474775, 'pid_955418': 13.458362, 'pid_613442': 13.451316, 'pid_700585': 13.433219, 'pid_110254': 13.359293, 'pid_751184': 13.323696, 'pid_450494': 13.318848, 'pid_752273': 13.318848, 'pid_786263': 13.309679, 'pid_124837': 13.280796, 'pid_720083': 13.22567, 'pid_23024': 13.206247, 'pid_850404': 13.110656, 'pid_472895': 13.045425, 'pid_138869': 13.00201, 'pid_412671': 12.9835, 'pid_485690': 12.977343, 'pid_131574': 12.94665, 'pid_577321': 12.916113, 'pid_120524': 12.891798, 'pid_332585': 12.882109, 'pid_769116': 12.865841, 'pid_347802': 12.855509, 'pid_173317': 12.843461, 'pid_555233': 12.843461, 'pid_742610': 12.81944, 'pid_611792': 12.781439, 'pid_850465': 12.7598095, 'pid_315465': 12.619114, 'pid_34618': 12.611174, 'pid_473585': 12.583151, 'pid_458336': 12.572956, 'pid_438338': 12.481725, 'pid_997475': 12.46076, 'pid_234756': 12.441681, 'pid_690409': 12.437618, 'pid_7149': 12.426083, 'pid_526484': 12.424562, 'pid_162395': 12.420323, 'pid_154443': 12.391613, 'pid_224137': 12.356931, 'pid_331106': 12.290079, 'pid_416805': 12.290079, 'pid_662454': 12.290079, 'pid_956450': 12.251905, 'pid_648286': 12.237148, 'pid_743732': 12.224534, 'pid_858601': 12.2168, 'pid_976678': 12.212275, 'pid_273141': 12.210864, 'pid_679701': 12.192434, 'pid_285351': 12.166488, 'pid_699422': 12.157085, 'pid_338996': 12.133656, 'pid_114240': 12.130601, 'pid_567405': 12.112541, 'pid_670096': 12.112541, 'pid_223743': 12.104385, 'pid_997794': 12.088106, 'pid_748344': 12.061132, 'pid_156432': 12.024445, 'pid_153478': 12.023424, 'pid_382917': 12.0153885, 'pid_40755': 12.0065365, 'pid_746440': 12.004835, 'pid_65991': 11.991343, 'pid_161402': 11.984415, 'pid_339238': 11.983349, 'pid_105474': 11.967394, 'pid_953377': 11.9671545, 'pid_852385': 11.959432, 'pid_929959': 11.946163, 'pid_632151': 11.943541, 'pid_955329': 11.943541, 'pid_89960': 11.939495, 'pid_599881': 11.93561, 'pid_116269': 11.932835, 'pid_369636': 11.911882, 'pid_785756': 11.896116, 'pid_280377': 11.880392, 'pid_940148': 11.880392, 'pid_970991': 11.880392}, 'qid_5097': {'pid_273717': 21.71716, 'pid_786792': 21.641542, 'pid_776646': 20.940014, 'pid_534012': 20.878849, 'pid_175534': 20.868399, 'pid_255889': 20.75392, 'pid_399937': 20.612453, 'pid_972655': 20.16425, 'pid_662667': 19.670944, 'pid_27519': 18.79925, 'pid_541018': 18.722214, 'pid_557499': 18.722214, 'pid_443055': 18.59751, 'pid_857373': 18.334621, 'pid_685222': 18.318825, 'pid_477329': 18.227291, 'pid_10085': 18.224667, 'pid_448190': 18.224667, 'pid_118686': 18.162468, 'pid_464991': 18.100721, 'pid_547005': 17.871292, 'pid_775193': 17.862537, 'pid_358266': 17.769812, 'pid_209505': 17.53226, 'pid_718523': 17.386955, 'pid_615175': 17.380426, 'pid_640874': 17.376167, 'pid_209925': 17.302849, 'pid_201413': 17.29695, 'pid_973492': 17.292799, 'pid_468495': 17.278442, 'pid_898839': 17.278442, 'pid_1875': 17.278273, 'pid_408830': 17.270824, 'pid_609895': 17.268738, 'pid_563002': 17.265862, 'pid_372936': 17.255524, 'pid_951879': 17.181915, 'pid_432324': 17.159182, 'pid_235320': 17.15767, 'pid_624912': 17.15767, 'pid_153751': 17.143633, 'pid_754235': 17.11215, 'pid_940483': 17.095945, 'pid_421475': 17.08656, 'pid_650425': 17.08656, 'pid_229774': 17.036243, 'pid_129900': 16.980059, 'pid_510285': 16.95769, 'pid_463858': 16.951305, 'pid_887452': 16.95028, 'pid_417827': 16.932014, 'pid_632299': 16.909225, 'pid_486781': 16.899277, 'pid_693758': 16.8918, 'pid_699431': 16.886501, 'pid_682486': 16.87516, 'pid_665147': 16.852526, 'pid_244907': 16.85237, 'pid_891062': 16.832502, 'pid_546004': 16.829952, 'pid_108763': 16.796204, 'pid_957778': 16.796204, 'pid_119585': 16.789045, 'pid_599178': 16.789045, 'pid_691409': 16.784985, 'pid_813792': 16.784985, 'pid_38698': 16.777605, 'pid_460479': 16.77408, 'pid_419529': 16.740257, 'pid_492174': 16.740257, 'pid_743686': 16.733894, 'pid_819758': 16.729113, 'pid_120590': 16.715452, 'pid_908977': 16.695766, 'pid_663073': 16.673111, 'pid_460120': 16.629475, 'pid_311509': 16.531017, 'pid_250838': 16.509296, 'pid_300539': 16.466024, 'pid_689681': 16.210228, 'pid_616511': 16.210215, 'pid_228560': 16.107172, 'pid_652065': 15.967144, 'pid_603320': 15.905128, 'pid_757570': 15.463281, 'pid_728700': 15.136915, 'pid_899619': 14.918762, 'pid_187484': 14.793726, 'pid_201622': 14.793726, 'pid_574035': 14.743792, 'pid_969528': 14.73274, 'pid_15875': 14.7272215, 'pid_570614': 14.710689, 'pid_871164': 14.694193, 'pid_395328': 14.677734, 'pid_131506': 14.655847, 'pid_89527': 13.793476, 'pid_254369': 13.743647, 'pid_276932': 13.708305}, 'qid_5098': {'pid_637579': 28.423077, 'pid_880739': 24.535568, 'pid_986113': 23.324091, 'pid_665981': 22.797453, 'pid_68446': 22.465553, 'pid_813734': 22.209423, 'pid_8826': 22.15174, 'pid_642348': 22.15174, 'pid_91783': 20.974846, 'pid_43710': 20.936394, 'pid_56242': 20.654219, 'pid_530839': 20.5513, 'pid_714301': 20.459906, 'pid_129854': 20.36987, 'pid_698515': 20.045586, 'pid_221276': 19.680124, 'pid_4443': 19.599903, 'pid_481392': 19.449905, 'pid_348052': 19.30824, 'pid_130916': 19.290758, 'pid_142123': 19.230703, 'pid_527356': 19.225199, 'pid_787126': 19.19064, 'pid_983837': 19.0393, 'pid_393804': 19.011879, 'pid_425100': 19.001453, 'pid_856658': 18.95995, 'pid_277032': 18.939268, 'pid_813562': 18.898054, 'pid_840891': 18.879812, 'pid_580293': 18.790194, 'pid_209289': 18.75219, 'pid_941233': 18.742075, 'pid_579611': 18.59786, 'pid_194879': 18.57502, 'pid_910046': 18.433115, 'pid_653887': 18.426231, 'pid_974771': 18.396349, 'pid_179258': 18.384125, 'pid_950737': 18.364937, 'pid_843459': 18.323256, 'pid_802580': 18.13569, 'pid_23392': 18.111893, 'pid_950087': 18.091518, 'pid_613730': 18.064482, 'pid_802749': 18.064482, 'pid_874690': 18.017319, 'pid_21893': 17.970402, 'pid_273718': 17.966331, 'pid_904823': 17.966331, 'pid_647665': 17.885166, 'pid_851083': 17.832417, 'pid_901511': 17.831104, 'pid_123859': 17.739435, 'pid_830242': 17.374498, 'pid_452954': 17.30982, 'pid_417832': 17.302183, 'pid_821401': 17.297535, 'pid_159843': 17.249514, 'pid_63432': 17.134811, 'pid_421989': 17.129303, 'pid_264099': 17.083263, 'pid_320074': 17.062737, 'pid_553957': 16.979994, 'pid_501503': 16.90997, 'pid_274510': 16.908134, 'pid_952674': 16.871572, 'pid_823234': 16.676725, 'pid_240311': 16.670755, 'pid_448134': 16.629885, 'pid_44234': 16.621895, 'pid_850281': 16.604021, 'pid_399854': 16.49138, 'pid_322798': 16.458555, 'pid_886636': 16.41373, 'pid_23796': 16.409775, 'pid_585466': 16.339281, 'pid_641335': 16.247417, 'pid_431959': 16.243263, 'pid_659101': 16.243263, 'pid_168774': 16.189045, 'pid_231660': 16.139446, 'pid_968514': 16.116915, 'pid_766470': 16.104752, 'pid_407372': 16.086113, 'pid_923595': 16.075872, 'pid_908187': 16.058311, 'pid_862442': 15.99443, 'pid_879739': 15.909935, 'pid_771675': 15.88216, 'pid_581264': 15.870477, 'pid_237789': 15.857511, 'pid_258163': 15.836181, 'pid_290157': 15.770937, 'pid_272683': 15.762436, 'pid_861785': 15.733143, 'pid_151780': 15.635202, 'pid_909624': 15.600854, 'pid_654601': 15.595937, 'pid_610294': 15.489647}, 'qid_5099': {'pid_234815': 18.978071, 'pid_384001': 18.978071, 'pid_214582': 18.924976, 'pid_676536': 18.752209, 'pid_693707': 18.708, 'pid_191514': 18.690384, 'pid_648197': 18.681593, 'pid_674414': 18.67281, 'pid_15809': 18.620316, 'pid_66499': 18.497162, 'pid_433091': 18.485237, 'pid_192559': 18.379433, 'pid_322854': 18.379433, 'pid_127746': 18.282547, 'pid_652935': 18.234016, 'pid_690771': 18.205822, 'pid_70948': 18.153046, 'pid_101215': 18.098654, 'pid_125645': 17.905706, 'pid_875024': 17.898413, 'pid_922925': 17.7833, 'pid_948047': 17.643024, 'pid_348643': 17.621443, 'pid_920253': 17.619312, 'pid_185105': 17.46672, 'pid_917134': 17.443481, 'pid_517417': 17.374126, 'pid_291535': 17.180588, 'pid_714712': 14.692617, 'pid_418013': 14.364847, 'pid_762414': 14.308432, 'pid_645198': 14.298225, 'pid_648429': 14.286829, 'pid_64422': 14.238968, 'pid_980689': 14.150133, 'pid_149170': 14.140715, 'pid_455726': 14.053361, 'pid_610242': 14.053361, 'pid_972902': 14.03123, 'pid_398691': 13.988078, 'pid_976757': 13.966065, 'pid_404730': 13.92695, 'pid_632056': 13.872396, 'pid_400664': 13.846903, 'pid_419339': 13.812334, 'pid_548484': 13.784405, 'pid_27243': 13.71017, 'pid_869048': 13.703354, 'pid_198856': 13.69702, 'pid_52457': 13.674589, 'pid_719619': 13.541892, 'pid_282847': 13.522742, 'pid_930819': 13.491633, 'pid_334326': 13.469666, 'pid_6186': 13.469149, 'pid_914427': 13.456188, 'pid_73063': 13.451139, 'pid_711881': 13.444578, 'pid_412652': 13.435171, 'pid_260771': 13.410887, 'pid_175927': 13.393069, 'pid_49756': 13.390852, 'pid_50487': 13.375864, 'pid_65584': 13.365201, 'pid_856853': 13.355932, 'pid_314200': 13.280922, 'pid_852040': 13.265208, 'pid_200140': 13.254757, 'pid_799027': 13.254757, 'pid_34242': 13.249539, 'pid_327': 13.244326, 'pid_674822': 13.230766, 'pid_616812': 13.218338, 'pid_216373': 13.100385, 'pid_330872': 12.99989, 'pid_479853': 12.952782, 'pid_336379': 12.909748, 'pid_544229': 12.909748, 'pid_225865': 12.9036255, 'pid_296795': 12.9036255, 'pid_448963': 12.9036255, 'pid_866386': 12.885297, 'pid_765458': 12.854874, 'pid_296534': 12.848807, 'pid_730746': 12.848807, 'pid_325978': 12.824605, 'pid_65240': 12.804432, 'pid_568526': 12.800501, 'pid_876883': 12.800501, 'pid_873693': 12.7853, 'pid_141578': 12.716905, 'pid_722104': 12.653501, 'pid_860082': 12.653118, 'pid_172526': 12.556421, 'pid_66292': 12.378175, 'pid_966631': 12.356731, 'pid_733532': 12.289883, 'pid_784380': 12.236954, 'pid_920971': 12.0060425, 'pid_58838': 11.981968}, 'qid_5100': {'pid_244194': 36.24463, 'pid_75616': 31.328403, 'pid_476176': 29.424948, 'pid_912651': 28.567339, 'pid_98976': 28.492363, 'pid_303077': 27.82925, 'pid_735298': 26.341785, 'pid_887663': 25.477427, 'pid_705484': 25.21989, 'pid_881833': 24.990646, 'pid_794586': 24.47588, 'pid_97512': 24.41024, 'pid_886723': 24.405159, 'pid_680899': 24.044714, 'pid_383079': 24.025797, 'pid_598383': 24.023766, 'pid_872658': 23.881817, 'pid_88670': 23.699646, 'pid_695073': 23.511005, 'pid_791971': 23.080954, 'pid_967882': 22.757832, 'pid_520026': 22.611837, 'pid_254804': 22.590689, 'pid_707728': 22.513453, 'pid_520870': 22.386192, 'pid_196465': 22.333332, 'pid_266980': 22.242985, 'pid_141546': 22.220236, 'pid_525501': 22.019554, 'pid_545513': 21.987137, 'pid_611109': 21.703846, 'pid_532302': 21.585096, 'pid_818676': 21.529474, 'pid_41064': 21.107992, 'pid_842576': 20.925869, 'pid_568200': 20.890903, 'pid_306048': 20.694466, 'pid_178643': 20.487675, 'pid_58150': 20.22896, 'pid_478857': 20.085228, 'pid_505910': 19.924356, 'pid_496335': 19.904654, 'pid_2799': 19.794117, 'pid_919724': 19.782907, 'pid_287273': 19.755005, 'pid_321781': 19.604565, 'pid_326244': 19.52357, 'pid_272441': 19.326096, 'pid_713192': 19.322147, 'pid_5051': 19.126598, 'pid_148317': 19.070845, 'pid_358818': 18.886433, 'pid_482625': 18.85229, 'pid_478745': 18.827444, 'pid_880092': 18.78814, 'pid_146535': 18.780006, 'pid_744259': 18.711468, 'pid_496670': 18.68264, 'pid_476129': 18.661238, 'pid_81740': 18.648808, 'pid_617082': 18.595428, 'pid_975145': 18.506948, 'pid_388527': 18.50112, 'pid_977440': 18.492357, 'pid_221740': 18.478806, 'pid_188267': 18.446138, 'pid_551809': 18.428366, 'pid_533155': 18.426815, 'pid_734238': 18.400326, 'pid_876386': 18.383125, 'pid_864793': 18.360321, 'pid_621112': 18.35601, 'pid_290637': 18.316427, 'pid_640711': 18.292885, 'pid_669454': 18.224579, 'pid_198459': 18.221287, 'pid_296999': 18.21087, 'pid_67374': 18.138956, 'pid_566575': 18.13329, 'pid_778206': 18.082796, 'pid_398224': 18.052242, 'pid_966272': 18.049145, 'pid_660930': 18.032305, 'pid_370436': 17.989668, 'pid_243380': 17.982813, 'pid_468323': 17.972958, 'pid_429321': 17.969702, 'pid_670038': 17.909122, 'pid_836218': 17.879223, 'pid_741520': 17.852123, 'pid_341565': 17.782269, 'pid_841150': 17.716423, 'pid_39560': 17.703072, 'pid_259853': 17.676828, 'pid_737529': 17.595009, 'pid_508466': 17.495287, 'pid_3053': 17.47136, 'pid_778400': 17.4521, 'pid_794056': 17.406668, 'pid_560325': 17.369473}, 'qid_5101': {'pid_630365': 22.71452, 'pid_768098': 21.034622, 'pid_967687': 20.310028, 'pid_586701': 20.258257, 'pid_815013': 20.172672, 'pid_208132': 19.806244, 'pid_361895': 19.573154, 'pid_965926': 19.558178, 'pid_185482': 19.540726, 'pid_466970': 19.53986, 'pid_11721': 19.430378, 'pid_618495': 19.170845, 'pid_214605': 18.680847, 'pid_843050': 18.644783, 'pid_122457': 18.622282, 'pid_160903': 18.546999, 'pid_290881': 18.512257, 'pid_643908': 18.499962, 'pid_314489': 18.486046, 'pid_257628': 18.462294, 'pid_197449': 18.45144, 'pid_604417': 18.440851, 'pid_458492': 18.41896, 'pid_369772': 18.014246, 'pid_950238': 18.002197, 'pid_353437': 17.983753, 'pid_633292': 17.93024, 'pid_247093': 17.918304, 'pid_814757': 17.894478, 'pid_394283': 17.659657, 'pid_859313': 17.636513, 'pid_672379': 17.61343, 'pid_516330': 17.590408, 'pid_429335': 17.513527, 'pid_176731': 17.43092, 'pid_660959': 16.907234, 'pid_223036': 16.34948, 'pid_218620': 16.09122, 'pid_938671': 16.054604, 'pid_551170': 16.03216, 'pid_466963': 16.00203, 'pid_486440': 15.93145, 'pid_496854': 15.804411, 'pid_906670': 15.770499, 'pid_86753': 15.729104, 'pid_245891': 15.6933, 'pid_534173': 15.66379, 'pid_353979': 15.653215, 'pid_533148': 15.6350155, 'pid_976379': 15.623413, 'pid_60854': 15.614607, 'pid_238480': 15.611306, 'pid_68771': 15.589125, 'pid_190730': 15.568505, 'pid_337030': 15.564394, 'pid_796914': 15.515134, 'pid_505045': 15.479712, 'pid_223337': 15.387606, 'pid_469098': 15.386921, 'pid_808656': 15.375548, 'pid_873137': 15.375548, 'pid_854727': 15.36351, 'pid_822666': 15.344769, 'pid_974983': 15.343739, 'pid_68450': 15.327508, 'pid_564689': 15.325275, 'pid_615581': 15.3195305, 'pid_935767': 15.295648, 'pid_730026': 15.279766, 'pid_868898': 15.279766, 'pid_727783': 15.263919, 'pid_621533': 15.253078, 'pid_922998': 15.2241745, 'pid_972599': 15.167482, 'pid_868912': 15.147739, 'pid_209417': 15.1477165, 'pid_183017': 15.143206, 'pid_732908': 15.138887, 'pid_514528': 15.138311, 'pid_946198': 15.134195, 'pid_603007': 15.118159, 'pid_992886': 15.083376, 'pid_229910': 15.067541, 'pid_170125': 15.054225, 'pid_863816': 15.018755, 'pid_696062': 14.951284, 'pid_183123': 14.942351, 'pid_866456': 14.942351, 'pid_165944': 14.93733, 'pid_26087': 14.933618, 'pid_238940': 14.922289, 'pid_430229': 14.917282, 'pid_887106': 14.907564, 'pid_903035': 14.907278, 'pid_395297': 14.887716, 'pid_346481': 14.857465, 'pid_811317': 14.82525, 'pid_861854': 14.802087, 'pid_31309': 14.779499, 'pid_345813': 14.762819}, 'qid_5102': {'pid_563122': 18.706532, 'pid_339496': 18.689678, 'pid_707472': 18.38481, 'pid_544615': 17.968578, 'pid_435217': 17.386002, 'pid_762290': 17.181473, 'pid_556574': 17.114363, 'pid_842760': 14.978455, 'pid_1372': 14.370581, 'pid_836389': 14.308082, 'pid_891809': 14.2666855, 'pid_481320': 14.176193, 'pid_248799': 14.164759, 'pid_579531': 13.898193, 'pid_323114': 13.746752, 'pid_284855': 13.690854, 'pid_547504': 13.670019, 'pid_422086': 13.594207, 'pid_637563': 13.383325, 'pid_240370': 13.3768015, 'pid_497280': 13.239262, 'pid_889644': 13.219816, 'pid_977644': 13.129954, 'pid_543077': 13.062016, 'pid_721795': 12.966033, 'pid_83403': 12.912876, 'pid_347533': 12.83322, 'pid_12314': 12.816178, 'pid_448828': 12.773771, 'pid_17284': 12.772974, 'pid_41005': 12.7389345, 'pid_975375': 12.731644, 'pid_48479': 12.71487, 'pid_71573': 12.706222, 'pid_599547': 12.706222, 'pid_840427': 12.685194, 'pid_792189': 12.636972, 'pid_659430': 12.632438, 'pid_943232': 12.628031, 'pid_790862': 12.621384, 'pid_395968': 12.611, 'pid_395692': 12.590612, 'pid_653302': 12.585222, 'pid_175717': 12.577779, 'pid_631882': 12.577779, 'pid_770490': 12.570347, 'pid_50199': 12.5652, 'pid_23717': 12.5629225, 'pid_320095': 12.555509, 'pid_455230': 12.546582, 'pid_543004': 12.546582, 'pid_454982': 12.536146, 'pid_180433': 12.533323, 'pid_355046': 12.523415, 'pid_968926': 12.477428, 'pid_892360': 12.450106, 'pid_900823': 12.43866, 'pid_606427': 12.417497, 'pid_214138': 12.414614, 'pid_76660': 12.407248, 'pid_520847': 12.407248, 'pid_915931': 12.400544, 'pid_349403': 12.397018, 'pid_629060': 12.376623, 'pid_235594': 12.371536, 'pid_227515': 12.359977, 'pid_73724': 12.33535, 'pid_292196': 12.33535, 'pid_718562': 12.335244, 'pid_523213': 12.316809, 'pid_996521': 12.287968, 'pid_786342': 12.280851, 'pid_555378': 12.27117, 'pid_563858': 12.266111, 'pid_376893': 12.238633, 'pid_733086': 12.238633, 'pid_600988': 12.215963, 'pid_26990': 12.184045, 'pid_79921': 12.184045, 'pid_137257': 12.184045, 'pid_171820': 12.184045, 'pid_287674': 12.184045, 'pid_257462': 12.174994, 'pid_865495': 12.174994, 'pid_79837': 12.1659565, 'pid_348477': 12.1659565, 'pid_702389': 12.1659565, 'pid_762641': 12.1659565, 'pid_703253': 12.135658, 'pid_791385': 12.129941, 'pid_865734': 12.129941, 'pid_43414': 12.100111, 'pid_196169': 12.09421, 'pid_873479': 12.09421, 'pid_818594': 12.076315, 'pid_748278': 12.064796, 'pid_19976': 12.041378, 'pid_183781': 12.041378, 'pid_306994': 12.040829, 'pid_697381': 12.035538}, 'qid_5103': {'pid_97512': 31.798496, 'pid_598383': 31.39683, 'pid_713192': 29.469105, 'pid_5051': 28.553875, 'pid_617082': 28.297262, 'pid_508466': 27.479239, 'pid_198459': 26.958279, 'pid_714558': 26.658274, 'pid_765590': 26.484165, 'pid_189607': 26.289696, 'pid_644302': 25.699774, 'pid_532302': 25.236483, 'pid_744259': 24.955406, 'pid_880092': 24.828236, 'pid_496670': 24.437628, 'pid_640711': 24.361637, 'pid_146535': 24.249949, 'pid_398224': 24.130608, 'pid_778206': 24.113401, 'pid_243380': 24.080492, 'pid_148317': 24.067509, 'pid_478745': 23.684969, 'pid_741520': 23.654104, 'pid_660930': 23.533611, 'pid_242491': 23.513325, 'pid_341565': 23.505074, 'pid_621112': 23.313946, 'pid_669454': 23.260586, 'pid_500418': 23.21335, 'pid_300434': 23.179031, 'pid_383491': 23.165152, 'pid_173889': 23.096325, 'pid_673288': 22.729607, 'pid_39560': 22.712782, 'pid_894735': 22.648407, 'pid_965811': 22.616636, 'pid_260561': 22.246325, 'pid_12741': 22.13441, 'pid_520026': 21.984535, 'pid_430440': 21.937336, 'pid_476176': 21.796974, 'pid_872658': 21.680075, 'pid_99960': 21.595282, 'pid_407231': 21.45875, 'pid_56785': 21.320766, 'pid_997025': 21.310698, 'pid_698762': 21.261755, 'pid_729638': 21.240952, 'pid_830040': 21.161999, 'pid_982553': 21.151545, 'pid_775497': 21.127813, 'pid_943967': 20.86216, 'pid_45319': 20.684212, 'pid_367473': 20.67087, 'pid_299569': 20.64611, 'pid_118490': 20.608683, 'pid_997873': 20.522627, 'pid_748659': 20.43112, 'pid_678210': 20.359509, 'pid_715607': 20.174984, 'pid_839370': 20.033201, 'pid_155063': 19.997597, 'pid_477862': 19.924562, 'pid_478114': 19.61633, 'pid_389650': 19.408165, 'pid_536599': 19.211573, 'pid_306816': 19.141882, 'pid_706122': 19.005407, 'pid_496335': 18.761284, 'pid_958145': 18.700596, 'pid_331145': 18.64695, 'pid_35743': 18.61878, 'pid_975145': 18.506948, 'pid_388527': 18.50112, 'pid_483905': 18.487309, 'pid_680899': 18.460949, 'pid_733998': 18.396345, 'pid_290637': 18.316427, 'pid_515337': 18.21998, 'pid_83573': 18.214928, 'pid_296999': 18.21087, 'pid_465253': 18.204836, 'pid_566575': 18.13329, 'pid_202254': 18.106611, 'pid_728030': 18.053448, 'pid_844800': 17.991125, 'pid_478857': 17.937252, 'pid_670038': 17.909122, 'pid_394977': 17.903849, 'pid_706817': 17.756746, 'pid_417927': 17.750778, 'pid_259853': 17.676828, 'pid_383079': 17.62516, 'pid_468524': 17.615847, 'pid_613261': 17.486214, 'pid_3053': 17.47136, 'pid_794056': 17.406668, 'pid_708227': 17.394382, 'pid_560325': 17.369473, 'pid_177818': 17.360462}, 'qid_5104': {'pid_728357': 26.320122, 'pid_902019': 26.196, 'pid_945882': 24.881071, 'pid_806440': 24.716196, 'pid_762706': 24.28176, 'pid_34654': 24.181614, 'pid_66707': 22.75666, 'pid_94489': 21.636637, 'pid_337007': 21.550575, 'pid_693742': 21.398167, 'pid_197196': 21.185318, 'pid_788088': 21.115211, 'pid_781296': 21.04174, 'pid_614744': 20.995722, 'pid_950252': 20.984377, 'pid_966709': 20.722153, 'pid_196735': 20.597681, 'pid_996521': 20.593529, 'pid_810989': 20.574541, 'pid_73273': 20.543676, 'pid_185174': 20.51625, 'pid_917916': 20.482544, 'pid_104004': 20.452114, 'pid_42908': 20.406635, 'pid_262458': 20.406635, 'pid_492447': 20.346315, 'pid_362996': 20.345251, 'pid_429823': 20.316288, 'pid_40219': 19.843338, 'pid_486620': 19.827417, 'pid_797410': 19.808151, 'pid_937264': 19.768404, 'pid_311431': 19.755377, 'pid_352324': 19.58915, 'pid_108175': 19.483017, 'pid_649399': 19.19633, 'pid_129037': 19.03009, 'pid_782408': 18.962034, 'pid_480909': 18.939926, 'pid_735276': 18.92889, 'pid_131962': 18.909443, 'pid_15050': 18.897453, 'pid_640925': 18.876818, 'pid_214435': 18.830185, 'pid_176451': 18.708485, 'pid_458614': 18.688192, 'pid_943528': 18.667953, 'pid_790448': 18.518045, 'pid_132917': 18.402826, 'pid_637395': 18.341526, 'pid_475706': 18.292782, 'pid_116762': 18.268507, 'pid_618430': 18.256392, 'pid_596013': 18.244295, 'pid_700542': 18.160059, 'pid_700565': 18.03064, 'pid_905065': 17.97041, 'pid_559804': 17.91159, 'pid_287142': 17.826817, 'pid_156565': 17.70971, 'pid_9731': 17.646809, 'pid_68960': 17.538383, 'pid_255546': 17.515345, 'pid_769254': 17.50771, 'pid_965108': 17.500343, 'pid_339084': 17.403412, 'pid_883123': 17.255392, 'pid_666408': 17.243778, 'pid_353743': 17.180595, 'pid_359009': 17.06532, 'pid_179385': 17.044338, 'pid_780395': 17.040886, 'pid_278186': 17.014286, 'pid_859790': 17.010958, 'pid_883820': 17.008392, 'pid_993907': 17.00015, 'pid_15463': 16.983696, 'pid_450438': 16.983696, 'pid_580577': 16.975483, 'pid_626090': 16.961353, 'pid_523051': 16.9509, 'pid_510460': 16.898916, 'pid_215414': 16.872358, 'pid_304582': 16.86147, 'pid_120710': 16.77961, 'pid_545602': 16.64176, 'pid_449121': 16.632814, 'pid_481071': 16.614956, 'pid_379036': 16.576313, 'pid_545520': 16.555647, 'pid_722429': 16.535097, 'pid_6667': 16.509453, 'pid_971277': 16.503508, 'pid_179365': 16.416424, 'pid_359485': 16.386217, 'pid_174224': 16.333593, 'pid_319284': 16.33274, 'pid_314974': 16.32392, 'pid_813800': 16.26665, 'pid_464980': 16.184921}, 'qid_5105': {'pid_105097': 16.277397, 'pid_826417': 16.065935, 'pid_12303': 16.064077, 'pid_346268': 16.057858, 'pid_338575': 16.046326, 'pid_765826': 16.039927, 'pid_219813': 16.033531, 'pid_936543': 15.8583765, 'pid_319855': 15.798855, 'pid_163711': 15.784044, 'pid_9159': 15.682655, 'pid_592861': 15.638388, 'pid_678059': 15.616306, 'pid_63155': 15.580775, 'pid_966718': 15.5694, 'pid_581020': 15.564211, 'pid_868263': 15.545791, 'pid_778690': 15.470896, 'pid_164789': 15.399216, 'pid_740868': 15.337004, 'pid_770005': 15.282444, 'pid_380062': 15.277182, 'pid_552205': 15.106658, 'pid_673830': 15.095319, 'pid_930635': 15.089656, 'pid_128798': 15.08405, 'pid_285860': 15.032577, 'pid_399174': 15.023662, 'pid_22430': 14.773714, 'pid_699764': 14.649372, 'pid_554018': 14.626791, 'pid_377372': 14.612922, 'pid_130022': 14.598259, 'pid_817405': 14.592236, 'pid_839663': 14.588308, 'pid_221004': 14.569924, 'pid_919267': 14.556634, 'pid_167660': 14.5364, 'pid_261292': 14.527037, 'pid_995790': 14.504654, 'pid_550211': 14.49144, 'pid_557965': 14.49144, 'pid_432727': 14.478255, 'pid_594069': 14.445425, 'pid_485840': 14.437385, 'pid_713773': 14.423359, 'pid_2567': 14.401746, 'pid_517996': 14.381458, 'pid_402110': 14.331909, 'pid_431196': 14.311113, 'pid_885752': 14.297288, 'pid_357897': 14.23686, 'pid_196721': 14.187969, 'pid_26510': 14.172549, 'pid_571463': 14.151931, 'pid_512423': 14.147247, 'pid_387150': 14.118857, 'pid_633841': 14.108833, 'pid_193736': 14.088711, 'pid_496659': 14.0656, 'pid_989648': 14.0278225, 'pid_684187': 14.005259, 'pid_965370': 13.740437, 'pid_766922': 13.486593, 'pid_37101': 13.396748, 'pid_731614': 13.370028, 'pid_142623': 13.211916, 'pid_683132': 13.188526, 'pid_64183': 13.091503, 'pid_385435': 12.923243, 'pid_734151': 12.923243, 'pid_550690': 12.791716, 'pid_358152': 9.926128, 'pid_978729': 9.8403845, 'pid_622086': 9.838332, 'pid_784566': 9.838332, 'pid_250985': 9.796587, 'pid_900684': 9.776011, 'pid_224235': 9.770681, 'pid_632834': 9.770681, 'pid_627130': 9.765358, 'pid_582080': 9.762699, 'pid_988239': 9.752075, 'pid_995290': 9.746772, 'pid_189095': 9.720342, 'pid_166557': 9.699301, 'pid_582178': 9.681012, 'pid_931745': 9.674741, 'pid_270286': 9.671609, 'pid_953791': 9.668478, 'pid_372537': 9.640396, 'pid_605508': 9.634177, 'pid_624962': 9.634177, 'pid_695988': 9.634177, 'pid_838543': 9.634177, 'pid_93719': 9.621765, 'pid_849851': 9.603206, 'pid_965182': 9.585942, 'pid_827938': 9.572503, 'pid_847512': 9.555279}, 'qid_5106': {'pid_60688': 30.152554, 'pid_201579': 28.137695, 'pid_526993': 28.079315, 'pid_375606': 28.076155, 'pid_667861': 26.839485, 'pid_852224': 26.715431, 'pid_465774': 26.664238, 'pid_982272': 26.502728, 'pid_393866': 26.443186, 'pid_922410': 26.15164, 'pid_381230': 25.789394, 'pid_261017': 25.481024, 'pid_578675': 25.342428, 'pid_978207': 25.323849, 'pid_764942': 25.27977, 'pid_2758': 25.233847, 'pid_961839': 25.233847, 'pid_255189': 25.207403, 'pid_795589': 25.09768, 'pid_8443': 25.056541, 'pid_455347': 25.028402, 'pid_905962': 25.028402, 'pid_370831': 25.01043, 'pid_376271': 24.94938, 'pid_327834': 24.921995, 'pid_715121': 24.901997, 'pid_413739': 24.824133, 'pid_496506': 24.65734, 'pid_62342': 24.596245, 'pid_120684': 24.561743, 'pid_416439': 24.561743, 'pid_193667': 24.391329, 'pid_271376': 24.389091, 'pid_275939': 24.180782, 'pid_656801': 24.091503, 'pid_629684': 24.031536, 'pid_841995': 24.005737, 'pid_980187': 23.765543, 'pid_743239': 23.764294, 'pid_421600': 23.526329, 'pid_197952': 23.356586, 'pid_158104': 23.202118, 'pid_305808': 23.04878, 'pid_370958': 22.976337, 'pid_8153': 22.743217, 'pid_71792': 22.603838, 'pid_305964': 22.468906, 'pid_8586': 22.386433, 'pid_829355': 22.207981, 'pid_801088': 21.891863, 'pid_186703': 21.653326, 'pid_773769': 21.602503, 'pid_240641': 21.489761, 'pid_979113': 21.256664, 'pid_906974': 21.223616, 'pid_200024': 21.165695, 'pid_715327': 21.157219, 'pid_484031': 21.096016, 'pid_227611': 21.082153, 'pid_322670': 20.908823, 'pid_289434': 20.898705, 'pid_282503': 20.888567, 'pid_988543': 20.860851, 'pid_592794': 20.85809, 'pid_453351': 20.844086, 'pid_484810': 20.827501, 'pid_673272': 20.80286, 'pid_473842': 20.787926, 'pid_486865': 20.769775, 'pid_987912': 20.73119, 'pid_279971': 20.72972, 'pid_797645': 20.72244, 'pid_916963': 20.719835, 'pid_803837': 20.700092, 'pid_121025': 20.680391, 'pid_334623': 20.678684, 'pid_573468': 20.67583, 'pid_691231': 20.662712, 'pid_752028': 20.6622, 'pid_834955': 20.6622, 'pid_162137': 20.611069, 'pid_602104': 20.60058, 'pid_352231': 20.596153, 'pid_680799': 20.582445, 'pid_860849': 20.579182, 'pid_408247': 20.507742, 'pid_313763': 20.504633, 'pid_562944': 20.504633, 'pid_43820': 20.494143, 'pid_63950': 20.48343, 'pid_829531': 20.456886, 'pid_268266': 20.45367, 'pid_873519': 20.442062, 'pid_697387': 20.378464, 'pid_337395': 20.336245, 'pid_30639': 20.314661, 'pid_79660': 20.298294, 'pid_666056': 20.196793, 'pid_616490': 20.178291, 'pid_851809': 20.135393}, 'qid_5107': {'pid_816861': 24.165094, 'pid_298772': 23.961973, 'pid_878951': 23.291843, 'pid_483031': 23.156422, 'pid_795780': 23.087145, 'pid_930607': 23.050343, 'pid_370624': 22.996176, 'pid_379707': 22.972055, 'pid_899756': 22.94482, 'pid_345145': 22.686222, 'pid_928039': 22.660728, 'pid_124139': 22.651863, 'pid_542701': 22.643763, 'pid_283890': 22.585642, 'pid_481033': 22.56916, 'pid_640183': 22.450468, 'pid_314982': 22.350924, 'pid_800211': 21.958382, 'pid_964172': 21.948421, 'pid_398806': 21.908672, 'pid_272224': 21.898762, 'pid_939501': 21.898762, 'pid_561290': 21.888859, 'pid_348167': 21.878963, 'pid_525613': 21.878963, 'pid_931137': 21.85, 'pid_94723': 21.80998, 'pid_405125': 21.80998, 'pid_765046': 21.712242, 'pid_870355': 21.67341, 'pid_905785': 21.51444, 'pid_25693': 21.373856, 'pid_657198': 21.364944, 'pid_505791': 21.358307, 'pid_832183': 21.355469, 'pid_898109': 21.326756, 'pid_677543': 21.32281, 'pid_686143': 21.294548, 'pid_860832': 21.268637, 'pid_896779': 21.25358, 'pid_832530': 21.247059, 'pid_772230': 21.231583, 'pid_394719': 21.177156, 'pid_698941': 21.17505, 'pid_396258': 21.161736, 'pid_287971': 21.152533, 'pid_946561': 21.150599, 'pid_652423': 21.141293, 'pid_966546': 21.130068, 'pid_62545': 21.129559, 'pid_14570': 21.118856, 'pid_420124': 21.118856, 'pid_172793': 21.107658, 'pid_619082': 21.086864, 'pid_744461': 21.023584, 'pid_978273': 20.985353, 'pid_168428': 20.966934, 'pid_121797': 20.95006, 'pid_336482': 20.941273, 'pid_522519': 20.941273, 'pid_716306': 20.938025, 'pid_295046': 20.87807, 'pid_755319': 20.87807, 'pid_177819': 20.85701, 'pid_4636': 20.854189, 'pid_988184': 20.854189, 'pid_313444': 20.853737, 'pid_358414': 20.84227, 'pid_875793': 20.84227, 'pid_47293': 20.810274, 'pid_979339': 20.782892, 'pid_942772': 20.767017, 'pid_642129': 20.70036, 'pid_224681': 20.676907, 'pid_112375': 20.653507, 'pid_906258': 20.653507, 'pid_791110': 20.63845, 'pid_89247': 20.606878, 'pid_189329': 20.606878, 'pid_31269': 20.583647, 'pid_167804': 20.583647, 'pid_898697': 20.583647, 'pid_975031': 20.56047, 'pid_119383': 20.537352, 'pid_331101': 20.537352, 'pid_895774': 20.537352, 'pid_23641': 20.351986, 'pid_238233': 20.283741, 'pid_542779': 20.220728, 'pid_437296': 20.215952, 'pid_205876': 20.188963, 'pid_39672': 20.175495, 'pid_147908': 20.175495, 'pid_193175': 20.175495, 'pid_841167': 20.162046, 'pid_372820': 20.148615, 'pid_523273': 20.1352, 'pid_99685': 20.121805, 'pid_263263': 20.121805, 'pid_973323': 20.121805}, 'qid_5108': {'pid_629261': 25.154165, 'pid_939716': 24.509457, 'pid_684646': 24.193478, 'pid_113071': 23.983923, 'pid_494827': 23.198961, 'pid_643383': 23.17433, 'pid_984857': 23.0185, 'pid_618706': 22.683752, 'pid_908251': 22.571484, 'pid_960122': 22.415, 'pid_20155': 22.154812, 'pid_12988': 22.070675, 'pid_222538': 22.02562, 'pid_447847': 22.02562, 'pid_829268': 21.98076, 'pid_757388': 21.775887, 'pid_170689': 21.685406, 'pid_371239': 21.613632, 'pid_693896': 21.606297, 'pid_443434': 21.503551, 'pid_320206': 21.413845, 'pid_369456': 21.350166, 'pid_602435': 21.329315, 'pid_435486': 21.318964, 'pid_12333': 21.270807, 'pid_111958': 21.228718, 'pid_173017': 21.228718, 'pid_649305': 21.20075, 'pid_52034': 21.172855, 'pid_494842': 21.145035, 'pid_123797': 20.843765, 'pid_777573': 20.8343, 'pid_612217': 20.736328, 'pid_960705': 20.736328, 'pid_208700': 20.70293, 'pid_901876': 20.430683, 'pid_129116': 20.301651, 'pid_130786': 20.113117, 'pid_258909': 19.489029, 'pid_537628': 18.776854, 'pid_905444': 18.532217, 'pid_17833': 18.501001, 'pid_906300': 18.500832, 'pid_875511': 18.40802, 'pid_291994': 18.18485, 'pid_493837': 18.049892, 'pid_270151': 17.831722, 'pid_352410': 17.819798, 'pid_941346': 17.819798, 'pid_748842': 17.807886, 'pid_849232': 17.760403, 'pid_956084': 17.760403, 'pid_424184': 17.7014, 'pid_847136': 17.64279, 'pid_656691': 17.480728, 'pid_706875': 17.457819, 'pid_40655': 17.344168, 'pid_294271': 17.344168, 'pid_834166': 17.209724, 'pid_528836': 17.033678, 'pid_930032': 17.033678, 'pid_573870': 16.651566, 'pid_660306': 16.47605, 'pid_420884': 16.105526, 'pid_401149': 15.178351, 'pid_154380': 14.891888, 'pid_46524': 13.823772, 'pid_792160': 12.872248, 'pid_262001': 12.795388, 'pid_685967': 12.721014, 'pid_576989': 12.656628, 'pid_122687': 12.647661, 'pid_641295': 12.608173, 'pid_151794': 12.561151, 'pid_908473': 12.554318, 'pid_471977': 12.529018, 'pid_17822': 12.502377, 'pid_868107': 12.326019, 'pid_769286': 12.257795, 'pid_241098': 12.082249, 'pid_846001': 12.076309, 'pid_787434': 12.049923, 'pid_806020': 12.0219345, 'pid_474147': 11.86736, 'pid_547022': 11.833827, 'pid_628490': 11.80515, 'pid_616968': 11.789699, 'pid_642066': 11.786715, 'pid_280853': 11.758919, 'pid_303916': 11.724479, 'pid_482364': 11.667534, 'pid_546472': 11.667534, 'pid_715298': 11.594385, 'pid_395807': 11.592052, 'pid_69011': 11.582321, 'pid_306741': 11.5775585, 'pid_73629': 11.515782, 'pid_531807': 11.504278, 'pid_558699': 11.444982, 'pid_972459': 11.414175}, 'qid_5109': {'pid_208181': 22.604061, 'pid_591499': 22.427305, 'pid_169014': 22.403357, 'pid_392458': 22.078403, 'pid_545200': 21.752388, 'pid_58829': 21.721766, 'pid_185274': 21.562647, 'pid_643444': 21.515778, 'pid_215694': 21.347055, 'pid_4924': 20.912457, 'pid_11700': 20.76049, 'pid_648473': 20.400213, 'pid_422313': 20.097687, 'pid_625742': 19.942673, 'pid_254070': 19.941093, 'pid_577663': 19.09908, 'pid_89409': 19.056515, 'pid_369410': 19.014141, 'pid_219296': 18.957937, 'pid_998153': 18.929958, 'pid_735936': 18.573246, 'pid_619102': 18.56365, 'pid_691427': 18.511122, 'pid_245208': 18.492498, 'pid_31045': 18.483345, 'pid_58478': 18.370466, 'pid_339647': 18.366898, 'pid_896683': 18.339092, 'pid_834966': 18.297998, 'pid_706866': 18.276705, 'pid_280750': 18.246908, 'pid_752400': 18.215878, 'pid_935108': 18.20531, 'pid_959931': 18.202822, 'pid_911217': 18.177883, 'pid_805012': 18.168762, 'pid_843073': 18.159227, 'pid_865224': 18.144499, 'pid_599055': 18.1259, 'pid_10910': 18.086153, 'pid_685969': 18.043583, 'pid_391030': 18.03299, 'pid_281680': 18.006563, 'pid_712319': 17.9444, 'pid_439687': 17.929516, 'pid_810470': 17.919888, 'pid_237346': 17.875687, 'pid_872517': 17.871569, 'pid_8073': 17.865679, 'pid_790889': 17.820053, 'pid_348974': 17.746286, 'pid_370969': 17.70547, 'pid_737553': 17.69077, 'pid_472503': 17.686554, 'pid_636296': 17.6819, 'pid_531979': 17.631805, 'pid_455935': 17.600815, 'pid_656940': 17.598667, 'pid_427695': 17.565277, 'pid_68412': 17.479265, 'pid_170509': 17.478651, 'pid_706750': 17.455143, 'pid_649128': 17.401459, 'pid_113893': 17.334469, 'pid_870461': 17.334469, 'pid_880785': 17.273754, 'pid_589223': 17.240345, 'pid_253378': 17.171911, 'pid_631739': 17.171911, 'pid_161445': 17.161234, 'pid_927170': 17.096487, 'pid_160049': 17.0711, 'pid_898355': 17.070953, 'pid_41947': 17.067211, 'pid_216009': 17.05958, 'pid_535109': 16.99374, 'pid_200440': 16.988096, 'pid_53115': 16.976854, 'pid_852027': 16.976854, 'pid_646248': 16.969952, 'pid_79453': 16.95455, 'pid_877636': 16.92803, 'pid_187230': 16.90163, 'pid_153297': 16.872984, 'pid_771651': 16.848095, 'pid_895754': 16.799263, 'pid_827976': 16.793495, 'pid_364231': 16.791395, 'pid_954260': 16.775684, 'pid_524373': 16.77549, 'pid_499044': 16.760008, 'pid_153831': 16.758743, 'pid_44796': 16.752184, 'pid_371286': 16.744156, 'pid_387888': 16.72876, 'pid_18464': 16.715796, 'pid_173320': 16.68741, 'pid_848485': 16.670126, 'pid_898997': 16.668444, 'pid_300223': 16.65718}, 'qid_5110': {'pid_703253': 17.911865, 'pid_498889': 17.660147, 'pid_3305': 14.926839, 'pid_777223': 14.801734, 'pid_504138': 14.644056, 'pid_892360': 14.615923, 'pid_525660': 14.554487, 'pid_566432': 14.527054, 'pid_226054': 14.483255, 'pid_152134': 14.378122, 'pid_294238': 14.182692, 'pid_819827': 14.108223, 'pid_152364': 14.057178, 'pid_699552': 14.038599, 'pid_46065': 14.019997, 'pid_504347': 13.95221, 'pid_481320': 13.946835, 'pid_616660': 13.927343, 'pid_901084': 13.91913, 'pid_763941': 13.913576, 'pid_690814': 13.910848, 'pid_476290': 13.902484, 'pid_771725': 13.855923, 'pid_18741': 13.8445635, 'pid_556694': 13.831333, 'pid_299195': 13.83016, 'pid_574561': 13.825491, 'pid_391178': 13.789235, 'pid_715374': 13.771185, 'pid_235594': 13.733883, 'pid_34786': 13.686198, 'pid_806278': 13.685457, 'pid_153766': 13.674339, 'pid_769286': 13.669818, 'pid_640486': 13.662505, 'pid_257911': 13.655937, 'pid_644983': 13.650696, 'pid_744214': 13.607579, 'pid_182588': 13.603703, 'pid_373148': 13.580353, 'pid_707439': 13.580353, 'pid_435486': 13.580259, 'pid_638974': 13.557099, 'pid_692639': 13.557099, 'pid_121136': 13.510878, 'pid_647631': 13.499792, 'pid_618706': 13.497622, 'pid_840427': 13.465637, 'pid_344526': 13.438448, 'pid_359722': 13.438448, 'pid_625529': 13.438448, 'pid_210849': 13.424897, 'pid_226089': 13.424897, 'pid_450562': 13.42116, 'pid_381431': 13.419561, 'pid_57562': 13.411376, 'pid_865119': 13.400796, 'pid_551390': 13.397884, 'pid_697381': 13.397884, 'pid_989854': 13.392, 'pid_993819': 13.391141, 'pid_774440': 13.370989, 'pid_220875': 13.344212, 'pid_12775': 13.317548, 'pid_338698': 13.290999, 'pid_191145': 13.283062, 'pid_233074': 13.281538, 'pid_429911': 13.272537, 'pid_424077': 13.269421, 'pid_542124': 13.264565, 'pid_598756': 13.190773, 'pid_929263': 13.174768, 'pid_731267': 13.172932, 'pid_332504': 13.122362, 'pid_730590': 13.091017, 'pid_423855': 13.073198, 'pid_848413': 13.069866, 'pid_447847': 13.05448, 'pid_673295': 13.015694, 'pid_165271': 12.989755, 'pid_936621': 12.890123, 'pid_543189': 12.853382, 'pid_829268': 12.709784, 'pid_501021': 12.679008, 'pid_629221': 12.667271, 'pid_707888': 12.662058, 'pid_52991': 12.653652, 'pid_674841': 12.628295, 'pid_181714': 12.619882, 'pid_199060': 12.619882, 'pid_800976': 12.619882, 'pid_252923': 12.606518, 'pid_460473': 12.597231, 'pid_304155': 12.59481, 'pid_870927': 12.58662, 'pid_792131': 12.577986, 'pid_827044': 12.56964, 'pid_581466': 12.559883, 'pid_352948': 12.519796, 'pid_725032': 12.519796}, 'qid_5111': {'pid_955104': 14.993893, 'pid_8711': 14.791851, 'pid_437502': 14.774026, 'pid_959597': 14.733637, 'pid_583472': 14.565727, 'pid_255634': 14.551524, 'pid_870857': 14.502319, 'pid_378018': 14.501762, 'pid_197485': 14.452353, 'pid_114535': 14.423903, 'pid_80235': 14.4166355, 'pid_745883': 14.4166355, 'pid_837708': 14.381099, 'pid_618250': 14.356139, 'pid_914931': 14.356139, 'pid_382803': 14.345744, 'pid_515817': 14.317602, 'pid_638801': 14.261301, 'pid_165564': 14.21311, 'pid_140198': 14.202446, 'pid_815054': 14.197119, 'pid_822768': 14.1948395, 'pid_421632': 14.165244, 'pid_677180': 14.1599455, 'pid_694911': 14.14936, 'pid_695739': 14.137321, 'pid_822988': 14.13545, 'pid_142395': 14.084215, 'pid_777558': 14.070471, 'pid_926561': 14.066397, 'pid_216210': 14.048979, 'pid_443797': 14.030873, 'pid_531700': 14.029751, 'pid_635712': 13.972551, 'pid_489022': 13.965536, 'pid_83577': 13.963203, 'pid_151893': 13.963203, 'pid_826728': 13.954677, 'pid_540060': 13.949256, 'pid_646717': 13.933027, 'pid_425960': 13.925542, 'pid_365421': 13.921865, 'pid_416493': 13.917383, 'pid_117818': 13.905094, 'pid_92173': 13.895354, 'pid_81388': 13.860276, 'pid_696380': 13.855837, 'pid_561531': 13.845972, 'pid_192289': 13.837961, 'pid_759906': 13.826425, 'pid_513052': 13.802377, 'pid_843093': 13.768261, 'pid_951449': 13.757778, 'pid_368438': 13.729874, 'pid_691552': 13.714382, 'pid_961240': 13.695498, 'pid_809174': 13.668004, 'pid_766998': 13.6449585, 'pid_342931': 13.616152, 'pid_352780': 13.599145, 'pid_615772': 13.599145, 'pid_929181': 13.599145, 'pid_428704': 13.571238, 'pid_242925': 13.550793, 'pid_281149': 13.530414, 'pid_460801': 13.516865, 'pid_251634': 13.5033455, 'pid_340721': 13.5033455, 'pid_122026': 13.489855, 'pid_382065': 13.48312, 'pid_581988': 13.48312, 'pid_647893': 13.473402, 'pid_504019': 13.449558, 'pid_838227': 13.442867, 'pid_843910': 13.442867, 'pid_916844': 13.396233, 'pid_654469': 13.356537, 'pid_268604': 13.330215, 'pid_671934': 13.304134, 'pid_172314': 13.290941, 'pid_216208': 13.283271, 'pid_232243': 13.277905, 'pid_279610': 13.277905, 'pid_918234': 13.179998, 'pid_752429': 13.15275, 'pid_368557': 13.14905, 'pid_755531': 13.14905, 'pid_42470': 13.139172, 'pid_565309': 13.018305, 'pid_415329': 12.860809, 'pid_564713': 12.809215, 'pid_722980': 12.770719, 'pid_131692': 12.753509, 'pid_381746': 12.753509, 'pid_457721': 12.753509, 'pid_532669': 12.753509, 'pid_331032': 12.744921, 'pid_596733': 12.710686, 'pid_677902': 12.693636, 'pid_914932': 12.693636}, 'qid_5112': {'pid_261953': 19.395868, 'pid_938823': 18.354061, 'pid_984090': 18.321678, 'pid_875699': 17.356281, 'pid_372807': 17.003242, 'pid_948296': 16.991924, 'pid_218545': 16.958055, 'pid_539002': 16.93555, 'pid_804211': 16.913105, 'pid_899992': 16.901905, 'pid_462108': 16.846128, 'pid_81627': 16.812838, 'pid_84720': 16.659206, 'pid_638815': 16.487028, 'pid_209110': 15.754314, 'pid_994630': 15.524338, 'pid_379537': 15.2277565, 'pid_991768': 15.199448, 'pid_978936': 15.112801, 'pid_551586': 15.054843, 'pid_785967': 15.0158615, 'pid_622994': 14.983909, 'pid_842785': 14.972247, 'pid_519334': 14.966582, 'pid_209297': 14.943312, 'pid_68152': 14.93014, 'pid_206905': 14.895332, 'pid_939004': 14.894125, 'pid_815351': 14.884354, 'pid_202425': 14.84599, 'pid_376202': 14.831845, 'pid_159136': 14.817326, 'pid_688081': 14.8134, 'pid_744911': 14.80749, 'pid_274376': 14.786119, 'pid_311442': 14.774424, 'pid_301609': 14.742789, 'pid_964385': 14.737565, 'pid_658028': 14.731262, 'pid_478048': 14.719401, 'pid_254119': 14.708649, 'pid_530447': 14.702238, 'pid_135808': 14.693138, 'pid_832152': 14.690369, 'pid_710195': 14.662742, 'pid_164409': 14.611227, 'pid_470374': 14.597551, 'pid_700246': 14.570278, 'pid_498016': 14.548407, 'pid_159003': 14.543108, 'pid_554555': 14.543108, 'pid_655818': 14.543108, 'pid_456356': 14.540808, 'pid_678265': 14.537011, 'pid_230717': 14.529562, 'pid_808318': 14.529562, 'pid_609331': 14.529424, 'pid_403749': 14.525632, 'pid_853887': 14.521843, 'pid_331499': 14.518056, 'pid_597972': 14.516041, 'pid_214796': 14.514272, 'pid_830363': 14.5104885, 'pid_606037': 14.495376, 'pid_110416': 14.489077, 'pid_280405': 14.481289, 'pid_650383': 14.480295, 'pid_820776': 14.476891, 'pid_566929': 14.465244, 'pid_693219': 14.457731, 'pid_554133': 14.450226, 'pid_479785': 14.44882, 'pid_253141': 14.442729, 'pid_437054': 14.442729, 'pid_499116': 14.442729, 'pid_615872': 14.442729, 'pid_704857': 14.435239, 'pid_482239': 14.420282, 'pid_632638': 14.420282, 'pid_78086': 14.405357, 'pid_337014': 14.405357, 'pid_513050': 14.390463, 'pid_557795': 14.390463, 'pid_396334': 14.375599, 'pid_448462': 14.365322, 'pid_907432': 14.360766, 'pid_364860': 14.345964, 'pid_73158': 14.31711, 'pid_632271': 14.31711, 'pid_114832': 14.31645, 'pid_406382': 14.31645, 'pid_475588': 14.31645, 'pid_175343': 14.287059, 'pid_337943': 14.287059, 'pid_354363': 14.287059, 'pid_485546': 14.287059, 'pid_611696': 14.287059, 'pid_388073': 14.268004, 'pid_435473': 14.257787, 'pid_653356': 14.257787}, 'qid_5113': {'pid_994299': 11.943237, 'pid_929649': 11.830586, 'pid_543404': 11.670192, 'pid_336062': 11.65624, 'pid_55105': 11.628438, 'pid_352001': 11.468999, 'pid_486613': 11.468999, 'pid_991258': 11.468999, 'pid_676152': 11.463007, 'pid_955598': 11.439098, 'pid_852934': 11.424206, 'pid_607168': 11.394538, 'pid_857453': 11.341522, 'pid_779278': 11.318117, 'pid_888673': 11.260026, 'pid_969401': 11.003322, 'pid_687551': 10.978542, 'pid_915341': 10.978542, 'pid_852970': 10.974423, 'pid_114149': 10.970308, 'pid_17873': 10.925237, 'pid_592710': 10.921157, 'pid_998043': 10.921157, 'pid_243211': 10.896747, 'pid_593257': 10.888634, 'pid_190768': 10.880533, 'pid_575274': 10.880533, 'pid_839408': 10.880533, 'pid_48636': 10.864368, 'pid_198085': 10.840211, 'pid_438279': 10.824165, 'pid_415909': 10.604416, 'pid_521269': 9.861455, 'pid_199875': 9.854811, 'pid_887100': 9.808546, 'pid_93883': 9.762715, 'pid_660871': 9.756203, 'pid_173411': 9.743204, 'pid_628927': 9.743204, 'pid_320653': 9.723771, 'pid_104463': 9.710858, 'pid_18021': 9.69798, 'pid_94432': 9.678726, 'pid_910955': 9.672325, 'pid_65029': 9.659549, 'pid_449937': 9.659549, 'pid_48984': 9.646807, 'pid_381525': 9.621422, 'pid_491088': 9.59617, 'pid_631334': 9.59617, 'pid_54413': 9.571051, 'pid_170154': 9.55854, 'pid_578350': 9.496476, 'pid_506959': 9.471875, 'pid_780652': 9.471875, 'pid_301248': 9.447401, 'pid_415734': 9.423054, 'pid_92469': 9.374734, 'pid_518065': 9.303175, 'pid_438338': 9.256073, 'pid_209725': 8.983183, 'pid_823370': 8.810023, 'pid_1': 1.0, 'pid_2': 1.0, 'pid_3': 1.0, 'pid_4': 1.0, 'pid_5': 1.0, 'pid_6': 1.0, 'pid_7': 1.0, 'pid_8': 1.0, 'pid_9': 1.0, 'pid_10': 1.0, 'pid_11': 1.0, 'pid_12': 1.0, 'pid_13': 1.0, 'pid_14': 1.0, 'pid_15': 1.0, 'pid_16': 1.0, 'pid_17': 1.0, 'pid_18': 1.0, 'pid_19': 1.0, 'pid_20': 1.0, 'pid_21': 1.0, 'pid_22': 1.0, 'pid_23': 1.0, 'pid_24': 1.0, 'pid_25': 1.0, 'pid_26': 1.0, 'pid_27': 1.0, 'pid_28': 1.0, 'pid_29': 1.0, 'pid_30': 1.0, 'pid_31': 1.0, 'pid_32': 1.0, 'pid_33': 1.0, 'pid_34': 1.0, 'pid_35': 1.0, 'pid_36': 1.0, 'pid_37': 1.0, 'pid_38': 1.0}, 'qid_5114': {'pid_490258': 27.70906, 'pid_780886': 27.676756, 'pid_336581': 27.519878, 'pid_386408': 26.83888, 'pid_968190': 26.765945, 'pid_889917': 26.286636, 'pid_566293': 26.159292, 'pid_71281': 25.243721, 'pid_481163': 24.43887, 'pid_944041': 24.353703, 'pid_514740': 24.340738, 'pid_504147': 24.196053, 'pid_535672': 24.059708, 'pid_777170': 23.840319, 'pid_314994': 23.71379, 'pid_514783': 23.709133, 'pid_146584': 23.695744, 'pid_677233': 23.554047, 'pid_366695': 23.344273, 'pid_11762': 23.235548, 'pid_316504': 23.235548, 'pid_622150': 23.225128, 'pid_682310': 23.15874, 'pid_34280': 23.1316, 'pid_377554': 23.097427, 'pid_838515': 23.034248, 'pid_17381': 23.006638, 'pid_975906': 22.948444, 'pid_263984': 22.779953, 'pid_750718': 22.30725, 'pid_780348': 22.257648, 'pid_35003': 21.874683, 'pid_605518': 21.842365, 'pid_904606': 21.615871, 'pid_943602': 21.467117, 'pid_714024': 21.430687, 'pid_615765': 21.299623, 'pid_786084': 21.100616, 'pid_997329': 20.918287, 'pid_251868': 20.879353, 'pid_507918': 20.717896, 'pid_364513': 20.639952, 'pid_467124': 20.58517, 'pid_172372': 20.573359, 'pid_132353': 20.552155, 'pid_383803': 20.49, 'pid_329520': 20.35556, 'pid_328738': 20.333496, 'pid_615756': 20.25681, 'pid_524495': 19.5294, 'pid_749659': 19.47329, 'pid_405878': 19.349758, 'pid_377604': 19.219627, 'pid_984263': 19.20728, 'pid_990902': 19.10574, 'pid_596016': 18.9204, 'pid_216531': 18.894669, 'pid_273741': 18.856709, 'pid_817300': 18.803097, 'pid_406203': 18.744331, 'pid_534233': 18.725554, 'pid_243867': 18.714214, 'pid_963122': 18.684761, 'pid_751031': 18.593168, 'pid_538610': 18.46933, 'pid_792205': 18.454752, 'pid_741575': 18.357016, 'pid_941721': 18.351158, 'pid_561296': 17.994907, 'pid_300014': 17.988163, 'pid_657988': 17.974686, 'pid_856236': 17.974686, 'pid_373183': 17.94773, 'pid_523043': 17.934372, 'pid_422802': 17.914286, 'pid_80323': 17.860937, 'pid_89755': 17.781507, 'pid_243809': 17.781507, 'pid_227435': 17.733398, 'pid_801957': 17.728947, 'pid_783851': 17.676693, 'pid_529595': 17.647387, 'pid_920588': 17.635567, 'pid_19851': 17.628672, 'pid_179314': 17.627674, 'pid_420713': 17.535841, 'pid_984536': 17.521555, 'pid_459253': 17.512985, 'pid_566193': 17.500422, 'pid_697745': 17.446636, 'pid_949523': 17.432137, 'pid_642993': 17.395449, 'pid_932863': 17.27013, 'pid_524151': 17.191864, 'pid_892233': 17.175175, 'pid_373892': 17.15382, 'pid_594281': 17.131124, 'pid_855951': 17.072895, 'pid_951331': 17.067488, 'pid_397329': 17.064339}, 'qid_5115': {'pid_836831': 39.61576, 'pid_653499': 38.950054, 'pid_618196': 38.69861, 'pid_318504': 38.685226, 'pid_389933': 38.685226, 'pid_305184': 38.6318, 'pid_401247': 38.54088, 'pid_761388': 38.42697, 'pid_547583': 38.212906, 'pid_16997': 37.81211, 'pid_238440': 37.79661, 'pid_268495': 36.265285, 'pid_710479': 36.16481, 'pid_428679': 36.137096, 'pid_335396': 35.99584, 'pid_736615': 35.7278, 'pid_421387': 35.629135, 'pid_672311': 35.541656, 'pid_836516': 35.541656, 'pid_201502': 35.051247, 'pid_719418': 34.662857, 'pid_171552': 34.616646, 'pid_144331': 34.60742, 'pid_901088': 34.07551, 'pid_804713': 33.34195, 'pid_532773': 33.204502, 'pid_683307': 33.204502, 'pid_950082': 33.192062, 'pid_564817': 33.057884, 'pid_577294': 31.877975, 'pid_505949': 24.645845, 'pid_114463': 24.506704, 'pid_876749': 24.307259, 'pid_13716': 24.131872, 'pid_216813': 24.045834, 'pid_294691': 22.532444, 'pid_52442': 22.378817, 'pid_27743': 21.260159, 'pid_623748': 20.996925, 'pid_253055': 20.909636, 'pid_854422': 20.823069, 'pid_977226': 20.758612, 'pid_495052': 20.715862, 'pid_387953': 20.609753, 'pid_521224': 20.359474, 'pid_124176': 20.288286, 'pid_883513': 20.212114, 'pid_68763': 20.181244, 'pid_659174': 20.141706, 'pid_164136': 20.135796, 'pid_84995': 20.105612, 'pid_71344': 20.09808, 'pid_534183': 20.075518, 'pid_166794': 20.065237, 'pid_145450': 20.05563, 'pid_171411': 19.970894, 'pid_227064': 19.970205, 'pid_945998': 19.952532, 'pid_17256': 19.947931, 'pid_383606': 19.947931, 'pid_95460': 19.941202, 'pid_203536': 19.941202, 'pid_449750': 19.911598, 'pid_987530': 19.893248, 'pid_156250': 19.852654, 'pid_692478': 19.833813, 'pid_761438': 19.827892, 'pid_664394': 19.794056, 'pid_519037': 19.764885, 'pid_850597': 19.757671, 'pid_835919': 19.7235, 'pid_812013': 19.712574, 'pid_38944': 19.67789, 'pid_443005': 19.67789, 'pid_497616': 19.659842, 'pid_62821': 19.65164, 'pid_615487': 19.62032, 'pid_504880': 19.506182, 'pid_673008': 19.471443, 'pid_456206': 19.449608, 'pid_45833': 19.434202, 'pid_350487': 19.413097, 'pid_857067': 19.413097, 'pid_250357': 19.392038, 'pid_672657': 19.358978, 'pid_854273': 19.344616, 'pid_304898': 19.2453, 'pid_653240': 19.179935, 'pid_292951': 19.13734, 'pid_247677': 19.11813, 'pid_868804': 19.116884, 'pid_597530': 19.062836, 'pid_35281': 19.054222, 'pid_876843': 19.043427, 'pid_972175': 19.033594, 'pid_268334': 19.02826, 'pid_281863': 19.019945, 'pid_895254': 18.982334, 'pid_919241': 18.971466, 'pid_333866': 18.954712}, 'qid_5116': {'pid_428677': 31.301506, 'pid_37091': 30.874655, 'pid_381971': 30.823313, 'pid_197004': 30.786566, 'pid_120994': 30.311085, 'pid_468565': 30.263395, 'pid_439310': 30.247934, 'pid_349263': 30.193848, 'pid_789428': 29.304783, 'pid_337601': 29.27116, 'pid_959100': 29.192257, 'pid_48516': 29.118828, 'pid_184952': 29.07864, 'pid_408428': 28.475021, 'pid_752096': 28.45291, 'pid_124211': 28.166248, 'pid_693288': 28.12611, 'pid_118915': 28.098106, 'pid_529172': 28.05234, 'pid_580257': 27.921972, 'pid_577570': 27.072092, 'pid_497225': 26.79414, 'pid_727516': 26.787035, 'pid_842005': 26.769312, 'pid_274336': 26.40027, 'pid_410442': 26.348, 'pid_824965': 26.244528, 'pid_170805': 26.243528, 'pid_562970': 26.004025, 'pid_440985': 25.994223, 'pid_134260': 25.943663, 'pid_215546': 25.907726, 'pid_517018': 25.86872, 'pid_385825': 25.785652, 'pid_154688': 25.639557, 'pid_813305': 25.60217, 'pid_520743': 25.55249, 'pid_266429': 25.55228, 'pid_862480': 25.54505, 'pid_964146': 25.520706, 'pid_342907': 25.512806, 'pid_917': 25.50093, 'pid_133970': 25.498707, 'pid_976008': 25.491096, 'pid_719498': 25.449848, 'pid_646392': 25.423063, 'pid_832828': 25.414219, 'pid_56117': 25.355537, 'pid_469994': 25.348022, 'pid_540570': 25.34695, 'pid_383185': 25.337954, 'pid_629330': 25.252659, 'pid_282353': 25.221893, 'pid_957316': 25.220013, 'pid_428728': 25.14238, 'pid_385184': 25.08679, 'pid_507310': 25.082018, 'pid_757954': 25.038631, 'pid_510884': 25.009993, 'pid_319975': 24.847858, 'pid_76203': 24.832546, 'pid_407498': 24.832546, 'pid_320413': 24.69881, 'pid_731238': 24.593794, 'pid_320693': 24.589197, 'pid_944033': 24.539356, 'pid_74599': 24.483482, 'pid_821153': 24.337414, 'pid_83463': 24.306503, 'pid_360039': 24.277063, 'pid_303052': 24.235361, 'pid_492063': 24.225225, 'pid_374343': 24.102598, 'pid_912467': 24.000074, 'pid_657458': 23.963762, 'pid_67202': 23.91846, 'pid_398370': 23.902103, 'pid_589288': 23.89072, 'pid_140991': 23.877905, 'pid_117716': 23.819933, 'pid_986980': 23.807335, 'pid_932949': 23.712029, 'pid_771301': 23.678728, 'pid_888706': 23.656797, 'pid_465246': 23.633759, 'pid_767315': 23.632044, 'pid_853260': 23.539131, 'pid_104532': 23.51372, 'pid_14346': 23.506218, 'pid_47481': 23.482536, 'pid_493731': 23.475555, 'pid_297143': 23.443537, 'pid_929043': 23.436838, 'pid_317402': 23.402145, 'pid_290382': 23.39766, 'pid_592185': 23.390251, 'pid_577558': 23.36671, 'pid_59834': 23.339401, 'pid_667607': 23.321056, 'pid_643024': 23.267616}, 'qid_5117': {'pid_62454': 24.323107, 'pid_654829': 22.887316, 'pid_972698': 22.82285, 'pid_178386': 22.499626, 'pid_413335': 22.015665, 'pid_560942': 21.689058, 'pid_830743': 21.639538, 'pid_612594': 21.54001, 'pid_267785': 21.3697, 'pid_966297': 21.156456, 'pid_30748': 21.152863, 'pid_773852': 21.148838, 'pid_947804': 21.12989, 'pid_172642': 20.969955, 'pid_176214': 20.740654, 'pid_721935': 20.512356, 'pid_764733': 20.507774, 'pid_824742': 20.482014, 'pid_39743': 20.417488, 'pid_488589': 20.417488, 'pid_929740': 20.385338, 'pid_764388': 20.383312, 'pid_663685': 20.293798, 'pid_340541': 20.249355, 'pid_609474': 20.11726, 'pid_867936': 19.926273, 'pid_917104': 19.716778, 'pid_664547': 19.597095, 'pid_407707': 19.582664, 'pid_107262': 19.17355, 'pid_798311': 19.054033, 'pid_748986': 18.969248, 'pid_134337': 18.82284, 'pid_275847': 18.74315, 'pid_263957': 18.186216, 'pid_874003': 18.142612, 'pid_394247': 18.080978, 'pid_936765': 18.064981, 'pid_798001': 18.042189, 'pid_805940': 18.001276, 'pid_956159': 17.94941, 'pid_506021': 17.858234, 'pid_39136': 17.823837, 'pid_944371': 17.71992, 'pid_122447': 17.570827, 'pid_575058': 17.196747, 'pid_30777': 17.146507, 'pid_92687': 17.11184, 'pid_834352': 17.047174, 'pid_418139': 17.03061, 'pid_682028': 16.989212, 'pid_614170': 16.98732, 'pid_999354': 16.97196, 'pid_473359': 16.93781, 'pid_772535': 16.84949, 'pid_433215': 16.782276, 'pid_188620': 16.761635, 'pid_398299': 16.744816, 'pid_595048': 16.717321, 'pid_81981': 16.663492, 'pid_214454': 16.630257, 'pid_450273': 16.601883, 'pid_394119': 16.59245, 'pid_165973': 16.583027, 'pid_192939': 16.576866, 'pid_908632': 16.536089, 'pid_500741': 16.518696, 'pid_249037': 16.488998, 'pid_773057': 16.454512, 'pid_163609': 16.444098, 'pid_193434': 16.429945, 'pid_760590': 16.412937, 'pid_495795': 16.314762, 'pid_802156': 16.270643, 'pid_857790': 16.269123, 'pid_53540': 16.248526, 'pid_805796': 16.245817, 'pid_526166': 16.177544, 'pid_50287': 16.169277, 'pid_323518': 16.149614, 'pid_503619': 15.970865, 'pid_799416': 15.914162, 'pid_502609': 15.899613, 'pid_55533': 15.897159, 'pid_606543': 15.888813, 'pid_86522': 15.888153, 'pid_397565': 15.856867, 'pid_86243': 15.848719, 'pid_133785': 15.839055, 'pid_371894': 15.839055, 'pid_204275': 15.771114, 'pid_965739': 15.767725, 'pid_472884': 15.764569, 'pid_515000': 15.758031, 'pid_641849': 15.634159, 'pid_522572': 15.6312475, 'pid_679211': 15.628741, 'pid_701643': 15.628741, 'pid_586501': 15.596663, 'pid_168814': 15.590494}, 'qid_5118': {'pid_507991': 26.075405, 'pid_505317': 25.993496, 'pid_277317': 25.295773, 'pid_383210': 25.07411, 'pid_411644': 24.907755, 'pid_354728': 24.722113, 'pid_236038': 24.384195, 'pid_577228': 24.026838, 'pid_135920': 23.522121, 'pid_638265': 21.531378, 'pid_822182': 21.375689, 'pid_734391': 21.209427, 'pid_763265': 21.064941, 'pid_823444': 20.803211, 'pid_615778': 20.711521, 'pid_90196': 20.690067, 'pid_191152': 20.653854, 'pid_105225': 20.58716, 'pid_446530': 20.544893, 'pid_723063': 20.459099, 'pid_534767': 20.405312, 'pid_138544': 20.37722, 'pid_387809': 20.369366, 'pid_585942': 20.336618, 'pid_376089': 20.310818, 'pid_874932': 20.300234, 'pid_284791': 20.298506, 'pid_402218': 20.27996, 'pid_101877': 20.244146, 'pid_309212': 20.213224, 'pid_906846': 20.201603, 'pid_227367': 20.198626, 'pid_454641': 20.182985, 'pid_969527': 20.167965, 'pid_303338': 20.167933, 'pid_434860': 20.162016, 'pid_614594': 20.13538, 'pid_352809': 20.121962, 'pid_420257': 20.121136, 'pid_511706': 20.082848, 'pid_500432': 20.080862, 'pid_341841': 20.074657, 'pid_673249': 20.073002, 'pid_218333': 20.050934, 'pid_680427': 20.043858, 'pid_804434': 20.040634, 'pid_366988': 20.025059, 'pid_928034': 20.01376, 'pid_899762': 20.011583, 'pid_740535': 20.010387, 'pid_862608': 19.997583, 'pid_614936': 19.957796, 'pid_173082': 19.935287, 'pid_964184': 19.877222, 'pid_332757': 19.851608, 'pid_610426': 19.846458, 'pid_498630': 19.837353, 'pid_129747': 19.785168, 'pid_610612': 19.779112, 'pid_914284': 19.72123, 'pid_165424': 19.701029, 'pid_305609': 19.694956, 'pid_71830': 19.678555, 'pid_892903': 19.642702, 'pid_47955': 19.624737, 'pid_347569': 19.59629, 'pid_398848': 19.557549, 'pid_231106': 19.531162, 'pid_616324': 19.52674, 'pid_918781': 19.526617, 'pid_836380': 19.45316, 'pid_709392': 19.446148, 'pid_576934': 19.423658, 'pid_243151': 19.419622, 'pid_707723': 19.414452, 'pid_662890': 19.412693, 'pid_287681': 19.408237, 'pid_249185': 19.390827, 'pid_192853': 19.369972, 'pid_787386': 19.347443, 'pid_327415': 19.341301, 'pid_291109': 19.302635, 'pid_165089': 19.30013, 'pid_720338': 19.28922, 'pid_151987': 19.28539, 'pid_159360': 19.280514, 'pid_308308': 19.277443, 'pid_471472': 19.270977, 'pid_377516': 19.268194, 'pid_513555': 19.250599, 'pid_327915': 19.244217, 'pid_187645': 19.238636, 'pid_718677': 19.228441, 'pid_827097': 19.224974, 'pid_34594': 19.209145, 'pid_837249': 19.187378, 'pid_199276': 19.135288, 'pid_106260': 19.134686, 'pid_307070': 19.131605, 'pid_22880': 19.130325}, 'qid_5119': {'pid_805336': 20.642952, 'pid_256417': 20.555569, 'pid_246564': 20.23365, 'pid_79692': 19.987669, 'pid_110936': 19.90753, 'pid_241337': 19.899378, 'pid_319429': 19.893923, 'pid_562704': 19.840733, 'pid_409591': 19.766823, 'pid_541942': 19.556202, 'pid_222877': 19.51108, 'pid_638746': 19.488304, 'pid_468125': 19.472124, 'pid_326281': 19.423466, 'pid_780983': 19.412971, 'pid_531791': 19.280434, 'pid_114695': 19.015362, 'pid_699526': 19.01075, 'pid_738812': 18.989567, 'pid_869127': 18.925512, 'pid_627158': 18.881506, 'pid_106926': 18.82368, 'pid_485872': 18.661152, 'pid_594928': 18.657011, 'pid_735945': 18.469074, 'pid_901595': 18.3764, 'pid_141084': 18.284708, 'pid_221781': 18.17529, 'pid_976989': 18.16395, 'pid_989878': 18.044018, 'pid_319941': 17.98333, 'pid_503768': 17.832302, 'pid_958865': 17.81162, 'pid_47330': 17.692995, 'pid_979136': 17.650764, 'pid_488678': 17.316666, 'pid_817786': 17.271574, 'pid_868984': 17.226715, 'pid_832547': 16.876064, 'pid_905112': 16.876064, 'pid_527728': 16.69808, 'pid_816727': 16.641916, 'pid_753525': 16.63004, 'pid_701214': 16.515364, 'pid_878753': 16.409927, 'pid_79374': 16.37714, 'pid_472835': 16.33363, 'pid_895910': 16.243164, 'pid_367145': 16.240107, 'pid_862627': 16.213947, 'pid_81440': 16.174612, 'pid_550576': 16.159264, 'pid_154899': 16.138369, 'pid_653668': 16.135422, 'pid_49748': 16.039766, 'pid_622763': 16.0314, 'pid_210713': 16.031372, 'pid_685729': 15.9730835, 'pid_868895': 15.916435, 'pid_835916': 15.912085, 'pid_390976': 15.906954, 'pid_96193': 15.828716, 'pid_740082': 15.782131, 'pid_175425': 15.754753, 'pid_906557': 15.667334, 'pid_768159': 15.600031, 'pid_702898': 15.580911, 'pid_22478': 15.571371, 'pid_71860': 15.571371, 'pid_539924': 15.571371, 'pid_661891': 15.5581, 'pid_940011': 15.486032, 'pid_551633': 15.45216, 'pid_421487': 15.451532, 'pid_930759': 15.406413, 'pid_173341': 15.387715, 'pid_893879': 15.361803, 'pid_692891': 15.324424, 'pid_533090': 15.310354, 'pid_257400': 15.301538, 'pid_723772': 15.301538, 'pid_847997': 15.290121, 'pid_479092': 15.27872, 'pid_896066': 15.27872, 'pid_478442': 15.24462, 'pid_141766': 15.233288, 'pid_38367': 15.188125, 'pid_172560': 15.165644, 'pid_486575': 15.099469, 'pid_750268': 15.032142, 'pid_685835': 15.031094, 'pid_673524': 14.963568, 'pid_317466': 14.924112, 'pid_958850': 14.898572, 'pid_78235': 14.8916, 'pid_883970': 14.852793, 'pid_144611': 14.824114, 'pid_43575': 14.794847, 'pid_506236': 14.790181, 'pid_692881': 14.785881}, 'qid_5120': {'pid_815650': 37.732018, 'pid_858666': 33.2688, 'pid_289068': 32.371788, 'pid_944043': 31.911562, 'pid_101629': 31.433374, 'pid_808375': 31.409887, 'pid_856228': 29.150389, 'pid_246882': 28.9345, 'pid_764522': 28.537384, 'pid_222416': 28.425917, 'pid_173532': 26.056728, 'pid_638225': 26.04039, 'pid_389690': 25.97609, 'pid_644185': 25.90652, 'pid_267889': 25.902878, 'pid_672020': 25.851587, 'pid_625784': 25.645365, 'pid_818840': 25.3899, 'pid_766840': 25.353838, 'pid_73910': 25.009195, 'pid_574001': 24.986563, 'pid_896469': 24.63067, 'pid_278601': 24.197107, 'pid_583586': 23.919743, 'pid_159144': 23.837921, 'pid_288150': 23.834963, 'pid_6262': 23.70161, 'pid_429317': 23.696724, 'pid_80584': 23.414028, 'pid_495902': 23.414028, 'pid_866373': 23.308613, 'pid_270310': 23.269398, 'pid_982221': 22.812166, 'pid_146667': 22.781914, 'pid_511311': 22.766817, 'pid_324523': 22.736683, 'pid_114441': 22.366642, 'pid_537913': 22.366642, 'pid_65941': 22.308552, 'pid_804114': 22.236813, 'pid_650439': 21.457788, 'pid_893166': 21.3122, 'pid_327711': 20.068611, 'pid_211894': 20.04916, 'pid_244878': 20.04346, 'pid_762850': 19.991407, 'pid_65476': 19.84905, 'pid_821615': 19.813625, 'pid_98561': 19.68255, 'pid_825109': 19.655813, 'pid_205980': 19.642963, 'pid_36551': 19.623291, 'pid_411938': 19.611507, 'pid_862305': 19.595818, 'pid_339080': 19.584068, 'pid_681903': 19.576242, 'pid_267044': 19.560608, 'pid_618764': 19.560608, 'pid_559215': 19.537207, 'pid_767809': 19.529419, 'pid_467050': 19.286663, 'pid_620099': 19.283466, 'pid_788428': 19.26559, 'pid_748253': 19.228249, 'pid_33983': 19.218094, 'pid_258103': 19.218094, 'pid_95523': 19.103186, 'pid_968722': 19.082687, 'pid_997126': 18.809853, 'pid_155551': 18.774786, 'pid_947269': 18.766855, 'pid_961875': 18.766855, 'pid_237086': 18.604374, 'pid_867107': 18.600452, 'pid_578402': 18.488777, 'pid_192847': 18.442013, 'pid_287252': 18.407368, 'pid_806368': 18.407368, 'pid_704244': 18.400452, 'pid_690143': 18.379742, 'pid_262692': 18.372849, 'pid_575483': 18.311043, 'pid_9105': 18.290533, 'pid_785092': 18.290533, 'pid_119954': 18.276884, 'pid_103963': 18.249651, 'pid_844510': 18.222496, 'pid_886385': 18.222496, 'pid_31361': 18.195423, 'pid_675126': 17.76006, 'pid_328792': 17.678291, 'pid_133570': 17.63302, 'pid_282494': 17.593864, 'pid_429355': 17.56935, 'pid_330733': 17.358303, 'pid_571744': 17.289806, 'pid_552709': 17.087214, 'pid_190109': 17.016464, 'pid_962911': 16.482426, 'pid_434659': 16.48024}, 'qid_5121': {'pid_487814': 24.079126, 'pid_84108': 24.014532, 'pid_189694': 23.719303, 'pid_787868': 23.5607, 'pid_94661': 22.6717, 'pid_689249': 22.49473, 'pid_45438': 22.1032, 'pid_218680': 21.941055, 'pid_789535': 21.732044, 'pid_978740': 21.028217, 'pid_47226': 20.559471, 'pid_225127': 20.442913, 'pid_240228': 20.11562, 'pid_483780': 20.09106, 'pid_206315': 20.064344, 'pid_674618': 19.942257, 'pid_521258': 19.621847, 'pid_75909': 19.488022, 'pid_295963': 19.452402, 'pid_644986': 19.307322, 'pid_729460': 19.148687, 'pid_735187': 19.111095, 'pid_901142': 19.082096, 'pid_314539': 19.060955, 'pid_275218': 19.006483, 'pid_873675': 18.899683, 'pid_800184': 18.747833, 'pid_788685': 18.589758, 'pid_121781': 18.55587, 'pid_701238': 18.54015, 'pid_937374': 18.492739, 'pid_419989': 18.484716, 'pid_615134': 18.356743, 'pid_396893': 18.239643, 'pid_382889': 18.176659, 'pid_500882': 18.168951, 'pid_839774': 18.157797, 'pid_480678': 18.101217, 'pid_941342': 18.083645, 'pid_328479': 18.071375, 'pid_219623': 18.026821, 'pid_616993': 17.823023, 'pid_675058': 17.814894, 'pid_562139': 17.80677, 'pid_931693': 17.732635, 'pid_62146': 17.72468, 'pid_561377': 17.671688, 'pid_378467': 17.635975, 'pid_59807': 17.633232, 'pid_146979': 17.625946, 'pid_931578': 17.568588, 'pid_983295': 17.567368, 'pid_548991': 17.527672, 'pid_730683': 17.521576, 'pid_927726': 17.50206, 'pid_791885': 17.47271, 'pid_801080': 17.47161, 'pid_467444': 17.467653, 'pid_709120': 17.458313, 'pid_807997': 17.402052, 'pid_795848': 17.345615, 'pid_653567': 17.310165, 'pid_598797': 17.293575, 'pid_111959': 17.272991, 'pid_899528': 17.261845, 'pid_869810': 17.260775, 'pid_120406': 17.193943, 'pid_707711': 17.16296, 'pid_932831': 17.140526, 'pid_951718': 17.131863, 'pid_85431': 17.10174, 'pid_138132': 17.097975, 'pid_56321': 17.066256, 'pid_130986': 17.061802, 'pid_877863': 17.002495, 'pid_457968': 16.940062, 'pid_929009': 16.920597, 'pid_40715': 16.894917, 'pid_372335': 16.89132, 'pid_167739': 16.882408, 'pid_957797': 16.877554, 'pid_548232': 16.826815, 'pid_617934': 16.780916, 'pid_492651': 16.745642, 'pid_460517': 16.546028, 'pid_808850': 16.42697, 'pid_932104': 16.42486, 'pid_189480': 16.423508, 'pid_252233': 16.416077, 'pid_23130': 16.39212, 'pid_7974': 16.287767, 'pid_874643': 16.273619, 'pid_752880': 16.073555, 'pid_666527': 16.061312, 'pid_257427': 16.053947, 'pid_384454': 16.0121, 'pid_45870': 16.011024, 'pid_178902': 15.9789505, 'pid_425218': 15.950591, 'pid_93236': 15.925547}, 'qid_5122': {'pid_716765': 23.655033, 'pid_506936': 21.91502, 'pid_153771': 21.487183, 'pid_679538': 21.220364, 'pid_11184': 21.137478, 'pid_514425': 21.106447, 'pid_113734': 18.650253, 'pid_916540': 17.181643, 'pid_515180': 17.155087, 'pid_577853': 17.054289, 'pid_33919': 17.053839, 'pid_859865': 17.021423, 'pid_65240': 16.957985, 'pid_376077': 16.86979, 'pid_941933': 16.86979, 'pid_114847': 16.86809, 'pid_458334': 16.861357, 'pid_605788': 16.861357, 'pid_822504': 16.86113, 'pid_909754': 16.85499, 'pid_858075': 16.755257, 'pid_598050': 16.743803, 'pid_573429': 16.74083, 'pid_781381': 16.69687, 'pid_56529': 16.660042, 'pid_364075': 16.539925, 'pid_610917': 16.536062, 'pid_29948': 16.425617, 'pid_247276': 16.42298, 'pid_741516': 16.4165, 'pid_278890': 16.3983, 'pid_913669': 16.393757, 'pid_149858': 16.352463, 'pid_751154': 16.285547, 'pid_403370': 16.284445, 'pid_577436': 16.256088, 'pid_494349': 16.24755, 'pid_533531': 16.236145, 'pid_816444': 16.232018, 'pid_566773': 16.220938, 'pid_808118': 16.157787, 'pid_553463': 16.143335, 'pid_343562': 16.141266, 'pid_465111': 16.125309, 'pid_137000': 16.045135, 'pid_762192': 16.025898, 'pid_780230': 16.004313, 'pid_620665': 15.9434805, 'pid_175205': 15.888281, 'pid_487160': 15.837884, 'pid_395691': 15.820092, 'pid_836538': 15.793021, 'pid_29530': 15.75882, 'pid_420682': 15.749318, 'pid_589639': 15.749318, 'pid_651606': 15.706602, 'pid_207741': 15.706194, 'pid_444354': 15.683556, 'pid_743250': 15.677808, 'pid_719851': 15.641182, 'pid_454478': 15.640511, 'pid_144897': 15.621107, 'pid_387359': 15.621107, 'pid_406795': 15.596584, 'pid_470876': 15.586617, 'pid_736023': 15.58436, 'pid_833169': 15.5782585, 'pid_580099': 15.559992, 'pid_737478': 15.547297, 'pid_749253': 15.505531, 'pid_633294': 15.493498, 'pid_213578': 15.411797, 'pid_313728': 15.398529, 'pid_333928': 15.398529, 'pid_842375': 15.398529, 'pid_306363': 15.391905, 'pid_790167': 15.391905, 'pid_146975': 15.385286, 'pid_230313': 15.385286, 'pid_274709': 15.385286, 'pid_942716': 15.378677, 'pid_636260': 15.372073, 'pid_598089': 15.365477, 'pid_547262': 15.358888, 'pid_572299': 15.358888, 'pid_157323': 15.352305, 'pid_310683': 15.339304, 'pid_901246': 15.33916, 'pid_792010': 15.332245, 'pid_676536': 15.325647, 'pid_332140': 15.254524, 'pid_658801': 15.254377, 'pid_779528': 15.246336, 'pid_887823': 15.241436, 'pid_979592': 15.228519, 'pid_43966': 15.152508, 'pid_756047': 15.1424265, 'pid_149840': 15.138842, 'pid_689952': 15.138842, 'pid_131706': 15.111286}, 'qid_5123': {'pid_446128': 20.865723, 'pid_186002': 20.62078, 'pid_365403': 20.594051, 'pid_38655': 20.540071, 'pid_99402': 20.511166, 'pid_504691': 20.487173, 'pid_319161': 20.475645, 'pid_613046': 20.347721, 'pid_66040': 20.236204, 'pid_243949': 20.222374, 'pid_348250': 20.139702, 'pid_606034': 20.131676, 'pid_568875': 20.092148, 'pid_894805': 20.078411, 'pid_284754': 20.078163, 'pid_29936': 20.048445, 'pid_556673': 20.048445, 'pid_65873': 19.98405, 'pid_40383': 19.980549, 'pid_59559': 19.920725, 'pid_680742': 19.89974, 'pid_570552': 19.879332, 'pid_3245': 19.85627, 'pid_822002': 19.854794, 'pid_731136': 19.831032, 'pid_792328': 19.783815, 'pid_670871': 19.767431, 'pid_586981': 19.723133, 'pid_14578': 19.7037, 'pid_28898': 19.674887, 'pid_90457': 19.647503, 'pid_585534': 19.351505, 'pid_183896': 19.320652, 'pid_726418': 19.317928, 'pid_330862': 19.302532, 'pid_932260': 19.28224, 'pid_134997': 19.264156, 'pid_33855': 19.25782, 'pid_304121': 19.142496, 'pid_202944': 19.08795, 'pid_715023': 19.060429, 'pid_54284': 19.032598, 'pid_59494': 18.900463, 'pid_734922': 18.83613, 'pid_449372': 18.53403, 'pid_428960': 18.448162, 'pid_970623': 18.39952, 'pid_49030': 17.95956, 'pid_912399': 17.773476, 'pid_739499': 17.737793, 'pid_12913': 17.315033, 'pid_868120': 17.177982, 'pid_432836': 17.132782, 'pid_465803': 17.10229, 'pid_440903': 17.095814, 'pid_388186': 17.08171, 'pid_422665': 17.080776, 'pid_959590': 17.072855, 'pid_816722': 17.06836, 'pid_670684': 17.064342, 'pid_781868': 17.061443, 'pid_623666': 17.059624, 'pid_226964': 17.054798, 'pid_918587': 17.053192, 'pid_835676': 17.051468, 'pid_517953': 17.051153, 'pid_874750': 17.049957, 'pid_280172': 17.035938, 'pid_273662': 17.034267, 'pid_521261': 17.03269, 'pid_216033': 17.028908, 'pid_462193': 17.021845, 'pid_877410': 17.020737, 'pid_981131': 17.00299, 'pid_672359': 17.001638, 'pid_203065': 17.001202, 'pid_415566': 16.998283, 'pid_189420': 16.997288, 'pid_710787': 16.99649, 'pid_660206': 16.99546, 'pid_857082': 16.991915, 'pid_673464': 16.985855, 'pid_241422': 16.977015, 'pid_705122': 16.965067, 'pid_903027': 16.954327, 'pid_336113': 16.948355, 'pid_467039': 16.94828, 'pid_508918': 16.940832, 'pid_594127': 16.940115, 'pid_703504': 16.936924, 'pid_489667': 16.93591, 'pid_817400': 16.934656, 'pid_103579': 16.933783, 'pid_665314': 16.933783, 'pid_475786': 16.93007, 'pid_204257': 16.925972, 'pid_869745': 16.9213, 'pid_207122': 16.91656, 'pid_232064': 16.915165, 'pid_178571': 16.912872}, 'qid_5124': {'pid_981763': 39.876293, 'pid_181771': 37.46613, 'pid_32286': 35.936142, 'pid_241821': 35.252125, 'pid_707082': 35.018528, 'pid_984606': 34.99534, 'pid_836564': 34.879852, 'pid_943287': 34.71944, 'pid_473595': 34.224766, 'pid_316509': 34.04836, 'pid_435136': 34.04836, 'pid_531797': 20.683636, 'pid_278081': 19.852327, 'pid_856358': 19.042133, 'pid_553200': 19.029396, 'pid_802226': 16.360815, 'pid_709940': 16.243132, 'pid_622784': 16.21941, 'pid_456480': 16.18592, 'pid_582613': 16.069832, 'pid_729205': 15.985591, 'pid_357603': 15.964668, 'pid_459492': 15.637209, 'pid_941718': 14.846548, 'pid_677526': 14.793152, 'pid_592017': 14.7634945, 'pid_1159': 14.761509, 'pid_951676': 14.716316, 'pid_59757': 14.617199, 'pid_647041': 14.540201, 'pid_624711': 14.428764, 'pid_784966': 14.388483, 'pid_115842': 14.355085, 'pid_294167': 14.31982, 'pid_311113': 14.132172, 'pid_925476': 14.123825, 'pid_171295': 14.115243, 'pid_107321': 14.090396, 'pid_69406': 14.035375, 'pid_702486': 13.987329, 'pid_291139': 13.976118, 'pid_707379': 13.96505, 'pid_689676': 13.92421, 'pid_587903': 13.876303, 'pid_66526': 13.82674, 'pid_239821': 13.826148, 'pid_368621': 13.795671, 'pid_268093': 13.757634, 'pid_325378': 13.719578, 'pid_848905': 13.694134, 'pid_439483': 13.66303, 'pid_965910': 13.657169, 'pid_352414': 13.650337, 'pid_727045': 13.59989, 'pid_69375': 13.586649, 'pid_948489': 13.570747, 'pid_804468': 13.565401, 'pid_348952': 13.44997, 'pid_568445': 13.344221, 'pid_207499': 13.336611, 'pid_423138': 13.3000145, 'pid_307141': 13.290743, 'pid_712941': 13.290743, 'pid_942499': 13.240677, 'pid_13811': 13.23012, 'pid_157617': 13.228047, 'pid_925231': 13.228047, 'pid_175351': 13.141342, 'pid_732865': 13.141342, 'pid_833912': 13.102634, 'pid_715': 13.098427, 'pid_537111': 13.046246, 'pid_10470': 13.003077, 'pid_137736': 12.995529, 'pid_541866': 12.995529, 'pid_27075': 12.994477, 'pid_628127': 12.885616, 'pid_320886': 12.758228, 'pid_555394': 12.758228, 'pid_723855': 12.666022, 'pid_541606': 12.623207, 'pid_25845': 12.505178, 'pid_823936': 12.483801, 'pid_111273': 12.467056, 'pid_190703': 12.401914, 'pid_132885': 12.293122, 'pid_875477': 12.284977, 'pid_116003': 12.1334305, 'pid_881755': 12.132227, 'pid_611552': 12.116369, 'pid_542244': 12.037697, 'pid_720819': 12.008027, 'pid_394735': 11.902944, 'pid_693956': 11.883377, 'pid_464756': 11.852986, 'pid_507617': 11.852986, 'pid_564983': 11.852986, 'pid_171137': 11.79267, 'pid_771827': 11.764841, 'pid_211202': 11.673859}, 'qid_5125': {'pid_594692': 31.046074, 'pid_858336': 29.687681, 'pid_218960': 27.000217, 'pid_592068': 26.629025, 'pid_171246': 26.480988, 'pid_711409': 25.99015, 'pid_691855': 25.721298, 'pid_622290': 25.616098, 'pid_359532': 25.355736, 'pid_465338': 25.304605, 'pid_957565': 24.97989, 'pid_573808': 24.72806, 'pid_120721': 24.552757, 'pid_349072': 24.392128, 'pid_676297': 24.2962, 'pid_811225': 23.43531, 'pid_419702': 23.169588, 'pid_586921': 22.673262, 'pid_838378': 22.631401, 'pid_348124': 22.313923, 'pid_825024': 21.99887, 'pid_334973': 21.84233, 'pid_228888': 21.459087, 'pid_885612': 21.36554, 'pid_756418': 20.818855, 'pid_968994': 20.794035, 'pid_380738': 20.78598, 'pid_614143': 20.767296, 'pid_527876': 20.69946, 'pid_985643': 20.671307, 'pid_740967': 20.652454, 'pid_19160': 20.574127, 'pid_949573': 20.534575, 'pid_75005': 20.522728, 'pid_461458': 20.500423, 'pid_816429': 20.416006, 'pid_819003': 20.365332, 'pid_374549': 20.357376, 'pid_337128': 20.347843, 'pid_75852': 20.316116, 'pid_152383': 20.21893, 'pid_801804': 20.20774, 'pid_799548': 20.166954, 'pid_742899': 20.155746, 'pid_779854': 20.132418, 'pid_172578': 20.110481, 'pid_75228': 20.097527, 'pid_246122': 20.060823, 'pid_366307': 20.043144, 'pid_566676': 20.02251, 'pid_18332': 19.99289, 'pid_2203': 19.978415, 'pid_678225': 19.967287, 'pid_977097': 19.960907, 'pid_847602': 19.933075, 'pid_369646': 19.871584, 'pid_30046': 19.86469, 'pid_769879': 19.853697, 'pid_635910': 19.849632, 'pid_289209': 19.832127, 'pid_838983': 19.831749, 'pid_997263': 19.82296, 'pid_402583': 19.821815, 'pid_999168': 19.803734, 'pid_9877': 19.784134, 'pid_608287': 19.767044, 'pid_395672': 19.755566, 'pid_637907': 19.706038, 'pid_675549': 19.695856, 'pid_198556': 19.687471, 'pid_37660': 19.657883, 'pid_43446': 19.585312, 'pid_153782': 19.546926, 'pid_565145': 19.521006, 'pid_3384': 19.475945, 'pid_471911': 19.475624, 'pid_788972': 19.465246, 'pid_572682': 19.461445, 'pid_876490': 19.461445, 'pid_804463': 19.459509, 'pid_623904': 19.445461, 'pid_590827': 19.415182, 'pid_581210': 19.410662, 'pid_586825': 19.397131, 'pid_686530': 19.373264, 'pid_505897': 19.294582, 'pid_263049': 19.275629, 'pid_398471': 19.233078, 'pid_830340': 19.212185, 'pid_602424': 19.211662, 'pid_852086': 19.194696, 'pid_338931': 19.174656, 'pid_291940': 19.159107, 'pid_701233': 19.146255, 'pid_172013': 19.110102, 'pid_582148': 19.089178, 'pid_584586': 19.06137, 'pid_628050': 19.047504, 'pid_487060': 19.040672, 'pid_404803': 19.01943}, 'qid_5126': {'pid_525515': 18.998127, 'pid_51660': 18.611788, 'pid_360129': 18.481981, 'pid_863779': 18.268915, 'pid_192635': 18.220028, 'pid_922194': 18.172626, 'pid_355285': 18.118103, 'pid_868718': 18.08263, 'pid_269329': 17.629375, 'pid_384660': 17.502724, 'pid_356700': 17.476675, 'pid_420777': 17.336868, 'pid_264712': 17.23436, 'pid_866518': 17.225033, 'pid_178341': 17.221046, 'pid_34165': 17.210732, 'pid_892364': 17.197119, 'pid_585794': 17.18248, 'pid_657536': 17.15081, 'pid_172134': 17.12627, 'pid_431234': 17.090727, 'pid_784015': 17.037819, 'pid_974721': 17.015018, 'pid_514737': 16.996628, 'pid_134814': 16.990122, 'pid_890680': 16.881853, 'pid_66519': 16.831856, 'pid_960723': 16.66415, 'pid_491163': 16.625195, 'pid_845700': 16.625195, 'pid_577536': 16.46606, 'pid_559778': 16.400333, 'pid_843270': 16.400333, 'pid_288864': 16.345959, 'pid_193636': 16.335127, 'pid_960191': 16.110933, 'pid_390982': 15.241514, 'pid_584206': 15.168463, 'pid_483477': 15.031694, 'pid_370427': 14.972986, 'pid_963386': 14.879713, 'pid_87662': 14.8373165, 'pid_693616': 14.81975, 'pid_894685': 14.784285, 'pid_230374': 14.770723, 'pid_710171': 14.735053, 'pid_15431': 14.661435, 'pid_187391': 14.658718, 'pid_922835': 14.619941, 'pid_672169': 14.598248, 'pid_370840': 14.370894, 'pid_768375': 14.333166, 'pid_893113': 14.327793, 'pid_576665': 14.226457, 'pid_292022': 14.216809, 'pid_903513': 14.16319, 'pid_778852': 14.159334, 'pid_219633': 14.068011, 'pid_646087': 14.06786, 'pid_362873': 14.067107, 'pid_412388': 14.056923, 'pid_558913': 14.02477, 'pid_862362': 14.001556, 'pid_355992': 13.998457, 'pid_63175': 13.990906, 'pid_137756': 13.987165, 'pid_414661': 13.98139, 'pid_422406': 13.98139, 'pid_272671': 13.979987, 'pid_362449': 13.975949, 'pid_612037': 13.947373, 'pid_182125': 13.906079, 'pid_20644': 13.899064, 'pid_637723': 13.886868, 'pid_150162': 13.871677, 'pid_917659': 13.868385, 'pid_866042': 13.840389, 'pid_391871': 13.84018, 'pid_574727': 13.83412, 'pid_459813': 13.827858, 'pid_574594': 13.819017, 'pid_173202': 13.802879, 'pid_843774': 13.802879, 'pid_89577': 13.796652, 'pid_261202': 13.778009, 'pid_789929': 13.747412, 'pid_775591': 13.74707, 'pid_959591': 13.697914, 'pid_86003': 13.696223, 'pid_542472': 13.661322, 'pid_294923': 13.637056, 'pid_982424': 13.567661, 'pid_445787': 13.540117, 'pid_838544': 13.532415, 'pid_89283': 13.52543, 'pid_255124': 13.519538, 'pid_297242': 13.518452, 'pid_410103': 13.518452, 'pid_456758': 13.512693, 'pid_538668': 13.511481}, 'qid_5127': {'pid_183058': 14.594194, 'pid_818066': 14.5205145, 'pid_551945': 14.445559, 'pid_81715': 14.396425, 'pid_699988': 14.371243, 'pid_569818': 14.351481, 'pid_711815': 14.342533, 'pid_234142': 14.337166, 'pid_599463': 14.323427, 'pid_537912': 14.305049, 'pid_160638': 14.285301, 'pid_685334': 14.241243, 'pid_993806': 14.224831, 'pid_310986': 14.205618, 'pid_425678': 14.167913, 'pid_476300': 14.12336, 'pid_371833': 14.068944, 'pid_267245': 14.047322, 'pid_831224': 14.025782, 'pid_209793': 14.004321, 'pid_872881': 13.994646, 'pid_138247': 13.940421, 'pid_114549': 13.835489, 'pid_319385': 13.835489, 'pid_546149': 13.826603, 'pid_269751': 13.800551, 'pid_423260': 13.794055, 'pid_270577': 13.781082, 'pid_273645': 13.781082, 'pid_613675': 13.781082, 'pid_75087': 13.755216, 'pid_402900': 13.755216, 'pid_75618': 13.716614, 'pid_502594': 13.633774, 'pid_277166': 13.558261, 'pid_416848': 13.407597, 'pid_80781': 13.3111515, 'pid_15220': 13.076992, 'pid_490094': 12.890924, 'pid_135204': 12.856321, 'pid_589772': 12.856321, 'pid_696232': 12.847698, 'pid_977489': 12.813326, 'pid_92185': 12.753613, 'pid_298647': 12.728192, 'pid_234382': 12.711302, 'pid_270284': 12.660896, 'pid_384938': 12.635843, 'pid_721871': 12.602593, 'pid_478877': 12.586034, 'pid_611113': 12.569518, 'pid_702265': 12.520228, 'pid_936193': 12.27947, 'pid_465781': 11.883382, 'pid_91417': 10.310408, 'pid_377616': 10.301011, 'pid_800058': 10.186511, 'pid_617419': 10.18599, 'pid_269670': 10.15456, 'pid_602453': 10.142628, 'pid_545398': 10.1088085, 'pid_277546': 10.081026, 'pid_125322': 10.052492, 'pid_106462': 10.008972, 'pid_43131': 10.003067, 'pid_613637': 9.996579, 'pid_154646': 9.986863, 'pid_206425': 9.983629, 'pid_598948': 9.899937, 'pid_796659': 9.890011, 'pid_133771': 9.872194, 'pid_238565': 9.86627, 'pid_610537': 9.854443, 'pid_48392': 9.846573, 'pid_741563': 9.842643, 'pid_134286': 9.830872, 'pid_745528': 9.830872, 'pid_560026': 9.826954, 'pid_903755': 9.826954, 'pid_937219': 9.826954, 'pid_385901': 9.795726, 'pid_207123': 9.78795, 'pid_116769': 9.669097, 'pid_978058': 9.669097, 'pid_476769': 9.664045, 'pid_71805': 9.6589985, 'pid_63625': 9.656477, 'pid_520635': 9.642516, 'pid_624366': 9.638863, 'pid_403929': 9.633842, 'pid_339683': 9.631333, 'pid_497031': 9.631333, 'pid_885561': 9.631333, 'pid_534769': 9.626321, 'pid_654232': 9.621313, 'pid_857611': 9.621313, 'pid_527459': 9.616311, 'pid_918492': 9.616311, 'pid_561465': 9.606321, 'pid_817161': 9.606321}, 'qid_5128': {'pid_402126': 11.36669, 'pid_237544': 11.2803135, 'pid_433735': 11.276125, 'pid_440903': 11.274111, 'pid_422665': 11.273985, 'pid_959590': 11.270556, 'pid_273662': 11.248402, 'pid_874750': 11.241023, 'pid_280172': 11.2377, 'pid_388186': 11.23712, 'pid_670684': 11.233917, 'pid_895677': 11.226136, 'pid_623666': 11.224328, 'pid_918587': 11.222767, 'pid_521261': 11.220657, 'pid_877410': 11.220364, 'pid_710787': 11.217791, 'pid_835676': 11.217508, 'pid_226964': 11.213755, 'pid_462193': 11.209812, 'pid_465803': 11.209039, 'pid_705122': 11.208591, 'pid_816722': 11.204557, 'pid_673464': 11.199989, 'pid_517953': 11.197161, 'pid_241422': 11.193539, 'pid_672359': 11.189606, 'pid_857082': 11.1872635, 'pid_475786': 11.187093, 'pid_8652': 11.182695, 'pid_837678': 11.179144, 'pid_415566': 11.178517, 'pid_232064': 11.174879, 'pid_178571': 11.169894, 'pid_216033': 11.168379, 'pid_781868': 11.167823, 'pid_377601': 11.164047, 'pid_897878': 11.162489, 'pid_553638': 11.160992, 'pid_136789': 11.160158, 'pid_203065': 11.160158, 'pid_467039': 11.157627, 'pid_981131': 11.15715, 'pid_660206': 11.152874, 'pid_207122': 11.150598, 'pid_103579': 11.147917, 'pid_665314': 11.147917, 'pid_489667': 11.147652, 'pid_593201': 11.147652, 'pid_189420': 11.1473675, 'pid_811072': 11.137827, 'pid_869745': 11.137827, 'pid_817400': 11.136417, 'pid_504691': 11.132921, 'pid_204257': 11.130522, 'pid_214360': 11.127827, 'pid_183238': 11.121468, 'pid_286370': 11.120874, 'pid_756841': 11.118892, 'pid_151607': 11.117737, 'pid_479275': 11.117737, 'pid_488143': 11.116161, 'pid_38335': 11.11464, 'pid_225647': 11.113508, 'pid_812989': 11.108207, 'pid_508918': 11.106873, 'pid_597380': 11.103874, 'pid_605573': 11.103874, 'pid_135333': 11.103577, 'pid_999772': 11.102911, 'pid_770476': 11.102638, 'pid_97224': 11.099396, 'pid_632788': 11.097619, 'pid_965850': 11.093132, 'pid_82505': 11.092554, 'pid_115316': 11.092333, 'pid_650595': 11.092333, 'pid_703504': 11.092333, 'pid_220449': 11.090832, 'pid_845252': 11.090832, 'pid_357792': 11.08802, 'pid_833466': 11.087584, 'pid_597927': 11.086154, 'pid_54584': 11.082792, 'pid_765037': 11.082413, 'pid_380701': 11.082405, 'pid_553474': 11.082405, 'pid_972282': 11.082405, 'pid_304898': 11.08052, 'pid_459960': 11.076796, 'pid_624196': 11.074329, 'pid_343984': 11.07124, 'pid_973358': 11.071191, 'pid_586266': 11.068241, 'pid_529872': 11.067481, 'pid_349239': 11.066376, 'pid_23720': 11.065592, 'pid_42704': 11.065567, 'pid_674169': 11.065567, 'pid_945034': 11.062668}, 'qid_5129': {'pid_603627': 8.758032, 'pid_17203': 8.705491, 'pid_271359': 8.700633, 'pid_827013': 8.665118, 'pid_649872': 8.661603, 'pid_819128': 8.661603, 'pid_190063': 8.658397, 'pid_191123': 8.651991, 'pid_486824': 8.6495905, 'pid_862084': 8.641602, 'pid_757031': 8.633452, 'pid_993064': 8.632033, 'pid_717017': 8.628849, 'pid_37769': 8.625785, 'pid_158894': 8.62489, 'pid_297977': 8.62489, 'pid_852370': 8.62489, 'pid_932317': 8.622487, 'pid_566415': 8.621313, 'pid_753407': 8.621313, 'pid_455236': 8.619526, 'pid_178571': 8.619309, 'pid_198629': 8.619309, 'pid_475786': 8.619309, 'pid_343045': 8.615954, 'pid_991675': 8.612385, 'pid_114502': 8.606623, 'pid_398459': 8.605256, 'pid_569355': 8.603476, 'pid_77646': 8.601695, 'pid_444411': 8.598138, 'pid_814251': 8.598138, 'pid_531568': 8.5945835, 'pid_941545': 8.5945835, 'pid_419701': 8.591032, 'pid_580025': 8.587806, 'pid_616719': 8.584214, 'pid_900282': 8.581178, 'pid_356055': 8.580396, 'pid_424698': 8.580396, 'pid_419710': 8.576856, 'pid_673854': 8.5741, 'pid_481880': 8.5733185, 'pid_311960': 8.569052, 'pid_877650': 8.569052, 'pid_586266': 8.566254, 'pid_172172': 8.5609865, 'pid_425785': 8.558972, 'pid_846298': 8.554947, 'pid_961668': 8.554947, 'pid_998420': 8.554947, 'pid_102757': 8.550926, 'pid_239907': 8.550926, 'pid_732441': 8.549992, 'pid_235691': 8.546908, 'pid_786567': 8.546908, 'pid_415926': 8.545129, 'pid_806646': 8.545129, 'pid_126105': 8.542894, 'pid_369962': 8.542894, 'pid_882446': 8.542894, 'pid_209698': 8.538885, 'pid_380080': 8.538885, 'pid_758062': 8.534879, 'pid_995127': 8.526877, 'pid_45074': 8.525909, 'pid_119875': 8.525909, 'pid_722507': 8.523579, 'pid_249303': 8.522882, 'pid_555973': 8.522882, 'pid_970973': 8.522882, 'pid_4569': 8.518923, 'pid_943832': 8.518923, 'pid_190878': 8.516596, 'pid_881622': 8.516596, 'pid_192945': 8.514271, 'pid_51874': 8.511947, 'pid_273949': 8.507302, 'pid_960261': 8.507302, 'pid_814737': 8.506941, 'pid_941917': 8.506941, 'pid_582173': 8.504983, 'pid_308499': 8.502664, 'pid_201757': 8.500346, 'pid_560751': 8.500346, 'pid_562173': 8.500346, 'pid_700222': 8.500346, 'pid_301026': 8.49803, 'pid_525977': 8.495715, 'pid_26398': 8.493401, 'pid_694701': 8.493401, 'pid_792934': 8.493401, 'pid_95664': 8.488777, 'pid_246860': 8.488777, 'pid_476359': 8.488777, 'pid_623665': 8.488777, 'pid_708569': 8.488777, 'pid_388266': 8.4841585, 'pid_402129': 8.4841585, 'pid_525391': 8.4841585}, 'qid_5130': {'pid_493731': 31.28305, 'pid_56117': 30.409235, 'pid_528223': 29.859564, 'pid_829980': 29.776514, 'pid_976008': 29.272148, 'pid_680192': 28.92685, 'pid_320693': 28.722195, 'pid_83463': 28.126726, 'pid_322685': 28.085693, 'pid_440420': 27.927423, 'pid_767315': 27.830902, 'pid_290382': 27.536066, 'pid_485091': 27.344904, 'pid_125764': 27.241621, 'pid_280194': 26.726364, 'pid_68506': 26.615526, 'pid_106159': 26.170551, 'pid_445924': 26.031078, 'pid_120994': 24.39975, 'pid_468565': 24.325813, 'pid_439310': 24.319126, 'pid_789428': 24.108997, 'pid_337601': 24.034678, 'pid_349263': 24.017174, 'pid_842005': 24.009527, 'pid_657458': 23.963762, 'pid_959100': 23.928288, 'pid_117716': 23.819933, 'pid_48516': 23.806057, 'pid_771301': 23.678728, 'pid_274336': 23.664814, 'pid_888706': 23.656797, 'pid_465246': 23.633759, 'pid_410442': 23.588215, 'pid_440985': 23.554358, 'pid_562970': 23.5513, 'pid_104532': 23.51372, 'pid_14346': 23.506218, 'pid_170805': 23.483742, 'pid_215546': 23.483742, 'pid_824965': 23.480644, 'pid_929043': 23.436838, 'pid_317402': 23.402145, 'pid_592185': 23.390251, 'pid_577558': 23.36671, 'pid_59834': 23.339401, 'pid_667607': 23.321056, 'pid_643024': 23.267616, 'pid_146219': 23.262413, 'pid_134323': 23.231821, 'pid_200521': 23.228485, 'pid_51730': 23.21894, 'pid_96688': 23.206831, 'pid_408428': 23.190247, 'pid_154688': 23.19006, 'pid_43102': 23.180801, 'pid_749297': 23.180801, 'pid_134260': 23.171549, 'pid_813305': 23.162304, 'pid_381971': 23.15652, 'pid_703975': 23.154545, 'pid_160609': 23.153069, 'pid_277409': 23.153069, 'pid_244519': 23.150593, 'pid_8358': 23.138453, 'pid_752096': 23.13662, 'pid_964146': 23.127878, 'pid_35902': 23.122047, 'pid_197004': 23.119772, 'pid_184952': 23.119003, 'pid_520743': 23.119003, 'pid_37091': 23.106457, 'pid_266429': 23.102783, 'pid_231376': 23.1024, 'pid_450252': 23.09149, 'pid_342907': 23.088825, 'pid_243854': 23.06971, 'pid_917': 23.064259, 'pid_133970': 23.062035, 'pid_856385': 23.056108, 'pid_657127': 23.044033, 'pid_602337': 23.030325, 'pid_194504': 23.025946, 'pid_385825': 23.025867, 'pid_719498': 23.025867, 'pid_715326': 23.025742, 'pid_178706': 23.003683, 'pid_646392': 22.99908, 'pid_132779': 22.98692, 'pid_141666': 22.977304, 'pid_517018': 22.963282, 'pid_555720': 22.945887, 'pid_430640': 22.94365, 'pid_48727': 22.938137, 'pid_507138': 22.935665, 'pid_503499': 22.92029, 'pid_469994': 22.917711, 'pid_540570': 22.913462, 'pid_829261': 22.908916, 'pid_988693': 22.903421}, 'qid_5131': {'pid_860041': 24.635262, 'pid_108764': 23.840353, 'pid_96093': 23.390741, 'pid_152451': 21.379286, 'pid_360459': 21.212706, 'pid_311154': 21.126602, 'pid_73455': 20.78627, 'pid_996658': 20.672863, 'pid_386669': 20.468767, 'pid_595851': 20.125563, 'pid_867226': 19.97342, 'pid_537176': 19.862732, 'pid_61010': 19.776518, 'pid_611048': 19.759762, 'pid_978463': 19.64054, 'pid_541319': 19.607075, 'pid_71879': 19.336555, 'pid_891511': 19.28472, 'pid_157742': 19.28368, 'pid_408780': 19.275457, 'pid_236338': 19.25204, 'pid_861226': 19.219261, 'pid_624437': 19.095499, 'pid_956580': 19.08076, 'pid_143569': 19.065416, 'pid_978733': 19.03505, 'pid_987107': 18.9573, 'pid_468122': 18.734015, 'pid_766504': 18.647446, 'pid_448644': 18.433945, 'pid_12016': 18.292704, 'pid_624247': 18.260426, 'pid_83428': 18.17958, 'pid_324478': 18.001842, 'pid_658944': 17.98771, 'pid_768976': 17.709974, 'pid_939455': 17.410303, 'pid_86324': 17.384232, 'pid_497158': 17.279661, 'pid_827593': 17.256512, 'pid_381972': 17.240894, 'pid_887937': 17.091188, 'pid_243460': 16.979267, 'pid_825351': 16.949547, 'pid_376192': 16.865082, 'pid_601276': 16.860435, 'pid_395816': 16.783195, 'pid_841721': 16.780998, 'pid_697173': 16.639738, 'pid_184335': 16.638117, 'pid_762645': 16.538626, 'pid_31742': 16.42752, 'pid_26306': 16.401442, 'pid_776599': 16.335695, 'pid_638053': 16.247967, 'pid_995932': 16.189016, 'pid_609519': 16.149158, 'pid_973952': 15.974816, 'pid_2457': 15.935491, 'pid_584665': 15.929914, 'pid_174426': 15.929657, 'pid_917507': 15.868203, 'pid_844876': 15.862922, 'pid_871456': 15.80418, 'pid_668703': 15.804092, 'pid_608326': 15.679354, 'pid_15560': 15.649299, 'pid_634153': 15.58471, 'pid_670344': 15.553062, 'pid_12006': 15.5093975, 'pid_289': 15.486074, 'pid_952721': 15.4851465, 'pid_157788': 15.405125, 'pid_995491': 15.403682, 'pid_29581': 15.3851595, 'pid_218680': 15.244087, 'pid_203185': 15.205395, 'pid_796396': 15.057566, 'pid_589683': 15.001255, 'pid_165794': 14.942577, 'pid_421833': 14.911968, 'pid_964371': 14.877379, 'pid_743172': 14.827921, 'pid_680170': 14.812723, 'pid_199487': 14.798006, 'pid_345700': 14.793316, 'pid_192160': 14.767731, 'pid_574068': 14.749769, 'pid_101789': 14.740776, 'pid_856635': 14.729774, 'pid_52447': 14.702349, 'pid_560539': 14.702281, 'pid_705973': 14.670675, 'pid_476262': 14.666071, 'pid_838460': 14.656398, 'pid_158132': 14.6226225, 'pid_581994': 14.622421, 'pid_484813': 14.60293, 'pid_407343': 14.560359, 'pid_714367': 14.560359}, 'qid_5132': {'pid_758985': 23.030165, 'pid_304073': 21.60953, 'pid_608493': 21.48618, 'pid_323562': 20.485744, 'pid_846486': 19.531178, 'pid_977282': 19.15695, 'pid_675164': 19.030327, 'pid_487204': 18.927086, 'pid_591493': 18.818348, 'pid_744903': 18.688988, 'pid_104042': 18.649296, 'pid_864275': 18.586012, 'pid_386723': 18.500818, 'pid_194696': 18.48148, 'pid_757219': 18.455734, 'pid_777903': 18.452545, 'pid_908534': 18.403042, 'pid_492001': 18.394953, 'pid_957317': 18.33977, 'pid_540504': 18.263542, 'pid_237375': 18.201687, 'pid_518707': 18.18117, 'pid_641408': 18.11012, 'pid_717560': 18.092928, 'pid_596223': 17.76701, 'pid_440991': 17.742382, 'pid_193071': 17.702412, 'pid_285197': 17.66924, 'pid_47455': 17.656006, 'pid_544466': 17.6296, 'pid_983066': 17.616425, 'pid_392390': 17.603271, 'pid_677815': 17.409134, 'pid_623535': 17.4085, 'pid_100723': 17.392706, 'pid_814595': 17.237255, 'pid_291956': 17.202839, 'pid_24457': 17.08789, 'pid_369077': 17.06812, 'pid_924090': 17.051464, 'pid_330425': 17.004852, 'pid_165509': 16.99728, 'pid_103397': 16.943548, 'pid_383987': 16.890259, 'pid_8824': 16.787462, 'pid_589892': 16.73153, 'pid_635590': 16.73153, 'pid_809333': 16.73153, 'pid_733113': 16.692554, 'pid_299172': 16.688885, 'pid_431955': 16.688885, 'pid_684450': 16.683983, 'pid_961045': 16.680386, 'pid_330207': 16.658329, 'pid_682278': 16.658329, 'pid_271730': 16.624256, 'pid_643072': 16.564987, 'pid_831265': 16.548136, 'pid_476645': 16.537292, 'pid_707097': 16.470867, 'pid_397727': 16.431211, 'pid_134123': 16.332397, 'pid_886935': 16.299744, 'pid_121170': 16.20464, 'pid_98411': 15.905914, 'pid_71897': 15.799313, 'pid_274182': 15.799313, 'pid_536625': 15.799313, 'pid_219756': 15.767611, 'pid_363146': 15.757072, 'pid_425171': 15.757072, 'pid_448223': 15.757072, 'pid_135846': 15.736035, 'pid_498935': 15.736035, 'pid_913449': 15.725538, 'pid_175027': 15.715055, 'pid_760776': 15.715055, 'pid_879254': 15.694131, 'pid_204687': 15.68369, 'pid_628349': 15.673264, 'pid_14109': 15.590341, 'pid_537833': 15.569746, 'pid_928983': 15.569746, 'pid_321558': 15.559471, 'pid_233443': 15.528722, 'pid_43836': 15.447319, 'pid_273365': 15.447319, 'pid_292906': 15.447319, 'pid_554958': 15.447319, 'pid_604136': 15.447319, 'pid_611352': 15.447319, 'pid_246767': 15.427101, 'pid_380197': 15.406937, 'pid_351254': 15.386825, 'pid_825444': 15.386825, 'pid_842033': 15.386825, 'pid_690235': 15.306898, 'pid_754871': 15.306898, 'pid_867720': 15.227797, 'pid_431077': 15.14951}, 'qid_5133': {'pid_322670': 44.189888, 'pid_697387': 43.273182, 'pid_496506': 41.770336, 'pid_562944': 40.314762, 'pid_761650': 40.274544, 'pid_224000': 40.116726, 'pid_544436': 39.41212, 'pid_417337': 39.4114, 'pid_178772': 39.377296, 'pid_979113': 39.373367, 'pid_646962': 39.139614, 'pid_752028': 39.072285, 'pid_667861': 38.892204, 'pid_289434': 38.782097, 'pid_128759': 38.62445, 'pid_528097': 38.508636, 'pid_271376': 38.466324, 'pid_988543': 38.36656, 'pid_978207': 38.36059, 'pid_255189': 38.353962, 'pid_834955': 38.30011, 'pid_484810': 38.269463, 'pid_79660': 38.135857, 'pid_375606': 37.605488, 'pid_197952': 37.532364, 'pid_357630': 37.47016, 'pid_8443': 37.40309, 'pid_469358': 37.26458, 'pid_729169': 37.26408, 'pid_301599': 37.08999, 'pid_652637': 37.087204, 'pid_376271': 37.068733, 'pid_715121': 37.043407, 'pid_390632': 37.040863, 'pid_358904': 36.94359, 'pid_201579': 36.878883, 'pid_526993': 36.610203, 'pid_740158': 36.541466, 'pid_656801': 36.243473, 'pid_163994': 36.11978, 'pid_21827': 35.822517, 'pid_841995': 35.692932, 'pid_291846': 35.61904, 'pid_120684': 35.559204, 'pid_416439': 35.559204, 'pid_300345': 35.51907, 'pid_465774': 35.349686, 'pid_397670': 35.28134, 'pid_922410': 35.275772, 'pid_227611': 35.096706, 'pid_200024': 35.089645, 'pid_282503': 35.078598, 'pid_715327': 35.075592, 'pid_673272': 34.877266, 'pid_987912': 34.852036, 'pid_8586': 34.632977, 'pid_708055': 34.630917, 'pid_393866': 34.58231, 'pid_473842': 34.582, 'pid_486865': 34.55291, 'pid_629684': 34.470768, 'pid_453351': 34.449326, 'pid_795589': 34.442604, 'pid_455347': 34.385456, 'pid_905962': 34.385456, 'pid_2758': 34.377113, 'pid_961839': 34.377113, 'pid_43820': 34.348804, 'pid_381230': 34.330093, 'pid_573468': 34.277523, 'pid_279971': 34.25378, 'pid_916963': 34.236885, 'pid_413739': 34.216164, 'pid_803837': 34.203136, 'pid_268266': 34.183887, 'pid_121025': 34.16946, 'pid_602104': 34.152767, 'pid_860849': 34.11729, 'pid_797645': 34.100735, 'pid_334623': 34.0845, 'pid_922628': 34.06172, 'pid_261017': 34.02892, 'pid_852224': 34.02192, 'pid_680799': 34.002064, 'pid_275939': 33.9937, 'pid_313763': 33.9937, 'pid_417384': 33.9796, 'pid_982272': 33.97491, 'pid_221823': 33.96875, 'pid_63950': 33.95855, 'pid_394488': 33.95652, 'pid_578675': 33.89527, 'pid_645499': 33.891632, 'pid_467745': 33.871452, 'pid_432636': 33.85256, 'pid_634108': 33.81911, 'pid_89707': 33.812492, 'pid_60688': 33.811504, 'pid_749172': 33.74776, 'pid_162137': 33.73955}, 'qid_5134': {'pid_243519': 15.891781, 'pid_342217': 15.724806, 'pid_176608': 15.595631, 'pid_511599': 15.578064, 'pid_21483': 15.524132, 'pid_885948': 15.521982, 'pid_502279': 15.3733225, 'pid_712371': 15.223988, 'pid_680799': 15.206576, 'pid_252024': 15.17484, 'pid_732120': 15.17136, 'pid_470545': 15.131901, 'pid_956948': 15.107517, 'pid_415943': 15.065123, 'pid_633829': 15.054668, 'pid_524256': 15.048555, 'pid_844907': 15.047046, 'pid_626840': 15.03602, 'pid_542723': 15.023514, 'pid_911652': 14.998586, 'pid_86048': 14.973769, 'pid_705196': 14.973769, 'pid_952595': 14.973769, 'pid_413608': 14.910093, 'pid_720138': 14.904135, 'pid_690376': 14.903027, 'pid_169981': 14.89237, 'pid_621143': 14.888918, 'pid_164231': 14.87484, 'pid_312333': 14.846779, 'pid_572997': 14.712704, 'pid_937708': 14.610964, 'pid_427020': 14.595446, 'pid_461582': 14.564516, 'pid_944566': 14.480179, 'pid_978590': 14.44977, 'pid_634641': 14.404413, 'pid_120684': 14.362161, 'pid_416439': 14.362161, 'pid_158430': 14.350847, 'pid_361119': 14.284391, 'pid_448124': 13.969101, 'pid_394387': 13.903639, 'pid_724533': 13.866491, 'pid_382844': 13.857236, 'pid_285537': 13.701752, 'pid_891147': 13.479334, 'pid_707983': 13.340738, 'pid_801279': 12.19067, 'pid_672982': 11.942154, 'pid_732696': 11.905006, 'pid_659682': 11.753193, 'pid_2135': 11.667482, 'pid_74043': 11.624629, 'pid_465027': 11.568588, 'pid_953952': 11.523965, 'pid_629235': 11.515266, 'pid_159009': 11.501163, 'pid_949208': 11.484283, 'pid_518676': 11.479324, 'pid_13687': 11.4555435, 'pid_337395': 11.391535, 'pid_449465': 11.2977295, 'pid_990994': 11.289551, 'pid_922930': 11.258022, 'pid_777521': 11.230682, 'pid_146524': 11.21953, 'pid_127440': 11.182737, 'pid_803837': 11.143121, 'pid_184818': 11.13881, 'pid_882230': 11.13217, 'pid_344748': 11.120621, 'pid_963879': 11.116085, 'pid_125998': 11.099224, 'pid_133724': 11.056781, 'pid_520427': 11.045358, 'pid_128759': 10.97106, 'pid_797645': 10.944655, 'pid_248435': 10.940168, 'pid_237705': 10.919774, 'pid_466477': 10.916555, 'pid_920539': 10.904997, 'pid_416162': 10.897297, 'pid_306615': 10.893204, 'pid_613229': 10.871004, 'pid_207359': 10.856167, 'pid_137966': 10.840379, 'pid_724340': 10.835127, 'pid_193667': 10.788106, 'pid_915086': 10.758633, 'pid_497917': 10.746679, 'pid_386717': 10.715836, 'pid_357066': 10.658463, 'pid_36584': 10.640751, 'pid_809470': 10.640751, 'pid_252356': 10.587824, 'pid_86766': 10.58436, 'pid_228594': 10.57765, 'pid_721753': 10.57765, 'pid_339240': 10.562431}, 'qid_5135': {'pid_240427': 26.006493, 'pid_721271': 21.559765, 'pid_753915': 19.442877, 'pid_63687': 19.068632, 'pid_200844': 18.470407, 'pid_746292': 18.37634, 'pid_232413': 17.910118, 'pid_931617': 17.870558, 'pid_688977': 17.3802, 'pid_439667': 17.241032, 'pid_697389': 17.17996, 'pid_980454': 17.072884, 'pid_367262': 16.96009, 'pid_612199': 16.959227, 'pid_285378': 16.852884, 'pid_17647': 16.814095, 'pid_671947': 16.752296, 'pid_288558': 16.749416, 'pid_268485': 16.718576, 'pid_444775': 16.697418, 'pid_624007': 16.639542, 'pid_172295': 16.600632, 'pid_173242': 16.591301, 'pid_388428': 16.545862, 'pid_15500': 16.525328, 'pid_170629': 16.395954, 'pid_382982': 16.393288, 'pid_976558': 16.350204, 'pid_498702': 16.34782, 'pid_505554': 16.336294, 'pid_814196': 16.304699, 'pid_784901': 16.280754, 'pid_837177': 16.103779, 'pid_841459': 16.09209, 'pid_285593': 15.995483, 'pid_195294': 15.947342, 'pid_985775': 15.947342, 'pid_921274': 15.918484, 'pid_854284': 15.874682, 'pid_678649': 15.854748, 'pid_597114': 15.773031, 'pid_160781': 15.686371, 'pid_217565': 15.594067, 'pid_327412': 15.555368, 'pid_32129': 15.551786, 'pid_190285': 15.5428295, 'pid_652977': 15.523178, 'pid_304567': 15.520352, 'pid_263375': 15.516026, 'pid_136875': 15.513514, 'pid_224581': 15.439074, 'pid_116832': 15.359547, 'pid_754286': 15.3371315, 'pid_435124': 15.333542, 'pid_455592': 15.278166, 'pid_836561': 15.250749, 'pid_386920': 15.247703, 'pid_321414': 15.200082, 'pid_240081': 15.179165, 'pid_163016': 15.156847, 'pid_720123': 15.115204, 'pid_807816': 15.111115, 'pid_550447': 14.9956665, 'pid_809386': 14.967691, 'pid_319872': 14.95291, 'pid_442458': 14.949194, 'pid_654476': 14.921278, 'pid_776371': 14.883911, 'pid_109872': 14.842929, 'pid_330749': 14.836017, 'pid_230619': 14.831913, 'pid_552606': 14.806021, 'pid_209220': 14.795279, 'pid_525634': 14.741343, 'pid_581118': 14.661547, 'pid_533090': 14.628603, 'pid_250741': 14.537086, 'pid_556624': 14.51623, 'pid_177352': 14.501792, 'pid_553905': 14.323101, 'pid_476062': 14.257774, 'pid_175809': 14.236867, 'pid_62431': 14.215425, 'pid_803855': 14.201607, 'pid_803523': 14.131248, 'pid_513283': 14.118039, 'pid_370301': 14.077601, 'pid_689876': 14.0743685, 'pid_823945': 14.045214, 'pid_883206': 14.031118, 'pid_922513': 13.929661, 'pid_629220': 13.886696, 'pid_761436': 13.855366, 'pid_85350': 13.692022, 'pid_200418': 13.6859, 'pid_492632': 13.675271, 'pid_270541': 13.659937, 'pid_742768': 13.648442, 'pid_304347': 13.645787, 'pid_59620': 13.641903}, 'qid_5136': {'pid_191528': 25.141924, 'pid_279479': 23.372274, 'pid_88623': 23.180588, 'pid_282814': 23.07301, 'pid_604857': 23.045975, 'pid_636936': 22.95347, 'pid_625017': 22.937191, 'pid_440666': 22.852016, 'pid_872721': 22.673975, 'pid_74788': 22.659813, 'pid_352053': 22.475445, 'pid_48248': 22.165298, 'pid_449189': 21.863556, 'pid_646302': 21.565672, 'pid_752256': 21.467655, 'pid_675038': 20.16811, 'pid_47174': 19.864887, 'pid_243495': 19.81362, 'pid_326505': 19.680698, 'pid_633391': 19.621927, 'pid_194704': 19.57529, 'pid_986591': 19.574512, 'pid_820845': 19.381918, 'pid_723622': 19.373974, 'pid_374488': 19.33448, 'pid_149785': 19.31011, 'pid_879963': 19.301472, 'pid_197788': 19.285675, 'pid_851328': 19.269316, 'pid_279577': 19.220158, 'pid_316441': 19.219172, 'pid_351427': 19.186987, 'pid_732220': 19.15649, 'pid_495191': 19.142857, 'pid_672485': 19.099472, 'pid_394901': 19.098473, 'pid_932554': 19.092949, 'pid_906347': 19.065678, 'pid_204951': 19.046898, 'pid_38380': 19.021046, 'pid_395277': 18.964666, 'pid_155403': 18.954609, 'pid_918410': 18.951063, 'pid_201719': 18.947485, 'pid_778799': 18.896137, 'pid_152916': 18.88921, 'pid_804731': 18.837551, 'pid_331822': 18.813803, 'pid_105333': 18.795477, 'pid_991028': 18.764292, 'pid_601768': 18.740826, 'pid_31201': 18.73492, 'pid_193765': 18.653753, 'pid_850772': 18.648155, 'pid_399777': 18.643837, 'pid_34737': 18.60192, 'pid_634555': 18.56934, 'pid_725318': 18.544937, 'pid_493187': 18.502138, 'pid_894482': 18.497818, 'pid_613078': 18.489082, 'pid_1128': 18.417576, 'pid_816346': 18.407299, 'pid_684957': 18.365612, 'pid_848580': 18.318247, 'pid_398515': 18.283594, 'pid_67655': 18.236267, 'pid_287049': 18.233515, 'pid_985065': 18.231556, 'pid_788013': 18.18029, 'pid_313951': 18.14626, 'pid_860823': 18.143063, 'pid_650955': 18.135538, 'pid_591293': 18.125711, 'pid_42178': 18.120312, 'pid_463057': 18.117847, 'pid_929447': 18.112894, 'pid_905854': 18.107418, 'pid_889499': 18.104069, 'pid_262605': 18.089073, 'pid_983200': 18.078684, 'pid_418267': 18.069826, 'pid_713430': 18.06582, 'pid_799051': 18.022724, 'pid_823484': 18.015614, 'pid_861743': 18.009176, 'pid_647085': 18.004803, 'pid_696315': 17.977285, 'pid_811189': 17.977285, 'pid_422557': 17.840706, 'pid_2429': 17.816338, 'pid_1276': 17.809082, 'pid_943211': 17.77817, 'pid_427997': 17.764507, 'pid_93792': 17.698385, 'pid_918957': 17.697172, 'pid_57593': 17.65394, 'pid_12746': 17.590813, 'pid_65544': 17.532515, 'pid_92027': 17.466507}, 'qid_5137': {'pid_488873': 36.050472, 'pid_240179': 33.914955, 'pid_763566': 33.50684, 'pid_875193': 33.019966, 'pid_814618': 32.952145, 'pid_320842': 32.711636, 'pid_257288': 32.639587, 'pid_823629': 32.34766, 'pid_11527': 32.260094, 'pid_713565': 32.214, 'pid_210292': 31.75246, 'pid_958063': 31.653976, 'pid_794778': 31.650162, 'pid_108749': 31.582937, 'pid_564820': 31.394999, 'pid_260578': 31.374374, 'pid_542724': 31.373562, 'pid_113833': 31.159092, 'pid_840880': 31.020292, 'pid_611742': 30.979122, 'pid_972716': 30.752726, 'pid_547658': 30.673407, 'pid_760107': 30.673407, 'pid_398768': 30.626043, 'pid_736522': 30.555693, 'pid_853016': 30.493418, 'pid_684013': 30.278639, 'pid_395488': 30.278484, 'pid_560458': 30.261799, 'pid_244194': 30.17583, 'pid_340280': 30.158794, 'pid_190321': 29.858492, 'pid_29282': 29.851837, 'pid_666828': 29.107325, 'pid_959751': 29.068464, 'pid_647521': 29.049072, 'pid_68151': 28.97177, 'pid_505090': 28.914059, 'pid_227413': 26.782726, 'pid_774643': 26.393726, 'pid_834172': 25.934822, 'pid_121016': 25.366613, 'pid_869580': 23.302525, 'pid_935279': 23.01307, 'pid_31271': 22.46698, 'pid_543965': 22.017807, 'pid_889558': 21.989767, 'pid_757824': 21.871239, 'pid_518420': 21.865463, 'pid_657334': 21.863794, 'pid_198552': 21.86361, 'pid_817948': 21.815588, 'pid_867362': 21.780926, 'pid_840551': 21.72658, 'pid_687067': 21.696571, 'pid_174677': 21.59061, 'pid_250213': 21.557465, 'pid_240360': 21.359867, 'pid_435948': 21.337309, 'pid_843509': 21.217058, 'pid_654918': 21.152931, 'pid_639773': 21.128908, 'pid_112773': 21.118093, 'pid_107050': 21.114943, 'pid_553556': 21.058079, 'pid_78567': 21.042717, 'pid_538679': 20.96792, 'pid_761534': 20.905167, 'pid_59623': 20.826275, 'pid_865412': 20.757347, 'pid_668037': 20.666027, 'pid_36557': 20.6338, 'pid_498778': 20.623083, 'pid_556975': 20.510622, 'pid_213441': 20.486076, 'pid_468147': 20.379793, 'pid_140500': 20.036747, 'pid_600513': 19.96593, 'pid_70452': 19.712837, 'pid_417650': 19.675453, 'pid_343802': 19.505823, 'pid_375416': 19.436657, 'pid_28225': 19.42369, 'pid_663319': 19.333416, 'pid_244074': 19.315872, 'pid_393027': 19.26822, 'pid_246545': 19.215033, 'pid_247481': 18.913048, 'pid_529651': 18.760424, 'pid_723186': 18.741943, 'pid_532506': 18.301601, 'pid_324341': 18.171085, 'pid_42446': 17.76383, 'pid_59403': 17.693851, 'pid_401607': 17.448193, 'pid_937796': 17.389542, 'pid_93270': 17.197224, 'pid_707897': 17.106688, 'pid_700712': 17.08756, 'pid_928228': 17.084963}, 'qid_5138': {'pid_643987': 24.148434, 'pid_782128': 21.825949, 'pid_872768': 21.740438, 'pid_779322': 21.067469, 'pid_798386': 18.743868, 'pid_607374': 18.717281, 'pid_599371': 18.646107, 'pid_199640': 18.281555, 'pid_229858': 18.260242, 'pid_931718': 18.230736, 'pid_39476': 18.20421, 'pid_959999': 18.193682, 'pid_727493': 17.920345, 'pid_13933': 17.893505, 'pid_320518': 17.870033, 'pid_7453': 17.839952, 'pid_66203': 17.834938, 'pid_663191': 17.769604, 'pid_621506': 17.64988, 'pid_833152': 17.64506, 'pid_67557': 17.627785, 'pid_134149': 17.596157, 'pid_725870': 17.57203, 'pid_803529': 17.53725, 'pid_885531': 17.50027, 'pid_523841': 17.487238, 'pid_807899': 17.473207, 'pid_106922': 17.47295, 'pid_236422': 17.375729, 'pid_403245': 17.369005, 'pid_473488': 17.292818, 'pid_508620': 17.23346, 'pid_41431': 17.200392, 'pid_297535': 17.1143, 'pid_589787': 17.109083, 'pid_620604': 17.081884, 'pid_928548': 17.066568, 'pid_375014': 17.027206, 'pid_962414': 17.022223, 'pid_156270': 17.01301, 'pid_271141': 16.998528, 'pid_13002': 16.922615, 'pid_264535': 16.893793, 'pid_596531': 16.892658, 'pid_78015': 16.882017, 'pid_733964': 16.87892, 'pid_795188': 16.874187, 'pid_528836': 16.871443, 'pid_78539': 16.862785, 'pid_260043': 16.853327, 'pid_716780': 16.791594, 'pid_190059': 16.788754, 'pid_275991': 16.77465, 'pid_690702': 16.730026, 'pid_814834': 16.700867, 'pid_626293': 16.695387, 'pid_57109': 16.66924, 'pid_793643': 16.65536, 'pid_205085': 16.648216, 'pid_127004': 16.642803, 'pid_888063': 16.642803, 'pid_576529': 16.641186, 'pid_743854': 16.61693, 'pid_166933': 16.610184, 'pid_440239': 16.58577, 'pid_546472': 16.58577, 'pid_897041': 16.58577, 'pid_768931': 16.58116, 'pid_767552': 16.537527, 'pid_195443': 16.523827, 'pid_537870': 16.523827, 'pid_730069': 16.523827, 'pid_994770': 16.4982, 'pid_121656': 16.478449, 'pid_486720': 16.471397, 'pid_381438': 16.466442, 'pid_423856': 16.45907, 'pid_924002': 16.433664, 'pid_411844': 16.431843, 'pid_587652': 16.428661, 'pid_971473': 16.415443, 'pid_894868': 16.40067, 'pid_799257': 16.375265, 'pid_693445': 16.327236, 'pid_242669': 16.322638, 'pid_114873': 16.274572, 'pid_122772': 16.272205, 'pid_716882': 16.238417, 'pid_596023': 16.204552, 'pid_930608': 16.194962, 'pid_33741': 16.170326, 'pid_782262': 16.170326, 'pid_865476': 16.166262, 'pid_335456': 16.15672, 'pid_676715': 16.15649, 'pid_929078': 16.15379, 'pid_403288': 16.146229, 'pid_395941': 16.137667, 'pid_805183': 16.137667, 'pid_984665': 16.137667}, 'qid_5139': {'pid_602619': 23.062963, 'pid_516797': 22.947828, 'pid_332536': 22.17875, 'pid_948933': 22.112417, 'pid_182214': 22.097763, 'pid_32962': 21.660583, 'pid_632645': 21.360506, 'pid_926141': 21.02388, 'pid_775692': 20.996967, 'pid_686384': 20.460135, 'pid_633461': 20.441498, 'pid_136372': 20.349575, 'pid_657204': 20.267809, 'pid_799215': 20.043266, 'pid_830754': 19.996183, 'pid_574731': 19.464142, 'pid_264695': 19.40567, 'pid_818797': 19.38573, 'pid_463458': 19.21399, 'pid_615134': 19.004719, 'pid_146979': 18.992878, 'pid_462256': 18.982553, 'pid_848502': 18.920467, 'pid_75370': 18.916, 'pid_132656': 18.850136, 'pid_121436': 18.749466, 'pid_136103': 18.710356, 'pid_404333': 18.706064, 'pid_621454': 18.683067, 'pid_754331': 18.550133, 'pid_242311': 18.519188, 'pid_705888': 18.468985, 'pid_232393': 18.411804, 'pid_947763': 18.266342, 'pid_488745': 18.216772, 'pid_690603': 18.216772, 'pid_338405': 18.123503, 'pid_251263': 18.084543, 'pid_637031': 18.07183, 'pid_612226': 18.04271, 'pid_998780': 17.922747, 'pid_156511': 17.878899, 'pid_638162': 17.848661, 'pid_305457': 17.827103, 'pid_451980': 17.820683, 'pid_642095': 17.81323, 'pid_424281': 17.798435, 'pid_78493': 17.793606, 'pid_145212': 17.776695, 'pid_46096': 17.761543, 'pid_683249': 17.737885, 'pid_501921': 17.6809, 'pid_470221': 17.674122, 'pid_296801': 17.613207, 'pid_626733': 17.53617, 'pid_271634': 17.510326, 'pid_114104': 17.441154, 'pid_448842': 17.399366, 'pid_151368': 17.355185, 'pid_196811': 17.355185, 'pid_63215': 17.278484, 'pid_540908': 17.263264, 'pid_476963': 17.207907, 'pid_853982': 17.206835, 'pid_167747': 17.180582, 'pid_416085': 17.169113, 'pid_709903': 17.1397, 'pid_781173': 17.1129, 'pid_276173': 17.055267, 'pid_180077': 17.043966, 'pid_111959': 17.020487, 'pid_62146': 17.00878, 'pid_770912': 16.999884, 'pid_371094': 16.990585, 'pid_238102': 16.974304, 'pid_118624': 16.968615, 'pid_874438': 16.915836, 'pid_650226': 16.885479, 'pid_654619': 16.880732, 'pid_113029': 16.868553, 'pid_113875': 16.86719, 'pid_895364': 16.83561, 'pid_953640': 16.81609, 'pid_120289': 16.792017, 'pid_959930': 16.792017, 'pid_125145': 16.785568, 'pid_566530': 16.783087, 'pid_876777': 16.776527, 'pid_919224': 16.776527, 'pid_288096': 16.774012, 'pid_574440': 16.762249, 'pid_678291': 16.746365, 'pid_920770': 16.700895, 'pid_574457': 16.698275, 'pid_150690': 16.697557, 'pid_467444': 16.63564, 'pid_848508': 16.614592, 'pid_21248': 16.585846, 'pid_475201': 16.44463, 'pid_470144': 16.432478}, 'qid_5140': {'pid_965197': 15.213296, 'pid_652119': 15.209764, 'pid_453789': 15.173466, 'pid_786729': 15.072722, 'pid_103794': 15.035879, 'pid_125139': 15.032425, 'pid_386541': 15.032425, 'pid_812845': 15.015984, 'pid_230914': 14.993303, 'pid_116365': 14.983229, 'pid_755931': 14.963026, 'pid_719652': 14.937504, 'pid_155533': 14.913887, 'pid_202650': 14.898235, 'pid_642005': 14.871727, 'pid_155660': 14.8377285, 'pid_334622': 14.836426, 'pid_327860': 14.828823, 'pid_345916': 14.826583, 'pid_343762': 14.8169155, 'pid_344874': 14.743272, 'pid_971634': 14.735993, 'pid_801244': 14.716972, 'pid_770585': 14.687899, 'pid_241170': 14.68182, 'pid_368189': 14.66456, 'pid_886167': 14.61809, 'pid_851106': 14.586645, 'pid_850638': 14.575691, 'pid_33804': 14.549234, 'pid_816685': 14.549107, 'pid_498124': 14.5389595, 'pid_288309': 14.532042, 'pid_893931': 14.529443, 'pid_23928': 14.528444, 'pid_463289': 14.515974, 'pid_337165': 14.494061, 'pid_909592': 14.493405, 'pid_181656': 14.489456, 'pid_223813': 14.479004, 'pid_674795': 14.456187, 'pid_618875': 14.440147, 'pid_821491': 14.437393, 'pid_184160': 14.4343405, 'pid_849065': 14.423905, 'pid_148968': 14.402067, 'pid_151702': 14.38312, 'pid_971565': 14.361937, 'pid_441700': 14.337881, 'pid_425385': 14.331577, 'pid_754387': 14.331556, 'pid_53033': 14.32555, 'pid_299632': 14.319862, 'pid_875493': 14.319862, 'pid_782881': 14.314025, 'pid_361354': 14.308192, 'pid_210571': 14.209166, 'pid_359434': 14.200905, 'pid_385249': 14.198587, 'pid_174979': 14.169852, 'pid_430614': 14.076298, 'pid_70549': 14.050022, 'pid_993117': 14.045252, 'pid_180378': 14.0201, 'pid_956098': 13.994602, 'pid_714948': 13.981699, 'pid_897310': 13.980333, 'pid_713845': 13.968799, 'pid_518171': 13.962401, 'pid_390838': 13.952955, 'pid_734868': 13.943169, 'pid_386873': 13.93363, 'pid_846216': 13.930635, 'pid_349985': 13.924231, 'pid_444645': 13.924004, 'pid_204592': 13.923635, 'pid_629201': 13.917629, 'pid_892408': 13.904902, 'pid_152729': 13.879538, 'pid_768552': 13.870943, 'pid_963155': 13.865812, 'pid_92025': 13.863943, 'pid_649553': 13.859009, 'pid_804441': 13.859009, 'pid_514468': 13.845425, 'pid_69422': 13.843425, 'pid_274562': 13.831871, 'pid_688886': 13.831871, 'pid_524094': 13.825107, 'pid_36425': 13.818349, 'pid_466802': 13.811599, 'pid_837117': 13.804857, 'pid_687474': 13.78409, 'pid_275025': 13.777966, 'pid_341930': 13.775839, 'pid_208747': 13.751196, 'pid_967347': 13.751196, 'pid_328630': 13.7214775, 'pid_155740': 13.711269, 'pid_118994': 13.658451}, 'qid_5141': {'pid_681456': 19.353199, 'pid_336113': 19.208233, 'pid_750886': 19.135975, 'pid_469619': 19.128658, 'pid_950582': 19.082531, 'pid_733923': 19.066643, 'pid_241581': 19.062042, 'pid_7557': 19.047691, 'pid_825273': 19.029911, 'pid_769766': 19.025898, 'pid_16695': 19.00476, 'pid_165708': 18.949749, 'pid_987495': 18.937885, 'pid_346675': 18.926008, 'pid_669242': 18.819706, 'pid_127084': 18.794037, 'pid_953449': 18.780674, 'pid_891002': 18.77362, 'pid_3548': 18.756372, 'pid_665314': 18.754465, 'pid_811696': 18.713272, 'pid_993996': 18.711855, 'pid_57509': 18.697647, 'pid_433735': 18.690926, 'pid_943850': 18.674635, 'pid_578922': 18.670906, 'pid_881927': 18.670906, 'pid_568373': 18.669687, 'pid_410329': 18.636648, 'pid_352638': 18.56982, 'pid_690005': 18.550945, 'pid_962111': 18.550945, 'pid_907200': 18.522024, 'pid_539512': 18.495499, 'pid_413904': 18.463257, 'pid_121034': 18.45, 'pid_189420': 18.443295, 'pid_852667': 18.430027, 'pid_496963': 18.420574, 'pid_541203': 18.40429, 'pid_293393': 18.387882, 'pid_799815': 18.384048, 'pid_973594': 18.348017, 'pid_888234': 18.293613, 'pid_571192': 18.264763, 'pid_577444': 18.2644, 'pid_968537': 18.25702, 'pid_441321': 18.252832, 'pid_785805': 18.241463, 'pid_489667': 18.231892, 'pid_380701': 18.22173, 'pid_23717': 18.20249, 'pid_77581': 18.191628, 'pid_509929': 18.180782, 'pid_836605': 18.180243, 'pid_144474': 18.174809, 'pid_388186': 18.169409, 'pid_117977': 18.168999, 'pid_871696': 18.148695, 'pid_237211': 18.140621, 'pid_823139': 18.116863, 'pid_792328': 18.09509, 'pid_30814': 18.089592, 'pid_423834': 18.076551, 'pid_321981': 18.066711, 'pid_739841': 18.056152, 'pid_22750': 18.053493, 'pid_817400': 18.043556, 'pid_365403': 18.041988, 'pid_765127': 18.041988, 'pid_537704': 18.014069, 'pid_437423': 18.008062, 'pid_462193': 17.98201, 'pid_814820': 17.945168, 'pid_19969': 17.940498, 'pid_597757': 17.916534, 'pid_725984': 17.915613, 'pid_561055': 17.906961, 'pid_651238': 17.882734, 'pid_498671': 17.87418, 'pid_952774': 17.870659, 'pid_442641': 17.862135, 'pid_524504': 17.837076, 'pid_970097': 17.826063, 'pid_226964': 17.81594, 'pid_809551': 17.802917, 'pid_475091': 17.792126, 'pid_911966': 17.79026, 'pid_751964': 17.778223, 'pid_579960': 17.76923, 'pid_21361': 17.767565, 'pid_489644': 17.766502, 'pid_415566': 17.745497, 'pid_118848': 17.718231, 'pid_835676': 17.717003, 'pid_377724': 17.71455, 'pid_257004': 17.714478, 'pid_851053': 17.689247, 'pid_918587': 17.6871, 'pid_788032': 17.670506}, 'qid_5142': {'pid_988750': 23.12009, 'pid_574731': 22.83286, 'pid_709120': 22.420528, 'pid_548991': 22.31085, 'pid_40715': 21.75322, 'pid_492651': 21.553602, 'pid_521258': 20.071396, 'pid_683249': 19.886127, 'pid_582658': 19.820232, 'pid_111552': 19.27509, 'pid_669790': 19.146458, 'pid_974655': 19.144972, 'pid_910611': 19.07238, 'pid_292859': 18.983582, 'pid_329405': 18.948755, 'pid_51447': 18.923534, 'pid_45438': 18.917095, 'pid_637031': 18.906033, 'pid_26167': 18.826591, 'pid_853769': 18.774136, 'pid_826007': 18.711857, 'pid_146448': 18.603659, 'pid_107123': 18.305351, 'pid_448260': 18.279371, 'pid_64749': 18.170755, 'pid_345375': 18.168722, 'pid_251263': 18.133215, 'pid_146979': 18.028563, 'pid_650226': 17.978441, 'pid_658277': 17.926212, 'pid_679851': 17.854527, 'pid_370100': 17.848663, 'pid_476963': 17.831558, 'pid_257427': 17.820173, 'pid_621872': 17.718266, 'pid_713348': 17.621948, 'pid_543451': 17.569584, 'pid_755011': 17.52322, 'pid_551272': 17.515272, 'pid_636247': 17.514698, 'pid_468493': 17.4814, 'pid_321958': 17.479095, 'pid_642677': 17.416138, 'pid_159927': 16.986998, 'pid_542464': 16.947325, 'pid_138507': 16.855278, 'pid_181507': 16.848274, 'pid_855800': 16.832836, 'pid_750963': 16.810453, 'pid_381962': 16.799284, 'pid_236888': 16.77699, 'pid_807997': 16.77699, 'pid_179407': 16.755028, 'pid_970523': 16.70343, 'pid_820873': 16.632153, 'pid_138132': 16.560297, 'pid_56321': 16.525017, 'pid_493343': 16.506516, 'pid_816458': 16.503233, 'pid_8845': 16.469639, 'pid_256573': 16.378212, 'pid_225127': 16.360054, 'pid_441789': 16.012148, 'pid_796796': 15.9996395, 'pid_761472': 15.911951, 'pid_586914': 15.430403, 'pid_776599': 14.524801, 'pid_997920': 14.27324, 'pid_470647': 14.226011, 'pid_378467': 14.097, 'pid_750103': 14.094341, 'pid_275218': 14.027387, 'pid_931578': 13.992847, 'pid_467444': 13.9286785, 'pid_101660': 13.925186, 'pid_367492': 13.885908, 'pid_992220': 13.82081, 'pid_768767': 13.804197, 'pid_568088': 13.773273, 'pid_800184': 13.768738, 'pid_769849': 13.741114, 'pid_241009': 13.656632, 'pid_598797': 13.656431, 'pid_186805': 13.640612, 'pid_502012': 13.615719, 'pid_937374': 13.615509, 'pid_433821': 13.604851, 'pid_788999': 13.604851, 'pid_321852': 13.599422, 'pid_428788': 13.599014, 'pid_248247': 13.588579, 'pid_971810': 13.561168, 'pid_356441': 13.553663, 'pid_401845': 13.537498, 'pid_701238': 13.528341, 'pid_374726': 13.526077, 'pid_787868': 13.522228, 'pid_75909': 13.513756, 'pid_860682': 13.513756, 'pid_95783': 13.510679}, 'qid_5143': {'pid_235322': 15.601069, 'pid_258819': 15.480884, 'pid_20655': 15.302596, 'pid_300586': 15.277313, 'pid_273820': 15.22958, 'pid_818133': 15.171505, 'pid_53962': 15.052148, 'pid_64514': 15.049557, 'pid_90379': 15.045552, 'pid_413603': 15.0290985, 'pid_347032': 15.003036, 'pid_506711': 14.9581785, 'pid_694864': 14.952679, 'pid_31814': 14.930072, 'pid_469575': 14.930072, 'pid_953340': 14.930072, 'pid_423293': 14.92556, 'pid_808221': 14.811547, 'pid_595914': 14.782377, 'pid_947207': 14.748493, 'pid_325113': 14.746859, 'pid_120390': 14.734021, 'pid_513055': 14.68599, 'pid_119213': 14.676423, 'pid_724536': 14.555494, 'pid_81604': 14.55002, 'pid_648850': 14.55002, 'pid_659652': 14.544552, 'pid_74103': 14.533626, 'pid_776688': 14.5227165, 'pid_699157': 14.517268, 'pid_304614': 14.490086, 'pid_246103': 14.414515, 'pid_669520': 14.318502, 'pid_177603': 14.276239, 'pid_173843': 14.192457, 'pid_822662': 14.1539955, 'pid_775744': 14.016867, 'pid_721594': 13.9832115, 'pid_724431': 13.9832115, 'pid_841659': 13.977076, 'pid_36438': 13.940674, 'pid_109534': 13.939829, 'pid_145081': 13.933458, 'pid_849506': 13.920739, 'pid_425687': 13.90819, 'pid_9735': 13.901716, 'pid_245003': 13.8890705, 'pid_392875': 13.863865, 'pid_455517': 13.844717, 'pid_551215': 13.820999, 'pid_762062': 13.787847, 'pid_803972': 13.773887, 'pid_718161': 13.76766, 'pid_255741': 13.754316, 'pid_884006': 13.734356, 'pid_565251': 13.727718, 'pid_278672': 13.616002, 'pid_587170': 13.551652, 'pid_504975': 13.541494, 'pid_700766': 13.541494, 'pid_222223': 13.534182, 'pid_469523': 13.534182, 'pid_571870': 13.526877, 'pid_710564': 13.526877, 'pid_812605': 13.526877, 'pid_925390': 13.512295, 'pid_35394': 13.505016, 'pid_492032': 13.08913, 'pid_36568': 12.948961, 'pid_834589': 12.931651, 'pid_874632': 12.931651, 'pid_125768': 12.923012, 'pid_293086': 12.897169, 'pid_297588': 12.897169, 'pid_952405': 12.8885765, 'pid_440826': 12.879996, 'pid_444502': 12.879996, 'pid_824523': 12.879996, 'pid_308311': 12.871428, 'pid_155009': 12.854322, 'pid_345926': 12.837265, 'pid_682420': 12.837265, 'pid_699398': 12.8287525, 'pid_805315': 12.811762, 'pid_47953': 12.786361, 'pid_297156': 12.786361, 'pid_802235': 12.777915, 'pid_31032': 12.761059, 'pid_239937': 12.72748, 'pid_991437': 12.72748, 'pid_995757': 12.710756, 'pid_57666': 12.59491, 'pid_705726': 12.59491, 'pid_796691': 12.306495, 'pid_580025': 11.767555, 'pid_530881': 9.488552, 'pid_774191': 9.382798, 'pid_984930': 9.366068, 'pid_347758': 9.265511}, 'qid_5144': {'pid_545619': 18.702656, 'pid_616623': 18.403208, 'pid_103835': 18.077446, 'pid_335636': 18.068382, 'pid_978818': 17.700941, 'pid_987764': 17.464466, 'pid_144849': 17.033775, 'pid_676745': 16.86689, 'pid_944079': 16.86689, 'pid_620184': 16.832829, 'pid_721303': 16.73606, 'pid_816555': 16.512154, 'pid_923579': 16.49632, 'pid_154755': 16.297787, 'pid_92586': 16.289787, 'pid_258921': 16.151886, 'pid_998864': 15.710915, 'pid_326859': 15.279754, 'pid_599524': 15.2141695, 'pid_168062': 15.203722, 'pid_226179': 15.108492, 'pid_118318': 15.087095, 'pid_432126': 15.031204, 'pid_453577': 14.890152, 'pid_547709': 14.883408, 'pid_829468': 14.845673, 'pid_602199': 14.8275585, 'pid_723018': 14.821042, 'pid_933997': 14.759137, 'pid_188705': 14.750544, 'pid_546622': 14.741961, 'pid_211269': 14.705826, 'pid_774523': 14.639651, 'pid_299961': 14.625551, 'pid_112564': 14.586662, 'pid_322364': 14.586662, 'pid_176256': 14.5694275, 'pid_454120': 14.550818, 'pid_294462': 14.528073, 'pid_226562': 14.42658, 'pid_818914': 14.419235, 'pid_748379': 14.375988, 'pid_900047': 14.358337, 'pid_512349': 14.343723, 'pid_562693': 14.343723, 'pid_640041': 14.316947, 'pid_865243': 14.263691, 'pid_957655': 14.2425, 'pid_763299': 14.231928, 'pid_855078': 14.231928, 'pid_319105': 14.189797, 'pid_392168': 14.127066, 'pid_964038': 14.03821, 'pid_396654': 13.998627, 'pid_234784': 13.991834, 'pid_483480': 13.96579, 'pid_237749': 13.953711, 'pid_900869': 13.929577, 'pid_550252': 13.917551, 'pid_671631': 13.917551, 'pid_60923': 13.856384, 'pid_41736': 13.840026, 'pid_235423': 13.806383, 'pid_825604': 13.806383, 'pid_247752': 13.786399, 'pid_209789': 13.778971, 'pid_490712': 13.777243, 'pid_290190': 13.760786, 'pid_406901': 13.742294, 'pid_650228': 13.735288, 'pid_838081': 13.7228985, 'pid_868150': 13.7228985, 'pid_550711': 13.71508, 'pid_110758': 13.708212, 'pid_952841': 13.694495, 'pid_295940': 13.678322, 'pid_520071': 13.653524, 'pid_845398': 13.653524, 'pid_517876': 13.653184, 'pid_544979': 13.653184, 'pid_856941': 13.6406555, 'pid_205824': 13.633138, 'pid_604232': 13.617395, 'pid_419179': 13.578422, 'pid_850996': 13.568166, 'pid_126033': 13.567036, 'pid_272588': 13.552721, 'pid_119953': 13.540685, 'pid_481900': 13.538438, 'pid_410719': 13.5321865, 'pid_380734': 13.526916, 'pid_786131': 13.50997, 'pid_890303': 13.504622, 'pid_891157': 13.502872, 'pid_313287': 13.495785, 'pid_787766': 13.488703, 'pid_881526': 13.48163, 'pid_935656': 13.467508, 'pid_340900': 13.449208, 'pid_821365': 13.377989}, 'qid_5145': {'pid_788972': 25.866982, 'pid_873693': 24.059341, 'pid_968994': 20.794035, 'pid_380738': 20.78598, 'pid_614143': 20.767296, 'pid_527876': 20.69946, 'pid_985643': 20.671307, 'pid_740967': 20.652454, 'pid_19160': 20.574127, 'pid_218960': 20.542242, 'pid_949573': 20.534575, 'pid_75005': 20.522728, 'pid_461458': 20.500423, 'pid_819003': 20.365332, 'pid_374549': 20.357376, 'pid_337128': 20.347843, 'pid_75852': 20.316116, 'pid_152383': 20.21893, 'pid_801804': 20.20774, 'pid_799548': 20.166954, 'pid_742899': 20.155746, 'pid_779854': 20.132418, 'pid_172578': 20.110481, 'pid_120721': 20.1077, 'pid_246122': 20.060823, 'pid_366307': 20.043144, 'pid_566676': 20.02251, 'pid_18332': 19.99289, 'pid_2203': 19.978415, 'pid_678225': 19.967287, 'pid_977097': 19.960907, 'pid_847602': 19.933075, 'pid_369646': 19.871584, 'pid_30046': 19.86469, 'pid_769879': 19.853697, 'pid_635910': 19.849632, 'pid_289209': 19.832127, 'pid_838983': 19.831749, 'pid_997263': 19.82296, 'pid_402583': 19.821815, 'pid_999168': 19.803734, 'pid_9877': 19.784134, 'pid_608287': 19.767044, 'pid_395672': 19.755566, 'pid_637907': 19.706038, 'pid_675549': 19.695856, 'pid_573808': 19.687864, 'pid_198556': 19.687471, 'pid_37660': 19.657883, 'pid_43446': 19.585312, 'pid_153782': 19.546926, 'pid_565145': 19.521006, 'pid_3384': 19.475945, 'pid_471911': 19.475624, 'pid_572682': 19.461445, 'pid_876490': 19.461445, 'pid_594692': 19.460566, 'pid_804463': 19.459509, 'pid_623904': 19.445461, 'pid_590827': 19.415182, 'pid_581210': 19.410662, 'pid_686530': 19.373264, 'pid_711409': 19.354908, 'pid_263049': 19.275629, 'pid_398471': 19.233078, 'pid_830340': 19.212185, 'pid_602424': 19.211662, 'pid_852086': 19.194696, 'pid_338931': 19.174656, 'pid_291940': 19.159107, 'pid_172013': 19.110102, 'pid_592068': 19.104086, 'pid_582148': 19.089178, 'pid_584586': 19.06137, 'pid_628050': 19.047504, 'pid_487060': 19.040672, 'pid_404803': 19.01943, 'pid_691855': 19.01594, 'pid_131305': 19.008205, 'pid_171246': 19.000404, 'pid_41134': 18.971619, 'pid_819066': 18.965202, 'pid_572852': 18.937496, 'pid_734434': 18.883093, 'pid_620440': 18.864363, 'pid_461341': 18.86314, 'pid_485289': 18.8391, 'pid_260259': 18.828436, 'pid_498585': 18.810188, 'pid_530990': 18.800747, 'pid_169017': 18.777184, 'pid_465338': 18.712446, 'pid_54282': 18.708157, 'pid_351293': 18.701748, 'pid_908311': 18.698961, 'pid_509699': 18.685402, 'pid_151208': 18.685268, 'pid_382488': 18.677746, 'pid_675846': 18.63522, 'pid_243883': 18.621939}, 'qid_5146': {'pid_45088': 25.931116, 'pid_868233': 24.720676, 'pid_544200': 24.302185, 'pid_849304': 23.37144, 'pid_925280': 23.076115, 'pid_127189': 22.95863, 'pid_161100': 22.660635, 'pid_881060': 21.437996, 'pid_904030': 17.684807, 'pid_997780': 17.682966, 'pid_810502': 17.45862, 'pid_392173': 17.237085, 'pid_294061': 16.913546, 'pid_73764': 16.90348, 'pid_546575': 16.894886, 'pid_260521': 16.667202, 'pid_22953': 16.636421, 'pid_402462': 16.562227, 'pid_974710': 16.541403, 'pid_892319': 16.523745, 'pid_322280': 16.41888, 'pid_805979': 16.405579, 'pid_794261': 16.389381, 'pid_428569': 16.32069, 'pid_901956': 16.269045, 'pid_47843': 16.19407, 'pid_70707': 16.157625, 'pid_569416': 16.152966, 'pid_855668': 16.147472, 'pid_75817': 16.133745, 'pid_821966': 16.094692, 'pid_890787': 16.058525, 'pid_206587': 16.053394, 'pid_242096': 16.040007, 'pid_126168': 16.023214, 'pid_753424': 16.00817, 'pid_437045': 16.002281, 'pid_105822': 15.992108, 'pid_238407': 15.990877, 'pid_132294': 15.951506, 'pid_413642': 15.8830385, 'pid_248560': 15.879004, 'pid_91029': 15.872116, 'pid_959695': 15.836534, 'pid_811201': 15.815821, 'pid_683331': 15.748182, 'pid_96806': 15.742285, 'pid_963613': 15.736351, 'pid_188748': 15.724539, 'pid_686359': 15.711897, 'pid_510845': 15.619364, 'pid_144442': 15.575014, 'pid_427186': 15.549458, 'pid_854796': 15.526407, 'pid_59936': 15.504101, 'pid_944870': 15.498905, 'pid_18004': 15.48905, 'pid_70169': 15.413992, 'pid_361970': 15.413992, 'pid_920052': 15.412174, 'pid_540612': 15.3790245, 'pid_583306': 15.322943, 'pid_691752': 15.31304, 'pid_206047': 15.307881, 'pid_224589': 15.305067, 'pid_144074': 15.285544, 'pid_40781': 15.277853, 'pid_863777': 15.266879, 'pid_8109': 15.244582, 'pid_187333': 15.241608, 'pid_451239': 15.225439, 'pid_552722': 15.178712, 'pid_12589': 15.171452, 'pid_3979': 15.165278, 'pid_742808': 15.164334, 'pid_824229': 15.160589, 'pid_622186': 15.145068, 'pid_104275': 15.116372, 'pid_62581': 15.11005, 'pid_464030': 15.096317, 'pid_960974': 15.060417, 'pid_425752': 15.057665, 'pid_337255': 15.014793, 'pid_906922': 15.014793, 'pid_245561': 14.979788, 'pid_519865': 14.967825, 'pid_402209': 14.873697, 'pid_96826': 14.791473, 'pid_871919': 14.784047, 'pid_129813': 14.7766285, 'pid_968359': 14.773758, 'pid_759911': 14.769218, 'pid_961165': 14.724926, 'pid_570218': 14.680958, 'pid_79554': 14.671091, 'pid_813736': 14.666313, 'pid_436360': 14.651739, 'pid_871498': 14.621962, 'pid_13769': 14.593753, 'pid_451303': 14.564944}, 'qid_5147': {'pid_154660': 21.86866, 'pid_96602': 21.116127, 'pid_486275': 20.60029, 'pid_854981': 20.498974, 'pid_382388': 20.152428, 'pid_341130': 20.095486, 'pid_175955': 20.023514, 'pid_81996': 19.979437, 'pid_926932': 19.969154, 'pid_909947': 19.954086, 'pid_514542': 19.939045, 'pid_698903': 19.752619, 'pid_709575': 19.74428, 'pid_513484': 19.49654, 'pid_254424': 19.355497, 'pid_709522': 19.33219, 'pid_583390': 19.175386, 'pid_536089': 19.157557, 'pid_622414': 19.157066, 'pid_101685': 19.136755, 'pid_426791': 19.099558, 'pid_850272': 19.072609, 'pid_710323': 18.990267, 'pid_444361': 18.955523, 'pid_128096': 18.83518, 'pid_7664': 18.801155, 'pid_644779': 18.68309, 'pid_648741': 18.672203, 'pid_906578': 18.672203, 'pid_617759': 18.641003, 'pid_369650': 18.492607, 'pid_129715': 18.2265, 'pid_880242': 18.020374, 'pid_696820': 17.891296, 'pid_398298': 17.815685, 'pid_816484': 17.802193, 'pid_720859': 17.736519, 'pid_275528': 17.732962, 'pid_607610': 17.68832, 'pid_283459': 17.661287, 'pid_728123': 17.653883, 'pid_827653': 17.45328, 'pid_580417': 17.442049, 'pid_23725': 17.386063, 'pid_221402': 17.279182, 'pid_690897': 17.25663, 'pid_863525': 17.090899, 'pid_606726': 17.075588, 'pid_168874': 17.02232, 'pid_149633': 16.9365, 'pid_955654': 16.9335, 'pid_726366': 16.899178, 'pid_935750': 16.879227, 'pid_100508': 16.865494, 'pid_962410': 16.8611, 'pid_275622': 16.860012, 'pid_818811': 16.74036, 'pid_453560': 16.657715, 'pid_196559': 16.64838, 'pid_50275': 16.610847, 'pid_990509': 16.530102, 'pid_916916': 16.498615, 'pid_358659': 16.480804, 'pid_34703': 16.446331, 'pid_555731': 16.407402, 'pid_792252': 16.358831, 'pid_187848': 16.24297, 'pid_921018': 16.119947, 'pid_881569': 16.098549, 'pid_93312': 16.056124, 'pid_304411': 15.970716, 'pid_222558': 15.938183, 'pid_79740': 15.893745, 'pid_695356': 15.862004, 'pid_234709': 15.832621, 'pid_641984': 15.806416, 'pid_604913': 15.804768, 'pid_869753': 15.790039, 'pid_7329': 15.7770405, 'pid_574194': 15.774595, 'pid_284629': 15.749435, 'pid_83513': 15.723878, 'pid_244202': 15.690239, 'pid_89466': 15.660416, 'pid_383835': 15.651961, 'pid_279516': 15.642347, 'pid_43575': 15.584277, 'pid_874388': 15.569267, 'pid_205293': 15.542933, 'pid_793406': 15.526304, 'pid_54463': 15.518004, 'pid_317587': 15.518004, 'pid_116995': 15.49316, 'pid_746337': 15.489371, 'pid_673920': 15.435524, 'pid_911815': 15.435524, 'pid_422594': 15.394635, 'pid_768665': 15.378345, 'pid_957966': 15.345875, 'pid_973548': 15.333267}, 'qid_5148': {'pid_75240': 19.299858, 'pid_238858': 18.606432, 'pid_291496': 17.927433, 'pid_368955': 17.425678, 'pid_789981': 16.287235, 'pid_23825': 15.356564, 'pid_660755': 15.349612, 'pid_891025': 15.12266, 'pid_864796': 15.026594, 'pid_996660': 14.269495, 'pid_5117': 14.222173, 'pid_103766': 14.089326, 'pid_164248': 14.023405, 'pid_299457': 13.89413, 'pid_542153': 13.893795, 'pid_603379': 13.893795, 'pid_951340': 13.843928, 'pid_874942': 13.783861, 'pid_728834': 13.729738, 'pid_226740': 13.716652, 'pid_632939': 13.692381, 'pid_380187': 13.680976, 'pid_736613': 13.6349325, 'pid_15284': 13.552363, 'pid_407386': 13.444494, 'pid_685696': 13.35559, 'pid_415413': 13.34547, 'pid_944578': 13.283583, 'pid_885013': 13.277902, 'pid_543329': 13.070221, 'pid_431821': 13.065508, 'pid_251803': 12.985554, 'pid_885777': 12.965752, 'pid_311301': 12.964485, 'pid_386403': 12.874769, 'pid_848403': 12.850435, 'pid_137278': 12.8262005, 'pid_838811': 12.81412, 'pid_153009': 12.754087, 'pid_510801': 12.742154, 'pid_338497': 12.706497, 'pid_356481': 12.696047, 'pid_574294': 12.696047, 'pid_134224': 12.671056, 'pid_393313': 12.671056, 'pid_375765': 12.663347, 'pid_192197': 12.65929, 'pid_262035': 12.65929, 'pid_816775': 12.65011, 'pid_503245': 12.596893, 'pid_261962': 12.589186, 'pid_685315': 12.589186, 'pid_533019': 12.564225, 'pid_493653': 12.542913, 'pid_17006': 12.526559, 'pid_287233': 12.519915, 'pid_242036': 12.497007, 'pid_917654': 12.474189, 'pid_665844': 12.464357, 'pid_808881': 12.448225, 'pid_91720': 12.400079, 'pid_910938': 12.37742, 'pid_132506': 12.339148, 'pid_255702': 12.317934, 'pid_28982': 12.303968, 'pid_92654': 12.287484, 'pid_409820': 12.2513075, 'pid_705938': 12.184933, 'pid_401593': 12.143874, 'pid_780535': 12.126089, 'pid_132130': 11.950983, 'pid_464317': 11.932705, 'pid_688422': 11.932705, 'pid_792833': 11.924723, 'pid_990428': 11.924232, 'pid_720676': 11.901736, 'pid_681635': 11.877059, 'pid_522171': 11.869152, 'pid_534045': 11.837629, 'pid_719105': 11.837629, 'pid_672536': 11.82193, 'pid_321601': 11.8062725, 'pid_56707': 11.79846, 'pid_372819': 11.79846, 'pid_707579': 11.79846, 'pid_927789': 11.684355, 'pid_605952': 11.682493, 'pid_272199': 11.667202, 'pid_818795': 11.636742, 'pid_389849': 11.60644, 'pid_950478': 11.60644, 'pid_450978': 11.576295, 'pid_647776': 11.516473, 'pid_758537': 11.516473, 'pid_959516': 11.516473, 'pid_973170': 11.457266, 'pid_166870': 11.440131, 'pid_965478': 11.427891, 'pid_246163': 11.425226, 'pid_761758': 11.419643}, 'qid_5149': {'pid_109982': 23.076546, 'pid_653187': 18.021048, 'pid_920829': 15.848369, 'pid_598100': 15.701097, 'pid_748093': 15.54322, 'pid_586894': 14.645941, 'pid_733128': 14.5767975, 'pid_77107': 14.186019, 'pid_11578': 14.001395, 'pid_471508': 13.894686, 'pid_250407': 13.676443, 'pid_330238': 13.452106, 'pid_45139': 11.965554, 'pid_911154': 11.877081, 'pid_432667': 11.827264, 'pid_473835': 11.791874, 'pid_136473': 11.777777, 'pid_452697': 11.777777, 'pid_228457': 11.744548, 'pid_656137': 11.7310295, 'pid_676044': 11.676794, 'pid_879189': 11.597677, 'pid_940148': 11.552346, 'pid_263590': 11.525612, 'pid_951824': 11.513346, 'pid_927642': 11.501398, 'pid_373490': 11.495434, 'pid_212154': 11.483523, 'pid_116269': 11.483522, 'pid_167570': 11.438766, 'pid_589694': 11.35412, 'pid_386649': 11.0971775, 'pid_775908': 11.093013, 'pid_716422': 11.084692, 'pid_89135': 11.072234, 'pid_630357': 11.068088, 'pid_432063': 11.063945, 'pid_512229': 11.063945, 'pid_595164': 11.031994, 'pid_245947': 11.007169, 'pid_240830': 10.941513, 'pid_47939': 10.9252205, 'pid_252813': 10.900874, 'pid_294677': 10.900874, 'pid_986692': 10.876635, 'pid_916770': 10.872652, 'pid_106018': 10.844484, 'pid_182643': 10.844484, 'pid_411573': 10.82848, 'pid_51647': 9.971001, 'pid_291852': 9.950858, 'pid_552716': 9.937475, 'pid_889771': 9.937475, 'pid_216190': 9.924129, 'pid_464027': 9.910817, 'pid_656185': 9.904175, 'pid_85076': 9.89459, 'pid_813534': 9.887923, 'pid_382917': 9.877695, 'pid_186672': 9.867975, 'pid_166806': 9.864508, 'pid_339238': 9.8513565, 'pid_987169': 9.844793, 'pid_456168': 9.841504, 'pid_18845': 9.831694, 'pid_331480': 9.831694, 'pid_749950': 9.831694, 'pid_50086': 9.821743, 'pid_437056': 9.818629, 'pid_461298': 9.808613, 'pid_269035': 9.802061, 'pid_243244': 9.799097, 'pid_955418': 9.792604, 'pid_655104': 9.779855, 'pid_368625': 9.775942, 'pid_863186': 9.769434, 'pid_3430': 9.762934, 'pid_218981': 9.762934, 'pid_250591': 9.762934, 'pid_742535': 9.762934, 'pid_852968': 9.762934, 'pid_188795': 9.749961, 'pid_255269': 9.749961, 'pid_716173': 9.749961, 'pid_879233': 9.749961, 'pid_298507': 9.747391, 'pid_9047': 9.737022, 'pid_959085': 9.734549, 'pid_944309': 9.724117, 'pid_116631': 9.717678, 'pid_333708': 9.717678, 'pid_547377': 9.717678, 'pid_548601': 9.717678, 'pid_886733': 9.703083, 'pid_774270': 9.692005, 'pid_201602': 9.685609, 'pid_433225': 9.685609, 'pid_48659': 9.65375, 'pid_231706': 9.65375, 'pid_640533': 9.65375}, 'qid_5150': {'pid_37772': 67.900536, 'pid_760546': 66.93658, 'pid_245158': 66.50379, 'pid_861798': 66.37416, 'pid_391355': 65.53298, 'pid_241788': 61.02037, 'pid_137556': 60.065365, 'pid_889140': 54.994198, 'pid_687767': 47.90685, 'pid_635587': 46.874157, 'pid_486470': 46.864983, 'pid_798425': 45.656208, 'pid_679658': 45.133163, 'pid_25935': 43.912792, 'pid_659859': 43.912792, 'pid_644488': 43.785103, 'pid_840229': 42.83215, 'pid_232342': 42.622, 'pid_704024': 42.008575, 'pid_160710': 41.438362, 'pid_649516': 39.9771, 'pid_443522': 39.655533, 'pid_402472': 39.1607, 'pid_986788': 38.63526, 'pid_544538': 38.589123, 'pid_313342': 38.50014, 'pid_887244': 38.188145, 'pid_489792': 37.644215, 'pid_506932': 37.076862, 'pid_823588': 36.849968, 'pid_105092': 36.35853, 'pid_732138': 36.315815, 'pid_413529': 35.26185, 'pid_395844': 34.89378, 'pid_536519': 34.82818, 'pid_223576': 34.802002, 'pid_495362': 34.762817, 'pid_490095': 34.723717, 'pid_805654': 34.671726, 'pid_445870': 34.671005, 'pid_50969': 34.58111, 'pid_699684': 34.58111, 'pid_83042': 34.48623, 'pid_837345': 34.273994, 'pid_76904': 34.12247, 'pid_192702': 31.904818, 'pid_133514': 31.33126, 'pid_340765': 31.178663, 'pid_897408': 31.171669, 'pid_435936': 31.117565, 'pid_499354': 31.078945, 'pid_763163': 30.728376, 'pid_787685': 30.647036, 'pid_838198': 30.647036, 'pid_282700': 30.626768, 'pid_260242': 30.586313, 'pid_999448': 30.586313, 'pid_737829': 30.306087, 'pid_598563': 30.266476, 'pid_761787': 30.226967, 'pid_904713': 29.846817, 'pid_438636': 29.837467, 'pid_53521': 29.79219, 'pid_140892': 29.684464, 'pid_634339': 29.630451, 'pid_453665': 29.60855, 'pid_793575': 29.431446, 'pid_186825': 29.054253, 'pid_583793': 28.812904, 'pid_371934': 28.589115, 'pid_85666': 28.486332, 'pid_972218': 28.474182, 'pid_822818': 28.37832, 'pid_940338': 28.157036, 'pid_651542': 28.145731, 'pid_185665': 27.989689, 'pid_164337': 27.87206, 'pid_42426': 27.859686, 'pid_937799': 27.784397, 'pid_451693': 27.781818, 'pid_975249': 27.760843, 'pid_237970': 27.744452, 'pid_100074': 27.700119, 'pid_271009': 27.631193, 'pid_833375': 26.529753, 'pid_784822': 26.529633, 'pid_275663': 26.400774, 'pid_734595': 25.723724, 'pid_909646': 25.706646, 'pid_158773': 25.674828, 'pid_747613': 25.672554, 'pid_383040': 25.593105, 'pid_525598': 25.486176, 'pid_51041': 24.83484, 'pid_94684': 24.82965, 'pid_726927': 24.725773, 'pid_212395': 24.707853, 'pid_690651': 24.628475, 'pid_830366': 24.591888, 'pid_146552': 24.589823}}\n"
     ]
    }
   ],
   "source": [
    "print(bm25_rankings_val)"
   ]
  },
  {
   "cell_type": "code",
   "execution_count": 27,
   "metadata": {},
   "outputs": [
    {
     "name": "stdout",
     "output_type": "stream",
     "text": [
      "{'pid_117266': 12.280257, 'pid_918825': 12.155283, 'pid_753852': 12.030976, 'pid_642308': 12.01893, 'pid_999404': 12.016524, 'pid_59615': 12.001927, 'pid_958055': 11.9947, 'pid_586770': 11.942802, 'pid_864522': 11.94198, 'pid_777894': 11.73322, 'pid_405569': 11.69874, 'pid_676474': 11.678431, 'pid_5532': 11.672373, 'pid_908844': 11.655184, 'pid_733135': 11.648991, 'pid_96328': 11.567174, 'pid_336586': 11.556955, 'pid_871699': 11.466952, 'pid_468556': 11.465498, 'pid_212913': 11.453239, 'pid_767653': 11.409626, 'pid_283946': 11.284936, 'pid_156569': 11.209551, 'pid_91248': 11.209067, 'pid_231672': 11.193165, 'pid_653920': 11.188173, 'pid_617972': 11.160589, 'pid_791179': 11.154905, 'pid_617982': 11.140361, 'pid_505240': 11.105911, 'pid_568500': 11.049002, 'pid_412910': 11.044501, 'pid_713034': 10.973118, 'pid_646739': 10.937847, 'pid_509757': 10.905163, 'pid_338983': 10.902853, 'pid_579502': 10.868131, 'pid_723848': 10.868131, 'pid_702133': 10.85694, 'pid_134695': 10.811132, 'pid_697133': 10.769651, 'pid_701272': 10.755141, 'pid_789319': 10.753626, 'pid_282474': 10.738199, 'pid_476794': 10.737984, 'pid_7561': 10.722538, 'pid_831805': 10.681866, 'pid_354614': 10.671154, 'pid_769438': 10.663664, 'pid_278306': 10.660942, 'pid_673173': 10.59733, 'pid_114805': 10.559966, 'pid_437859': 10.546122, 'pid_753098': 10.540018, 'pid_121374': 10.528944, 'pid_660426': 10.520152, 'pid_9634': 10.471484, 'pid_374920': 10.447247, 'pid_622418': 10.426511, 'pid_47928': 10.420918, 'pid_718819': 10.402632, 'pid_991506': 10.387497, 'pid_589544': 10.348725, 'pid_681321': 10.245279, 'pid_508124': 10.193602, 'pid_433698': 10.049887, 'pid_208449': 10.009663, 'pid_364647': 10.009663, 'pid_709053': 10.002991, 'pid_88869': 9.996326, 'pid_760849': 9.989672, 'pid_119315': 9.983026, 'pid_668442': 9.9631405, 'pid_448966': 9.95653, 'pid_815003': 9.95653, 'pid_545781': 9.949927, 'pid_890930': 9.936749, 'pid_876173': 9.930174, 'pid_56774': 9.923607, 'pid_104119': 9.9170475, 'pid_100760': 9.903957, 'pid_575578': 9.903957, 'pid_9041': 9.897425, 'pid_46206': 9.897425, 'pid_676306': 9.897425, 'pid_995052': 9.897425, 'pid_63986': 9.884384, 'pid_632030': 9.884384, 'pid_432814': 9.85841, 'pid_784834': 9.85841, 'pid_96068': 9.845472, 'pid_180247': 9.845472, 'pid_825184': 9.845472, 'pid_575652': 9.8197, 'pid_633915': 9.8197, 'pid_452505': 9.806866, 'pid_559428': 9.806866, 'pid_151496': 9.794064, 'pid_907487': 9.794064, 'pid_356724': 9.754261}\n"
     ]
    }
   ],
   "source": [
    "print(bm25_rankings_test['qid_5283'])"
   ]
  },
  {
   "cell_type": "code",
   "execution_count": 28,
   "metadata": {},
   "outputs": [],
   "source": [
    "for query in bm25_rankings_val:\n",
    "    assert len(bm25_rankings_val[query]) == 100, f\"doc_count of {query} is {len(bm25_rankings_val[query])}\""
   ]
  },
  {
   "cell_type": "code",
   "execution_count": null,
   "metadata": {},
   "outputs": [
    {
     "name": "stdout",
     "output_type": "stream",
     "text": [
      "recall_10: 0.1475 ; recall_20: 0.2415 ; ndcg_cut_10: 0.3565 ; P_5: 0.4693 ; P_20: 0.4043 ; mrr_100: 0.5367\n"
     ]
    }
   ],
   "source": [
    "bm25_eval = evaluate(validation_qrel_dict, bm25_rankings_val)"
   ]
  },
  {
   "cell_type": "markdown",
   "metadata": {},
   "source": [
    "recall_10: 0.1831 ; recall_20: 0.3048 ; ndcg_cut_10: 0.4641 ; P_5: 0.5840 ; P_20: 0.4903 ; mrr_100: 0.6242"
   ]
  },
  {
   "cell_type": "code",
   "execution_count": 30,
   "metadata": {},
   "outputs": [],
   "source": [
    "def tfidf(queries_dict, bm25_rankings, output_file) -> Dict[str, Dict[str, float]]:\n",
    "    \"\"\"\n",
    "    Perform TF-IDF ranking for the given queries and save results to a file.\n",
    "\n",
    "    Args:\n",
    "        queries_dict: A dictionary with query IDs and query strings.\n",
    "        bm25_rankings: A dictionary with query IDs and corresponding BM25-ranked documents.\n",
    "        output_file: The name of the output file where results are stored.\n",
    "\n",
    "    Returns:\n",
    "        A dictionary in the format {query_id: {doc_id: score}} for TF-IDF rankings.\n",
    "    \"\"\"\n",
    "    tfidf_rankings = {}\n",
    "\n",
    "    msearch_queries = []\n",
    "    for query_id, query_string in queries_dict.items():\n",
    "        doc_ids = list(bm25_rankings[query_id].keys())\n",
    "\n",
    "        assert len(doc_ids) in [20, 100, 200], f'bm25 rankings should have top_n documents per query. Query {query_id} only has {len(doc_ids)} documents'\n",
    "\n",
    "        msearch_queries.append({\"index\": 'tfidf_index'})\n",
    "        msearch_queries.append({\n",
    "            \"query\": {\n",
    "                \"bool\": {\n",
    "                    \"filter\": [{\"terms\": {\"_id\": doc_ids}}],\n",
    "                    \"must\": [{\"match\": {\"text\": query_string}}]\n",
    "                }\n",
    "            },\n",
    "            \"_source\": [\"_id\", \"_score\"],\n",
    "            \"size\": len(doc_ids)\n",
    "        })\n",
    "\n",
    "    response = es.msearch(body=msearch_queries)\n",
    "\n",
    "    # Process the responses and ensure tfidf_rankings matches bm25_rankings\n",
    "    for idx, query_id in enumerate(queries_dict.keys()):\n",
    "        query_results = response['responses'][idx]\n",
    "        \n",
    "        top_docs_and_scores = {\n",
    "            hit[\"_id\"]: hit[\"_score\"]\n",
    "            for hit in query_results[\"hits\"][\"hits\"]\n",
    "        } if \"hits\" in query_results[\"hits\"] and query_results[\"hits\"][\"hits\"] else {}\n",
    "\n",
    "        tfidf_rankings[query_id] = {\n",
    "            doc_id: top_docs_and_scores.get(doc_id, 0)  # Default score is 0 if not found\n",
    "            for doc_id in bm25_rankings[query_id].keys()\n",
    "        }\n",
    "\n",
    "    write_rankings_to_file(tfidf_rankings, output_file)\n",
    "    \n",
    "    return tfidf_rankings\n"
   ]
  },
  {
   "cell_type": "code",
   "execution_count": 31,
   "metadata": {},
   "outputs": [],
   "source": [
    "try:\n",
    "    tfidf_rankings_val = read_file_to_dict('results/tfidf_val.txt')\n",
    "    tfidf_rankings_test = read_file_to_dict('results/tfidf_test.txt')\n",
    "    tfidf_rankings_train = read_file_to_dict('results/tfidf_train.txt')\n",
    "except:\n",
    "    tfidf_rankings_val = tfidf(validation_queries_dict, bm25_rankings_val, 'tfidf_val.txt')\n",
    "    tfidf_rankings_test = tfidf(test_queries_dict, bm25_rankings_test, 'tfidf_test.txt')\n",
    "    tfidf_rankings_train = tfidf(train_queries_dict, bm25_rankings_train, 'tfidf_train.txt')"
   ]
  },
  {
   "cell_type": "code",
   "execution_count": 32,
   "metadata": {},
   "outputs": [],
   "source": [
    "for query in tfidf_rankings_val:\n",
    "    assert len(tfidf_rankings_val[query]) == 100, f\"doc_count of {query} is {len(tfidf_rankings_val[query])}\"\n",
    "    \n",
    "for query_id in bm25_rankings_val.keys():\n",
    "        bm25_doc_ids = set(bm25_rankings_val[query_id].keys())\n",
    "        tfidf_doc_ids = set(tfidf_rankings_val.get(query_id, {}).keys())\n",
    "        assert bm25_doc_ids == tfidf_doc_ids, f\"Document IDs mismatch for query '{query_id}': BM25 IDs: {bm25_doc_ids}, TF-IDF IDs: {tfidf_doc_ids}\""
   ]
  },
  {
   "cell_type": "code",
   "execution_count": 33,
   "metadata": {},
   "outputs": [
    {
     "name": "stdout",
     "output_type": "stream",
     "text": [
      "recall_10: 0.1205 ; recall_20: 0.2109 ; ndcg_cut_10: 0.2964 ; P_5: 0.4240 ; P_20: 0.3637 ; mrr_100: 0.5367\n"
     ]
    }
   ],
   "source": [
    "tfidf_eval = evaluate(validation_qrel_dict, tfidf_rankings_val)"
   ]
  },
  {
   "cell_type": "markdown",
   "metadata": {},
   "source": [
    "The scores of tfidf_eval changed because we now take the tfidf of only the top_n documents from the bm25."
   ]
  },
  {
   "cell_type": "code",
   "execution_count": 34,
   "metadata": {},
   "outputs": [],
   "source": [
    "def build_lsa_vector(lsa_representation, num_topics):\n",
    "    \"\"\"Build a full LSA vector from the sparse LSA representation, ensuring all topics are included.\"\"\"\n",
    "    vec = np.zeros(num_topics)\n",
    "    for topic_id, weight in lsa_representation:\n",
    "        if topic_id < num_topics:\n",
    "            vec[topic_id] = weight\n",
    "    return vec\n",
    "\n",
    "def LSA(queries_dict, bm25_rankings, output_file, num_topics=100) -> Dict[str, Dict[str, float]]:\n",
    "    print('Tokenizing documents and queries...')\n",
    "    \n",
    "    doc_ids = []\n",
    "    for query_id in queries_dict.keys():\n",
    "        query_doc_ids = list(bm25_rankings[query_id].keys())\n",
    "        assert len(query_doc_ids) in [20, 100, 200], f'bm25 rankings should have top_n documents per query. Query {query_id} only has {len(query_doc_ids)} documents'\n",
    "        doc_ids.extend(query_doc_ids)\n",
    "        \n",
    "    documents: List[str] = [collection_dict[doc_id] for doc_id in doc_ids]\n",
    "    tokenized_documents = [doc_text.split() for doc_text in documents]\n",
    "    \n",
    "    doc_id_to_index = {doc_id: index for index, doc_id in enumerate(doc_ids)}\n",
    "\n",
    "    tokenized_queries = [query.split() for query in queries_dict.values()]\n",
    "\n",
    "    print('Creating corpora Dictionary...')\n",
    "    dictionary = corpora.Dictionary(tokenized_documents + tokenized_queries)\n",
    "        \n",
    "    corpus_bow = [dictionary.doc2bow(doc) for doc in tokenized_documents]\n",
    "    query_bow = [dictionary.doc2bow(query) for query in tokenized_queries]\n",
    "\n",
    "    print(\"Training TF-IDF model...\")\n",
    "    tfidf_model = TfidfModel(corpus_bow)\n",
    "\n",
    "    corpus_tfidf = tfidf_model[corpus_bow]\n",
    "    queries_tfidf = tfidf_model[query_bow]\n",
    "\n",
    "    print(f\"Training LSA model with {num_topics} topics...\")\n",
    "    lsa_model = LsiModel(corpus_tfidf, id2word=dictionary, num_topics=num_topics)\n",
    "\n",
    "    # Create document vectors in LSA space while maintaining original order\n",
    "    print(\"Creating LSA vectors...\")\n",
    "    docs_lsa = list(lsa_model[corpus_tfidf])\n",
    "    queries_lsa = list(lsa_model[queries_tfidf])\n",
    "\n",
    "    print(\"Computing similarities and creating rankings...\")\n",
    "\n",
    "    lsa_rankings = defaultdict(lambda: defaultdict(float))\n",
    "\n",
    "    # Vectorize the similarity computation\n",
    "    for i, query_id in enumerate(queries_dict.keys()):\n",
    "        query_lsa = queries_lsa[i]\n",
    "        query_lsa_vec = build_lsa_vector(query_lsa, num_topics)\n",
    "        query_lsa_vec = np.array([query_lsa_vec])\n",
    "\n",
    "        doc_ids_for_query = list(bm25_rankings[query_id].keys())\n",
    "        doc_lsa_vecs = np.vstack([build_lsa_vector(docs_lsa[doc_id_to_index[doc_id]], num_topics) for doc_id in doc_ids_for_query])\n",
    "\n",
    "        similarity_scores = cosine_similarity(query_lsa_vec, doc_lsa_vecs)[0]  # shape: (n_docs,)\n",
    "\n",
    "        for j, doc_id in enumerate(doc_ids_for_query):\n",
    "            lsa_rankings[query_id][doc_id] = float(similarity_scores[j])\n",
    "        \n",
    "        sorted_docs = sorted(lsa_rankings[query_id].items(), key=lambda item: item[1], reverse=True)\n",
    "        lsa_rankings[query_id] = defaultdict(float, sorted_docs)\n",
    "\n",
    "    write_rankings_to_file(lsa_rankings, output_file)\n",
    "\n",
    "    return dict(lsa_rankings)\n"
   ]
  },
  {
   "cell_type": "code",
   "execution_count": 35,
   "metadata": {},
   "outputs": [],
   "source": [
    "try:\n",
    "    lsa_rankings_val = read_file_to_dict('results/lsa_val.txt')\n",
    "    lsa_rankings_test = read_file_to_dict('results/lsa_test.txt')\n",
    "    lsa_rankings_train = read_file_to_dict('results/lsa_train.txt')\n",
    "except:\n",
    "    lsa_rankings_val = LSA(validation_queries_dict, bm25_rankings_val, 'lsa_val.txt', 200)\n",
    "    lsa_rankings_test = LSA(test_queries_dict, bm25_rankings_test, 'lsa_test.txt', 200)\n",
    "    lsa_rankings_train = LSA(train_queries_dict, bm25_rankings_train, 'lsa_train.txt', 200)\n",
    "    \n",
    "# 1000 topics takes around 9.5 minutes in total"
   ]
  },
  {
   "cell_type": "code",
   "execution_count": 36,
   "metadata": {},
   "outputs": [],
   "source": [
    "for query in lsa_rankings_val:\n",
    "    assert len(lsa_rankings_val[query]) == 100, f\"doc_count of {query} is {len(lsa_rankings_val[query])}\"\n",
    "    \n",
    "for query_id in bm25_rankings_val.keys():\n",
    "        bm25_doc_ids = set(bm25_rankings_val[query_id].keys())\n",
    "        lsa_doc_ids = set(lsa_rankings_val.get(query_id, {}).keys())\n",
    "\n",
    "        assert bm25_doc_ids == lsa_doc_ids, f\"Document IDs mismatch for query '{query_id}'\""
   ]
  },
  {
   "cell_type": "code",
   "execution_count": 37,
   "metadata": {},
   "outputs": [
    {
     "name": "stdout",
     "output_type": "stream",
     "text": [
      "recall_10: 0.0994 ; recall_20: 0.1790 ; ndcg_cut_10: 0.2432 ; P_5: 0.3507 ; P_20: 0.3243 ; mrr_100: 0.3589\n"
     ]
    }
   ],
   "source": [
    "lsa_eval = evaluate(validation_qrel_dict, lsa_rankings_val)"
   ]
  },
  {
   "cell_type": "code",
   "execution_count": 38,
   "metadata": {},
   "outputs": [],
   "source": [
    "# Caching word embeddings at the word level\n",
    "@lru_cache(maxsize=None)\n",
    "def get_word_embedding(word: str, model) -> Optional[np.ndarray]:\n",
    "    \"\"\"Retrieve the embedding for a single word, with caching.\"\"\"\n",
    "    if word in model:\n",
    "        embedding: np.ndarray = model[word]\n",
    "        return embedding\n",
    "    \n",
    "    return None  # Return None if the word is not in the vocabulary of the model\n",
    "\n",
    "# Caching if the document has been seen before\n",
    "@lru_cache(maxsize=None)\n",
    "def get_average_word_embeddings(words: list[str], model) -> np.ndarray:\n",
    "    \"\"\"Compute the average word embedding for a list of words, using cached word embeddings.\"\"\"\n",
    "    valid_embeddings: list[np.ndarray] = [get_word_embedding(word, model) for word in words if get_word_embedding(word, model) is not None]\n",
    "    \n",
    "    if valid_embeddings:\n",
    "        return np.mean(valid_embeddings, axis=0)\n",
    "    \n",
    "    return np.zeros(model.vector_size)\n",
    "\n",
    "def W2V(rankings_dict, queries_dict, model, output_file):\n",
    "    \"\"\"Compute W2V for queries and their top-ranked documents, vectorized for faster similarity computation.\"\"\"\n",
    "    w2v_rankings = defaultdict(lambda: defaultdict(float))\n",
    "\n",
    "    for query_id, top_docs in rankings_dict.items():\n",
    "        query_text = queries_dict[query_id]\n",
    "\n",
    "        query_embeddings = get_average_word_embeddings(query_text, model)\n",
    "        query_embeddings = np.array([query_embeddings])\n",
    "\n",
    "        assert query_embeddings.shape == (1, model.vector_size), f\"Query embeddings shape mismatch: {query_embeddings.shape}\"\n",
    "\n",
    "        doc_ids_for_query = list(top_docs.keys())\n",
    "        doc_embeddings = np.vstack([get_average_word_embeddings(collection_dict[doc_id], model) for doc_id in doc_ids_for_query])\n",
    "\n",
    "        assert doc_embeddings.shape == (len(doc_ids_for_query), model.vector_size), f\"Document embeddings shape mismatch: {doc_embeddings.shape}\"\n",
    "\n",
    "        # Compute cosine similarity between the query and all document embeddings at once\n",
    "        similarity_scores = cosine_similarity(query_embeddings, doc_embeddings)[0]  # shape: (n_docs,)\n",
    "\n",
    "        # Store the similarity scores for each document\n",
    "        for i, doc_id in enumerate(doc_ids_for_query):\n",
    "            w2v_rankings[query_id][doc_id] = float(similarity_scores[i])\n",
    "            \n",
    "    write_rankings_to_file(w2v_rankings, output_file)\n",
    "\n",
    "    return w2v_rankings\n"
   ]
  },
  {
   "cell_type": "code",
   "execution_count": 39,
   "metadata": {},
   "outputs": [
    {
     "name": "stdout",
     "output_type": "stream",
     "text": [
      "Loading pre-trained Word2Vec Google News 300 model...\n"
     ]
    }
   ],
   "source": [
    "# Load pre-trained Google News Word2Vec model (300 dimensions)\n",
    "try:\n",
    "    googleNews_model\n",
    "except:\n",
    "    print(\"Loading pre-trained Word2Vec Google News 300 model...\")\n",
    "    googleNews_model = api.load(\"word2vec-google-news-300\")"
   ]
  },
  {
   "cell_type": "code",
   "execution_count": 40,
   "metadata": {},
   "outputs": [],
   "source": [
    "# Load pre-trained Glove Word2Vec model (300 dimensions)\n",
    "try:\n",
    "    glove_model\n",
    "except:\n",
    "    # print(\"Loading pre-trained Word2Vec Glove 300 model...\")\n",
    "    # glove_model = api.load(\"glove-wiki-gigaword-300\")\n",
    "    pass"
   ]
  },
  {
   "cell_type": "code",
   "execution_count": 41,
   "metadata": {},
   "outputs": [],
   "source": [
    "# Load pre-trained FastText Word2Vec model (300 dimensions)\n",
    "try:\n",
    "    fasttext_model\n",
    "except:\n",
    "    # print(\"Loading pre-trained Word2Vec FastText 300 model...\")\n",
    "    # fasttext_model = api.load(\"fasttext-wiki-news-subwords-300\")\n",
    "    pass"
   ]
  },
  {
   "cell_type": "code",
   "execution_count": 42,
   "metadata": {},
   "outputs": [
    {
     "name": "stdout",
     "output_type": "stream",
     "text": [
      "Results written to results\\w2v_val_google.txt\n"
     ]
    }
   ],
   "source": [
    "w2v_rankings_val_google = W2V(bm25_rankings_val, validation_queries_dict, googleNews_model, 'w2v_val_google.txt')\n",
    "# w2v_rankings_val_glove = W2V(bm25_rankings_val, validation_queries_dict, glove_model, 'w2v_val_glove.txt')\n",
    "# w2v_rankings_val_fasttext = W2V(bm25_rankings_val, validation_queries_dict, fasttext_model, 'w2v_val_fasttext.txt')"
   ]
  },
  {
   "cell_type": "code",
   "execution_count": 43,
   "metadata": {},
   "outputs": [
    {
     "name": "stdout",
     "output_type": "stream",
     "text": [
      "GOOGLE NEWS\n",
      "recall_10: 0.0843 ; recall_20: 0.1527 ; ndcg_cut_10: 0.1876 ; P_5: 0.2680 ; P_20: 0.2710 ; mrr_100: 0.5367\n"
     ]
    }
   ],
   "source": [
    "print('GOOGLE NEWS')\n",
    "w2v_eval_google = evaluate(validation_qrel_dict, w2v_rankings_val_google)\n",
    "# print('-' * 100)\n",
    "# print('GLOVE')\n",
    "# w2v_eval_glove = evaluate(validation_qrel_dict, w2v_rankings_val_glove)\n",
    "# print('-' * 100)\n",
    "# print('FASTTEXT')\n",
    "# w2v_eval_fasttext = evaluate(validation_qrel_dict, w2v_rankings_val_fasttext)"
   ]
  },
  {
   "cell_type": "markdown",
   "metadata": {},
   "source": [
    "We choose to use the Google News 300 model, because it scores the best on most metrics"
   ]
  },
  {
   "cell_type": "code",
   "execution_count": 44,
   "metadata": {},
   "outputs": [],
   "source": [
    "try:\n",
    "    w2v_rankings_val = read_file_to_dict('results/w2v_val.txt')\n",
    "    w2v_rankings_test = read_file_to_dict('results/w2v_test.txt')\n",
    "    w2v_rankings_train = read_file_to_dict('results/w2v_train.txt')\n",
    "except:    \n",
    "    w2v_rankings_val = W2V(bm25_rankings_val, validation_queries_dict, googleNews_model, 'w2v_val.txt')\n",
    "    w2v_rankings_test = W2V(bm25_rankings_test, test_queries_dict, googleNews_model, 'w2v_test.txt')\n",
    "    w2v_rankings_train = W2V(bm25_rankings_train, train_queries_dict, googleNews_model, 'w2v_train.txt')"
   ]
  },
  {
   "cell_type": "code",
   "execution_count": 45,
   "metadata": {},
   "outputs": [],
   "source": [
    "for query in w2v_rankings_val:\n",
    "    assert len(w2v_rankings_val[query]) == 100, f\"doc_count of {query} is {len(w2v_rankings_val[query])}\"\n",
    "    \n",
    "for query_id in bm25_rankings_val.keys():\n",
    "        bm25_doc_ids = set(bm25_rankings_val[query_id].keys())\n",
    "        w2v_doc_ids = set(w2v_rankings_val.get(query_id, {}).keys())\n",
    "\n",
    "        assert bm25_doc_ids == w2v_doc_ids, f\"Document IDs mismatch for query '{query_id}'\""
   ]
  },
  {
   "cell_type": "code",
   "execution_count": 46,
   "metadata": {},
   "outputs": [
    {
     "name": "stdout",
     "output_type": "stream",
     "text": [
      "recall_10: 0.0843 ; recall_20: 0.1527 ; ndcg_cut_10: 0.1876 ; P_5: 0.2680 ; P_20: 0.2710 ; mrr_100: 0.5367\n"
     ]
    }
   ],
   "source": [
    "w2v_eval = evaluate(validation_qrel_dict, w2v_rankings_val)"
   ]
  },
  {
   "cell_type": "code",
   "execution_count": 47,
   "metadata": {},
   "outputs": [],
   "source": [
    "def query_terms_count(bm25_rankings, queries_dict: Dict[str, str], output_file):\n",
    "    query_terms_count = defaultdict(int)\n",
    "    \n",
    "    for query_id in bm25_rankings.keys():\n",
    "        query_terms = queries_dict[query_id].split()\n",
    "        query_terms_count[query_id] = len(query_terms)\n",
    "    \n",
    "    output_dir = 'results'\n",
    "    os.makedirs(output_dir, exist_ok=True)\n",
    "    file_path = os.path.join(output_dir, output_file)\n",
    "    \n",
    "    with open(file_path, 'w') as file:\n",
    "        for query_id, term_count in query_terms_count.items():\n",
    "            file.write(f'Query {query_id}:\\n')\n",
    "            file.write(f'    Term_count: {term_count}\\n')\n",
    "            file.write('\\n')\n",
    "\n",
    "    print(f'Results written to {file_path}')\n",
    "    \n",
    "    return query_terms_count  # The amount of terms in the query, not the length of the string"
   ]
  },
  {
   "cell_type": "code",
   "execution_count": 48,
   "metadata": {},
   "outputs": [
    {
     "name": "stdout",
     "output_type": "stream",
     "text": [
      "Results written to results\\query_terms_count_val.txt\n",
      "Results written to results\\query_terms_count_test.txt\n",
      "Results written to results\\query_terms_count_train.txt\n"
     ]
    }
   ],
   "source": [
    "query_terms_count_val = query_terms_count(bm25_rankings_val, validation_queries_dict, 'query_terms_count_val.txt')\n",
    "query_terms_count_test = query_terms_count(bm25_rankings_test, test_queries_dict, 'query_terms_count_test.txt')\n",
    "query_terms_count_train = query_terms_count(bm25_rankings_train, train_queries_dict, 'query_terms_count_train.txt')"
   ]
  },
  {
   "cell_type": "code",
   "execution_count": 49,
   "metadata": {},
   "outputs": [
    {
     "name": "stdout",
     "output_type": "stream",
     "text": [
      "qid_5001: 5\n"
     ]
    }
   ],
   "source": [
    "print_first_key_and_value(query_terms_count_val)"
   ]
  },
  {
   "cell_type": "code",
   "execution_count": 50,
   "metadata": {},
   "outputs": [],
   "source": [
    "for query in query_terms_count_val:\n",
    "    assert isinstance(query_terms_count_val[query], int), 'Every query should have one value which is an int'"
   ]
  },
  {
   "cell_type": "code",
   "execution_count": 51,
   "metadata": {},
   "outputs": [],
   "source": [
    "@lru_cache(maxsize=None)\n",
    "def get_doc_terms_count(doc_id):\n",
    "    \"\"\"Retrieve the term count for a single document, with caching.\"\"\"\n",
    "    doc_terms = collection_dict[doc_id].split()\n",
    "    return len(doc_terms)\n",
    "\n",
    "def doc_terms_count(bm25_rankings, output_file):\n",
    "    doc_terms_count = defaultdict(lambda: defaultdict(int))\n",
    "    \n",
    "    for query_id, docs in bm25_rankings.items():\n",
    "        for doc_id in docs:\n",
    "            doc_terms_count[query_id][doc_id] = get_doc_terms_count(doc_id)\n",
    "            \n",
    "    write_rankings_to_file(doc_terms_count, output_file)\n",
    "    \n",
    "    return doc_terms_count  # The amount of terms in the document, not the length of the string"
   ]
  },
  {
   "cell_type": "code",
   "execution_count": 52,
   "metadata": {},
   "outputs": [],
   "source": [
    "try:\n",
    "    doc_terms_count_val = read_file_to_dict('results/doc_terms_count_val.txt')\n",
    "    doc_terms_count_test = read_file_to_dict('results/doc_terms_count_test.txt')\n",
    "    doc_terms_count_train = read_file_to_dict('results/doc_terms_count_train.txt')\n",
    "except:    \n",
    "    doc_terms_count_val = doc_terms_count(bm25_rankings_val, 'doc_terms_count_val.txt')\n",
    "    doc_terms_count_test = doc_terms_count(bm25_rankings_test, 'doc_terms_count_test.txt')\n",
    "    doc_terms_count_train = doc_terms_count(bm25_rankings_train, 'doc_terms_count_train.txt')"
   ]
  },
  {
   "cell_type": "code",
   "execution_count": 53,
   "metadata": {},
   "outputs": [],
   "source": [
    "for query in doc_terms_count_val:\n",
    "    assert len(doc_terms_count_val[query]) == 100, f\"doc_count of {query} is {len(doc_terms_count_val[query])}\"\n",
    "    \n",
    "for query_id in bm25_rankings_val.keys():\n",
    "        bm25_doc_ids = set(bm25_rankings_val[query_id].keys())\n",
    "        doc_terms_count_ids = set(doc_terms_count_val.get(query_id, {}).keys())\n",
    "\n",
    "        assert bm25_doc_ids == doc_terms_count_ids, f\"Document IDs mismatch for query '{query_id}'\""
   ]
  },
  {
   "cell_type": "code",
   "execution_count": 54,
   "metadata": {},
   "outputs": [],
   "source": [
    "def create_features(bm25_rankings, tfidf_rankings, lsa_rankings, awe_rankings, query_term_counts, doc_terms_counts, features: list[str]):\n",
    "    \"\"\"\n",
    "    Possible features: LSA, W2V, TFIDF, BM25, QueryTermCount, DocTermCount\n",
    "    \"\"\"\n",
    "    combined_dict = defaultdict(lambda: defaultdict(dict))\n",
    "    \n",
    "    for query_id in bm25_rankings:\n",
    "        if 'QueryTermCount' in features:\n",
    "            query_term_count = query_term_counts[query_id]\n",
    "        else:\n",
    "            query_term_count = None\n",
    "        for doc_id in lsa_rankings.get(query_id, {}):\n",
    "            feature_dict = {}\n",
    "            if 'LSA' in features and lsa_rankings is not None:\n",
    "                feature_dict['LSA'] = lsa_rankings[query_id].get(doc_id, 0)\n",
    "            if 'W2V' in features and awe_rankings is not None:\n",
    "                feature_dict['W2V'] = awe_rankings[query_id].get(doc_id, 0)\n",
    "            if 'TFIDF' in features and tfidf_rankings is not None:\n",
    "                feature_dict['TFIDF'] = tfidf_rankings[query_id].get(doc_id, 0)\n",
    "            if 'BM25' in features and bm25_rankings is not None:\n",
    "                feature_dict['BM25'] = bm25_rankings[query_id].get(doc_id, 0)\n",
    "            if 'QueryTermCount' in features:\n",
    "                feature_dict['QueryTermCount'] = query_term_count\n",
    "            if 'DocTermCount' in features and doc_terms_counts is not None:\n",
    "                feature_dict['DocTermCount'] = doc_terms_counts[query_id].get(doc_id, 0)\n",
    "            \n",
    "            combined_dict[query_id][doc_id] = feature_dict\n",
    "    \n",
    "    return combined_dict"
   ]
  },
  {
   "cell_type": "code",
   "execution_count": 55,
   "metadata": {
    "id": "Y5XTJIKn_2rn"
   },
   "outputs": [
    {
     "name": "stdout",
     "output_type": "stream",
     "text": [
      "pid_81212: {'LSA': 0.7944066994641282, 'W2V': 0.990885853767395, 'TFIDF': 18.796028, 'BM25': 14.428085, 'QueryTermCount': 4, 'DocTermCount': 42.0}\n"
     ]
    }
   ],
   "source": [
    "# You should create the features in a dict with the following format:\n",
    "# [query_id][passage_id] = {'LSA': 0, 'W2V': 0, 'TFIDF': 0, 'BM25': 0, 'QueryTermCount': 0, 'DocTermCount': 0}\n",
    "\n",
    "features = ['LSA', 'W2V', 'TFIDF', 'BM25', 'QueryTermCount', 'DocTermCount']\n",
    "\n",
    "train_features = create_features(bm25_rankings_train, tfidf_rankings_train, lsa_rankings_train, w2v_rankings_train, query_terms_count_train, doc_terms_count_train, features)\n",
    "print_first_key_and_value(train_features['qid_1'])"
   ]
  },
  {
   "cell_type": "code",
   "execution_count": 56,
   "metadata": {
    "id": "kiq6sm65FA8Q"
   },
   "outputs": [
    {
     "name": "stdout",
     "output_type": "stream",
     "text": [
      "pid_763566: {'LSA': 0.9670725189082848, 'W2V': 0.9968092441558838, 'TFIDF': 84.79454, 'BM25': 79.6513, 'QueryTermCount': 13, 'DocTermCount': 73.0}\n"
     ]
    }
   ],
   "source": [
    "test_features = create_features(bm25_rankings_test, tfidf_rankings_test, lsa_rankings_test, w2v_rankings_test, query_terms_count_test, doc_terms_count_test, features)\n",
    "print_first_key_and_value(test_features['qid_5200'])"
   ]
  },
  {
   "cell_type": "code",
   "execution_count": 57,
   "metadata": {
    "id": "scbZBn0zFB1-"
   },
   "outputs": [
    {
     "name": "stdout",
     "output_type": "stream",
     "text": [
      "pid_303077: {'LSA': 0.8496719455117259, 'W2V': 0.9782760143280029, 'TFIDF': 28.097397, 'BM25': 27.82925, 'QueryTermCount': 6, 'DocTermCount': 93.0}\n"
     ]
    }
   ],
   "source": [
    "validation_features = create_features(bm25_rankings_val, tfidf_rankings_val, lsa_rankings_val, w2v_rankings_val, query_terms_count_val, doc_terms_count_val, features)\n",
    "print_first_key_and_value(validation_features['qid_5100'])"
   ]
  },
  {
   "cell_type": "markdown",
   "metadata": {
    "id": "mfb-s5e-AoY9"
   },
   "source": [
    "**Step 3:** Create a function called `XGBoost_train()` which, given a set of features, trains the XGBoost model on the training set and returns the output on the test and validation sets. Use the pairwise training method from XGBoost. (10)\n"
   ]
  },
  {
   "cell_type": "code",
   "execution_count": 58,
   "metadata": {},
   "outputs": [],
   "source": [
    "def features_dict_to_matrix(features_dict, feature_names):\n",
    "    \"\"\"\n",
    "    Converts a feature dictionary to a matrix and an ID list.\n",
    "    \"\"\"\n",
    "    ids = []\n",
    "    feature_matrix = []\n",
    "\n",
    "    for query_id, docs in features_dict.items():\n",
    "        for doc_id, features in docs.items():\n",
    "            ids.append((query_id, doc_id))\n",
    "            feature_row = []\n",
    "            for feature_name in feature_names:\n",
    "                if feature_name in features:\n",
    "                    feature_row.append(features[feature_name])\n",
    "            feature_matrix.append(feature_row)\n",
    "\n",
    "    feature_matrix = np.array(feature_matrix)\n",
    "    assert feature_matrix.ndim == 2, \"Feature matrix should be 2D.\"\n",
    "    assert feature_matrix.shape[0] % 20 == 0, \"Feature matrix should have 20 or 100 documents per query.\"\n",
    "    assert len(ids) == feature_matrix.shape[0], \"Each row in feature matrix must correspond to an ID.\"\n",
    "    assert all(len(row) == len(feature_names) for row in feature_matrix), \"Each row in feature matrix must have the same number of features.\"\n",
    "\n",
    "    return feature_matrix, ids\n",
    "\n",
    "def qrel_dict_to_matrix(qrel_dict, ids):\n",
    "    \"\"\"\n",
    "    Converts qrel dictionary to relevance labels array, ensuring document IDs match.\n",
    "    \"\"\"\n",
    "    labels = []\n",
    "    for query_id, doc_id in ids:\n",
    "        relevance = qrel_dict.get(query_id, {}).get(doc_id, 0)  # Default relevance to 0\n",
    "        labels.append(relevance)\n",
    "\n",
    "    labels = np.array(labels)\n",
    "    assert labels.ndim == 1, \"Labels array should be 1D.\"\n",
    "    assert labels.shape[0] == len(ids), \"Labels length must match the number of document IDs.\"\n",
    "    assert np.issubdtype(labels.dtype, np.integer), \"Labels must be integers.\"\n",
    "    assert np.all(labels >= 0) and np.all(labels <= 4), \"Labels must be within the range [0, 4].\"\n",
    "    \n",
    "    return labels\n",
    "\n",
    "class XGBoostRanker:\n",
    "    def __init__(self, model=None, params=None, feature_names=None, n_estimators=100):\n",
    "        # Set default params if none provided\n",
    "        self.params = params or {\n",
    "            'objective': 'rank:pairwise',\n",
    "            'device': 'cpu'\n",
    "        }\n",
    "        \n",
    "        self.n_estimators = n_estimators\n",
    "        self.scaler = StandardScaler()\n",
    "        self.model = model\n",
    "        self.feature_names = feature_names or ['LSA', 'W2V', 'TFIDF', 'BM25', 'QueryTermCount', 'DocTermCount']\n",
    "        self.best_params = None\n",
    "        self.best_iteration = None\n",
    "\n",
    "    def prepare_data(self, features, qrels, is_training=True):\n",
    "        \"\"\"\n",
    "        Prepares data for XGBoost training/prediction.\n",
    "        \"\"\"\n",
    "        features_matrix, ids = features_dict_to_matrix(features, self.feature_names)\n",
    "        if is_training:\n",
    "            features_scaled = self.scaler.fit_transform(features_matrix)\n",
    "        else:\n",
    "            features_scaled = self.scaler.transform(features_matrix)\n",
    "\n",
    "        if qrels is not None:\n",
    "            qrels_matrix = qrel_dict_to_matrix(qrels, ids)\n",
    "            \n",
    "            # Verify alignment between features and labels\n",
    "            assert len(features_scaled) == len(qrels_matrix), \"Features and relevance labels must be the same length.\"\n",
    "            \n",
    "            # Create group sizes for ranking (number of documents per query)\n",
    "            query_groups = []\n",
    "            current_query = None\n",
    "            count = 0\n",
    "            for query_id, _ in ids:\n",
    "                if query_id != current_query:\n",
    "                    if current_query is not None:\n",
    "                        query_groups.append(count)\n",
    "                    current_query = query_id\n",
    "                    count = 1\n",
    "                else:\n",
    "                    count += 1\n",
    "            query_groups.append(count)  # Add the last group\n",
    "            \n",
    "            # Check that groups add up to the total number of documents\n",
    "            assert sum(query_groups) == len(ids), \"Sum of group sizes does not match the number of documents.\"\n",
    "\n",
    "            # Assert that each query has 100 documents\n",
    "            assert all(size in [20, 100, 200] for size in query_groups), \"Each query should have 20 or 100 documents\"\n",
    "            \n",
    "            # Assert that each group size is greater than 0\n",
    "            assert all(size > 0 for size in query_groups), \"One or more group sizes are zero or negative\"\n",
    "            \n",
    "            # Assert that the number of queries matches the number of groups\n",
    "            assert len(query_groups) in [150, 200, 5000], \"Number of query groups should be 150, 200 or 5000\"\n",
    "            \n",
    "            # Assert that each query-document combination has up to 6 scores and 1 label\n",
    "            assert features_matrix.shape[1] <= 6, \"Each query-document combination should have up to 6 scores\"\n",
    "            assert qrels_matrix.shape[0] == features_matrix.shape[0], \"Each query-document combination should have 1 label\"\n",
    "\n",
    "            # print(\"Features matrix shape:\", features_scaled.shape)\n",
    "            # print(\"Qrels matrix shape:\", qrels_matrix.shape)\n",
    "            # print(\"Number of query groups:\", len(query_groups))\n",
    "            # print(\"First 5 query groups:\", query_groups[:5])\n",
    "\n",
    "            dmatrix = xgb.DMatrix(features_scaled, label=qrels_matrix)\n",
    "            dmatrix.set_group(query_groups)\n",
    "            return dmatrix, ids\n",
    "        return xgb.DMatrix(features_scaled), ids\n",
    "\n",
    "\n",
    "    def evaluate_params(self, dtrain, dval, params):\n",
    "        \"\"\"\n",
    "        Evaluates a single set of parameters using early stopping and tracks best precision.\n",
    "        \"\"\"\n",
    "        model = xgb.train(\n",
    "            params,\n",
    "            dtrain,\n",
    "            num_boost_round=self.n_estimators,\n",
    "            evals=[(dtrain, 'train'), (dval, 'val')],\n",
    "            early_stopping_rounds=10,  # Stops if precision or logloss doesn't improve for 10 rounds\n",
    "            maximize=True,\n",
    "            verbose_eval=False,\n",
    "        )\n",
    "        \n",
    "        best_score = model.best_score\n",
    "        return model, best_score\n",
    "\n",
    "    def hyperparameter_tune(self, train_features, train_qrels, val_features, val_qrels, param_grid, verbose=False):\n",
    "        \"\"\"\n",
    "        Performs hyperparameter tuning using validation set and early stopping with added diagnostics.\n",
    "        \"\"\"\n",
    "        # Prepare data\n",
    "        dtrain, _ = self.prepare_data(train_features, train_qrels, is_training=True)\n",
    "        dval, _ = self.prepare_data(val_features, val_qrels, is_training=False)\n",
    "\n",
    "        # Initialize tracking variables\n",
    "        best_score = float('-inf')\n",
    "        best_model = None\n",
    "        best_params = None\n",
    "\n",
    "        # Create parameter combinations\n",
    "        base_params = self.params.copy()\n",
    "        param_combinations = list(ParameterGrid(param_grid))\n",
    "        total_combinations = len(param_combinations)\n",
    "\n",
    "        if verbose:\n",
    "            print(f\"Starting hyperparameter tuning with {total_combinations} combinations...\")\n",
    "\n",
    "        # Try each parameter combination\n",
    "        for i, params in enumerate(param_combinations, 1):\n",
    "            # Update base parameters with current combination\n",
    "            current_params = base_params.copy()\n",
    "            current_params.update(params)\n",
    "\n",
    "            # Train and evaluate model\n",
    "            model, val_score = self.evaluate_params(dtrain, dval, current_params)\n",
    "\n",
    "            if verbose:\n",
    "                print(f\"Combination {i}/{total_combinations}:\")\n",
    "                print(f\"Parameters: {params}\")\n",
    "                print(f\"Validation Precision@10: {val_score}\")\n",
    "\n",
    "            # Update best model if better score achieved\n",
    "            if val_score > best_score:\n",
    "                best_score = val_score\n",
    "                best_model = model\n",
    "                best_params = current_params\n",
    "                self.best_iteration = model.best_iteration\n",
    "                if verbose:\n",
    "                    print(\"New best model found!\")\n",
    "            if verbose:\n",
    "                print(\"---\")\n",
    "\n",
    "        # Save best results\n",
    "        self.model = best_model\n",
    "        self.best_params = best_params\n",
    "\n",
    "        if verbose:\n",
    "            print(f\"\\nTuning completed. Best validation Precision@10: {best_score}\")\n",
    "            print(f\"Best parameters: {best_params}\")\n",
    "            print(f\"Best iteration: {self.best_iteration}\")\n",
    "\n",
    "        return self.model\n",
    "\n",
    "\n",
    "    def train(self, features_train, qrels_train):\n",
    "        \"\"\"\n",
    "        Trains XGBoost model with the specified parameters.\n",
    "        Returns the trained XGBoost model.\n",
    "        \"\"\"\n",
    "        dtrain, _ = self.prepare_data(features_train, qrels_train, is_training=True)\n",
    "        self.model = xgb.train(self.params, dtrain, num_boost_round=self.n_estimators)\n",
    "        print(\"Model trained successfully.\")\n",
    "        return self.model\n",
    "\n",
    "    def predict(self, features):\n",
    "        \"\"\"\n",
    "        Generates predictions in the {query_id: {doc_id: score}} format.\n",
    "        \"\"\"\n",
    "        assert self.model is not None, \"Model needs to be trained before making predictions.\"\n",
    "\n",
    "        dmatrix, ids = self.prepare_data(features, None, is_training=False)\n",
    "        predictions = self.model.predict(dmatrix)\n",
    "        \n",
    "        predictions_dict = defaultdict(lambda: defaultdict(float))\n",
    "        for i, (query_id, doc_id) in enumerate(ids):\n",
    "            predictions_dict[query_id][doc_id] = float(predictions[i])\n",
    "\n",
    "        return predictions_dict"
   ]
  },
  {
   "cell_type": "markdown",
   "metadata": {
    "id": "FglrLMURAwL6"
   },
   "source": [
    "**Step 4:** Train the XGBoost model using the `XGBoost_train()` function on the following features and report the performance on validation and test queries. \\\n",
    "\n",
    "**Note:** To report the performance on test queries you need to submit the result on Codalab and report the numbers from the leaderboard.\n"
   ]
  },
  {
   "cell_type": "code",
   "execution_count": 59,
   "metadata": {},
   "outputs": [
    {
     "name": "stdout",
     "output_type": "stream",
     "text": [
      "Model trained successfully.\n"
     ]
    }
   ],
   "source": [
    "ranker = XGBoostRanker(params=None)\n",
    "\n",
    "# Without hyperparameter tuning\n",
    "xgb_model = ranker.train(train_features, train_qrel_dict)"
   ]
  },
  {
   "cell_type": "code",
   "execution_count": 60,
   "metadata": {},
   "outputs": [],
   "source": [
    "xgb_rankings_val = ranker.predict(validation_features)"
   ]
  },
  {
   "cell_type": "code",
   "execution_count": 61,
   "metadata": {},
   "outputs": [],
   "source": [
    "for query in xgb_rankings_val:\n",
    "    assert len(xgb_rankings_val[query]) == 100, f\"doc_count of {query} is {len(xgb_rankings_val[query])}\"\n",
    "    \n",
    "for query_id in bm25_rankings_val.keys():\n",
    "        bm25_doc_ids = set(bm25_rankings_val[query_id].keys())\n",
    "        xgboost_doc_ids = set(xgb_rankings_val[query_id].keys())\n",
    "\n",
    "        assert bm25_doc_ids == xgboost_doc_ids, f\"Document IDs mismatch for query '{query_id}'\""
   ]
  },
  {
   "cell_type": "code",
   "execution_count": 62,
   "metadata": {},
   "outputs": [
    {
     "name": "stdout",
     "output_type": "stream",
     "text": [
      "recall_10: 0.1219 ; recall_20: 0.2123 ; ndcg_cut_10: 0.2923 ; P_5: 0.4333 ; P_20: 0.3613 ; mrr_100: 0.3589\n"
     ]
    }
   ],
   "source": [
    "xgboost_val_eval = evaluate(validation_qrel_dict, xgb_rankings_val)"
   ]
  },
  {
   "cell_type": "markdown",
   "metadata": {},
   "source": [
    "The BM25 scores were:\n",
    "\n",
    "recall_10: 0.1475 ; recall_20: 0.2415 ; ndcg_cut_10: 0.3565 ; P_5: 0.4693 ; P_20: 0.4043 ; mrr_100: 0.5367\n",
    "\n",
    "So we can do better"
   ]
  },
  {
   "cell_type": "code",
   "execution_count": 63,
   "metadata": {},
   "outputs": [
    {
     "name": "stdout",
     "output_type": "stream",
     "text": [
      "{'objective': 'rank:pairwise', 'device': 'cpu', 'alpha': 0.15, 'gamma': 0.4, 'lambda': 1.2, 'learning_rate': 0.25}\n",
      "recall_10: 0.1318 ; recall_20: 0.2217 ; ndcg_cut_10: 0.3047 ; P_5: 0.4227 ; P_20: 0.3693 ; mrr_100: 0.3589\n"
     ]
    }
   ],
   "source": [
    "ranker = XGBoostRanker()\n",
    "\n",
    "param_grid = {\n",
    "    'learning_rate': [0.2, 0.25, 0.3],\n",
    "    'gamma': [0.3, 0.4, 0.5],  # Minimum loss reduction for partitioning\n",
    "    'alpha': [0.1, 0.15, 0.2],  # L1 regularization term\n",
    "    'lambda': [1, 1.2, 1.4],  # L2 regularization term\n",
    "}\n",
    "\n",
    "# Perform hyperparameter tuning\n",
    "best_model = ranker.hyperparameter_tune(\n",
    "    train_features,\n",
    "    train_qrel_dict,\n",
    "    validation_features,\n",
    "    validation_qrel_dict,\n",
    "    param_grid\n",
    ")\n",
    "\n",
    "# Make predictions with the best model\n",
    "xgb_rankings_val = ranker.predict(validation_features)\n",
    "\n",
    "best_params = ranker.best_params\n",
    "\n",
    "print(best_params)\n",
    "\n",
    "for query in xgb_rankings_val:\n",
    "    assert len(xgb_rankings_val[query]) == 100, f\"doc_count of {query} is {len(xgb_rankings_val[query])}\"\n",
    "    \n",
    "for query_id in bm25_rankings_val.keys():\n",
    "        bm25_doc_ids = set(bm25_rankings_val[query_id].keys())\n",
    "        xgboost_doc_ids = set(xgb_rankings_val[query_id].keys())\n",
    "\n",
    "        assert bm25_doc_ids == xgboost_doc_ids, f\"Document IDs mismatch for query '{query_id}'\"\n",
    "        \n",
    "xgboost_val_eval = evaluate(validation_qrel_dict, xgb_rankings_val)"
   ]
  },
  {
   "cell_type": "code",
   "execution_count": 64,
   "metadata": {},
   "outputs": [],
   "source": [
    "xgb_rankings_test = ranker.predict(test_features)"
   ]
  },
  {
   "cell_type": "code",
   "execution_count": 65,
   "metadata": {},
   "outputs": [],
   "source": [
    "for query in xgb_rankings_test:\n",
    "    assert len(xgb_rankings_test[query]) == 100, f\"doc_count of {query} is {len(xgb_rankings_test[query])}\"\n",
    "    \n",
    "for query_id in bm25_rankings_test.keys():\n",
    "        bm25_doc_ids = set(bm25_rankings_test[query_id].keys())\n",
    "        xgboost_doc_ids = set(xgb_rankings_test[query_id].keys())\n",
    "\n",
    "        assert bm25_doc_ids == xgboost_doc_ids, f\"Document IDs mismatch for query '{query_id}'\""
   ]
  },
  {
   "cell_type": "code",
   "execution_count": 66,
   "metadata": {},
   "outputs": [
    {
     "name": "stdout",
     "output_type": "stream",
     "text": [
      "Produced file submission_validation.txt\n",
      "Produced file submission_test.txt\n",
      "Produced submission file output\\14646161_14622556_codalab_submission.zip\n"
     ]
    }
   ],
   "source": [
    "valid_output_file = write_ranking_results(xgb_rankings_val, 'submission_validation.txt', 'xgb')\n",
    "test_output_file = write_ranking_results(xgb_rankings_test, 'submission_test.txt', 'xgb')\n",
    "codalab_submission_file = codalab_format('submission_validation.txt', 'submission_test.txt', studentnumber1, studentnumber2)"
   ]
  },
  {
   "cell_type": "markdown",
   "metadata": {},
   "source": [
    "Test scores:\n",
    "\n",
    "Recall@100: 0.6427\n",
    "\n",
    "nDCG@10: 0.3043\n",
    "\n",
    "Precision@10: 0.4135\n",
    "\n",
    "MRR@10: 0.6530 \n",
    "\n",
    "MRR@10 (validation set): 0.6354"
   ]
  },
  {
   "cell_type": "markdown",
   "metadata": {
    "id": "L9IUq1RpBKHS"
   },
   "source": [
    "**Step 4.1:** Each time remove one of the features from the above features list and train the model. Report and plot the performance on the validation set per each removed feature on the following metrics (Recall@10, nDCG@10, Precision@10, MRR@100) in one figure. The x-axis should be the name of the removed feature and the y-axis should be the value of the metric. (6)\n",
    "\n",
    "**Tip:** You can reuse the corresponding code of Milestone 01 for this part.\n"
   ]
  },
  {
   "cell_type": "code",
   "execution_count": 67,
   "metadata": {
    "id": "Nkzw1MMdFvNp"
   },
   "outputs": [],
   "source": [
    "# Use the following structure to store the performance of model removing each feature on validation set:\n",
    "# result[removed_feature][metric] = value --> which is a float\n",
    "\n",
    "result = defaultdict(lambda: defaultdict(float))\n"
   ]
  },
  {
   "cell_type": "markdown",
   "metadata": {},
   "source": [
    "Note that the best parameters were the best for the previous combination of features, so here they most likely are not the best combination.\n",
    "\n",
    "But as long as we use the same parameters for all combinations of features, it will be fair to compare them."
   ]
  },
  {
   "cell_type": "code",
   "execution_count": 68,
   "metadata": {
    "id": "31B2rwtIA0Ix"
   },
   "outputs": [
    {
     "name": "stdout",
     "output_type": "stream",
     "text": [
      "Model trained successfully.\n",
      "recall_10: 0.1243 ; recall_20: 0.2160 ; ndcg_cut_10: 0.2956 ; P_5: 0.4320 ; P_10: 0.4033 ; P_20: 0.3577 ; mrr_100: 0.3589\n"
     ]
    }
   ],
   "source": [
    "# remove LSA feature\n",
    "# train the model\n",
    "# evaluate the performance on validation set\n",
    "\n",
    "feature_names = ['W2V', 'TFIDF', 'BM25', 'QueryTermCount', 'DocTermCount']\n",
    "features_train = create_features(bm25_rankings_train, tfidf_rankings_train, lsa_rankings_train, w2v_rankings_train, query_terms_count_train, doc_terms_count_train, feature_names)\n",
    "features_val = create_features(bm25_rankings_val, tfidf_rankings_val, lsa_rankings_val, w2v_rankings_val, query_terms_count_val, doc_terms_count_val, feature_names)\n",
    "\n",
    "ranker = XGBoostRanker(feature_names=feature_names, params=best_params, n_estimators=100)\n",
    "ranker.train(features_train, train_qrel_dict)\n",
    "preds = ranker.predict(features_val)\n",
    "\n",
    "metrics = ['recall_10', 'recall_20', 'ndcg_cut_10', 'P_5', 'P_10', 'P_20', 'mrr_100']\n",
    "eval = evaluate(validation_qrel_dict, preds, metrics)\n",
    "\n",
    "result['LSA']['Recall@10'] = eval['recall_10']\n",
    "result['LSA']['nDCG@10'] = eval['ndcg_cut_10']\n",
    "result['LSA']['precision@10'] = eval['P_10']\n",
    "result['LSA']['MRR@100'] = eval['mrr_100']"
   ]
  },
  {
   "cell_type": "markdown",
   "metadata": {
    "id": "goZuVN_pEw8N"
   },
   "source": [
    "Report the performance on validation set:"
   ]
  },
  {
   "cell_type": "code",
   "execution_count": 69,
   "metadata": {
    "id": "nUVL0EPNGNLI"
   },
   "outputs": [
    {
     "name": "stdout",
     "output_type": "stream",
     "text": [
      "defaultdict(<class 'float'>, {'Recall@10': 0.12429330486403667, 'nDCG@10': 0.2955764282179281, 'precision@10': 0.4033333333333333, 'MRR@100': 0.358930047718765})\n"
     ]
    }
   ],
   "source": [
    "print(result['LSA'])"
   ]
  },
  {
   "cell_type": "code",
   "execution_count": 70,
   "metadata": {
    "id": "o0U8x15xBpVw"
   },
   "outputs": [
    {
     "name": "stdout",
     "output_type": "stream",
     "text": [
      "Model trained successfully.\n",
      "recall_10: 0.1287 ; recall_20: 0.2251 ; ndcg_cut_10: 0.2994 ; P_5: 0.4160 ; P_10: 0.4093 ; P_20: 0.3697 ; mrr_100: 0.3589\n"
     ]
    }
   ],
   "source": [
    "# remove word2vec embedding feature\n",
    "# train the model\n",
    "# evaluate the performance on validation set\n",
    "\n",
    "feature_names = ['LSA', 'TFIDF', 'BM25', 'QueryTermCount', 'DocTermCount']\n",
    "features_train = create_features(bm25_rankings_train, tfidf_rankings_train, lsa_rankings_train, w2v_rankings_train, query_terms_count_train, doc_terms_count_train, feature_names)\n",
    "features_val = create_features(bm25_rankings_val, tfidf_rankings_val, lsa_rankings_val, w2v_rankings_val, query_terms_count_val, doc_terms_count_val, feature_names)\n",
    "\n",
    "ranker = XGBoostRanker(feature_names=feature_names, params=best_params, n_estimators=100)\n",
    "ranker.train(features_train, train_qrel_dict)\n",
    "preds = ranker.predict(features_val)\n",
    "\n",
    "metrics = ['recall_10', 'recall_20', 'ndcg_cut_10', 'P_5', 'P_10', 'P_20', 'mrr_100']\n",
    "eval = evaluate(validation_qrel_dict, preds, metrics)\n",
    "\n",
    "result['W2V']['Recall@10'] = eval['recall_10']\n",
    "result['W2V']['nDCG@10'] = eval['ndcg_cut_10']\n",
    "result['W2V']['precision@10'] = eval['P_10']\n",
    "result['W2V']['MRR@100'] = eval['mrr_100']\n"
   ]
  },
  {
   "cell_type": "markdown",
   "metadata": {
    "id": "6kla1N4YE1KD"
   },
   "source": [
    "Report the performance on validation set:\n"
   ]
  },
  {
   "cell_type": "code",
   "execution_count": 71,
   "metadata": {
    "id": "SvZkyoH1GsOd"
   },
   "outputs": [
    {
     "name": "stdout",
     "output_type": "stream",
     "text": [
      "defaultdict(<class 'float'>, {'Recall@10': 0.12867281420864748, 'nDCG@10': 0.299401235939374, 'precision@10': 0.4093333333333334, 'MRR@100': 0.358930047718765})\n"
     ]
    }
   ],
   "source": [
    "print(result['W2V'])\n"
   ]
  },
  {
   "cell_type": "code",
   "execution_count": 72,
   "metadata": {
    "id": "vsoS5buSBsN6"
   },
   "outputs": [
    {
     "name": "stdout",
     "output_type": "stream",
     "text": [
      "Model trained successfully.\n",
      "recall_10: 0.1322 ; recall_20: 0.2284 ; ndcg_cut_10: 0.3077 ; P_5: 0.4320 ; P_10: 0.4173 ; P_20: 0.3730 ; mrr_100: 0.3589\n"
     ]
    }
   ],
   "source": [
    "# remove TF-IDF feature\n",
    "# train the model\n",
    "# evaluate the performance on validation set\n",
    "\n",
    "feature_names = ['LSA', 'W2V', 'BM25', 'QueryTermCount', 'DocTermCount']\n",
    "features_train = create_features(bm25_rankings_train, tfidf_rankings_train, lsa_rankings_train, w2v_rankings_train, query_terms_count_train, doc_terms_count_train, feature_names)\n",
    "features_val = create_features(bm25_rankings_val, tfidf_rankings_val, lsa_rankings_val, w2v_rankings_val, query_terms_count_val, doc_terms_count_val, feature_names)\n",
    "\n",
    "ranker = XGBoostRanker(feature_names=feature_names, params=best_params, n_estimators=100)\n",
    "ranker.train(features_train, train_qrel_dict)\n",
    "preds = ranker.predict(features_val)\n",
    "\n",
    "metrics = ['recall_10', 'recall_20', 'ndcg_cut_10', 'P_5', 'P_10', 'P_20', 'mrr_100']\n",
    "eval = evaluate(validation_qrel_dict, preds, metrics)\n",
    "\n",
    "result['TFIDF']['Recall@10'] = eval['recall_10']\n",
    "result['TFIDF']['nDCG@10'] = eval['ndcg_cut_10']\n",
    "result['TFIDF']['precision@10'] = eval['P_10']\n",
    "result['TFIDF']['MRR@100'] = eval['mrr_100']"
   ]
  },
  {
   "cell_type": "markdown",
   "metadata": {
    "id": "3wvJ4Uo4E2Pq"
   },
   "source": [
    "Report the performance on validation set:\n",
    "\n"
   ]
  },
  {
   "cell_type": "code",
   "execution_count": 73,
   "metadata": {
    "id": "nAb_2sf5GuJO"
   },
   "outputs": [
    {
     "name": "stdout",
     "output_type": "stream",
     "text": [
      "defaultdict(<class 'float'>, {'Recall@10': 0.1322484764123496, 'nDCG@10': 0.30769865647840894, 'precision@10': 0.4173333333333333, 'MRR@100': 0.358930047718765})\n"
     ]
    }
   ],
   "source": [
    "print(result['TFIDF'])"
   ]
  },
  {
   "cell_type": "code",
   "execution_count": 74,
   "metadata": {
    "id": "R_wKSjNrBu_-"
   },
   "outputs": [
    {
     "name": "stdout",
     "output_type": "stream",
     "text": [
      "Model trained successfully.\n",
      "recall_10: 0.1199 ; recall_20: 0.1991 ; ndcg_cut_10: 0.2831 ; P_5: 0.4080 ; P_10: 0.3833 ; P_20: 0.3437 ; mrr_100: 0.3589\n"
     ]
    }
   ],
   "source": [
    "# remove BM25 feature\n",
    "# train the model\n",
    "# evaluate the performance on validation set\n",
    "\n",
    "feature_names = ['LSA', 'W2V', 'TFIDF', 'QueryTermCount', 'DocTermCount']\n",
    "features_train = create_features(bm25_rankings_train, tfidf_rankings_train, lsa_rankings_train, w2v_rankings_train, query_terms_count_train, doc_terms_count_train, feature_names)\n",
    "features_val = create_features(bm25_rankings_val, tfidf_rankings_val, lsa_rankings_val, w2v_rankings_val, query_terms_count_val, doc_terms_count_val, feature_names)\n",
    "\n",
    "ranker = XGBoostRanker(feature_names=feature_names, params=best_params, n_estimators=100)\n",
    "ranker.train(features_train, train_qrel_dict)\n",
    "preds = ranker.predict(features_val)\n",
    "\n",
    "metrics = ['recall_10', 'recall_20', 'ndcg_cut_10', 'P_5', 'P_10', 'P_20', 'mrr_100']\n",
    "eval = evaluate(validation_qrel_dict, preds, metrics)\n",
    "\n",
    "result['BM25']['Recall@10'] = eval['recall_10']\n",
    "result['BM25']['nDCG@10'] = eval['ndcg_cut_10']\n",
    "result['BM25']['precision@10'] = eval['P_10']\n",
    "result['BM25']['MRR@100'] = eval['mrr_100']"
   ]
  },
  {
   "cell_type": "markdown",
   "metadata": {
    "id": "OJZHj4ZSE3Fq"
   },
   "source": [
    "Report the performance on validation set\n"
   ]
  },
  {
   "cell_type": "code",
   "execution_count": 75,
   "metadata": {
    "id": "SwpVr3RWGw2R"
   },
   "outputs": [
    {
     "name": "stdout",
     "output_type": "stream",
     "text": [
      "defaultdict(<class 'float'>, {'Recall@10': 0.11990088789471764, 'nDCG@10': 0.28307077507451517, 'precision@10': 0.38333333333333336, 'MRR@100': 0.358930047718765})\n"
     ]
    }
   ],
   "source": [
    "print(result['BM25'])"
   ]
  },
  {
   "cell_type": "code",
   "execution_count": 76,
   "metadata": {
    "id": "9Syh2DMNEaGS"
   },
   "outputs": [
    {
     "name": "stdout",
     "output_type": "stream",
     "text": [
      "Model trained successfully.\n",
      "recall_10: 0.1280 ; recall_20: 0.2211 ; ndcg_cut_10: 0.2961 ; P_5: 0.4227 ; P_10: 0.4033 ; P_20: 0.3633 ; mrr_100: 0.3589\n"
     ]
    }
   ],
   "source": [
    "# remove QueryTermCount feature\n",
    "# train the model\n",
    "# evaluate the performance on validation set\n",
    "\n",
    "feature_names = ['LSA', 'W2V', 'TFIDF', 'BM25', 'DocTermCount']\n",
    "features_train = create_features(bm25_rankings_train, tfidf_rankings_train, lsa_rankings_train, w2v_rankings_train, query_terms_count_train, doc_terms_count_train, feature_names)\n",
    "features_val = create_features(bm25_rankings_val, tfidf_rankings_val, lsa_rankings_val, w2v_rankings_val, query_terms_count_val, doc_terms_count_val, feature_names)\n",
    "\n",
    "ranker = XGBoostRanker(feature_names=feature_names, params=best_params, n_estimators=100)\n",
    "ranker.train(features_train, train_qrel_dict)\n",
    "preds = ranker.predict(features_val)\n",
    "\n",
    "metrics = ['recall_10', 'recall_20', 'ndcg_cut_10', 'P_5', 'P_10', 'P_20', 'mrr_100']\n",
    "eval = evaluate(validation_qrel_dict, preds, metrics)\n",
    "\n",
    "result['QueryTermCount']['Recall@10'] = eval['recall_10']\n",
    "result['QueryTermCount']['nDCG@10'] = eval['ndcg_cut_10']\n",
    "result['QueryTermCount']['precision@10'] = eval['P_10']\n",
    "result['QueryTermCount']['MRR@100'] = eval['mrr_100']"
   ]
  },
  {
   "cell_type": "markdown",
   "metadata": {
    "id": "frbhB0UYE4Do"
   },
   "source": [
    "Report the performance on validation set"
   ]
  },
  {
   "cell_type": "code",
   "execution_count": 77,
   "metadata": {
    "id": "te875USfGyBx"
   },
   "outputs": [
    {
     "name": "stdout",
     "output_type": "stream",
     "text": [
      "defaultdict(<class 'float'>, {'Recall@10': 0.1280188101936842, 'nDCG@10': 0.29605072521099457, 'precision@10': 0.4033333333333333, 'MRR@100': 0.358930047718765})\n"
     ]
    }
   ],
   "source": [
    "print(result['QueryTermCount'])"
   ]
  },
  {
   "cell_type": "code",
   "execution_count": 78,
   "metadata": {
    "id": "Y9JHjpF5EaNZ"
   },
   "outputs": [
    {
     "name": "stdout",
     "output_type": "stream",
     "text": [
      "Model trained successfully.\n",
      "recall_10: 0.1304 ; recall_20: 0.2204 ; ndcg_cut_10: 0.3045 ; P_5: 0.4320 ; P_10: 0.4133 ; P_20: 0.3737 ; mrr_100: 0.3589\n"
     ]
    }
   ],
   "source": [
    "# remove DocTermCount feature\n",
    "# train the model\n",
    "# evaluate the performance on validation set\n",
    "\n",
    "feature_names = ['LSA', 'W2V', 'TFIDF', 'BM25', 'QueryTermCount']\n",
    "features_train = create_features(bm25_rankings_train, tfidf_rankings_train, lsa_rankings_train, w2v_rankings_train, query_terms_count_train, doc_terms_count_train, feature_names)\n",
    "features_val = create_features(bm25_rankings_val, tfidf_rankings_val, lsa_rankings_val, w2v_rankings_val, query_terms_count_val, doc_terms_count_val, feature_names)\n",
    "\n",
    "ranker = XGBoostRanker(feature_names=feature_names, params=best_params, n_estimators=100)\n",
    "ranker.train(features_train, train_qrel_dict)\n",
    "preds = ranker.predict(features_val)\n",
    "\n",
    "metrics = ['recall_10', 'recall_20', 'ndcg_cut_10', 'P_5', 'P_10', 'P_20', 'mrr_100']\n",
    "eval = evaluate(validation_qrel_dict, preds, metrics)\n",
    "\n",
    "result['DocTermCount']['Recall@10'] = eval['recall_10']\n",
    "result['DocTermCount']['nDCG@10'] = eval['ndcg_cut_10']\n",
    "result['DocTermCount']['precision@10'] = eval['P_10']\n",
    "result['DocTermCount']['MRR@100'] = eval['mrr_100']"
   ]
  },
  {
   "cell_type": "markdown",
   "metadata": {
    "id": "jjPgsg5GE5W1"
   },
   "source": [
    "Report the performance on validation set"
   ]
  },
  {
   "cell_type": "code",
   "execution_count": 79,
   "metadata": {
    "id": "evKFQmazGzo7"
   },
   "outputs": [
    {
     "name": "stdout",
     "output_type": "stream",
     "text": [
      "defaultdict(<class 'float'>, {'Recall@10': 0.13044106713432696, 'nDCG@10': 0.304451039790232, 'precision@10': 0.4133333333333334, 'MRR@100': 0.358930047718765})\n"
     ]
    }
   ],
   "source": [
    "print(result['DocTermCount'])"
   ]
  },
  {
   "cell_type": "code",
   "execution_count": 80,
   "metadata": {
    "id": "Cn5DTDzCEgS1"
   },
   "outputs": [],
   "source": [
    "def plot_results_line(results, xlabel, title):\n",
    "    metrics = list(next(iter(results.values())).keys())\n",
    "    features = list(results.keys())\n",
    "    str_features = [str(feature) for feature in features]  # To make sure that numbers are also seen as categories\n",
    "\n",
    "    for metric in metrics:\n",
    "        values = [results[feature][metric] for feature in features]\n",
    "        plt.plot(str_features, values, marker='o', label=metric)\n",
    "\n",
    "    plt.xlabel(xlabel)\n",
    "    plt.ylabel('Performance')\n",
    "    plt.title(title)\n",
    "    plt.legend()\n",
    "    plt.xticks(rotation=45)\n",
    "    plt.grid(True)\n",
    "    plt.tight_layout()\n",
    "    plt.show()\n",
    "    \n",
    "def plot_results_bar(results, xlabel, title):\n",
    "    features = list(results.keys())\n",
    "    metrics = ['Recall@10', 'nDCG@10', 'precision@10', 'MRR@100']\n",
    "    num_features = len(features)\n",
    "    num_metrics = len(metrics)\n",
    "\n",
    "    values = {metric: [results[feature][metric] for feature in features] for metric in metrics}\n",
    "    x = np.arange(num_features)  # The label locations\n",
    "    width = 0.2 \n",
    "\n",
    "    fig, ax = plt.subplots(figsize=(12, 8))\n",
    "\n",
    "    colors = plt.cm.cool(np.linspace(0, 1, num_metrics))\n",
    "\n",
    "    for i, metric in enumerate(metrics):\n",
    "        ax.bar(x + i * width, values[metric], width, label=metric, color=colors[i])\n",
    "\n",
    "    ax.set_xticks(x + width * (num_metrics - 1) / 2)\n",
    "    ax.set_xticklabels(features, rotation=45)\n",
    "    ax.set_title(title)\n",
    "    ax.set_ylabel(\"Score\")\n",
    "    ax.set_xlabel(xlabel)\n",
    "    ax.legend(title='metrics')\n",
    "\n",
    "    plt.tight_layout()\n",
    "    plt.show()"
   ]
  },
  {
   "cell_type": "code",
   "execution_count": 81,
   "metadata": {
    "id": "KbNiZiCAHCKo"
   },
   "outputs": [
    {
     "data": {
      "image/png": "[encoded data removed]",
      "text/plain": [
       "<Figure size 640x480 with 1 Axes>"
      ]
     },
     "metadata": {},
     "output_type": "display_data"
    },
    {
     "data": {
      "image/png": "[encoded data removed]",
      "text/plain": [
       "<Figure size 1200x800 with 1 Axes>"
      ]
     },
     "metadata": {},
     "output_type": "display_data"
    }
   ],
   "source": [
    "# Note: the plot should be obvious in the submitted notebook\n",
    "xlabel = 'Removed Feature'\n",
    "title = 'Model performance after removing each feature'\n",
    "\n",
    "plot_results_line(result, xlabel, 'Graph 1: ' + title)\n",
    "plot_results_bar(result, xlabel, 'Graph 2: ' + title)"
   ]
  },
  {
   "cell_type": "markdown",
   "metadata": {},
   "source": [
    "Some more things we wanted to test to see if the XGBoost model actually works:"
   ]
  },
  {
   "cell_type": "code",
   "execution_count": 82,
   "metadata": {},
   "outputs": [
    {
     "name": "stdout",
     "output_type": "stream",
     "text": [
      "Model trained successfully.\n",
      "VAL\n",
      "recall_10: 0.1286 ; recall_20: 0.2155 ; ndcg_cut_10: 0.3064 ; P_5: 0.4320 ; P_10: 0.4113 ; P_20: 0.3583 ; mrr_100: 0.3589\n",
      "TRAIN\n",
      "recall_10: 0.7712 ; recall_20: 0.7720 ; ndcg_cut_10: 0.7170 ; P_5: 0.1610 ; P_10: 0.0818 ; P_20: 0.0410 ; mrr_100: 0.0000\n"
     ]
    }
   ],
   "source": [
    "feature_names = ['LSA', 'W2V', 'TFIDF', 'BM25', 'QueryTermCount', 'DocTermCount']\n",
    "features_train = create_features(bm25_rankings_train, tfidf_rankings_train, lsa_rankings_train, w2v_rankings_train, query_terms_count_train, doc_terms_count_train, feature_names)\n",
    "features_val = create_features(bm25_rankings_val, tfidf_rankings_val, lsa_rankings_val, w2v_rankings_val, query_terms_count_val, doc_terms_count_val, feature_names)\n",
    "\n",
    "ranker = XGBoostRanker(feature_names=feature_names, params=best_params, n_estimators=1000)\n",
    "ranker.train(features_train, train_qrel_dict)\n",
    "\n",
    "preds_train = ranker.predict(features_train)\n",
    "preds_val = ranker.predict(features_val)\n",
    "\n",
    "metrics = ['recall_10', 'recall_20', 'ndcg_cut_10', 'P_5', 'P_10', 'P_20', 'mrr_100']\n",
    "print('VAL')\n",
    "eval_val = evaluate(validation_qrel_dict, preds_val, metrics)\n",
    "print('TRAIN')\n",
    "eval_train = evaluate(train_qrel_dict, preds_train, metrics)"
   ]
  },
  {
   "cell_type": "code",
   "execution_count": 83,
   "metadata": {},
   "outputs": [
    {
     "name": "stdout",
     "output_type": "stream",
     "text": [
      "Model trained successfully.\n",
      "VAL\n",
      "recall_10: 0.1116 ; recall_20: 0.1875 ; ndcg_cut_10: 0.2657 ; P_5: 0.3853 ; P_10: 0.3587 ; P_20: 0.3177 ; mrr_100: 0.3589\n",
      "TRAIN\n",
      "recall_10: 0.7393 ; recall_20: 0.7720 ; ndcg_cut_10: 0.5692 ; P_5: 0.1379 ; P_10: 0.0784 ; P_20: 0.0410 ; mrr_100: 0.0000\n"
     ]
    }
   ],
   "source": [
    "feature_names = ['LSA', 'W2V', 'TFIDF', 'BM25', 'QueryTermCount', 'DocTermCount']\n",
    "features_train = create_features(bm25_rankings_train, tfidf_rankings_train, lsa_rankings_train, w2v_rankings_train, query_terms_count_train, doc_terms_count_train, feature_names)\n",
    "features_val = create_features(bm25_rankings_val, tfidf_rankings_val, lsa_rankings_val, w2v_rankings_val, query_terms_count_val, doc_terms_count_val, feature_names)\n",
    "\n",
    "ranker = XGBoostRanker(feature_names=feature_names, params=best_params, n_estimators=1) # n_estimators = 1\n",
    "ranker.train(features_train, train_qrel_dict)\n",
    "\n",
    "preds_train = ranker.predict(features_train)\n",
    "preds_val = ranker.predict(features_val)\n",
    "\n",
    "metrics = ['recall_10', 'recall_20', 'ndcg_cut_10', 'P_5', 'P_10', 'P_20', 'mrr_100']\n",
    "print('VAL')\n",
    "eval_val = evaluate(validation_qrel_dict, preds_val, metrics)\n",
    "print('TRAIN')\n",
    "eval_train = evaluate(train_qrel_dict, preds_train, metrics)"
   ]
  },
  {
   "cell_type": "code",
   "execution_count": 84,
   "metadata": {},
   "outputs": [
    {
     "name": "stdout",
     "output_type": "stream",
     "text": [
      "Model trained successfully.\n",
      "TRAIN\n",
      "recall_10: 0.7720 ; recall_20: 0.7720 ; ndcg_cut_10: 0.7735 ; P_5: 0.1640 ; P_10: 0.0820 ; P_20: 0.0410 ; mrr_100: 0.0000\n"
     ]
    }
   ],
   "source": [
    "ranker = XGBoostRanker(feature_names=feature_names, params=None, n_estimators=1000) # params = None\n",
    "ranker.train(features_train, train_qrel_dict)\n",
    "preds_train = ranker.predict(features_train)\n",
    "print('TRAIN')\n",
    "eval_train = evaluate(train_qrel_dict, preds_train, metrics)"
   ]
  },
  {
   "cell_type": "code",
   "execution_count": 85,
   "metadata": {},
   "outputs": [
    {
     "name": "stdout",
     "output_type": "stream",
     "text": [
      "Model trained successfully.\n",
      "VAL\n",
      "recall_10: 0.1310 ; recall_20: 0.2316 ; ndcg_cut_10: 0.3218 ; P_5: 0.4440 ; P_10: 0.4213 ; P_20: 0.3900 ; mrr_100: 0.3589\n",
      "TRAIN\n",
      "recall_10: 0.7110 ; recall_20: 0.7720 ; ndcg_cut_10: 0.5610 ; P_5: 0.1332 ; P_10: 0.0753 ; P_20: 0.0410 ; mrr_100: 0.0000\n"
     ]
    }
   ],
   "source": [
    "feature_names = ['BM25']\n",
    "features_train = create_features(bm25_rankings_train, tfidf_rankings_train, lsa_rankings_train, w2v_rankings_train, query_terms_count_train, doc_terms_count_train, feature_names)\n",
    "features_val = create_features(bm25_rankings_val, tfidf_rankings_val, lsa_rankings_val, w2v_rankings_val, query_terms_count_val, doc_terms_count_val, feature_names)\n",
    "\n",
    "ranker = XGBoostRanker(feature_names=feature_names, params=best_params, n_estimators=1000)\n",
    "ranker.train(features_train, train_qrel_dict)\n",
    "\n",
    "preds_train = ranker.predict(features_train)\n",
    "preds_val = ranker.predict(features_val)\n",
    "\n",
    "metrics = ['recall_10', 'recall_20', 'ndcg_cut_10', 'P_5', 'P_10', 'P_20', 'mrr_100']\n",
    "print('VAL')\n",
    "eval_val = evaluate(validation_qrel_dict, preds_val, metrics)\n",
    "print('TRAIN')\n",
    "eval_train = evaluate(train_qrel_dict, preds_train, metrics)"
   ]
  },
  {
   "cell_type": "code",
   "execution_count": 86,
   "metadata": {},
   "outputs": [
    {
     "name": "stdout",
     "output_type": "stream",
     "text": [
      "Model trained successfully.\n",
      "VAL\n",
      "recall_10: 0.1367 ; recall_20: 0.2286 ; ndcg_cut_10: 0.3255 ; P_5: 0.4573 ; P_10: 0.4193 ; P_20: 0.3797 ; mrr_100: 0.3589\n",
      "TRAIN\n",
      "recall_10: 0.7631 ; recall_20: 0.7720 ; ndcg_cut_10: 0.6621 ; P_5: 0.1533 ; P_10: 0.0809 ; P_20: 0.0410 ; mrr_100: 0.0000\n"
     ]
    }
   ],
   "source": [
    "feature_names = ['BM25', 'W2V']\n",
    "features_train = create_features(bm25_rankings_train, tfidf_rankings_train, lsa_rankings_train, w2v_rankings_train, query_terms_count_train, doc_terms_count_train, feature_names)\n",
    "features_val = create_features(bm25_rankings_val, tfidf_rankings_val, lsa_rankings_val, w2v_rankings_val, query_terms_count_val, doc_terms_count_val, feature_names)\n",
    "\n",
    "ranker = XGBoostRanker(feature_names=feature_names, params=best_params, n_estimators=1000)\n",
    "ranker.train(features_train, train_qrel_dict)\n",
    "\n",
    "preds_train = ranker.predict(features_train)\n",
    "preds_val = ranker.predict(features_val)\n",
    "\n",
    "metrics = ['recall_10', 'recall_20', 'ndcg_cut_10', 'P_5', 'P_10', 'P_20', 'mrr_100']\n",
    "print('VAL')\n",
    "eval_val = evaluate(validation_qrel_dict, preds_val, metrics)\n",
    "print('TRAIN')\n",
    "eval_train = evaluate(train_qrel_dict, preds_train, metrics)"
   ]
  },
  {
   "cell_type": "markdown",
   "metadata": {},
   "source": [
    "Results of the BM25 model itself:\n",
    "\n",
    "recall_10: 0.1475 ; recall_20: 0.2415 ; ndcg_cut_10: 0.3565 ; P_5: 0.4693 ; P_20: 0.4043 ; mrr_100: 0.5367"
   ]
  },
  {
   "cell_type": "markdown",
   "metadata": {
    "id": "DfkEG3X2HJk1"
   },
   "source": [
    "**Step 4.2:** Select the best set of features considering the performance of the validations set and submit a run to Codalab based on the performance of the model on the test set. Report the best set of parameters. (2)\n"
   ]
  },
  {
   "cell_type": "code",
   "execution_count": 87,
   "metadata": {},
   "outputs": [
    {
     "name": "stdout",
     "output_type": "stream",
     "text": [
      "Model trained successfully.\n",
      "VAL\n",
      "recall_10: 0.1367 ; recall_20: 0.2286 ; ndcg_cut_10: 0.3255 ; P_5: 0.4573 ; P_10: 0.4193 ; P_20: 0.3797 ; mrr_100: 0.3589\n",
      "TRAIN\n",
      "recall_10: 0.7676 ; recall_20: 0.7720 ; ndcg_cut_10: 0.6856 ; P_5: 0.1574 ; P_10: 0.0814 ; P_20: 0.0410 ; mrr_100: 0.0000\n"
     ]
    }
   ],
   "source": [
    "# Looking at the plots, this would be the logical best set of features\n",
    "\n",
    "feature_names = ['LSA', 'W2V', 'BM25', 'QueryTermCount']\n",
    "features_train = create_features(bm25_rankings_train, tfidf_rankings_train, lsa_rankings_train, w2v_rankings_train, query_terms_count_train, doc_terms_count_train, feature_names)\n",
    "features_val = create_features(bm25_rankings_val, tfidf_rankings_val, lsa_rankings_val, w2v_rankings_val, query_terms_count_val, doc_terms_count_val, feature_names)\n",
    "features_test = create_features(bm25_rankings_test, tfidf_rankings_test, lsa_rankings_test, w2v_rankings_test, query_terms_count_test, doc_terms_count_test, feature_names)\n",
    "\n",
    "ranker = XGBoostRanker(feature_names=feature_names, params=best_params, n_estimators=1000)\n",
    "ranker.train(features_train, train_qrel_dict)\n",
    "\n",
    "preds_train = ranker.predict(features_train)\n",
    "xgb_rankings_val = ranker.predict(features_val)\n",
    "xgb_rankings_test = ranker.predict(features_test)\n",
    "\n",
    "metrics = ['recall_10', 'recall_20', 'ndcg_cut_10', 'P_5', 'P_10', 'P_20', 'mrr_100']\n",
    "print('VAL')\n",
    "eval_val = evaluate(validation_qrel_dict, preds_val, metrics)\n",
    "print('TRAIN')\n",
    "eval_train = evaluate(train_qrel_dict, preds_train, metrics)\n",
    "\n",
    "# It is quite close between this set, just the BM25 and [BM25, W2V], but we choose this one"
   ]
  },
  {
   "cell_type": "code",
   "execution_count": 88,
   "metadata": {
    "id": "01Tf4FGtHkzA"
   },
   "outputs": [
    {
     "name": "stdout",
     "output_type": "stream",
     "text": [
      "Produced file submission_validation.text\n",
      "Produced file submission_test.text\n",
      "Produced submission file output\\14646161_14622556_codalab_submission.zip\n"
     ]
    }
   ],
   "source": [
    "# Convert the output to the output required for Codalab and submit\n",
    "\n",
    "valid_output_file = write_ranking_results(xgb_rankings_val, 'submission_validation.text', 'xgb')\n",
    "test_output_file = write_ranking_results(xgb_rankings_test, 'submission_test.text', 'xgb')\n",
    "codalab_submission_file = codalab_format('submission_validation.text', 'submission_test.text', studentnumber1, studentnumber2)"
   ]
  },
  {
   "cell_type": "markdown",
   "metadata": {
    "id": "4BuiRk0AHLAO"
   },
   "source": [
    "TEST SCORES:\n",
    "\n",
    "Recall@100: 0.6427\n",
    "\n",
    "nDCG@10: 0.3357\n",
    "\n",
    "Precision@10: 0.4430\n",
    "\n",
    "MRR@10: 0.6388 \n",
    "\n",
    "MRR@10 (validation set): 0.6042"
   ]
  },
  {
   "cell_type": "markdown",
   "metadata": {
    "id": "uXX5rMm4Hxby"
   },
   "source": [
    "**Step 4.3:** Run the model for different values of eta, i.e., [0.1, 0.01, 0.001, 0.0001] using the best set of features from the previous part. Plot the performance per each value of eta (x-axis) on the validation set over Recall@10, nDCG@10, Precision@10, and MRR@100 metrics. (8)\n"
   ]
  },
  {
   "cell_type": "code",
   "execution_count": 89,
   "metadata": {
    "id": "ulzGxScLHNqV"
   },
   "outputs": [
    {
     "name": "stdout",
     "output_type": "stream",
     "text": [
      "Model trained successfully.\n",
      "recall_10: 0.1068 ; recall_20: 0.1874 ; ndcg_cut_10: 0.2647 ; P_5: 0.3680 ; P_10: 0.3513 ; P_20: 0.3237 ; mrr_100: 0.3589\n",
      "Model trained successfully.\n",
      "recall_10: 0.1267 ; recall_20: 0.2316 ; ndcg_cut_10: 0.3052 ; P_5: 0.4107 ; P_10: 0.4073 ; P_20: 0.3827 ; mrr_100: 0.3589\n",
      "Model trained successfully.\n",
      "recall_10: 0.1352 ; recall_20: 0.2352 ; ndcg_cut_10: 0.3233 ; P_5: 0.4360 ; P_10: 0.4247 ; P_20: 0.3910 ; mrr_100: 0.3589\n",
      "Model trained successfully.\n",
      "recall_10: 0.1245 ; recall_20: 0.2189 ; ndcg_cut_10: 0.3092 ; P_5: 0.4093 ; P_10: 0.3920 ; P_20: 0.3703 ; mrr_100: 0.3589\n"
     ]
    }
   ],
   "source": [
    "result_eta = defaultdict(lambda: defaultdict(float))\n",
    "\n",
    "feature_names = ['LSA', 'W2V', 'BM25', 'QueryTermCount']\n",
    "\n",
    "features_train = create_features(bm25_rankings_train, tfidf_rankings_train, lsa_rankings_train, w2v_rankings_train, query_terms_count_train, doc_terms_count_train, feature_names)\n",
    "features_val = create_features(bm25_rankings_val, tfidf_rankings_val, lsa_rankings_val, w2v_rankings_val, query_terms_count_val, doc_terms_count_val, feature_names)\n",
    "metrics = ['recall_10', 'recall_20', 'ndcg_cut_10', 'P_5', 'P_10', 'P_20', 'mrr_100']\n",
    "\n",
    "for eta in [0.1, 0.01, 0.001, 0.0001]:\n",
    "\n",
    "  # train the XGBoost model,\n",
    "  # evaluate the performance of model on validation set using pytrec_eval\n",
    "  # store the result in result_eta\n",
    "  \n",
    "  ranker = XGBoostRanker(feature_names=feature_names, params={'eta': eta}, n_estimators=1000)\n",
    "  ranker.train(features_train, train_qrel_dict)\n",
    "  predictions_val = ranker.predict(features_val)\n",
    "  eval = evaluate(validation_qrel_dict, predictions_val, metrics)\n",
    "  \n",
    "  result_eta[eta]['Recall@10'] = eval['recall_10']\n",
    "  result_eta[eta]['nDCG@10'] = eval['ndcg_cut_10']\n",
    "  result_eta[eta]['precision@10'] = eval['P_10']\n",
    "  result_eta[eta]['MRR@100'] = eval['mrr_100']"
   ]
  },
  {
   "cell_type": "markdown",
   "metadata": {},
   "source": [
    "**Step 4.4:** Select the best value of the eta parameter considering the performance of the validations set and submit a run to Codalab based on the performance of the model on the test set. Report the best value of eta, together with the best performance on the validation and test set. (2)"
   ]
  },
  {
   "cell_type": "code",
   "execution_count": 90,
   "metadata": {
    "id": "YajrAQb9IQL8"
   },
   "outputs": [
    {
     "data": {
      "image/png": "[encoded data removed]",
      "text/plain": [
       "<Figure size 640x480 with 1 Axes>"
      ]
     },
     "metadata": {},
     "output_type": "display_data"
    },
    {
     "data": {
      "image/png": "[encoded data removed]",
      "text/plain": [
       "<Figure size 1200x800 with 1 Axes>"
      ]
     },
     "metadata": {},
     "output_type": "display_data"
    }
   ],
   "source": [
    "# Plot the performance using each value of eta\n",
    "# Note: the plot must be clear to read in the submitted notebook\n",
    "xlabel = 'Learning Rate (eta)'\n",
    "title = 'Model performance with best set of features for each eta'\n",
    "\n",
    "plot_results_line(result_eta, xlabel, 'Graph 3: ' + title)\n",
    "plot_results_bar(result_eta, xlabel, 'Graph 4: ' + title)"
   ]
  },
  {
   "cell_type": "markdown",
   "metadata": {},
   "source": [
    "The best value for eta based on these graphs is 0.001"
   ]
  },
  {
   "cell_type": "code",
   "execution_count": 91,
   "metadata": {
    "id": "FlJaGBXcIe45"
   },
   "outputs": [
    {
     "name": "stdout",
     "output_type": "stream",
     "text": [
      "Model trained successfully.\n"
     ]
    }
   ],
   "source": [
    "# Re-rank top 100 passages of test queries using XGBoost with best set of features and eta\n",
    "feature_names = ['LSA', 'W2V', 'BM25', 'QueryTermCount']\n",
    "features_train = create_features(bm25_rankings_train, tfidf_rankings_train, lsa_rankings_train, w2v_rankings_train, query_terms_count_train, doc_terms_count_train, feature_names)\n",
    "features_val = create_features(bm25_rankings_val, tfidf_rankings_val, lsa_rankings_val, w2v_rankings_val, query_terms_count_val, doc_terms_count_val, feature_names)\n",
    "features_test = create_features(bm25_rankings_test, tfidf_rankings_test, lsa_rankings_test, w2v_rankings_test, query_terms_count_test, doc_terms_count_test, feature_names)\n",
    "\n",
    "ranker = XGBoostRanker(feature_names=feature_names, params={'eta': 0.001}, n_estimators=1000)\n",
    "ranker.train(features_train, train_qrel_dict)\n",
    "\n",
    "xgb_rankings_val = ranker.predict(features_val)\n",
    "xgb_rankings_test = ranker.predict(features_test)"
   ]
  },
  {
   "cell_type": "markdown",
   "metadata": {},
   "source": [
    "The best scores on the validation set:"
   ]
  },
  {
   "cell_type": "code",
   "execution_count": 92,
   "metadata": {},
   "outputs": [
    {
     "name": "stdout",
     "output_type": "stream",
     "text": [
      "recall_10: 0.1352 ; recall_20: 0.2352 ; ndcg_cut_10: 0.3233 ; P_5: 0.4360 ; P_20: 0.3910 ; mrr_100: 0.3589\n"
     ]
    }
   ],
   "source": [
    "xgb_val_eval = evaluate(validation_qrel_dict, xgb_rankings_val)"
   ]
  },
  {
   "cell_type": "markdown",
   "metadata": {},
   "source": [
    "We are not going to do more hyperparameter tuning because it takes time and the cross-encoders are way better, so they deserve our full attention"
   ]
  },
  {
   "cell_type": "code",
   "execution_count": 93,
   "metadata": {},
   "outputs": [
    {
     "name": "stdout",
     "output_type": "stream",
     "text": [
      "Produced file submission_validation.text\n",
      "Produced file submission_test.text\n",
      "Produced submission file output\\14646161_14622556_codalab_submission.zip\n"
     ]
    }
   ],
   "source": [
    "# Convert the output to the output required for Codalab and submit\n",
    "# Tip: Use the two functions defined on the top of this Notebook.\n",
    "\n",
    "valid_output_file = write_ranking_results(xgb_rankings_val, 'submission_validation.text', 'xgb')\n",
    "test_output_file = write_ranking_results(xgb_rankings_test, 'submission_test.text', 'xgb')\n",
    "codalab_submission_file = codalab_format('submission_validation.text', 'submission_test.text', studentnumber1, studentnumber2)"
   ]
  },
  {
   "cell_type": "markdown",
   "metadata": {
    "id": "-mytxtwwIyU-"
   },
   "source": [
    "We chose the eta of 0.001 because that scores across all metrics better than the other eta values\n",
    "\n",
    "TEST SCORES:\n",
    "\n",
    "Recall@100: 0.6427\n",
    "\n",
    "nDCG@10: 0.3578\n",
    "\n",
    "Precision@10: 0.4655\n",
    "\n",
    "MRR@10: 0.6785  \n",
    "\n",
    "MRR@10 (validation set): 0.5869\n",
    "\n",
    "\t\t \t\t"
   ]
  },
  {
   "cell_type": "markdown",
   "metadata": {
    "id": "RdUkWPNb_UiA"
   },
   "source": [
    "**Step 4.4:** Finally, write a brief report on your experiments in the feature dropping and your findings in the hyperparameter tuning, back it up with arguments, the appropriate results, and graphs. Number these graphs and reference to them in your text. The report should be 300-500 words. (15)\n",
    "\n",
    "**Note:** You are judged on all the aforementioned points and readability."
   ]
  },
  {
   "cell_type": "markdown",
   "metadata": {
    "id": "wRavbo0NAxto"
   },
   "source": [
    "In this milestone, we focused on enhancing the ranking model's performance by examining the impact of various features and adjusting hyperparameters to reduce overfitting. Our initial findings suggested that adding more features did not consistently improve performance. Performance metrics on the training set indicated overfitting, prompting us to explore feature selection and regularization techniques.\n",
    "\n",
    "The features considered included LSA similarity, W2V similarity, TF-IDF score, BM25 score, query term count, and document term count. Observing that training set performance was substantially higher than validation set performance, we noted that recall at 20 and nDCG at 10 decreased by approximately 0.3 on the validation set, while precision at 5 and 10 increased, confirming overfitting. Analysis of feature impact, as shown in Graphs 1 and 2, revealed that LSA and BM25 scores were the most crucial features for model performance. Removing features like TF-IDF and document term count, in fact, slightly improved nDCG and precision on the validation data, indicating they contributed minimal value to ranking quality.\n",
    "\n",
    "After excluding TF-IDF and document term count and retraining, generalization improved modestly, but overfitting persisted.\n",
    "\n",
    "We employed a grid search to fine-tune hyperparameters for the XGBoost ranking model, optimizing learning rate, minimum loss reduction, and L1 and L2 regularization terms. The optimal configuration included a learning rate of 0.25, a minimum loss reduction of 0.4, an L1 regularization term of 0.15, and an L2 regularization term of 1.2. While this configuration slightly improved performance, the simpler BM25 model, which actually was even one of the features, still outperformed it overall.\n",
    "\n",
    "To further mitigate overfitting, we applied early stopping based on validation performance, ceasing training if no improvement was observed after 10 rounds. Although this approach yielded marginal improvements, overfitting remained a challenge. Analysis of learning rates, presented in Graphs 3 and 4, indicated that a learning rate of 0.001 performed best for our chosen feature set when other parameters remained at their default values.\n",
    "\n",
    "These experiments highlighted the uneven contribution of features to model performance, underscoring the need for deliberate feature selection. Simply increasing feature count did not enhance performance, as certain features, such as document term count and TF-IDF, introduced noise rather than meaningful insights into ranking quality."
   ]
  },
  {
   "cell_type": "markdown",
   "metadata": {
    "id": "-SK5TtQIJBDq"
   },
   "source": [
    "# Using pre-trained cross-encoder models (33)\n"
   ]
  },
  {
   "cell_type": "markdown",
   "metadata": {
    "id": "h_ik38YW4Rch"
   },
   "source": [
    "![cross-encoder.jpg](data:image/jpeg;base64,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)\n",
    "\n",
    "**Background:** A pre-trained cross-encoder is a model that has been trained to understand the similarity and relevance between pairs of inputs, often for tasks like question-answering and ranking. It takes two inputs, processes them together in a single pass (rather than independently), and outputs a score representing how related or similar the inputs are. Pre-training helps the model learn general patterns, and it can be fine-tuned on specific tasks for better performance in areas like natural language processing. The training is done on an encoder-only language model, such as BERT. The encoder-only language models take text tokens as input and produce an embedding of the whole text in a high-dimensional dense space. A cross-encoder model adds a classification layer on top of the language model (e.g., BERT) that predicts the similarity of the two given inputs.\n",
    "\n",
    "In this part of the project, you will gain experience using these models off-the-shelf and witness their capabilities in capturing semantic and complex similarities that simpler models fail to capture.\n",
    "\n",
    "If you want to read more about BERT and pre-trained cross-encoders you can see these articles: [BERT Explained](https://medium.com/@samia.khalid/bert-explained-a-complete-guide-with-theory-and-tutorial-3ac9ebc8fa7c), [Cross-Encoders](https://osanseviero.github.io/hackerllama/blog/posts/sentence_embeddings2/)"
   ]
  },
  {
   "cell_type": "markdown",
   "metadata": {
    "id": "_vyZ0V4CJEBI"
   },
   "source": [
    "**Step 5:** Load the pre-trained cross-encoder model ``cross-encoder/ms-marco-MiniLM-L-6-v2`` from the ``sentence_transformers`` library. Compute the similarity of each query and each of the top 100 passages for validation and test queries from Step 1 using the pre-trained cross-encoder model. Use the queries and top 100 passages based on BM25 score for re-ranking. Report the performance on test and validation set queries. (15)"
   ]
  },
  {
   "cell_type": "code",
   "execution_count": 94,
   "metadata": {
    "id": "UBUrKoP-M8fO"
   },
   "outputs": [],
   "source": [
    "from sentence_transformers import CrossEncoder\n",
    "reranker = CrossEncoder('cross-encoder/ms-marco-MiniLM-L-6-v2', device='cuda')\n"
   ]
  },
  {
   "cell_type": "code",
   "execution_count": 95,
   "metadata": {},
   "outputs": [],
   "source": [
    "# Get top 100 passages per query in validation set based on BM25 score\n",
    "# Compute the similarity of query with each of the top 100 passages in validation set\n",
    "# Report the performance on validation set\n",
    "\n",
    "def cross_encoder(bm25_rankings, queries_dict, collection_dict, output_file, reranker):\n",
    "    query_doc_pairs_text = []\n",
    "    query_doc_pairs_ids = []\n",
    "    \n",
    "    for query_id, doc_dict in bm25_rankings.items():\n",
    "        assert len(doc_dict) in [20, 100, 200, 2000], f\"Query {query_id} has {len(doc_dict)} documents, expected 20 or 100.\"\n",
    "        query_text = queries_dict.get(query_id)\n",
    "        for doc_id in doc_dict.keys():\n",
    "            doc_text = collection_dict.get(doc_id)\n",
    "            query_doc_pairs_text.append((query_text, doc_text))\n",
    "            query_doc_pairs_ids.append((query_id, doc_id))\n",
    "\n",
    "    scores = reranker.predict(query_doc_pairs_text)\n",
    "\n",
    "    cross_encoder_rankings = defaultdict(dict)\n",
    "    for (query_id, doc_id), score in zip(query_doc_pairs_ids, scores):\n",
    "        cross_encoder_rankings[query_id][doc_id] = float(score)\n",
    "        \n",
    "    for query_id in cross_encoder_rankings:\n",
    "        sorted_docs = sorted(cross_encoder_rankings[query_id].items(), key=lambda item: item[1], reverse=True)\n",
    "        cross_encoder_rankings[query_id] = dict(sorted_docs)\n",
    "        \n",
    "    write_rankings_to_file(cross_encoder_rankings, output_file)\n",
    "\n",
    "    return cross_encoder_rankings"
   ]
  },
  {
   "cell_type": "code",
   "execution_count": 96,
   "metadata": {},
   "outputs": [
    {
     "name": "stdout",
     "output_type": "stream",
     "text": [
      "recall_10: 0.1831 ; recall_20: 0.3048 ; ndcg_cut_10: 0.4641 ; P_5: 0.5840 ; P_20: 0.4903 ; mrr_100: 0.6242\n"
     ]
    }
   ],
   "source": [
    "# Get top 100 passages per query in validation set based on BM25 score\n",
    "# Compute the similarity of query with each of the top 100 passages in validation set\n",
    "# Report the performance on validation set\n",
    "\n",
    "try:\n",
    "    cross_encoder_val = read_file_to_dict('results/cross_encoder_val.txt')\n",
    "except:\n",
    "    cross_encoder_val = cross_encoder(bm25_rankings_val, validation_queries_dict, collection_dict, 'cross_encoder_val.txt', reranker)\n",
    "    \n",
    "\n",
    "for query in cross_encoder_val:\n",
    "    assert len(cross_encoder_val[query]) == 100, f\"doc_count of {query} is {len(cross_encoder_val[query])}\"\n",
    "    \n",
    "for query_id in bm25_rankings_val.keys():\n",
    "        bm25_doc_ids = set(bm25_rankings_val[query_id].keys())\n",
    "        cross_doc_ids = set(cross_encoder_val[query_id].keys())\n",
    "\n",
    "        assert bm25_doc_ids == cross_doc_ids, f\"Document IDs mismatch for query '{query_id}'\"\n",
    "        \n",
    "\n",
    "cross_val_eval = evaluate(validation_qrel_dict, cross_encoder_val)"
   ]
  },
  {
   "cell_type": "code",
   "execution_count": 97,
   "metadata": {},
   "outputs": [
    {
     "name": "stdout",
     "output_type": "stream",
     "text": [
      "Produced file submission_validation.text\n",
      "Produced file submission_test.text\n",
      "Produced submission file output\\14646161_14622556_codalab_submission.zip\n"
     ]
    }
   ],
   "source": [
    "# Get top 100 passages per query in test set based on BM25 score\n",
    "# Compute the similarity of query with each of the top 100 passages in test set\n",
    "# Convert the result to the format required for Codalab\n",
    "# submit a run to Codalab\n",
    "\n",
    "try:\n",
    "    cross_encoder_test = read_file_to_dict('results/cross_encoder_test.txt')\n",
    "except:\n",
    "    cross_encoder_test = cross_encoder(bm25_rankings_test, test_queries_dict, collection_dict, 'cross_encoder_test.txt', reranker)\n",
    "    \n",
    "\n",
    "for query in cross_encoder_test:\n",
    "    assert len(cross_encoder_test[query]) == 100, f\"doc_count of {query} is {len(cross_encoder_test[query])}\"\n",
    "    \n",
    "for query_id in bm25_rankings_test.keys():\n",
    "        bm25_doc_ids = set(bm25_rankings_test[query_id].keys())\n",
    "        cross_doc_ids = set(cross_encoder_test[query_id].keys())\n",
    "\n",
    "        assert bm25_doc_ids == cross_doc_ids, f\"Document IDs mismatch for query '{query_id}'\"\n",
    "        \n",
    "\n",
    "valid_output_file = write_ranking_results(cross_encoder_val, 'submission_validation.text', 'cross_encoder')\n",
    "test_output_file = write_ranking_results(cross_encoder_test, 'submission_test.text', 'cross_encoder')\n",
    "codalab_submission_file = codalab_format('submission_validation.text', 'submission_test.text', studentnumber1, studentnumber2)"
   ]
  },
  {
   "cell_type": "markdown",
   "metadata": {
    "id": "M7ej_HjzMXcs"
   },
   "source": [
    "TEST SCORES:\n",
    "\n",
    "Recall@100: 0.6427\n",
    "\n",
    "nDCG@10: 0.4494\n",
    "\n",
    "Precision@10: 0.5555\n",
    "\n",
    "MRR@10: 0.7645 \n",
    "\n",
    "MRR@10 (validation set): 0.7267\t \t"
   ]
  },
  {
   "cell_type": "markdown",
   "metadata": {
    "id": "uX54-ZaKJQyH"
   },
   "source": [
    "**Step 6:** Can you think of new features or other re-ranker models to improve the results further? Provide a detailed explanation of the model or features that you propose, implement them and report the performance on validation and test sets.(18)"
   ]
  },
  {
   "cell_type": "markdown",
   "metadata": {},
   "source": [
    "***Using another cross encoder***"
   ]
  },
  {
   "cell_type": "code",
   "execution_count": 98,
   "metadata": {},
   "outputs": [],
   "source": [
    "reranker_new = CrossEncoder('cross-encoder/ms-marco-TinyBERT-L-2-v2', device='cuda')"
   ]
  },
  {
   "cell_type": "code",
   "execution_count": 99,
   "metadata": {},
   "outputs": [
    {
     "name": "stdout",
     "output_type": "stream",
     "text": [
      "recall_10: 0.1831 ; recall_20: 0.3048 ; ndcg_cut_10: 0.4641 ; P_5: 0.5840 ; P_20: 0.4903 ; mrr_100: 0.6242\n"
     ]
    }
   ],
   "source": [
    "try:\n",
    "    cross_encoder_val = read_file_to_dict('results/cross_encoder_val.txt')\n",
    "except:\n",
    "    cross_encoder_val = cross_encoder(bm25_rankings_val, validation_queries_dict, collection_dict, 'cross_encoder_val.txt', reranker_new)\n",
    "    \n",
    "\n",
    "for query in cross_encoder_val:\n",
    "    assert len(cross_encoder_val[query]) == 100, f\"doc_count of {query} is {len(cross_encoder_val[query])}\"\n",
    "    \n",
    "for query_id in bm25_rankings_val.keys():\n",
    "        bm25_doc_ids = set(bm25_rankings_val[query_id].keys())\n",
    "        cross_doc_ids = set(cross_encoder_val[query_id].keys())\n",
    "\n",
    "        assert bm25_doc_ids == cross_doc_ids, f\"Document IDs mismatch for query '{query_id}'\"\n",
    "        \n",
    "\n",
    "cross_val_eval = evaluate(validation_qrel_dict, cross_encoder_val)"
   ]
  },
  {
   "cell_type": "markdown",
   "metadata": {},
   "source": [
    "***We tried the following cross-encoders (before finetuning):***\n",
    "\n",
    "SCORES VAL\n",
    "\n",
    "ms-marco-MiniLM-L-6-v2: recall_10: 0.1831 ; recall_20: 0.3048 ; ndcg_cut_10: 0.4641 ; P_5: 0.5840 ; P_20: 0.4903 ; mrr_100: 0.6242\n",
    "\n",
    "ms-marco-MiniLM-L-12-v2: recall_10: 0.1740 ; recall_20: 0.3090 ; ndcg_cut_10: 0.4451 ; P_5: 0.5733 ; P_20: 0.4923 ; mrr_100: 0.6255 (slow)\n",
    "\n",
    "ms-marco-TinyBERT-L-2-v2: recall_10: 0.1581 ; recall_20: 0.2716 ; ndcg_cut_10: 0.3873 ; P_5: 0.5133 ; P_20: 0.4363 ; mrr_100: 0.5563 (fast)\n",
    "\n",
    "stsb-roberta-base: recall_10: 0.0693 ; recall_20: 0.1569 ; ndcg_cut_10: 0.1635 ; P_5: 0.2307 ; P_20: 0.2640 ; mrr_100: 0.2928 (slow)\n",
    "\n",
    "---\n",
    "\n",
    "\n",
    "We will stick to the 'ms-marco-MiniLM-L-6-v2', because it arguably has the best scores and it is twice as fast as the L12"
   ]
  },
  {
   "cell_type": "markdown",
   "metadata": {},
   "source": [
    "***Using a BERT model***"
   ]
  },
  {
   "cell_type": "code",
   "execution_count": 100,
   "metadata": {},
   "outputs": [
    {
     "name": "stdout",
     "output_type": "stream",
     "text": [
      "The device being used is cuda\n"
     ]
    },
    {
     "name": "stderr",
     "output_type": "stream",
     "text": [
      "Some weights of BertForSequenceClassification were not initialized from the model checkpoint at bert-base-uncased and are newly initialized: ['classifier.bias', 'classifier.weight']\n",
      "You should probably TRAIN this model on a down-stream task to be able to use it for predictions and inference.\n",
      "c:\\Users\\abedi\\AppData\\Local\\Programs\\Python\\Python312\\Lib\\site-packages\\torch\\nn\\modules\\module.py:1150: UserWarning: expandable_segments not supported on this platform (Triggered internally at ..\\c10/cuda/CUDAAllocatorConfig.h:30.)\n",
      "  return t.to(device, dtype if t.is_floating_point() or t.is_complex() else None, non_blocking)\n"
     ]
    }
   ],
   "source": [
    "os.environ[\"PYTORCH_CUDA_ALLOC_CONF\"] = \"expandable_segments:True\"\n",
    "\n",
    "# Initialize model and tokenizer\n",
    "device = 'cuda' if torch.cuda.is_available() else 'cpu'\n",
    "print(f'The device being used is {device}')\n",
    "tokenizer = AutoTokenizer.from_pretrained(\"bert-base-uncased\")\n",
    "model = AutoModelForSequenceClassification.from_pretrained(\"bert-base-uncased\", num_labels=1).to(device)\n",
    "\n",
    "def bert_reranker(bm25_rankings, queries_dict, output_file, batch_size=16):\n",
    "    query_doc_pairs_text = []\n",
    "    query_doc_pairs_ids = []\n",
    "    \n",
    "    # Prepare all query-document pairs\n",
    "    for query_id, doc_dict in bm25_rankings.items():\n",
    "        assert len(doc_dict) in [20, 100, 200], f\"Query {query_id} has {len(doc_dict)} documents, expected 20 or 100.\"\n",
    "        query_text = queries_dict.get(query_id)\n",
    "        for doc_id in doc_dict.keys():\n",
    "            doc_text = collection_dict.get(doc_id)\n",
    "            query_doc_pairs_text.append((query_text, doc_text))\n",
    "            query_doc_pairs_ids.append((query_id, doc_id))\n",
    "    \n",
    "    # Run inference in batches\n",
    "    scores = []\n",
    "    for i in range(0, len(query_doc_pairs_text), batch_size):\n",
    "        batch_pairs = query_doc_pairs_text[i:i + batch_size]\n",
    "        inputs = tokenizer(\n",
    "            [f\"{query} [SEP] {doc}\" for query, doc in batch_pairs],\n",
    "            padding=True,\n",
    "            truncation=True,\n",
    "            return_tensors=\"pt\"\n",
    "        ).to(device)\n",
    "\n",
    "        with torch.no_grad():\n",
    "            outputs = model(**inputs)\n",
    "            batch_scores = outputs.logits.squeeze(-1).cpu().numpy()\n",
    "            scores.extend(batch_scores)\n",
    "\n",
    "    # Build rankings\n",
    "    cross_encoder_rankings = defaultdict(dict)\n",
    "    for (query_id, doc_id), score in zip(query_doc_pairs_ids, scores):\n",
    "        cross_encoder_rankings[query_id][doc_id] = float(score)\n",
    "\n",
    "    # Sort scores for each query\n",
    "    for query_id in cross_encoder_rankings:\n",
    "        sorted_docs = sorted(cross_encoder_rankings[query_id].items(), key=lambda item: item[1], reverse=True)\n",
    "        cross_encoder_rankings[query_id] = dict(sorted_docs)\n",
    "\n",
    "    # Write results to file\n",
    "    write_rankings_to_file(cross_encoder_rankings, output_file)\n",
    "\n",
    "    return cross_encoder_rankings\n"
   ]
  },
  {
   "cell_type": "code",
   "execution_count": 101,
   "metadata": {},
   "outputs": [
    {
     "name": "stdout",
     "output_type": "stream",
     "text": [
      "recall_10: 0.0587 ; recall_20: 0.1240 ; ndcg_cut_10: 0.1245 ; P_5: 0.1800 ; P_20: 0.2117 ; mrr_100: 0.2225\n"
     ]
    }
   ],
   "source": [
    "try:\n",
    "    bert_val = read_file_to_dict('results/bert_val.txt')\n",
    "except:\n",
    "    bert_val = bert_reranker(bm25_rankings_val, validation_queries_dict, 'bert_val.txt')\n",
    "    \n",
    "\n",
    "for query in bert_val:\n",
    "    assert len(bert_val[query]) == 100, f\"doc_count of {query} is {len(bert_val[query])}\"\n",
    "    \n",
    "for query_id in bm25_rankings_val.keys():\n",
    "        bm25_doc_ids = set(bm25_rankings_val[query_id].keys())\n",
    "        bert_doc_ids = set(bert_val[query_id].keys())\n",
    "\n",
    "        assert bm25_doc_ids == bert_doc_ids, f\"Document IDs mismatch for query '{query_id}'\"\n",
    "        \n",
    "bert_eval = evaluate(validation_qrel_dict, bert_val)"
   ]
  },
  {
   "cell_type": "markdown",
   "metadata": {},
   "source": [
    "Cross encoders are usually better for query-document ranking than BERT models (bi-encoders) and although finetuning could make it better, we don't think that it will outperform the cross encoder and thus it is not worth out time."
   ]
  },
  {
   "cell_type": "markdown",
   "metadata": {},
   "source": [
    "***By training the cross-encoder to our training data***"
   ]
  },
  {
   "cell_type": "code",
   "execution_count": 102,
   "metadata": {},
   "outputs": [],
   "source": [
    "try:\n",
    "    reranker_trained = CrossEncoder('cross_encoder_trained_preprocessed', device='cuda')\n",
    "except:\n",
    "    train_samples = []\n",
    "    for query_id, doc_scores in bm25_rankings_train.items():\n",
    "        query_text = train_queries_dict[query_id]\n",
    "        for doc_id in doc_scores.keys():\n",
    "            doc_text = collection_dict[doc_id]\n",
    "            relevance_score = train_qrel_dict.get(query_id, {}).get(doc_id, 0)\n",
    "            train_samples.append(InputExample(texts=[query_text, doc_text], label=relevance_score))\n",
    "\n",
    "    # Initialize the CrossEncoder model\n",
    "    reranker = CrossEncoder('cross-encoder/ms-marco-MiniLM-L-6-v2', device='cuda')\n",
    "    \n",
    "    # Create a DataLoader\n",
    "    train_dataloader = DataLoader(train_samples, shuffle=True, batch_size=16)\n",
    "\n",
    "    # Train the model\n",
    "    reranker.fit(train_dataloader=train_dataloader, epochs=1, warmup_steps=100)\n",
    "\n",
    "    reranker.save('cross_encoder_trained')\n",
    "    print(\"Model manually saved to 'cross_encoder_trained'\")\n",
    "\n",
    "    reranker_trained = CrossEncoder('cross_encoder_trained', device='cuda')"
   ]
  },
  {
   "cell_type": "code",
   "execution_count": 103,
   "metadata": {},
   "outputs": [
    {
     "name": "stdout",
     "output_type": "stream",
     "text": [
      "recall_10: 0.1716 ; recall_20: 0.2837 ; ndcg_cut_10: 0.4305 ; P_5: 0.5787 ; P_20: 0.4553 ; mrr_100: 0.6105\n"
     ]
    }
   ],
   "source": [
    "try:\n",
    "    ce_trained_val = read_file_to_dict('results/ce_trained_val.txt')\n",
    "except:\n",
    "    ce_trained_val = cross_encoder(bm25_rankings_val, validation_queries_dict, collection_dict, 'ce_trained_val.txt', reranker_trained)\n",
    "    \n",
    "\n",
    "for query in ce_trained_val:\n",
    "    assert len(ce_trained_val[query]) == 100, f\"doc_count of {query} is {len(ce_trained_val[query])}\"\n",
    "    \n",
    "for query_id in bm25_rankings_val.keys():\n",
    "        bm25_doc_ids = set(bm25_rankings_val[query_id].keys())\n",
    "        ce_trained_doc_ids = set(ce_trained_val[query_id].keys())\n",
    "\n",
    "        assert bm25_doc_ids == ce_trained_doc_ids, f\"Document IDs mismatch for query '{query_id}'\"\n",
    "        \n",
    "\n",
    "cross_val_eval = evaluate(validation_qrel_dict, ce_trained_val)"
   ]
  },
  {
   "cell_type": "code",
   "execution_count": 104,
   "metadata": {},
   "outputs": [
    {
     "name": "stdout",
     "output_type": "stream",
     "text": [
      "Produced file submission_validation.text\n",
      "Produced file submission_test.text\n",
      "Produced submission file output\\14646161_14622556_codalab_submission.zip\n"
     ]
    }
   ],
   "source": [
    "try:\n",
    "    ce_trained_test = read_file_to_dict('results/ce_trained_test.txt')\n",
    "except:\n",
    "    ce_trained_test = cross_encoder(bm25_rankings_test, test_queries_dict, collection_dict, 'ce_trained_test.txt', reranker_trained)\n",
    "    \n",
    "\n",
    "for query in ce_trained_test:\n",
    "    assert len(ce_trained_test[query]) == 100, f\"doc_count of {query} is {len(ce_trained_test[query])}\"\n",
    "    \n",
    "for query_id in bm25_rankings_test.keys():\n",
    "        bm25_doc_ids = set(bm25_rankings_test[query_id].keys())\n",
    "        ce_trained_doc_ids = set(ce_trained_test[query_id].keys())\n",
    "\n",
    "        assert bm25_doc_ids == ce_trained_doc_ids, f\"Document IDs mismatch for query '{query_id}'\"\n",
    "        \n",
    "\n",
    "valid_output_file = write_ranking_results(ce_trained_val, 'submission_validation.text', 'cross_encoder')\n",
    "test_output_file = write_ranking_results(ce_trained_test, 'submission_test.text', 'cross_encoder')\n",
    "codalab_submission_file = codalab_format('submission_validation.text', 'submission_test.text', studentnumber1, studentnumber2)"
   ]
  },
  {
   "cell_type": "markdown",
   "metadata": {},
   "source": [
    "***Return more using BM25***\n",
    "\n",
    "The recall@100 can never be better than that of the original ranker (BM25), because we only returned 100 documents per query with that one before.\n",
    "\n",
    "Now we are going to increase that and we are also going to make the training set bigger."
   ]
  },
  {
   "cell_type": "code",
   "execution_count": 105,
   "metadata": {},
   "outputs": [],
   "source": [
    "try:\n",
    "    bm25_rankings_val_200 = read_file_to_dict('results/bm25_val_200.txt')\n",
    "    bm25_rankings_test_200 = read_file_to_dict('results/bm25_test_200.txt')\n",
    "except:\n",
    "    bm25_rankings_val_200 = bm25(validation_queries_dict, 200, 'bm25_val_200.txt')\n",
    "    bm25_rankings_test_200 = bm25(test_queries_dict, 200, 'bm25_test_200.txt')"
   ]
  },
  {
   "cell_type": "markdown",
   "metadata": {},
   "source": [
    "***Trying without pre-processing***\n",
    "\n",
    "Because the cross-encoders are made for full texts, they could be better if the queries and documents are full sentences instead of loose words."
   ]
  },
  {
   "cell_type": "code",
   "execution_count": 106,
   "metadata": {},
   "outputs": [],
   "source": [
    "train_queries_dict_raw = load_queries_dict('data/training_queries.tsv')\n",
    "test_queries_dict_raw = load_queries_dict('data/test_queries.tsv')\n",
    "validation_queries_dict_raw = load_queries_dict('data/validation_queries.tsv')\n",
    "\n",
    "collection_dict_raw = load_collection_dict('data/collection.jsonl')"
   ]
  },
  {
   "cell_type": "code",
   "execution_count": 107,
   "metadata": {},
   "outputs": [],
   "source": [
    "reranker = CrossEncoder('cross-encoder/ms-marco-MiniLM-L-6-v2', device='cuda')"
   ]
  },
  {
   "cell_type": "code",
   "execution_count": 108,
   "metadata": {},
   "outputs": [
    {
     "name": "stdout",
     "output_type": "stream",
     "text": [
      "recall_10: 0.2076 ; recall_20: 0.3409 ; ndcg_cut_10: 0.5337 ; P_5: 0.6493 ; P_20: 0.5310 ; mrr_100: 0.7085\n"
     ]
    }
   ],
   "source": [
    "try:\n",
    "    ce_raw_val = read_file_to_dict('results/ce_raw_val.txt')\n",
    "except:\n",
    "    ce_raw_val = cross_encoder(bm25_rankings_val_200, validation_queries_dict_raw, collection_dict_raw, 'ce_raw_val.txt', reranker)\n",
    "    \n",
    "\n",
    "for query in ce_raw_val:\n",
    "    assert len(ce_raw_val[query]) == 200, f\"doc_count of {query} is {len(ce_raw_val[query])}\"\n",
    "    \n",
    "for query_id in bm25_rankings_val_200.keys():\n",
    "        bm25_doc_ids = set(bm25_rankings_val_200[query_id].keys())\n",
    "        cross_doc_ids = set(ce_raw_val[query_id].keys())\n",
    "\n",
    "        assert bm25_doc_ids == cross_doc_ids, f\"Document IDs mismatch for query '{query_id}'\"\n",
    "        \n",
    "\n",
    "ce_raw_val_eval = evaluate(validation_qrel_dict, ce_raw_val)"
   ]
  },
  {
   "cell_type": "markdown",
   "metadata": {},
   "source": [
    "The scores actually increased a lot!\n",
    "\n",
    "Now we are going to train it on our (raw and bigger) training dataset"
   ]
  },
  {
   "cell_type": "code",
   "execution_count": 109,
   "metadata": {},
   "outputs": [],
   "source": [
    "try:\n",
    "    ce_trained_raw = CrossEncoder('ce_trained_raw_2', device='cuda')\n",
    "except (FileNotFoundError, OSError):\n",
    "    train_samples = []\n",
    "    for query_id, doc_scores in bm25_rankings_train.items():\n",
    "        query_text = train_queries_dict_raw[query_id]\n",
    "        for doc_id in doc_scores.keys():\n",
    "            doc_text = collection_dict_raw[doc_id]\n",
    "            relevance_score = train_qrel_dict.get(query_id, {}).get(doc_id, 0)\n",
    "            train_samples.append(InputExample(texts=[query_text, doc_text], label=relevance_score))\n",
    "\n",
    "    reranker = CrossEncoder('cross-encoder/ms-marco-MiniLM-L-6-v2', device='cuda')\n",
    "    \n",
    "    train_dataset = SentenceLabelDataset(train_samples)\n",
    "    train_dataloader = DataLoader(train_dataset, batch_size=16)\n",
    "\n",
    "    # Train the model with more epochs and a custom learning rate\n",
    "    reranker.fit(train_dataloader=train_dataloader, epochs=3, warmup_steps=20, optimizer_params={'lr': 5e-5})\n",
    "\n",
    "    reranker.save('ce_trained_raw_2')\n",
    "    print(\"Model manually saved to 'ce_trained_raw_2'\")\n",
    "\n",
    "    # Load the trained model for evaluation\n",
    "    ce_trained_raw = CrossEncoder('ce_trained_raw_2', device='cuda')"
   ]
  },
  {
   "cell_type": "code",
   "execution_count": 112,
   "metadata": {},
   "outputs": [
    {
     "name": "stdout",
     "output_type": "stream",
     "text": [
      "recall_10: 0.1688 ; recall_20: 0.2724 ; ndcg_cut_10: 0.4193 ; P_5: 0.5720 ; P_20: 0.4383 ; mrr_100: 0.5755\n"
     ]
    }
   ],
   "source": [
    "try:\n",
    "    ce_trained_raw_val = read_file_to_dict('results/ce_trained_raw_val.txt')\n",
    "except:\n",
    "    ce_trained_raw_val = cross_encoder(bm25_rankings_val_200, validation_queries_dict_raw, collection_dict_raw, 'ce_trained_raw_val.txt', ce_trained_raw)\n",
    "    \n",
    "\n",
    "for query in ce_trained_raw_val:\n",
    "    assert len(ce_trained_raw_val[query]) == 200, f\"doc_count of {query} is {len(ce_trained_raw_val[query])}\"\n",
    "    \n",
    "for query_id in bm25_rankings_val_200.keys():\n",
    "        bm25_doc_ids = set(bm25_rankings_val_200[query_id].keys())\n",
    "        ce_trained_doc_ids = set(ce_trained_raw_val[query_id].keys())\n",
    "\n",
    "        assert bm25_doc_ids == ce_trained_doc_ids, f\"Document IDs mismatch for query '{query_id}'\"\n",
    "        \n",
    "cross_val_eval = evaluate(validation_qrel_dict, ce_trained_raw_val)"
   ]
  },
  {
   "cell_type": "markdown",
   "metadata": {},
   "source": [
    "The model once again became worse after training. We are going to use the untrained model to rank the validation and test sets for the top 2000 from the BM25 to increase the recall even further."
   ]
  },
  {
   "cell_type": "code",
   "execution_count": 113,
   "metadata": {},
   "outputs": [],
   "source": [
    "try:\n",
    "    bm25_rankings_val_2000 = read_file_to_dict('results/bm25_val_2000.txt')\n",
    "    bm25_rankings_test_2000 = read_file_to_dict('results/bm25_test_2000.txt')\n",
    "except:\n",
    "    bm25_rankings_val_2000 = bm25(validation_queries_dict, 1000, 'bm25_val_2000.txt')\n",
    "    bm25_rankings_test_2000 = bm25(test_queries_dict, 1000, 'bm25_test_2000.txt')"
   ]
  },
  {
   "cell_type": "code",
   "execution_count": 114,
   "metadata": {},
   "outputs": [
    {
     "name": "stdout",
     "output_type": "stream",
     "text": [
      "recall_10: 0.2128 ; recall_20: 0.3481 ; ndcg_cut_10: 0.5431 ; P_5: 0.6533 ; P_20: 0.5410 ; mrr_100: 0.7162\n"
     ]
    }
   ],
   "source": [
    "try:\n",
    "    ce_all_val = read_file_to_dict('results/ce_all_val.txt')\n",
    "except:\n",
    "    ce_all_val = cross_encoder(bm25_rankings_val_2000, validation_queries_dict_raw, collection_dict_raw, 'ce_all_val.txt', reranker)\n",
    "    \n",
    "\n",
    "for query in ce_all_val:\n",
    "    assert len(ce_all_val[query]) == 2000, f\"doc_count of {query} is {len(ce_all_val[query])}\"\n",
    "    \n",
    "for query_id in bm25_rankings_val_2000.keys():\n",
    "        bm25_doc_ids = set(bm25_rankings_val_2000[query_id].keys())\n",
    "        ce_trained_doc_ids = set(ce_all_val[query_id].keys())\n",
    "\n",
    "        assert bm25_doc_ids == ce_trained_doc_ids, f\"Document IDs mismatch for query '{query_id}'\"\n",
    "        \n",
    "ce_all_eval = evaluate(validation_qrel_dict, ce_all_val)"
   ]
  },
  {
   "cell_type": "code",
   "execution_count": 115,
   "metadata": {},
   "outputs": [
    {
     "name": "stdout",
     "output_type": "stream",
     "text": [
      "Top 200\n",
      "recall_10: 0.2076 ; recall_100: 0.7123 ; P_20: 0.5310 ; ndcg_cut_10: 0.5337 ; mrr_100: 0.7085\n",
      "Top 2000\n",
      "recall_10: 0.2128 ; recall_100: 0.7681 ; P_20: 0.5410 ; ndcg_cut_10: 0.5431 ; mrr_100: 0.7162\n"
     ]
    }
   ],
   "source": [
    "metrics = ['recall_10', 'recall_100', 'P_20', 'ndcg_cut_10', 'mrr_100']\n",
    "print('Top 200')\n",
    "ce_raw_eval = evaluate(validation_qrel_dict, ce_raw_val, metrics)\n",
    "print('Top 2000')\n",
    "ce_all_eval = evaluate(validation_qrel_dict, ce_all_val, metrics)"
   ]
  },
  {
   "cell_type": "markdown",
   "metadata": {},
   "source": [
    "The recall is a lot better and the rest is a bit better. Maybe a higher top_n for the BM25 would have even been possible, altough it would have taken even longer."
   ]
  },
  {
   "cell_type": "markdown",
   "metadata": {},
   "source": [
    "**Our best model**\n",
    "\n",
    "Not fine-tuned, not pre-processed, on top 2000 from the BM25 rankings"
   ]
  },
  {
   "cell_type": "code",
   "execution_count": 116,
   "metadata": {},
   "outputs": [
    {
     "name": "stdout",
     "output_type": "stream",
     "text": [
      "Produced file submission_validation.text\n",
      "Produced file submission_test.text\n",
      "Produced submission file output\\14646161_14622556_codalab_submission.zip\n"
     ]
    }
   ],
   "source": [
    "try:\n",
    "    ce_all_test = read_file_to_dict('results/ce_all_test.txt')\n",
    "except:\n",
    "    ce_all_test = cross_encoder(bm25_rankings_test_2000, test_queries_dict_raw, collection_dict_raw, 'ce_all_test.txt', reranker)\n",
    "    \n",
    "\n",
    "for query in ce_all_test:\n",
    "    assert len(ce_all_test[query]) == 2000, f\"doc_count of {query} is {len(ce_all_test[query])}\"\n",
    "    \n",
    "for query_id in bm25_rankings_test_2000.keys():\n",
    "        bm25_doc_ids = set(bm25_rankings_test_2000[query_id].keys())\n",
    "        cross_doc_ids = set(ce_all_test[query_id].keys())\n",
    "\n",
    "        assert bm25_doc_ids == cross_doc_ids, f\"Document IDs mismatch for query '{query_id}'\"\n",
    "        \n",
    "\n",
    "valid_output_file = write_ranking_results(ce_all_val, 'submission_validation.text', 'cross_encoder')\n",
    "test_output_file = write_ranking_results(ce_all_test, 'submission_test.text', 'cross_encoder')\n",
    "codalab_submission_file = codalab_format('submission_validation.text', 'submission_test.text', studentnumber1, studentnumber2)"
   ]
  },
  {
   "cell_type": "markdown",
   "metadata": {},
   "source": [
    "TEST SCORES:\n",
    "\n",
    "Recall@100: 0.7852 (2)\n",
    "\n",
    "nDCG@10: 0.5576 (3)\n",
    "\n",
    "Precision@10: 0.6575 (3)\n",
    "\n",
    "MRR@10: 0.8604 (2)\n",
    "\n",
    "MRR@10 (validation set): 0.8047 (3)"
   ]
  },
  {
   "cell_type": "markdown",
   "metadata": {},
   "source": [
    "**Explaining the models:**\n",
    "\n",
    "The bi-encoder model processes queries and documents independently, enabling all embeddings to be computed in a single forward pass. This approach allows pre-computation and storage of embeddings for all documents, which significantly reduces computation time during ranking. The bi-encoder can handle multiple queries and documents simultaneously, making it efficient and advantageous for handling large datasets.\n",
    "\n",
    "However, while bi-encoders provide computational efficiency, cross-encoders tend to perform better in terms of ranking accuracy, although at a higher computational cost. This aligns with the general consensus that, for re-ranking tasks, cross-encoders often outperform bi-encoders despite being slower. We experimented with multiple cross-encoder models from the Hugging Face repository, selecting the L6 model as it yielded the best results in our tests.\n",
    "\n",
    "Attempts to fine-tune the cross-encoder did not yield performance improvements. Instead, removing all pre-processing from the queries and documents, and increasing the number of documents from the BM25 rankings used for cross-encoder input, enhanced model performance. Increasing the number of documents led to higher recall, as the initial top-100 from BM25 rankings did not cover all relevant items. Furthermore, omitting pre-processing likely benefited the cross-encoder, as it was not trained on stemmed or filtered text but rather on full, natural sentences.\n",
    "\n",
    "As of this writing, our approach ranks within the top three (under the name \"AbeDijkstra\"). While this is a strong position, successful fine-tuning of the cross-encoder or even the XGBoostRanker model could have given us first place.\n",
    "\n",
    "**Potential Future Improvements**\n",
    "\n",
    "In future iterations, models such as ChatGPT could be tested as potential re-ranking solutions by prompting for query-document similarity scores. However, this method might be time-intensive and costly, as ChatGPT API costs increase with the token count. Furthermore, ChatGPT is not specialized for information retrieval (IR) re-ranking, and it is uncertain whether it would surpass cross-encoder performance.\n",
    "\n",
    "Another approach might involve integrating the cross-encoder’s ranking outputs as a feature in an LTR (XGBoostRanker) model or by applying a weighted average of normalized scores. However, prior experiments showed that XGBoostRanker did not outperform individual features; in fact, it occasionally underperformed compared to BM25 alone, even when BM25 was incorporated as a feature. Moreover, the cross-encoder itself likely utilizes a form of LTR model, possibly with similar feature sets.\n",
    "\n",
    "The most promising area for improvement remains fine-tuning the cross-encoder with domain-specific data. Although our initial fine-tuning attempts did not yield the expected performance gains for either the XGBoostRanker or the cross-encoder, further exploration could identify the cause. Potential issues include implementation errors, limitations in training data quality, or that these models may not adapt well to training with a single binary relevance score per query-document pair. Addressing these factors could enhance model adaptability and overall ranking accuracy."
   ]
  },
  {
   "cell_type": "markdown",
   "metadata": {},
   "source": [
    "**Conclusion:**\n",
    "\n",
    "This project provided a rewarding experience, combining practical challenges with a competitive element that complemented theoretical learning. Initially, we encountered some difficulty in working with Elasticsearch, but through hands-on experimentation, we developed a strong grasp of its implementation and functionality.\n",
    "\n",
    "The project facilitated skill development in data handling, database management, and applying methods in information retrieval. Importantly, it encouraged us to devise independent strategies for model improvement, offering substantial practical experience and fostering creativity.\n",
    "\n",
    "Our approach reinforced the idea that active experimentation is one of the most effective learning methods, especially when supported by foundational knowledge, as provided in the project materials.\n",
    "\n",
    "The main challenges we encountered included feeling pressed for time due to the relatively close project deadlines (perhaps an earlier start would help) and some initial uncertainty regarding requirements, particularly in Milestone 1. Additionally, setting up and becoming proficient with Elasticsearch was initially time-consuming.\n",
    "\n",
    "Overall, this project was both challenging and enriching, equipping us with valuable skills and insights in information retrieval and model optimization."
   ]
  }
 ],
 "metadata": {
  "colab": {
   "provenance": []
  },
  "kernelspec": {
   "display_name": "Python 3",
   "language": "python",
   "name": "python3"
  },
  "language_info": {
   "codemirror_mode": {
    "name": "ipython",
    "version": 3
   },
   "file_extension": ".py",
   "mimetype": "text/x-python",
   "name": "python",
   "nbconvert_exporter": "python",
   "pygments_lexer": "ipython3",
   "version": "3.12.1"
  }
 },
 "nbformat": 4,
 "nbformat_minor": 1
}
